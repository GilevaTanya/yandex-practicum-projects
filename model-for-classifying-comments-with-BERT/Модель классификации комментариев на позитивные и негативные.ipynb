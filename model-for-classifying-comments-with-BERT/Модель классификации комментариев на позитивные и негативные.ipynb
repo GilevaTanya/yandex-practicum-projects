{
 "cells": [
  {
   "cell_type": "markdown",
   "id": "58277d97",
   "metadata": {},
   "source": [
    "# Модель классификации комментариев на позитивные и негативные с BERT"
   ]
  },
  {
   "cell_type": "markdown",
   "id": "c862e607",
   "metadata": {},
   "source": [
    "Интернет-магазин запускает новый сервис. Теперь пользователи могут редактировать и дополнять описания товаров, как в вики-сообществах. То есть клиенты предлагают свои правки и комментируют изменения других. Магазину нужен инструмент, который будет искать токсичные комментарии и отправлять их на модерацию. \n",
    "\n",
    "Обучите модель классифицировать комментарии на позитивные и негативные. В распоряжении есть набор данных с разметкой о токсичности правок.\n",
    "\n",
    "Нужно построить модель со значением метрики качества *F1* не меньше 0.75. \n",
    "\n",
    "**План выполнения проекта:**\n",
    "\n",
    "1. Загрузите и подготовьте данные.\n",
    "2. Обучите разные модели. Целевая метрика *F1* не меньше 0.75.\n",
    "3. Сделайте выводы.\n",
    "\n",
    "**Описание данных**  \n",
    "Столбец *text* в нём содержит текст комментария, а *toxic* — целевой признак."
   ]
  },
  {
   "cell_type": "markdown",
   "id": "1f2c326d",
   "metadata": {},
   "source": [
    "## Подготовка"
   ]
  },
  {
   "cell_type": "code",
   "execution_count": 1,
   "id": "26cac1af",
   "metadata": {},
   "outputs": [
    {
     "name": "stderr",
     "output_type": "stream",
     "text": [
      "[nltk_data] Downloading package averaged_perceptron_tagger to\n",
      "[nltk_data]     C:\\Users\\HP\\AppData\\Roaming\\nltk_data...\n",
      "[nltk_data]   Package averaged_perceptron_tagger is already up-to-\n",
      "[nltk_data]       date!\n"
     ]
    }
   ],
   "source": [
    "import numpy as np\n",
    "import pandas as pd\n",
    "import re\n",
    "import torch\n",
    "import transformers as ppb\n",
    "import nltk\n",
    "from nltk.stem import WordNetLemmatizer\n",
    "from nltk.corpus import stopwords as nltk_stopwords\n",
    "from nltk.stem.snowball import SnowballStemmer\n",
    "from sklearn.feature_extraction.text import TfidfVectorizer\n",
    "from sklearn.model_selection import train_test_split, cross_val_score, GridSearchCV\n",
    "from sklearn.linear_model import LogisticRegression, SGDClassifier\n",
    "from sklearn.tree import DecisionTreeClassifier\n",
    "from transformers import AutoTokenizer, AutoModel\n",
    "from sklearn.metrics import f1_score \n",
    "from sklearn.utils import shuffle\n",
    "import matplotlib.pyplot as plt\n",
    "from pathlib import Path\n",
    "import time\n",
    "from tqdm import notebook\n",
    "from tqdm import tqdm\n",
    "tqdm.pandas()\n",
    "import torch.nn as nn\n",
    "from sklearn.metrics import classification_report\n",
    "from transformers import BertTokenizer, BertModel, BertForSequenceClassification, AdamW\n",
    "import sys\n",
    "import spacy \n",
    "nltk.tokenize.word_tokenize\n",
    "from nltk import pos_tag\n",
    "from nltk.stem import WordNetLemmatizer\n",
    "from nltk import word_tokenize \n",
    "from nltk.tokenize import word_tokenize \n",
    "import nltk\n",
    "nltk.download('averaged_perceptron_tagger')\n",
    "import warnings\n",
    "warnings.filterwarnings('ignore')"
   ]
  },
  {
   "cell_type": "markdown",
   "id": "5b8dade5",
   "metadata": {},
   "source": [
    "**Загрузим датасет и посмотрим**"
   ]
  },
  {
   "cell_type": "code",
   "execution_count": 2,
   "id": "a4b0cc6e",
   "metadata": {},
   "outputs": [
    {
     "data": {
      "text/html": [
       "<div>\n",
       "<style scoped>\n",
       "    .dataframe tbody tr th:only-of-type {\n",
       "        vertical-align: middle;\n",
       "    }\n",
       "\n",
       "    .dataframe tbody tr th {\n",
       "        vertical-align: top;\n",
       "    }\n",
       "\n",
       "    .dataframe thead th {\n",
       "        text-align: right;\n",
       "    }\n",
       "</style>\n",
       "<table border=\"1\" class=\"dataframe\">\n",
       "  <thead>\n",
       "    <tr style=\"text-align: right;\">\n",
       "      <th></th>\n",
       "      <th>Unnamed: 0</th>\n",
       "      <th>text</th>\n",
       "      <th>toxic</th>\n",
       "    </tr>\n",
       "  </thead>\n",
       "  <tbody>\n",
       "    <tr>\n",
       "      <th>0</th>\n",
       "      <td>0</td>\n",
       "      <td>Explanation\\nWhy the edits made under my usern...</td>\n",
       "      <td>0</td>\n",
       "    </tr>\n",
       "    <tr>\n",
       "      <th>1</th>\n",
       "      <td>1</td>\n",
       "      <td>D'aww! He matches this background colour I'm s...</td>\n",
       "      <td>0</td>\n",
       "    </tr>\n",
       "    <tr>\n",
       "      <th>2</th>\n",
       "      <td>2</td>\n",
       "      <td>Hey man, I'm really not trying to edit war. It...</td>\n",
       "      <td>0</td>\n",
       "    </tr>\n",
       "    <tr>\n",
       "      <th>3</th>\n",
       "      <td>3</td>\n",
       "      <td>\"\\nMore\\nI can't make any real suggestions on ...</td>\n",
       "      <td>0</td>\n",
       "    </tr>\n",
       "    <tr>\n",
       "      <th>4</th>\n",
       "      <td>4</td>\n",
       "      <td>You, sir, are my hero. Any chance you remember...</td>\n",
       "      <td>0</td>\n",
       "    </tr>\n",
       "    <tr>\n",
       "      <th>...</th>\n",
       "      <td>...</td>\n",
       "      <td>...</td>\n",
       "      <td>...</td>\n",
       "    </tr>\n",
       "    <tr>\n",
       "      <th>159287</th>\n",
       "      <td>159446</td>\n",
       "      <td>\":::::And for the second time of asking, when ...</td>\n",
       "      <td>0</td>\n",
       "    </tr>\n",
       "    <tr>\n",
       "      <th>159288</th>\n",
       "      <td>159447</td>\n",
       "      <td>You should be ashamed of yourself \\n\\nThat is ...</td>\n",
       "      <td>0</td>\n",
       "    </tr>\n",
       "    <tr>\n",
       "      <th>159289</th>\n",
       "      <td>159448</td>\n",
       "      <td>Spitzer \\n\\nUmm, theres no actual article for ...</td>\n",
       "      <td>0</td>\n",
       "    </tr>\n",
       "    <tr>\n",
       "      <th>159290</th>\n",
       "      <td>159449</td>\n",
       "      <td>And it looks like it was actually you who put ...</td>\n",
       "      <td>0</td>\n",
       "    </tr>\n",
       "    <tr>\n",
       "      <th>159291</th>\n",
       "      <td>159450</td>\n",
       "      <td>\"\\nAnd ... I really don't think you understand...</td>\n",
       "      <td>0</td>\n",
       "    </tr>\n",
       "  </tbody>\n",
       "</table>\n",
       "<p>159292 rows × 3 columns</p>\n",
       "</div>"
      ],
      "text/plain": [
       "        Unnamed: 0                                               text  toxic\n",
       "0                0  Explanation\\nWhy the edits made under my usern...      0\n",
       "1                1  D'aww! He matches this background colour I'm s...      0\n",
       "2                2  Hey man, I'm really not trying to edit war. It...      0\n",
       "3                3  \"\\nMore\\nI can't make any real suggestions on ...      0\n",
       "4                4  You, sir, are my hero. Any chance you remember...      0\n",
       "...            ...                                                ...    ...\n",
       "159287      159446  \":::::And for the second time of asking, when ...      0\n",
       "159288      159447  You should be ashamed of yourself \\n\\nThat is ...      0\n",
       "159289      159448  Spitzer \\n\\nUmm, theres no actual article for ...      0\n",
       "159290      159449  And it looks like it was actually you who put ...      0\n",
       "159291      159450  \"\\nAnd ... I really don't think you understand...      0\n",
       "\n",
       "[159292 rows x 3 columns]"
      ]
     },
     "execution_count": 2,
     "metadata": {},
     "output_type": "execute_result"
    }
   ],
   "source": [
    "try:\n",
    "    df = pd.read_csv('/datasets/toxic_comments.csv')\n",
    "\n",
    "except BaseException:\n",
    "    df = pd.read_csv('C:/Users/HP/Downloads/toxic_comments.csv')\n",
    "df"
   ]
  },
  {
   "cell_type": "code",
   "execution_count": 3,
   "id": "eb62bad7",
   "metadata": {},
   "outputs": [
    {
     "name": "stdout",
     "output_type": "stream",
     "text": [
      "<class 'pandas.core.frame.DataFrame'>\n",
      "RangeIndex: 159292 entries, 0 to 159291\n",
      "Data columns (total 3 columns):\n",
      " #   Column      Non-Null Count   Dtype \n",
      "---  ------      --------------   ----- \n",
      " 0   Unnamed: 0  159292 non-null  int64 \n",
      " 1   text        159292 non-null  object\n",
      " 2   toxic       159292 non-null  int64 \n",
      "dtypes: int64(2), object(1)\n",
      "memory usage: 3.6+ MB\n"
     ]
    }
   ],
   "source": [
    "df.info()"
   ]
  },
  {
   "cell_type": "code",
   "execution_count": 4,
   "id": "859b963c",
   "metadata": {},
   "outputs": [
    {
     "data": {
      "text/plain": [
       "0"
      ]
     },
     "execution_count": 4,
     "metadata": {},
     "output_type": "execute_result"
    }
   ],
   "source": [
    "df.duplicated().sum()"
   ]
  },
  {
   "cell_type": "code",
   "execution_count": 5,
   "id": "c0d3422b",
   "metadata": {},
   "outputs": [
    {
     "data": {
      "text/plain": [
       "Unnamed: 0    0\n",
       "text          0\n",
       "toxic         0\n",
       "dtype: int64"
      ]
     },
     "execution_count": 5,
     "metadata": {},
     "output_type": "execute_result"
    }
   ],
   "source": [
    "df.isna().sum()"
   ]
  },
  {
   "cell_type": "markdown",
   "id": "99f2392e",
   "metadata": {},
   "source": [
    "**Посмотрим соотношение классов:** явный дисбаланс классов - 90/10"
   ]
  },
  {
   "cell_type": "code",
   "execution_count": 6,
   "id": "6f5b364e",
   "metadata": {},
   "outputs": [
    {
     "data": {
      "text/plain": [
       "0    0.898388\n",
       "1    0.101612\n",
       "Name: toxic, dtype: float64"
      ]
     },
     "execution_count": 6,
     "metadata": {},
     "output_type": "execute_result"
    },
    {
     "data": {
      "image/png": "[encoded data removed]",
      "text/plain": [
       "<Figure size 640x480 with 1 Axes>"
      ]
     },
     "metadata": {},
     "output_type": "display_data"
    }
   ],
   "source": [
    "df['toxic'].hist()\n",
    "df['toxic'].value_counts(normalize= True)"
   ]
  },
  {
   "cell_type": "markdown",
   "id": "8634517c",
   "metadata": {},
   "source": [
    "---"
   ]
  },
  {
   "cell_type": "markdown",
   "id": "49f5fbdb",
   "metadata": {},
   "source": [
    "###  Проведем подготовку признаков для обучения"
   ]
  },
  {
   "cell_type": "code",
   "execution_count": 8,
   "id": "ea9f8b85",
   "metadata": {},
   "outputs": [],
   "source": [
    "lemmatizer = WordNetLemmatizer()"
   ]
  },
  {
   "cell_type": "code",
   "execution_count": 9,
   "id": "c6299dab",
   "metadata": {},
   "outputs": [],
   "source": [
    "def penn2morphy(penntag):\n",
    "    morphy_tag = {'NN':'n', 'JJ':'a',\n",
    "                  'VB':'v', 'RB':'r'}\n",
    "    try:\n",
    "        return morphy_tag[penntag[:2]]\n",
    "    except:\n",
    "        return 'n' \n",
    "\n",
    "def lemmatize_sent(text): \n",
    "    return [lemmatizer.lemmatize(word.lower(), pos=penn2morphy(tag)) \n",
    "            for word, tag in pos_tag(word_tokenize(text))]  \n",
    "\n",
    "\n",
    "def lemmatize_text(text):\n",
    "    lemm_text = \" \".join(lemmatize_sent(text))\n",
    "    cleared_text = re.sub(r'[^a-zA-Z]', ' ', lemm_text) \n",
    "    corpys = \" \".join(cleared_text.split())\n",
    "    return corpys"
   ]
  },
  {
   "cell_type": "code",
   "execution_count": null,
   "id": "01e5a373",
   "metadata": {},
   "outputs": [],
   "source": []
  },
  {
   "cell_type": "code",
   "execution_count": 10,
   "id": "c6e953f4",
   "metadata": {},
   "outputs": [],
   "source": [
    "sentence1 = \"The striped bats are hanging on their feet for best\"\n",
    "sentence2 = \"you should be ashamed of yourself went worked\"\n",
    "df_my = pd.DataFrame([sentence1, sentence2], columns = ['text'])"
   ]
  },
  {
   "cell_type": "code",
   "execution_count": 11,
   "id": "a2aac2bd",
   "metadata": {},
   "outputs": [
    {
     "name": "stdout",
     "output_type": "stream",
     "text": [
      "Изначальный текст: 0    The striped bats are hanging on their feet for...\n",
      "1        you should be ashamed of yourself went worked\n",
      "Name: text, dtype: object\n",
      "\n",
      "Лемматизированный текст: 0    the striped bat be hang on their foot for best\n",
      "1         you should be ashamed of yourself go work\n",
      "Name: lemm_text, dtype: object\n"
     ]
    }
   ],
   "source": [
    "df_my['lemm_text'] = df_my['text'].apply(lemmatize_text)\n",
    "print('Изначальный текст:', df_my['text'])\n",
    "print()\n",
    "print('Лемматизированный текст:', df_my['lemm_text'])"
   ]
  },
  {
   "cell_type": "code",
   "execution_count": null,
   "id": "620eec91",
   "metadata": {},
   "outputs": [],
   "source": []
  },
  {
   "cell_type": "code",
   "execution_count": 12,
   "id": "2b8a4684",
   "metadata": {},
   "outputs": [
    {
     "name": "stderr",
     "output_type": "stream",
     "text": [
      "100%|██████████| 159292/159292 [11:43<00:00, 226.29it/s]\n"
     ]
    }
   ],
   "source": [
    "df['lemm_text'] = df['text'].progress_apply(lemmatize_text)"
   ]
  },
  {
   "cell_type": "code",
   "execution_count": 13,
   "id": "8ae28b07",
   "metadata": {},
   "outputs": [
    {
     "data": {
      "text/plain": [
       "0         explanation why the edits make under my userna...\n",
       "1         d aww he match this background colour i m seem...\n",
       "2         hey man i m really not try to edit war it s ju...\n",
       "3         more i ca n t make any real suggestion on impr...\n",
       "4         you sir be my hero any chance you remember wha...\n",
       "                                ...                        \n",
       "159287    and for the second time of ask when your view ...\n",
       "159288    you should be ashamed of yourself that be a ho...\n",
       "159289    spitzer umm theres no actual article for prost...\n",
       "159290    and it look like it be actually you who put on...\n",
       "159291    and i really do n t think you understand i com...\n",
       "Name: lemm_text, Length: 159292, dtype: object"
      ]
     },
     "execution_count": 13,
     "metadata": {},
     "output_type": "execute_result"
    }
   ],
   "source": [
    "df['lemm_text']"
   ]
  },
  {
   "cell_type": "code",
   "execution_count": null,
   "id": "8c62f4ad",
   "metadata": {},
   "outputs": [],
   "source": []
  },
  {
   "cell_type": "code",
   "execution_count": 14,
   "id": "4861166d",
   "metadata": {},
   "outputs": [
    {
     "data": {
      "text/html": [
       "<div>\n",
       "<style scoped>\n",
       "    .dataframe tbody tr th:only-of-type {\n",
       "        vertical-align: middle;\n",
       "    }\n",
       "\n",
       "    .dataframe tbody tr th {\n",
       "        vertical-align: top;\n",
       "    }\n",
       "\n",
       "    .dataframe thead th {\n",
       "        text-align: right;\n",
       "    }\n",
       "</style>\n",
       "<table border=\"1\" class=\"dataframe\">\n",
       "  <thead>\n",
       "    <tr style=\"text-align: right;\">\n",
       "      <th></th>\n",
       "      <th>Unnamed: 0</th>\n",
       "      <th>text</th>\n",
       "      <th>toxic</th>\n",
       "      <th>lemm_text</th>\n",
       "    </tr>\n",
       "  </thead>\n",
       "  <tbody>\n",
       "    <tr>\n",
       "      <th>0</th>\n",
       "      <td>0</td>\n",
       "      <td>Explanation\\nWhy the edits made under my usern...</td>\n",
       "      <td>0</td>\n",
       "      <td>explanation why the edits make under my userna...</td>\n",
       "    </tr>\n",
       "    <tr>\n",
       "      <th>1</th>\n",
       "      <td>1</td>\n",
       "      <td>D'aww! He matches this background colour I'm s...</td>\n",
       "      <td>0</td>\n",
       "      <td>d aww he match this background colour i m seem...</td>\n",
       "    </tr>\n",
       "    <tr>\n",
       "      <th>2</th>\n",
       "      <td>2</td>\n",
       "      <td>Hey man, I'm really not trying to edit war. It...</td>\n",
       "      <td>0</td>\n",
       "      <td>hey man i m really not try to edit war it s ju...</td>\n",
       "    </tr>\n",
       "    <tr>\n",
       "      <th>3</th>\n",
       "      <td>3</td>\n",
       "      <td>\"\\nMore\\nI can't make any real suggestions on ...</td>\n",
       "      <td>0</td>\n",
       "      <td>more i ca n t make any real suggestion on impr...</td>\n",
       "    </tr>\n",
       "    <tr>\n",
       "      <th>4</th>\n",
       "      <td>4</td>\n",
       "      <td>You, sir, are my hero. Any chance you remember...</td>\n",
       "      <td>0</td>\n",
       "      <td>you sir be my hero any chance you remember wha...</td>\n",
       "    </tr>\n",
       "    <tr>\n",
       "      <th>...</th>\n",
       "      <td>...</td>\n",
       "      <td>...</td>\n",
       "      <td>...</td>\n",
       "      <td>...</td>\n",
       "    </tr>\n",
       "    <tr>\n",
       "      <th>159287</th>\n",
       "      <td>159446</td>\n",
       "      <td>\":::::And for the second time of asking, when ...</td>\n",
       "      <td>0</td>\n",
       "      <td>and for the second time of ask when your view ...</td>\n",
       "    </tr>\n",
       "    <tr>\n",
       "      <th>159288</th>\n",
       "      <td>159447</td>\n",
       "      <td>You should be ashamed of yourself \\n\\nThat is ...</td>\n",
       "      <td>0</td>\n",
       "      <td>you should be ashamed of yourself that be a ho...</td>\n",
       "    </tr>\n",
       "    <tr>\n",
       "      <th>159289</th>\n",
       "      <td>159448</td>\n",
       "      <td>Spitzer \\n\\nUmm, theres no actual article for ...</td>\n",
       "      <td>0</td>\n",
       "      <td>spitzer umm theres no actual article for prost...</td>\n",
       "    </tr>\n",
       "    <tr>\n",
       "      <th>159290</th>\n",
       "      <td>159449</td>\n",
       "      <td>And it looks like it was actually you who put ...</td>\n",
       "      <td>0</td>\n",
       "      <td>and it look like it be actually you who put on...</td>\n",
       "    </tr>\n",
       "    <tr>\n",
       "      <th>159291</th>\n",
       "      <td>159450</td>\n",
       "      <td>\"\\nAnd ... I really don't think you understand...</td>\n",
       "      <td>0</td>\n",
       "      <td>and i really do n t think you understand i com...</td>\n",
       "    </tr>\n",
       "  </tbody>\n",
       "</table>\n",
       "<p>159292 rows × 4 columns</p>\n",
       "</div>"
      ],
      "text/plain": [
       "        Unnamed: 0                                               text  toxic  \\\n",
       "0                0  Explanation\\nWhy the edits made under my usern...      0   \n",
       "1                1  D'aww! He matches this background colour I'm s...      0   \n",
       "2                2  Hey man, I'm really not trying to edit war. It...      0   \n",
       "3                3  \"\\nMore\\nI can't make any real suggestions on ...      0   \n",
       "4                4  You, sir, are my hero. Any chance you remember...      0   \n",
       "...            ...                                                ...    ...   \n",
       "159287      159446  \":::::And for the second time of asking, when ...      0   \n",
       "159288      159447  You should be ashamed of yourself \\n\\nThat is ...      0   \n",
       "159289      159448  Spitzer \\n\\nUmm, theres no actual article for ...      0   \n",
       "159290      159449  And it looks like it was actually you who put ...      0   \n",
       "159291      159450  \"\\nAnd ... I really don't think you understand...      0   \n",
       "\n",
       "                                                lemm_text  \n",
       "0       explanation why the edits make under my userna...  \n",
       "1       d aww he match this background colour i m seem...  \n",
       "2       hey man i m really not try to edit war it s ju...  \n",
       "3       more i ca n t make any real suggestion on impr...  \n",
       "4       you sir be my hero any chance you remember wha...  \n",
       "...                                                   ...  \n",
       "159287  and for the second time of ask when your view ...  \n",
       "159288  you should be ashamed of yourself that be a ho...  \n",
       "159289  spitzer umm theres no actual article for prost...  \n",
       "159290  and it look like it be actually you who put on...  \n",
       "159291  and i really do n t think you understand i com...  \n",
       "\n",
       "[159292 rows x 4 columns]"
      ]
     },
     "execution_count": 14,
     "metadata": {},
     "output_type": "execute_result"
    }
   ],
   "source": [
    "df"
   ]
  },
  {
   "cell_type": "markdown",
   "id": "05fb230f",
   "metadata": {},
   "source": [
    "Так как целевой признак разбаланисрован, при разделении на подвыборки с помощью train_test_split() используем аргумент  stratify который при разделении сохранит сооотношение классов в подвыборках."
   ]
  },
  {
   "cell_type": "code",
   "execution_count": 15,
   "id": "4bda84f1",
   "metadata": {},
   "outputs": [],
   "source": [
    "target = df['toxic']\n",
    "features = df['lemm_text']\n",
    "\n",
    "features_train, features_tv, target_train, target_tv = train_test_split(\n",
    "    features, target, test_size=0.4, random_state=1234567, stratify= target)\n",
    "\n",
    "features_test, features_valid, target_test, target_valid = train_test_split(\n",
    "    features_tv, target_tv, test_size=0.5, random_state=1234567, stratify= target_tv)"
   ]
  },
  {
   "cell_type": "markdown",
   "id": "72c96cdd",
   "metadata": {},
   "source": [
    "Проверим размерность подвыборок и переведем в нужный формат"
   ]
  },
  {
   "cell_type": "code",
   "execution_count": 16,
   "id": "2bd64763",
   "metadata": {
    "scrolled": true
   },
   "outputs": [
    {
     "name": "stdout",
     "output_type": "stream",
     "text": [
      "(95575,)\n",
      "(95575,)\n",
      "(31859,)\n",
      "(31859,)\n",
      "(31858,)\n",
      "(31858,)\n"
     ]
    }
   ],
   "source": [
    "print(features_train.shape)\n",
    "print(target_train.shape)\n",
    "print(features_valid.shape)\n",
    "print(target_valid.shape)\n",
    "print(features_test.shape)\n",
    "print(target_test.shape)"
   ]
  },
  {
   "cell_type": "markdown",
   "id": "9546db5e",
   "metadata": {},
   "source": [
    "Вектаризируем токены и удалим стоп-слова."
   ]
  },
  {
   "cell_type": "code",
   "execution_count": 17,
   "id": "19464c3f",
   "metadata": {},
   "outputs": [],
   "source": [
    "stop = list(nltk_stopwords.words('english'))\n",
    "count_tf_idf = TfidfVectorizer(stop_words=(stop))"
   ]
  },
  {
   "cell_type": "code",
   "execution_count": 18,
   "id": "eda1bc74",
   "metadata": {
    "scrolled": true
   },
   "outputs": [
    {
     "name": "stdout",
     "output_type": "stream",
     "text": [
      "(95575, 116564)\n",
      "(31859, 116564)\n",
      "(31858, 116564)\n"
     ]
    }
   ],
   "source": [
    "features_train_tfidf = count_tf_idf.fit_transform(features_train)\n",
    "features_valid_tfidf = count_tf_idf.transform(features_valid)\n",
    "features_test_tfidf = count_tf_idf.transform(features_test)\n",
    "print(features_train_tfidf.shape)\n",
    "print(features_valid_tfidf.shape)\n",
    "print(features_test_tfidf.shape)"
   ]
  },
  {
   "cell_type": "code",
   "execution_count": null,
   "id": "7a955f57",
   "metadata": {},
   "outputs": [],
   "source": []
  },
  {
   "cell_type": "markdown",
   "id": "460d12bd",
   "metadata": {},
   "source": [
    "**Вывод:**  \n",
    "- Объем строк датафрейма 159 292.\n",
    "- Дубликатов и пропусков нет.\n",
    "- Дисбаланс классов - 90/10\n",
    "- Проведена лемматицация теста в столбце text в столбец lemm_text.\n",
    "- Удалены стоп слова.\n",
    "- Слова векторизированы через TfidfVectorizer.\n",
    "- Выборка разделена на обучающую, валидационнную и тестовую в соотношении: 60/20/20.  \n",
    "\n",
    "Данные готовы к обучению."
   ]
  },
  {
   "cell_type": "markdown",
   "id": "60180e6b",
   "metadata": {},
   "source": [
    "---"
   ]
  },
  {
   "cell_type": "markdown",
   "id": "ab97dae6",
   "metadata": {},
   "source": [
    "## Обучение"
   ]
  },
  {
   "cell_type": "markdown",
   "id": "4a39a1f1",
   "metadata": {},
   "source": [
    "### Линейная регрессия"
   ]
  },
  {
   "cell_type": "code",
   "execution_count": 19,
   "id": "fd04cb5f",
   "metadata": {},
   "outputs": [
    {
     "name": "stdout",
     "output_type": "stream",
     "text": [
      "f1_score модели Логистическая регрессия: 0.7539\n"
     ]
    }
   ],
   "source": [
    "model_lg = LogisticRegression(random_state=1234567, solver='liblinear', max_iter=1000, class_weight = 'balanced', C = 10)\n",
    "model_lg.fit(features_train_tfidf, target_train) \n",
    "predict_val = model_lg.predict(features_valid_tfidf)\n",
    "f1_sc = f1_score(target_valid, predict_val)\n",
    "print(\"f1_score модели Логистическая регрессия:\", f1_sc.round(4))"
   ]
  },
  {
   "cell_type": "markdown",
   "id": "7cd2bca4",
   "metadata": {},
   "source": [
    "### Дерево решений"
   ]
  },
  {
   "cell_type": "code",
   "execution_count": 20,
   "id": "00401048",
   "metadata": {},
   "outputs": [
    {
     "data": {
      "application/vnd.jupyter.widget-view+json": {
       "model_id": "f026fbd24e25451da95e1953700b152f",
       "version_major": 2,
       "version_minor": 0
      },
      "text/plain": [
       "  0%|          | 0/20 [00:00<?, ?it/s]"
      ]
     },
     "metadata": {},
     "output_type": "display_data"
    },
    {
     "name": "stdout",
     "output_type": "stream",
     "text": [
      "f1_score наилучшей модели на валидационной выборке: 0.6\n",
      "Количество ветвей модели на валидационной выборке: 17\n"
     ]
    }
   ],
   "source": [
    "best_f1_sc = 0\n",
    "best_depth = 0\n",
    "for depth in notebook.tqdm(range(1, 21)):\n",
    "    model_dtc = DecisionTreeClassifier(random_state=1234567, max_depth=depth, class_weight = 'balanced')\n",
    "    model_dtc.fit(features_train_tfidf, target_train)\n",
    "    predict_val_dct = model_dtc.predict(features_valid_tfidf)\n",
    "    f1_sc_dtc = f1_score(target_valid, predict_val_dct)\n",
    "    if f1_sc_dtc > best_f1_sc:\n",
    "            best_f1_sc = f1_sc_dtc\n",
    "            best_depth = depth\n",
    "print(\"f1_score наилучшей модели на валидационной выборке:\", best_f1_sc.round(2))\n",
    "print(\"Количество ветвей модели на валидационной выборке:\", best_depth)"
   ]
  },
  {
   "cell_type": "code",
   "execution_count": null,
   "id": "a0c30cec",
   "metadata": {},
   "outputs": [],
   "source": []
  },
  {
   "cell_type": "markdown",
   "id": "36702692",
   "metadata": {},
   "source": [
    "### BERT"
   ]
  },
  {
   "cell_type": "markdown",
   "id": "cf9894e5",
   "metadata": {},
   "source": [
    "Для BERT выборки подготовим отдельно. Чтобы ускорить обчение, уменьшу выборку по 1000 сток."
   ]
  },
  {
   "cell_type": "code",
   "execution_count": 21,
   "id": "0d55cae9",
   "metadata": {},
   "outputs": [],
   "source": [
    "df_smal = df.sample(1000).reset_index(drop=True)"
   ]
  },
  {
   "cell_type": "code",
   "execution_count": 22,
   "id": "99edcec9",
   "metadata": {},
   "outputs": [
    {
     "data": {
      "text/plain": [
       "0    0.882\n",
       "1    0.118\n",
       "Name: toxic, dtype: float64"
      ]
     },
     "execution_count": 22,
     "metadata": {},
     "output_type": "execute_result"
    },
    {
     "data": {
      "image/png": "[encoded data removed]",
      "text/plain": [
       "<Figure size 640x480 with 1 Axes>"
      ]
     },
     "metadata": {},
     "output_type": "display_data"
    }
   ],
   "source": [
    "df_smal['toxic'].hist()\n",
    "df_smal['toxic'].value_counts(normalize= True)"
   ]
  },
  {
   "cell_type": "markdown",
   "id": "ada1cac1",
   "metadata": {},
   "source": [
    "Соотношение классов аналогично генеральной совокупности."
   ]
  },
  {
   "cell_type": "code",
   "execution_count": 23,
   "id": "560b1fb0",
   "metadata": {},
   "outputs": [],
   "source": [
    "sentences = df_smal.text.values\n",
    "labels = df_smal.toxic.values"
   ]
  },
  {
   "cell_type": "markdown",
   "id": "3be43336",
   "metadata": {},
   "source": [
    "Загружаем модель и токенайзер."
   ]
  },
  {
   "cell_type": "code",
   "execution_count": 24,
   "id": "a1924bba",
   "metadata": {},
   "outputs": [],
   "source": [
    "tokenizer = BertTokenizer.from_pretrained('bert-base-uncased', do_lower_case=True)\n",
    "model = BertModel.from_pretrained('bert-base-uncased', output_hidden_states = False)"
   ]
  },
  {
   "cell_type": "markdown",
   "id": "b15e6b04",
   "metadata": {},
   "source": [
    "Посмотрим как выглядит текст в разной степени обработки."
   ]
  },
  {
   "cell_type": "code",
   "execution_count": 25,
   "id": "1be7844a",
   "metadata": {},
   "outputs": [
    {
     "name": "stdout",
     "output_type": "stream",
     "text": [
      " Original:  Welcome to Wikipedia. Have fun.\n",
      "\n",
      "Tokenized:  ['welcome', 'to', 'wikipedia', '.', 'have', 'fun', '.']\n",
      "\n",
      "Token IDs:  [6160, 2000, 16948, 1012, 2031, 4569, 1012]\n"
     ]
    }
   ],
   "source": [
    "print(' Original: ', sentences[0])\n",
    "print()\n",
    "print('Tokenized: ', tokenizer.tokenize(sentences[0]))\n",
    "print()\n",
    "print('Token IDs: ', tokenizer.convert_tokens_to_ids(tokenizer.tokenize(sentences[0])))"
   ]
  },
  {
   "cell_type": "markdown",
   "id": "fcfd8f01",
   "metadata": {},
   "source": [
    "Токенизируем и считаем их максимальное количество"
   ]
  },
  {
   "cell_type": "code",
   "execution_count": 26,
   "id": "30f84184",
   "metadata": {},
   "outputs": [
    {
     "name": "stderr",
     "output_type": "stream",
     "text": [
      "Token indices sequence length is longer than the specified maximum sequence length for this model (1336 > 512). Running this sequence through the model will result in indexing errors\n",
      "Token indices sequence length is longer than the specified maximum sequence length for this model (725 > 512). Running this sequence through the model will result in indexing errors\n",
      "Token indices sequence length is longer than the specified maximum sequence length for this model (756 > 512). Running this sequence through the model will result in indexing errors\n",
      "Token indices sequence length is longer than the specified maximum sequence length for this model (542 > 512). Running this sequence through the model will result in indexing errors\n",
      "Token indices sequence length is longer than the specified maximum sequence length for this model (775 > 512). Running this sequence through the model will result in indexing errors\n",
      "Token indices sequence length is longer than the specified maximum sequence length for this model (969 > 512). Running this sequence through the model will result in indexing errors\n",
      "Token indices sequence length is longer than the specified maximum sequence length for this model (730 > 512). Running this sequence through the model will result in indexing errors\n",
      "Token indices sequence length is longer than the specified maximum sequence length for this model (1086 > 512). Running this sequence through the model will result in indexing errors\n",
      "Token indices sequence length is longer than the specified maximum sequence length for this model (705 > 512). Running this sequence through the model will result in indexing errors\n",
      "Token indices sequence length is longer than the specified maximum sequence length for this model (1138 > 512). Running this sequence through the model will result in indexing errors\n",
      "Token indices sequence length is longer than the specified maximum sequence length for this model (1611 > 512). Running this sequence through the model will result in indexing errors\n",
      "Token indices sequence length is longer than the specified maximum sequence length for this model (1108 > 512). Running this sequence through the model will result in indexing errors\n",
      "Token indices sequence length is longer than the specified maximum sequence length for this model (1011 > 512). Running this sequence through the model will result in indexing errors\n",
      "Token indices sequence length is longer than the specified maximum sequence length for this model (810 > 512). Running this sequence through the model will result in indexing errors\n",
      "Token indices sequence length is longer than the specified maximum sequence length for this model (522 > 512). Running this sequence through the model will result in indexing errors\n",
      "Token indices sequence length is longer than the specified maximum sequence length for this model (607 > 512). Running this sequence through the model will result in indexing errors\n",
      "Token indices sequence length is longer than the specified maximum sequence length for this model (715 > 512). Running this sequence through the model will result in indexing errors\n",
      "Token indices sequence length is longer than the specified maximum sequence length for this model (671 > 512). Running this sequence through the model will result in indexing errors\n",
      "Token indices sequence length is longer than the specified maximum sequence length for this model (518 > 512). Running this sequence through the model will result in indexing errors\n",
      "Token indices sequence length is longer than the specified maximum sequence length for this model (1562 > 512). Running this sequence through the model will result in indexing errors\n",
      "Token indices sequence length is longer than the specified maximum sequence length for this model (537 > 512). Running this sequence through the model will result in indexing errors\n"
     ]
    },
    {
     "name": "stdout",
     "output_type": "stream",
     "text": [
      "Max sentence length:  1613\n"
     ]
    }
   ],
   "source": [
    "max_len = 0\n",
    "for sent in sentences:\n",
    "    input_ids = tokenizer.encode(sent, add_special_tokens=True)\n",
    "    max_len = max(max_len, len(input_ids))\n",
    "\n",
    "print('Max sentence length: ', max_len)"
   ]
  },
  {
   "cell_type": "markdown",
   "id": "d29fe77c",
   "metadata": {},
   "source": [
    "Максимальное коичество токенов в одном тексте - 2501, максимальное количество которое пропускает Берт - 512, поэтому проведу токенизацию с уменьшение токенов до 510 (2 оставлю на открывающий и закрывающий)."
   ]
  },
  {
   "cell_type": "code",
   "execution_count": 27,
   "id": "9d94ace0",
   "metadata": {},
   "outputs": [
    {
     "name": "stderr",
     "output_type": "stream",
     "text": [
      "Token indices sequence length is longer than the specified maximum sequence length for this model (1336 > 512). Running this sequence through the model will result in indexing errors\n",
      "Token indices sequence length is longer than the specified maximum sequence length for this model (725 > 512). Running this sequence through the model will result in indexing errors\n",
      "Token indices sequence length is longer than the specified maximum sequence length for this model (756 > 512). Running this sequence through the model will result in indexing errors\n",
      "Token indices sequence length is longer than the specified maximum sequence length for this model (542 > 512). Running this sequence through the model will result in indexing errors\n",
      "Token indices sequence length is longer than the specified maximum sequence length for this model (775 > 512). Running this sequence through the model will result in indexing errors\n",
      "Token indices sequence length is longer than the specified maximum sequence length for this model (969 > 512). Running this sequence through the model will result in indexing errors\n",
      "Token indices sequence length is longer than the specified maximum sequence length for this model (730 > 512). Running this sequence through the model will result in indexing errors\n",
      "Token indices sequence length is longer than the specified maximum sequence length for this model (1086 > 512). Running this sequence through the model will result in indexing errors\n",
      "Token indices sequence length is longer than the specified maximum sequence length for this model (705 > 512). Running this sequence through the model will result in indexing errors\n",
      "Token indices sequence length is longer than the specified maximum sequence length for this model (1138 > 512). Running this sequence through the model will result in indexing errors\n",
      "Token indices sequence length is longer than the specified maximum sequence length for this model (1611 > 512). Running this sequence through the model will result in indexing errors\n",
      "Token indices sequence length is longer than the specified maximum sequence length for this model (1108 > 512). Running this sequence through the model will result in indexing errors\n",
      "Token indices sequence length is longer than the specified maximum sequence length for this model (1011 > 512). Running this sequence through the model will result in indexing errors\n",
      "Token indices sequence length is longer than the specified maximum sequence length for this model (810 > 512). Running this sequence through the model will result in indexing errors\n",
      "Token indices sequence length is longer than the specified maximum sequence length for this model (522 > 512). Running this sequence through the model will result in indexing errors\n",
      "Token indices sequence length is longer than the specified maximum sequence length for this model (607 > 512). Running this sequence through the model will result in indexing errors\n",
      "Token indices sequence length is longer than the specified maximum sequence length for this model (715 > 512). Running this sequence through the model will result in indexing errors\n",
      "Token indices sequence length is longer than the specified maximum sequence length for this model (671 > 512). Running this sequence through the model will result in indexing errors\n",
      "Token indices sequence length is longer than the specified maximum sequence length for this model (518 > 512). Running this sequence through the model will result in indexing errors\n",
      "Token indices sequence length is longer than the specified maximum sequence length for this model (1562 > 512). Running this sequence through the model will result in indexing errors\n",
      "Token indices sequence length is longer than the specified maximum sequence length for this model (537 > 512). Running this sequence through the model will result in indexing errors\n"
     ]
    }
   ],
   "source": [
    "input_ids = []\n",
    "\n",
    "for sent in sentences:\n",
    "    encoded_dict = tokenizer.encode_plus(\n",
    "                        sent, \n",
    "                        add_special_tokens = True, \n",
    "                        max_length = 510,           \n",
    "                   )\n",
    "    \n",
    "    input_ids.append(encoded_dict['input_ids'])"
   ]
  },
  {
   "cell_type": "code",
   "execution_count": 28,
   "id": "5ce6b65f",
   "metadata": {},
   "outputs": [],
   "source": [
    "max_len = 0\n",
    "for i in input_ids:\n",
    "    if len(i) > max_len:\n",
    "        max_len = len(i)\n",
    "\n",
    "padded = np.array([i + [0]*(max_len - len(i)) for i in input_ids])\n",
    "attention_mask = np.where(padded != 0, 1, 0)"
   ]
  },
  {
   "cell_type": "code",
   "execution_count": 29,
   "id": "b13351a7",
   "metadata": {},
   "outputs": [
    {
     "name": "stdout",
     "output_type": "stream",
     "text": [
      "(1000, 510)\n",
      "(1000, 510)\n"
     ]
    }
   ],
   "source": [
    "print(np.array(padded).shape)\n",
    "print(attention_mask.shape)"
   ]
  },
  {
   "cell_type": "markdown",
   "id": "09e632cb",
   "metadata": {},
   "source": [
    "С размерами все хорошо, идем дальше."
   ]
  },
  {
   "cell_type": "markdown",
   "id": "1629912b",
   "metadata": {},
   "source": [
    "Cоздаем эмбеддинги."
   ]
  },
  {
   "cell_type": "code",
   "execution_count": 30,
   "id": "793120ab",
   "metadata": {},
   "outputs": [
    {
     "data": {
      "application/vnd.jupyter.widget-view+json": {
       "model_id": "98b2b4861e724c1393cc36872c13cf45",
       "version_major": 2,
       "version_minor": 0
      },
      "text/plain": [
       "  0%|          | 0/10 [00:00<?, ?it/s]"
      ]
     },
     "metadata": {},
     "output_type": "display_data"
    }
   ],
   "source": [
    "batch_size = 100\n",
    "embeddings = []\n",
    "\n",
    "for i in notebook.tqdm(range(padded.shape[0] // batch_size)):\n",
    "    batch = torch.LongTensor(padded[batch_size*i:batch_size*(i+1)])\n",
    "    attention_mask_batch = torch.LongTensor(attention_mask[batch_size*i:batch_size*(i+1)])\n",
    "\n",
    "    with torch.no_grad(): \n",
    "        batch_embeddings = model(batch, attention_mask = attention_mask_batch)\n",
    "\n",
    "    embeddings.append(batch_embeddings[0][:,0,:].numpy()) \n",
    "\n",
    "features_bert = np.concatenate(embeddings)"
   ]
  },
  {
   "cell_type": "markdown",
   "id": "6f00c3e3",
   "metadata": {},
   "source": [
    "Делим нашу выборку на подвыборки для обучения, валидации и теста, в пропорции: 60/20/20"
   ]
  },
  {
   "cell_type": "code",
   "execution_count": 31,
   "id": "03377089",
   "metadata": {},
   "outputs": [],
   "source": [
    "features_train_bert, features_tv_bert, target_train_bert, target_tv_bert = train_test_split(\n",
    "    features_bert, labels, random_state=1234567, stratify = labels, test_size=0.4)\n",
    "\n",
    "features_test_bert, features_valid_bert, target_test_bert, target_valid_bert = train_test_split(\n",
    "    features_tv_bert, target_tv_bert, random_state=1234567, stratify= target_tv_bert, test_size=0.5)"
   ]
  },
  {
   "cell_type": "code",
   "execution_count": 32,
   "id": "941f3bc5",
   "metadata": {},
   "outputs": [],
   "source": [
    "model_bert = LogisticRegression(random_state=1234567, solver='lbfgs', class_weight = 'balanced')\n",
    "model_bert.fit(features_train_bert, target_train_bert) \n",
    "predict_val_bert = model_bert.predict(features_valid_bert) "
   ]
  },
  {
   "cell_type": "code",
   "execution_count": 33,
   "id": "3fb21dc6",
   "metadata": {},
   "outputs": [
    {
     "name": "stdout",
     "output_type": "stream",
     "text": [
      "f1_score модели BERT: 0.68\n"
     ]
    }
   ],
   "source": [
    "f1_sc_bert = f1_score(target_valid_bert, predict_val_bert)\n",
    "print(\"f1_score модели BERT:\", f1_sc_bert.round(2))"
   ]
  },
  {
   "cell_type": "markdown",
   "id": "a9792b84",
   "metadata": {},
   "source": [
    "---"
   ]
  },
  {
   "cell_type": "markdown",
   "id": "19cd93b5",
   "metadata": {},
   "source": [
    "**Построим таблицу с результатами проведенного обучения**"
   ]
  },
  {
   "cell_type": "code",
   "execution_count": 34,
   "id": "a393624d",
   "metadata": {},
   "outputs": [
    {
     "data": {
      "text/html": [
       "<div>\n",
       "<style scoped>\n",
       "    .dataframe tbody tr th:only-of-type {\n",
       "        vertical-align: middle;\n",
       "    }\n",
       "\n",
       "    .dataframe tbody tr th {\n",
       "        vertical-align: top;\n",
       "    }\n",
       "\n",
       "    .dataframe thead th {\n",
       "        text-align: right;\n",
       "    }\n",
       "</style>\n",
       "<table border=\"1\" class=\"dataframe\">\n",
       "  <thead>\n",
       "    <tr style=\"text-align: right;\">\n",
       "      <th></th>\n",
       "      <th>F1 на валидации</th>\n",
       "      <th>Задача решена</th>\n",
       "    </tr>\n",
       "  </thead>\n",
       "  <tbody>\n",
       "    <tr>\n",
       "      <th>LogisticRegression</th>\n",
       "      <td>0.7539</td>\n",
       "      <td>True</td>\n",
       "    </tr>\n",
       "    <tr>\n",
       "      <th>DecisionTreeClassifier</th>\n",
       "      <td>0.6029</td>\n",
       "      <td>False</td>\n",
       "    </tr>\n",
       "    <tr>\n",
       "      <th>BERT_2000</th>\n",
       "      <td>0.6809</td>\n",
       "      <td>False</td>\n",
       "    </tr>\n",
       "  </tbody>\n",
       "</table>\n",
       "</div>"
      ],
      "text/plain": [
       "                        F1 на валидации  Задача решена\n",
       "LogisticRegression               0.7539           True\n",
       "DecisionTreeClassifier           0.6029          False\n",
       "BERT_2000                        0.6809          False"
      ]
     },
     "execution_count": 34,
     "metadata": {},
     "output_type": "execute_result"
    }
   ],
   "source": [
    "index = ['LogisticRegression',\n",
    "         'DecisionTreeClassifier',\n",
    "         'BERT_2000']\n",
    "data = {'F1 на валидации':[f1_sc.round(4),\n",
    "                           best_f1_sc.round(4),\n",
    "                           f1_sc_bert.round(4)],\n",
    "}\n",
    "\n",
    "scores_data = pd.DataFrame(data=data, index=index)\n",
    "scores_data['Задача решена'] = scores_data['F1 на валидации'] > 0.75\n",
    "scores_data"
   ]
  },
  {
   "cell_type": "markdown",
   "id": "3b0c908e",
   "metadata": {},
   "source": [
    "**Вывод:** Наилучший результат и целевой показатель при валидации достигла только модель LogisticRegression. Ее и будем тестировать."
   ]
  },
  {
   "cell_type": "markdown",
   "id": "b9d05d9c",
   "metadata": {},
   "source": [
    "---"
   ]
  },
  {
   "cell_type": "markdown",
   "id": "065b4d09",
   "metadata": {},
   "source": [
    "## Выводы"
   ]
  },
  {
   "cell_type": "code",
   "execution_count": 35,
   "id": "92d71afd",
   "metadata": {},
   "outputs": [
    {
     "name": "stdout",
     "output_type": "stream",
     "text": [
      "f1_score модели Логистическая регрессия на тесте: 0.7606\n"
     ]
    }
   ],
   "source": [
    "predict_val_test = model_lg.predict(features_test_tfidf)\n",
    "f1_sc_test = f1_score(target_test, predict_val_test)\n",
    "print(\"f1_score модели Логистическая регрессия на тесте:\", f1_sc_test.round(4))"
   ]
  },
  {
   "cell_type": "markdown",
   "id": "fcbe1148",
   "metadata": {},
   "source": [
    "**Построим таблицу с итоговыми результатами**"
   ]
  },
  {
   "cell_type": "code",
   "execution_count": 36,
   "id": "8270ad19",
   "metadata": {},
   "outputs": [
    {
     "data": {
      "text/html": [
       "<div>\n",
       "<style scoped>\n",
       "    .dataframe tbody tr th:only-of-type {\n",
       "        vertical-align: middle;\n",
       "    }\n",
       "\n",
       "    .dataframe tbody tr th {\n",
       "        vertical-align: top;\n",
       "    }\n",
       "\n",
       "    .dataframe thead th {\n",
       "        text-align: right;\n",
       "    }\n",
       "</style>\n",
       "<table border=\"1\" class=\"dataframe\">\n",
       "  <thead>\n",
       "    <tr style=\"text-align: right;\">\n",
       "      <th></th>\n",
       "      <th>F1 на валидации</th>\n",
       "      <th>F1 на тесте</th>\n",
       "      <th>Задача решена</th>\n",
       "    </tr>\n",
       "  </thead>\n",
       "  <tbody>\n",
       "    <tr>\n",
       "      <th>LogisticRegression</th>\n",
       "      <td>0.7539</td>\n",
       "      <td>0.7606</td>\n",
       "      <td>True</td>\n",
       "    </tr>\n",
       "    <tr>\n",
       "      <th>DecisionTreeClassifier</th>\n",
       "      <td>0.6029</td>\n",
       "      <td>0.0000</td>\n",
       "      <td>False</td>\n",
       "    </tr>\n",
       "    <tr>\n",
       "      <th>BERT_2000</th>\n",
       "      <td>0.6809</td>\n",
       "      <td>0.0000</td>\n",
       "      <td>False</td>\n",
       "    </tr>\n",
       "  </tbody>\n",
       "</table>\n",
       "</div>"
      ],
      "text/plain": [
       "                        F1 на валидации  F1 на тесте  Задача решена\n",
       "LogisticRegression               0.7539       0.7606           True\n",
       "DecisionTreeClassifier           0.6029       0.0000          False\n",
       "BERT_2000                        0.6809       0.0000          False"
      ]
     },
     "execution_count": 36,
     "metadata": {},
     "output_type": "execute_result"
    }
   ],
   "source": [
    "t=0\n",
    "index = ['LogisticRegression',\n",
    "         'DecisionTreeClassifier',\n",
    "         'BERT_2000']\n",
    "data = {'F1 на валидации':[f1_sc.round(4),\n",
    "                           best_f1_sc.round(4),\n",
    "                           f1_sc_bert.round(4)],\n",
    "        'F1 на тесте':[f1_sc_test.round(4),\n",
    "                                       t,\n",
    "                                       t]}\n",
    "\n",
    "scores_data = pd.DataFrame(data=data, index=index)\n",
    "scores_data['Задача решена'] = scores_data['F1 на валидации'] > 0.75\n",
    "scores_data"
   ]
  },
  {
   "cell_type": "markdown",
   "id": "3fc89f12",
   "metadata": {},
   "source": [
    "---"
   ]
  },
  {
   "cell_type": "markdown",
   "id": "13856349",
   "metadata": {},
   "source": [
    "**ВЫВОД:**  \n",
    "- Объем строк датафрейма 159 292.\n",
    "- Дубликатов и пропусков нет.\n",
    "- Дисбаланс классов - 90%(0)/10%(1)\n",
    "- Проведена лемматицация теста в столбце text в столбец lemm_text.\n",
    "- Слова векторизированы через TfidfVectorizer, удалены стоп слова.\n",
    "- Выборка разделена на обучающую, валидационнную и тестовую в соотношении: 60/20/20. \n",
    "- Для модели BERT, данные были урезаны до 1000 строк, для экономии времени обучения.\n",
    "\n",
    "По итогу обучения наилучший результат и целевой показатель при валидации достигла только модель LogisticRegression: F1- мера - 0,7539.\n",
    "\n",
    "При тестировании модель LogisticRegression: F1- мера - 0,7606. Поставленная задача проекта выполнена."
   ]
  },
  {
   "cell_type": "code",
   "execution_count": null,
   "id": "b27929f7",
   "metadata": {},
   "outputs": [],
   "source": []
  }
 ],
 "metadata": {
  "ExecuteTimeLog": [
   {
    "duration": 5203,
    "start_time": "2023-12-04T18:20:03.190Z"
   },
   {
    "duration": 356,
    "start_time": "2023-12-04T18:20:08.395Z"
   },
   {
    "duration": 0,
    "start_time": "2023-12-04T18:20:08.754Z"
   },
   {
    "duration": 0,
    "start_time": "2023-12-04T18:20:08.756Z"
   },
   {
    "duration": 0,
    "start_time": "2023-12-04T18:20:08.757Z"
   },
   {
    "duration": 0,
    "start_time": "2023-12-04T18:20:08.759Z"
   },
   {
    "duration": 0,
    "start_time": "2023-12-04T18:20:08.760Z"
   },
   {
    "duration": 0,
    "start_time": "2023-12-04T18:20:08.773Z"
   },
   {
    "duration": 0,
    "start_time": "2023-12-04T18:20:08.775Z"
   },
   {
    "duration": 0,
    "start_time": "2023-12-04T18:20:08.776Z"
   },
   {
    "duration": 0,
    "start_time": "2023-12-04T18:20:08.777Z"
   },
   {
    "duration": 0,
    "start_time": "2023-12-04T18:20:08.779Z"
   },
   {
    "duration": 1,
    "start_time": "2023-12-04T18:20:08.780Z"
   },
   {
    "duration": 0,
    "start_time": "2023-12-04T18:20:08.782Z"
   },
   {
    "duration": 0,
    "start_time": "2023-12-04T18:20:08.783Z"
   },
   {
    "duration": 0,
    "start_time": "2023-12-04T18:20:08.785Z"
   },
   {
    "duration": 0,
    "start_time": "2023-12-04T18:20:08.786Z"
   },
   {
    "duration": 0,
    "start_time": "2023-12-04T18:20:08.787Z"
   },
   {
    "duration": 0,
    "start_time": "2023-12-04T18:20:08.789Z"
   },
   {
    "duration": 0,
    "start_time": "2023-12-04T18:20:08.790Z"
   },
   {
    "duration": 0,
    "start_time": "2023-12-04T18:20:08.792Z"
   },
   {
    "duration": 0,
    "start_time": "2023-12-04T18:20:08.793Z"
   },
   {
    "duration": 0,
    "start_time": "2023-12-04T18:20:08.795Z"
   },
   {
    "duration": 0,
    "start_time": "2023-12-04T18:20:08.796Z"
   },
   {
    "duration": 0,
    "start_time": "2023-12-04T18:20:08.798Z"
   },
   {
    "duration": 0,
    "start_time": "2023-12-04T18:20:08.799Z"
   },
   {
    "duration": 0,
    "start_time": "2023-12-04T18:20:08.801Z"
   },
   {
    "duration": 0,
    "start_time": "2023-12-04T18:20:08.802Z"
   },
   {
    "duration": 0,
    "start_time": "2023-12-04T18:20:08.804Z"
   },
   {
    "duration": 0,
    "start_time": "2023-12-04T18:20:08.805Z"
   },
   {
    "duration": 0,
    "start_time": "2023-12-04T18:20:08.806Z"
   },
   {
    "duration": 0,
    "start_time": "2023-12-04T18:20:08.807Z"
   },
   {
    "duration": 47,
    "start_time": "2023-12-05T05:30:12.753Z"
   },
   {
    "duration": 4371,
    "start_time": "2023-12-05T05:30:17.156Z"
   },
   {
    "duration": 2356,
    "start_time": "2023-12-05T05:30:31.620Z"
   },
   {
    "duration": 99,
    "start_time": "2023-12-05T05:48:25.367Z"
   },
   {
    "duration": 5,
    "start_time": "2023-12-05T05:48:54.198Z"
   },
   {
    "duration": 287,
    "start_time": "2023-12-05T05:48:55.882Z"
   },
   {
    "duration": 5,
    "start_time": "2023-12-05T05:54:35.648Z"
   },
   {
    "duration": 866,
    "start_time": "2023-12-05T05:54:35.655Z"
   },
   {
    "duration": 32,
    "start_time": "2023-12-05T05:54:36.523Z"
   },
   {
    "duration": 234,
    "start_time": "2023-12-05T05:54:36.558Z"
   },
   {
    "duration": 28,
    "start_time": "2023-12-05T05:54:36.793Z"
   },
   {
    "duration": 189,
    "start_time": "2023-12-05T05:54:36.822Z"
   },
   {
    "duration": 3,
    "start_time": "2023-12-05T05:54:37.012Z"
   },
   {
    "duration": 7204,
    "start_time": "2023-12-05T05:54:37.016Z"
   },
   {
    "duration": 12,
    "start_time": "2023-12-05T05:54:44.221Z"
   },
   {
    "duration": 107,
    "start_time": "2023-12-05T05:54:44.235Z"
   },
   {
    "duration": 5,
    "start_time": "2023-12-05T05:54:44.343Z"
   },
   {
    "duration": 5,
    "start_time": "2023-12-05T05:54:44.349Z"
   },
   {
    "duration": 11189,
    "start_time": "2023-12-05T05:54:44.355Z"
   },
   {
    "duration": 55470,
    "start_time": "2023-12-05T05:54:55.546Z"
   },
   {
    "duration": 162326,
    "start_time": "2023-12-05T05:55:51.018Z"
   },
   {
    "duration": 0,
    "start_time": "2023-12-05T05:58:33.345Z"
   },
   {
    "duration": 11135,
    "start_time": "2023-12-05T05:58:48.884Z"
   },
   {
    "duration": 11728,
    "start_time": "2023-12-05T05:59:10.696Z"
   },
   {
    "duration": 6499,
    "start_time": "2023-12-05T05:59:43.873Z"
   },
   {
    "duration": 52565,
    "start_time": "2023-12-05T05:59:56.059Z"
   },
   {
    "duration": 242736,
    "start_time": "2023-12-05T06:00:57.295Z"
   },
   {
    "duration": 26,
    "start_time": "2023-12-05T07:51:38.522Z"
   },
   {
    "duration": 6,
    "start_time": "2023-12-05T07:52:27.673Z"
   },
   {
    "duration": 2,
    "start_time": "2023-12-05T07:52:59.647Z"
   },
   {
    "duration": 5993,
    "start_time": "2023-12-05T07:53:00.701Z"
   },
   {
    "duration": 17,
    "start_time": "2023-12-05T08:01:02.255Z"
   },
   {
    "duration": 29,
    "start_time": "2023-12-05T08:01:19.193Z"
   },
   {
    "duration": 31,
    "start_time": "2023-12-05T08:02:09.206Z"
   },
   {
    "duration": 3,
    "start_time": "2023-12-05T08:02:33.757Z"
   },
   {
    "duration": 27,
    "start_time": "2023-12-05T08:02:41.970Z"
   },
   {
    "duration": 92,
    "start_time": "2023-12-05T08:02:46.436Z"
   },
   {
    "duration": 6,
    "start_time": "2023-12-05T08:02:49.584Z"
   },
   {
    "duration": 29,
    "start_time": "2023-12-05T08:03:15.685Z"
   },
   {
    "duration": 36,
    "start_time": "2023-12-05T08:03:16.311Z"
   },
   {
    "duration": 54,
    "start_time": "2023-12-05T08:03:20.783Z"
   },
   {
    "duration": 29,
    "start_time": "2023-12-05T08:04:05.544Z"
   },
   {
    "duration": 4,
    "start_time": "2023-12-05T08:04:29.083Z"
   },
   {
    "duration": 9,
    "start_time": "2023-12-05T08:04:36.829Z"
   },
   {
    "duration": 98,
    "start_time": "2023-12-05T08:05:03.007Z"
   },
   {
    "duration": 9,
    "start_time": "2023-12-05T08:05:09.599Z"
   },
   {
    "duration": 4,
    "start_time": "2023-12-05T08:06:09.899Z"
   },
   {
    "duration": 6,
    "start_time": "2023-12-05T08:06:13.241Z"
   },
   {
    "duration": 26,
    "start_time": "2023-12-05T08:07:23.007Z"
   },
   {
    "duration": 4,
    "start_time": "2023-12-05T08:08:00.103Z"
   },
   {
    "duration": 4,
    "start_time": "2023-12-05T08:08:09.380Z"
   },
   {
    "duration": 4,
    "start_time": "2023-12-05T08:08:56.909Z"
   },
   {
    "duration": 21,
    "start_time": "2023-12-05T08:09:16.145Z"
   },
   {
    "duration": 19,
    "start_time": "2023-12-05T08:09:24.608Z"
   },
   {
    "duration": 77,
    "start_time": "2023-12-05T08:09:42.690Z"
   },
   {
    "duration": 19,
    "start_time": "2023-12-05T08:09:47.466Z"
   },
   {
    "duration": 4,
    "start_time": "2023-12-05T08:10:05.302Z"
   },
   {
    "duration": 72,
    "start_time": "2023-12-05T08:14:22.417Z"
   },
   {
    "duration": 1894,
    "start_time": "2023-12-05T08:14:37.233Z"
   },
   {
    "duration": 2409,
    "start_time": "2023-12-05T08:16:44.983Z"
   },
   {
    "duration": 4265,
    "start_time": "2023-12-05T08:17:16.081Z"
   },
   {
    "duration": 845,
    "start_time": "2023-12-05T08:17:20.347Z"
   },
   {
    "duration": 33,
    "start_time": "2023-12-05T08:17:21.194Z"
   },
   {
    "duration": 227,
    "start_time": "2023-12-05T08:17:21.229Z"
   },
   {
    "duration": 24,
    "start_time": "2023-12-05T08:17:21.458Z"
   },
   {
    "duration": 172,
    "start_time": "2023-12-05T08:17:21.484Z"
   },
   {
    "duration": 28,
    "start_time": "2023-12-05T08:17:21.658Z"
   },
   {
    "duration": 44,
    "start_time": "2023-12-05T08:17:21.688Z"
   },
   {
    "duration": 1477,
    "start_time": "2023-12-05T08:17:21.734Z"
   },
   {
    "duration": 3,
    "start_time": "2023-12-05T08:17:23.215Z"
   },
   {
    "duration": 29,
    "start_time": "2023-12-05T08:17:23.220Z"
   },
   {
    "duration": 2418,
    "start_time": "2023-12-05T08:17:23.251Z"
   },
   {
    "duration": 13,
    "start_time": "2023-12-05T08:17:25.671Z"
   },
   {
    "duration": 1752,
    "start_time": "2023-12-05T08:17:25.686Z"
   },
   {
    "duration": 0,
    "start_time": "2023-12-05T08:17:27.440Z"
   },
   {
    "duration": 0,
    "start_time": "2023-12-05T08:17:27.441Z"
   },
   {
    "duration": 0,
    "start_time": "2023-12-05T08:17:27.443Z"
   },
   {
    "duration": 0,
    "start_time": "2023-12-05T08:17:27.445Z"
   },
   {
    "duration": 0,
    "start_time": "2023-12-05T08:17:27.446Z"
   },
   {
    "duration": 0,
    "start_time": "2023-12-05T08:17:27.447Z"
   },
   {
    "duration": 0,
    "start_time": "2023-12-05T08:17:27.448Z"
   },
   {
    "duration": 0,
    "start_time": "2023-12-05T08:17:27.449Z"
   },
   {
    "duration": 0,
    "start_time": "2023-12-05T08:17:27.450Z"
   },
   {
    "duration": 0,
    "start_time": "2023-12-05T08:17:27.451Z"
   },
   {
    "duration": 0,
    "start_time": "2023-12-05T08:17:27.452Z"
   },
   {
    "duration": 0,
    "start_time": "2023-12-05T08:17:27.453Z"
   },
   {
    "duration": 0,
    "start_time": "2023-12-05T08:17:27.454Z"
   },
   {
    "duration": 0,
    "start_time": "2023-12-05T08:17:27.455Z"
   },
   {
    "duration": 0,
    "start_time": "2023-12-05T08:17:27.456Z"
   },
   {
    "duration": 0,
    "start_time": "2023-12-05T08:17:27.457Z"
   },
   {
    "duration": 0,
    "start_time": "2023-12-05T08:17:27.458Z"
   },
   {
    "duration": 0,
    "start_time": "2023-12-05T08:17:27.459Z"
   },
   {
    "duration": 0,
    "start_time": "2023-12-05T08:17:27.460Z"
   },
   {
    "duration": 0,
    "start_time": "2023-12-05T08:17:27.461Z"
   },
   {
    "duration": 0,
    "start_time": "2023-12-05T08:17:27.462Z"
   },
   {
    "duration": 0,
    "start_time": "2023-12-05T08:17:27.463Z"
   },
   {
    "duration": 2434,
    "start_time": "2023-12-05T08:17:49.969Z"
   },
   {
    "duration": 2392,
    "start_time": "2023-12-05T08:18:49.279Z"
   },
   {
    "duration": 2415,
    "start_time": "2023-12-05T08:19:29.103Z"
   },
   {
    "duration": 23017,
    "start_time": "2023-12-05T08:19:48.045Z"
   },
   {
    "duration": 87,
    "start_time": "2023-12-05T08:20:43.963Z"
   },
   {
    "duration": 70,
    "start_time": "2023-12-05T08:21:04.459Z"
   },
   {
    "duration": 1063,
    "start_time": "2023-12-05T08:21:13.564Z"
   },
   {
    "duration": 1143,
    "start_time": "2023-12-05T08:21:30.717Z"
   },
   {
    "duration": 6133,
    "start_time": "2023-12-05T08:21:50.043Z"
   },
   {
    "duration": 3,
    "start_time": "2023-12-05T08:22:12.988Z"
   },
   {
    "duration": 2,
    "start_time": "2023-12-05T08:22:13.478Z"
   },
   {
    "duration": 2,
    "start_time": "2023-12-05T08:22:13.879Z"
   },
   {
    "duration": 8838,
    "start_time": "2023-12-05T08:22:41.597Z"
   },
   {
    "duration": 8,
    "start_time": "2023-12-05T08:25:24.514Z"
   },
   {
    "duration": 74,
    "start_time": "2023-12-05T08:25:44.421Z"
   },
   {
    "duration": 82,
    "start_time": "2023-12-05T08:26:05.587Z"
   },
   {
    "duration": 83,
    "start_time": "2023-12-05T08:26:09.880Z"
   },
   {
    "duration": 87,
    "start_time": "2023-12-05T08:26:13.313Z"
   },
   {
    "duration": 4264,
    "start_time": "2023-12-05T08:29:44.807Z"
   },
   {
    "duration": 149843,
    "start_time": "2023-12-05T08:29:51.278Z"
   },
   {
    "duration": 3,
    "start_time": "2023-12-05T08:32:40.151Z"
   },
   {
    "duration": 26707,
    "start_time": "2023-12-05T08:33:01.579Z"
   },
   {
    "duration": 8478,
    "start_time": "2023-12-05T08:34:12.275Z"
   },
   {
    "duration": 6,
    "start_time": "2023-12-05T08:34:33.892Z"
   },
   {
    "duration": 165053,
    "start_time": "2023-12-05T08:34:43.592Z"
   },
   {
    "duration": 6,
    "start_time": "2023-12-05T08:37:40.998Z"
   },
   {
    "duration": 3,
    "start_time": "2023-12-05T08:37:49.978Z"
   },
   {
    "duration": 33,
    "start_time": "2023-12-05T08:38:13.485Z"
   },
   {
    "duration": 37,
    "start_time": "2023-12-05T08:40:14.034Z"
   },
   {
    "duration": 881,
    "start_time": "2023-12-05T08:43:15.745Z"
   },
   {
    "duration": 481,
    "start_time": "2023-12-05T08:43:27.568Z"
   },
   {
    "duration": 2,
    "start_time": "2023-12-05T08:44:18.371Z"
   },
   {
    "duration": 328,
    "start_time": "2023-12-05T08:44:19.265Z"
   },
   {
    "duration": 144,
    "start_time": "2023-12-05T08:45:38.277Z"
   },
   {
    "duration": 3,
    "start_time": "2023-12-05T08:46:05.707Z"
   },
   {
    "duration": 23,
    "start_time": "2023-12-05T08:47:24.626Z"
   },
   {
    "duration": 937,
    "start_time": "2023-12-05T08:47:43.323Z"
   },
   {
    "duration": 2527,
    "start_time": "2023-12-05T08:53:10.770Z"
   },
   {
    "duration": 3,
    "start_time": "2023-12-05T08:53:18.195Z"
   },
   {
    "duration": 3,
    "start_time": "2023-12-05T08:53:56.240Z"
   },
   {
    "duration": 89,
    "start_time": "2023-12-05T08:54:02.775Z"
   },
   {
    "duration": 73,
    "start_time": "2023-12-05T08:54:11.828Z"
   },
   {
    "duration": 3,
    "start_time": "2023-12-05T08:54:15.597Z"
   },
   {
    "duration": 452,
    "start_time": "2023-12-05T08:54:33.522Z"
   },
   {
    "duration": 64,
    "start_time": "2023-12-05T08:55:39.755Z"
   },
   {
    "duration": 98,
    "start_time": "2023-12-05T08:56:27.033Z"
   },
   {
    "duration": 3,
    "start_time": "2023-12-05T08:58:22.027Z"
   },
   {
    "duration": 121,
    "start_time": "2023-12-05T08:58:24.707Z"
   },
   {
    "duration": 1026,
    "start_time": "2023-12-05T08:58:58.877Z"
   },
   {
    "duration": 104,
    "start_time": "2023-12-05T08:59:21.193Z"
   },
   {
    "duration": 108,
    "start_time": "2023-12-05T09:00:01.890Z"
   },
   {
    "duration": 83,
    "start_time": "2023-12-05T09:02:36.690Z"
   },
   {
    "duration": 76,
    "start_time": "2023-12-05T09:02:42.743Z"
   },
   {
    "duration": 69,
    "start_time": "2023-12-05T09:03:06.495Z"
   },
   {
    "duration": 1618,
    "start_time": "2023-12-05T09:03:57.874Z"
   },
   {
    "duration": 2560,
    "start_time": "2023-12-05T09:04:00.282Z"
   },
   {
    "duration": 2509,
    "start_time": "2023-12-05T09:04:07.298Z"
   },
   {
    "duration": 97,
    "start_time": "2023-12-05T09:04:17.403Z"
   },
   {
    "duration": 17,
    "start_time": "2023-12-05T09:04:31.369Z"
   },
   {
    "duration": 522,
    "start_time": "2023-12-05T09:05:11.166Z"
   },
   {
    "duration": 7,
    "start_time": "2023-12-05T09:09:29.256Z"
   },
   {
    "duration": 2,
    "start_time": "2023-12-05T09:09:37.218Z"
   },
   {
    "duration": 115,
    "start_time": "2023-12-05T09:09:39.961Z"
   },
   {
    "duration": 75,
    "start_time": "2023-12-05T09:09:44.551Z"
   },
   {
    "duration": 475,
    "start_time": "2023-12-05T09:09:53.169Z"
   },
   {
    "duration": 3,
    "start_time": "2023-12-05T09:10:17.805Z"
   },
   {
    "duration": 16,
    "start_time": "2023-12-05T09:12:12.813Z"
   },
   {
    "duration": 427,
    "start_time": "2023-12-05T09:13:14.343Z"
   },
   {
    "duration": 11,
    "start_time": "2023-12-05T09:13:17.793Z"
   },
   {
    "duration": 350,
    "start_time": "2023-12-05T09:16:34.309Z"
   },
   {
    "duration": 3,
    "start_time": "2023-12-05T09:16:40.449Z"
   },
   {
    "duration": 4,
    "start_time": "2023-12-05T09:18:39.370Z"
   },
   {
    "duration": 403,
    "start_time": "2023-12-05T09:18:41.984Z"
   },
   {
    "duration": 45,
    "start_time": "2023-12-05T09:19:00.894Z"
   },
   {
    "duration": 5,
    "start_time": "2023-12-05T09:19:53.824Z"
   },
   {
    "duration": 40,
    "start_time": "2023-12-05T09:19:57.359Z"
   },
   {
    "duration": 420,
    "start_time": "2023-12-05T09:20:25.419Z"
   },
   {
    "duration": 25,
    "start_time": "2023-12-05T09:21:11.377Z"
   },
   {
    "duration": 19,
    "start_time": "2023-12-05T09:21:17.552Z"
   },
   {
    "duration": 45,
    "start_time": "2023-12-05T09:21:45.798Z"
   },
   {
    "duration": 34,
    "start_time": "2023-12-05T09:22:33.323Z"
   },
   {
    "duration": 31,
    "start_time": "2023-12-05T09:22:45.662Z"
   },
   {
    "duration": 3,
    "start_time": "2023-12-05T09:22:56.618Z"
   },
   {
    "duration": 31,
    "start_time": "2023-12-05T09:23:15.715Z"
   },
   {
    "duration": 866,
    "start_time": "2023-12-05T09:23:58.188Z"
   },
   {
    "duration": 28,
    "start_time": "2023-12-05T09:24:45.865Z"
   },
   {
    "duration": 41,
    "start_time": "2023-12-05T09:25:42.668Z"
   },
   {
    "duration": 1506,
    "start_time": "2023-12-05T09:26:04.467Z"
   },
   {
    "duration": 36,
    "start_time": "2023-12-05T09:26:19.278Z"
   },
   {
    "duration": 60551,
    "start_time": "2023-12-05T09:27:15.412Z"
   },
   {
    "duration": 5,
    "start_time": "2023-12-05T09:29:22.840Z"
   },
   {
    "duration": 16,
    "start_time": "2023-12-05T09:29:33.857Z"
   },
   {
    "duration": 12,
    "start_time": "2023-12-05T09:29:51.708Z"
   },
   {
    "duration": 84,
    "start_time": "2023-12-05T09:30:38.192Z"
   },
   {
    "duration": 11,
    "start_time": "2023-12-05T09:30:55.702Z"
   },
   {
    "duration": 5,
    "start_time": "2023-12-05T09:33:14.489Z"
   },
   {
    "duration": 15,
    "start_time": "2023-12-05T09:33:15.875Z"
   },
   {
    "duration": 11,
    "start_time": "2023-12-05T09:33:37.361Z"
   },
   {
    "duration": 15,
    "start_time": "2023-12-05T09:34:09.132Z"
   },
   {
    "duration": 90,
    "start_time": "2023-12-05T09:36:25.220Z"
   },
   {
    "duration": 78,
    "start_time": "2023-12-05T09:36:53.080Z"
   },
   {
    "duration": 105,
    "start_time": "2023-12-05T09:37:11.943Z"
   },
   {
    "duration": 11,
    "start_time": "2023-12-05T09:37:33.899Z"
   },
   {
    "duration": 4,
    "start_time": "2023-12-05T09:38:18.945Z"
   },
   {
    "duration": 36,
    "start_time": "2023-12-05T09:38:31.560Z"
   },
   {
    "duration": 438,
    "start_time": "2023-12-05T09:39:29.913Z"
   },
   {
    "duration": 6,
    "start_time": "2023-12-05T09:39:38.038Z"
   },
   {
    "duration": 341,
    "start_time": "2023-12-05T09:39:41.412Z"
   },
   {
    "duration": 104,
    "start_time": "2023-12-05T09:41:38.821Z"
   },
   {
    "duration": 19,
    "start_time": "2023-12-05T09:42:16.481Z"
   },
   {
    "duration": 7,
    "start_time": "2023-12-05T09:44:26.755Z"
   },
   {
    "duration": 444,
    "start_time": "2023-12-05T09:44:37.736Z"
   },
   {
    "duration": 12,
    "start_time": "2023-12-05T09:44:40.411Z"
   },
   {
    "duration": 10,
    "start_time": "2023-12-05T09:45:04.370Z"
   },
   {
    "duration": 5,
    "start_time": "2023-12-05T09:45:31.085Z"
   },
   {
    "duration": 18,
    "start_time": "2023-12-05T09:46:04.629Z"
   },
   {
    "duration": 20,
    "start_time": "2023-12-05T09:46:14.269Z"
   },
   {
    "duration": 12,
    "start_time": "2023-12-05T09:46:50.986Z"
   },
   {
    "duration": 216,
    "start_time": "2023-12-05T09:48:30.535Z"
   },
   {
    "duration": 28606,
    "start_time": "2023-12-05T09:56:12.994Z"
   },
   {
    "duration": 5,
    "start_time": "2023-12-05T09:57:16.986Z"
   },
   {
    "duration": 20,
    "start_time": "2023-12-05T09:57:19.702Z"
   },
   {
    "duration": 12,
    "start_time": "2023-12-05T09:57:25.596Z"
   },
   {
    "duration": 11,
    "start_time": "2023-12-05T09:57:33.326Z"
   },
   {
    "duration": 82419,
    "start_time": "2023-12-05T09:58:01.570Z"
   },
   {
    "duration": 12124,
    "start_time": "2023-12-05T09:59:29.435Z"
   },
   {
    "duration": 80,
    "start_time": "2023-12-05T09:59:53.546Z"
   },
   {
    "duration": 89,
    "start_time": "2023-12-05T10:00:10.887Z"
   },
   {
    "duration": 635,
    "start_time": "2023-12-05T10:00:15.754Z"
   },
   {
    "duration": 5,
    "start_time": "2023-12-05T10:00:28.958Z"
   },
   {
    "duration": 6,
    "start_time": "2023-12-05T10:02:58.736Z"
   },
   {
    "duration": 63040,
    "start_time": "2023-12-05T10:04:27.696Z"
   },
   {
    "duration": 351,
    "start_time": "2023-12-05T10:05:44.556Z"
   },
   {
    "duration": 61754,
    "start_time": "2023-12-05T10:06:27.364Z"
   },
   {
    "duration": 1073954,
    "start_time": "2023-12-05T10:07:33.922Z"
   },
   {
    "duration": 0,
    "start_time": "2023-12-05T10:25:27.878Z"
   },
   {
    "duration": 37,
    "start_time": "2023-12-05T10:32:33.563Z"
   },
   {
    "duration": 2,
    "start_time": "2023-12-05T10:37:36.139Z"
   },
   {
    "duration": 5,
    "start_time": "2023-12-05T10:38:19.018Z"
   },
   {
    "duration": 26,
    "start_time": "2023-12-05T10:38:26.571Z"
   },
   {
    "duration": 2,
    "start_time": "2023-12-05T10:39:25.409Z"
   },
   {
    "duration": 46,
    "start_time": "2023-12-05T10:39:29.465Z"
   },
   {
    "duration": 3,
    "start_time": "2023-12-05T10:39:54.286Z"
   },
   {
    "duration": 3,
    "start_time": "2023-12-05T10:40:25.623Z"
   },
   {
    "duration": 33,
    "start_time": "2023-12-05T10:40:27.030Z"
   },
   {
    "duration": 41,
    "start_time": "2023-12-05T10:44:05.220Z"
   },
   {
    "duration": 123,
    "start_time": "2023-12-05T10:44:34.834Z"
   },
   {
    "duration": 4,
    "start_time": "2023-12-05T10:45:11.392Z"
   },
   {
    "duration": 4,
    "start_time": "2023-12-05T10:46:19.649Z"
   },
   {
    "duration": 98,
    "start_time": "2023-12-05T10:46:26.643Z"
   },
   {
    "duration": 78,
    "start_time": "2023-12-05T10:46:38.007Z"
   },
   {
    "duration": 77,
    "start_time": "2023-12-05T10:46:49.257Z"
   },
   {
    "duration": 78,
    "start_time": "2023-12-05T10:47:00.250Z"
   },
   {
    "duration": 148,
    "start_time": "2023-12-05T10:47:05.589Z"
   },
   {
    "duration": 1743,
    "start_time": "2023-12-05T10:47:49.548Z"
   },
   {
    "duration": 3,
    "start_time": "2023-12-05T10:47:59.683Z"
   },
   {
    "duration": 82,
    "start_time": "2023-12-05T10:49:46.524Z"
   },
   {
    "duration": 82,
    "start_time": "2023-12-05T10:49:59.841Z"
   },
   {
    "duration": 3,
    "start_time": "2023-12-05T10:50:20.267Z"
   },
   {
    "duration": 379,
    "start_time": "2023-12-05T10:50:42.185Z"
   },
   {
    "duration": 108,
    "start_time": "2023-12-05T10:51:43.482Z"
   },
   {
    "duration": 79,
    "start_time": "2023-12-05T10:52:30.454Z"
   },
   {
    "duration": 4,
    "start_time": "2023-12-05T10:52:50.939Z"
   },
   {
    "duration": 41,
    "start_time": "2023-12-05T10:53:17.031Z"
   },
   {
    "duration": 269,
    "start_time": "2023-12-05T10:54:07.492Z"
   },
   {
    "duration": 4,
    "start_time": "2023-12-05T10:54:16.143Z"
   },
   {
    "duration": 383,
    "start_time": "2023-12-05T10:54:17.809Z"
   },
   {
    "duration": 18,
    "start_time": "2023-12-05T10:55:15.084Z"
   },
   {
    "duration": 24,
    "start_time": "2023-12-05T10:56:09.662Z"
   },
   {
    "duration": 7,
    "start_time": "2023-12-05T10:56:16.118Z"
   },
   {
    "duration": 25,
    "start_time": "2023-12-05T10:56:20.480Z"
   },
   {
    "duration": 386,
    "start_time": "2023-12-05T10:56:36.074Z"
   },
   {
    "duration": 6,
    "start_time": "2023-12-05T10:57:25.743Z"
   },
   {
    "duration": 8,
    "start_time": "2023-12-05T10:57:34.844Z"
   },
   {
    "duration": 10,
    "start_time": "2023-12-05T10:58:15.933Z"
   },
   {
    "duration": 3,
    "start_time": "2023-12-05T10:58:21.486Z"
   },
   {
    "duration": 4,
    "start_time": "2023-12-05T10:58:23.853Z"
   },
   {
    "duration": 6,
    "start_time": "2023-12-05T10:58:29.751Z"
   },
   {
    "duration": 6,
    "start_time": "2023-12-05T10:58:44.915Z"
   },
   {
    "duration": 3,
    "start_time": "2023-12-05T10:59:11.089Z"
   },
   {
    "duration": 10,
    "start_time": "2023-12-05T10:59:43.605Z"
   },
   {
    "duration": 9,
    "start_time": "2023-12-05T10:59:51.062Z"
   },
   {
    "duration": 2,
    "start_time": "2023-12-05T11:00:36.718Z"
   },
   {
    "duration": 2,
    "start_time": "2023-12-05T11:00:39.944Z"
   },
   {
    "duration": 3,
    "start_time": "2023-12-05T11:01:58.373Z"
   },
   {
    "duration": 331395,
    "start_time": "2023-12-05T11:02:00.599Z"
   },
   {
    "duration": 8911,
    "start_time": "2023-12-05T11:07:33.828Z"
   },
   {
    "duration": 392,
    "start_time": "2023-12-05T11:07:51.991Z"
   },
   {
    "duration": 4781,
    "start_time": "2023-12-05T11:08:03.643Z"
   },
   {
    "duration": 2,
    "start_time": "2023-12-05T11:08:10.834Z"
   },
   {
    "duration": 5831,
    "start_time": "2023-12-05T11:08:14.616Z"
   },
   {
    "duration": 97114,
    "start_time": "2023-12-05T11:08:52.371Z"
   },
   {
    "duration": 363,
    "start_time": "2023-12-05T11:11:22.912Z"
   },
   {
    "duration": 3,
    "start_time": "2023-12-05T11:11:44.468Z"
   },
   {
    "duration": 5,
    "start_time": "2023-12-05T11:11:46.786Z"
   },
   {
    "duration": 3,
    "start_time": "2023-12-05T11:11:49.300Z"
   },
   {
    "duration": 8,
    "start_time": "2023-12-05T11:11:49.868Z"
   },
   {
    "duration": 395,
    "start_time": "2023-12-05T11:11:54.662Z"
   },
   {
    "duration": 5852,
    "start_time": "2023-12-05T11:12:28.452Z"
   },
   {
    "duration": 3,
    "start_time": "2023-12-05T11:12:55.897Z"
   },
   {
    "duration": 3,
    "start_time": "2023-12-05T11:12:58.096Z"
   },
   {
    "duration": 11,
    "start_time": "2023-12-05T11:12:58.951Z"
   },
   {
    "duration": 3,
    "start_time": "2023-12-05T11:13:01.678Z"
   },
   {
    "duration": 5882,
    "start_time": "2023-12-05T11:13:01.683Z"
   },
   {
    "duration": 282581,
    "start_time": "2023-12-05T11:13:10.095Z"
   },
   {
    "duration": 300127,
    "start_time": "2023-12-05T11:17:56.768Z"
   },
   {
    "duration": 3,
    "start_time": "2023-12-05T11:23:03.531Z"
   },
   {
    "duration": 20,
    "start_time": "2023-12-05T11:23:18.009Z"
   },
   {
    "duration": 80,
    "start_time": "2023-12-05T11:23:36.067Z"
   },
   {
    "duration": 18,
    "start_time": "2023-12-05T11:23:44.935Z"
   },
   {
    "duration": 6654,
    "start_time": "2023-12-05T11:24:03.658Z"
   },
   {
    "duration": 621698,
    "start_time": "2023-12-05T11:25:03.761Z"
   },
   {
    "duration": 7,
    "start_time": "2023-12-05T11:38:06.993Z"
   },
   {
    "duration": 474,
    "start_time": "2023-12-05T11:40:04.455Z"
   },
   {
    "duration": 358,
    "start_time": "2023-12-05T11:40:30.767Z"
   },
   {
    "duration": 22,
    "start_time": "2023-12-05T11:41:59.130Z"
   },
   {
    "duration": 105,
    "start_time": "2023-12-05T11:45:33.828Z"
   },
   {
    "duration": 20,
    "start_time": "2023-12-05T11:45:38.732Z"
   },
   {
    "duration": 4,
    "start_time": "2023-12-05T11:46:11.393Z"
   },
   {
    "duration": 394,
    "start_time": "2023-12-05T11:47:08.462Z"
   },
   {
    "duration": 136,
    "start_time": "2023-12-05T11:47:18.393Z"
   },
   {
    "duration": 3,
    "start_time": "2023-12-05T11:47:26.588Z"
   },
   {
    "duration": 344,
    "start_time": "2023-12-05T11:47:29.139Z"
   },
   {
    "duration": 5,
    "start_time": "2023-12-05T11:48:22.547Z"
   },
   {
    "duration": 54,
    "start_time": "2023-12-05T11:49:31.581Z"
   },
   {
    "duration": 4,
    "start_time": "2023-12-05T11:50:14.881Z"
   },
   {
    "duration": 3,
    "start_time": "2023-12-05T11:50:20.950Z"
   },
   {
    "duration": 3,
    "start_time": "2023-12-05T11:51:00.675Z"
   },
   {
    "duration": 349,
    "start_time": "2023-12-05T11:51:15.999Z"
   },
   {
    "duration": 4,
    "start_time": "2023-12-05T11:51:30.368Z"
   },
   {
    "duration": 4,
    "start_time": "2023-12-05T11:51:39.170Z"
   },
   {
    "duration": 347,
    "start_time": "2023-12-05T11:51:39.557Z"
   },
   {
    "duration": 5758,
    "start_time": "2023-12-05T11:52:00.142Z"
   },
   {
    "duration": 5,
    "start_time": "2023-12-05T11:52:31.691Z"
   },
   {
    "duration": 5701,
    "start_time": "2023-12-05T11:52:53.567Z"
   },
   {
    "duration": 4,
    "start_time": "2023-12-05T11:54:00.229Z"
   },
   {
    "duration": 553362,
    "start_time": "2023-12-05T11:54:21.300Z"
   },
   {
    "duration": 7,
    "start_time": "2023-12-05T12:03:34.664Z"
   },
   {
    "duration": 0,
    "start_time": "2023-12-05T12:03:34.755Z"
   },
   {
    "duration": 0,
    "start_time": "2023-12-05T12:03:34.756Z"
   },
   {
    "duration": 5255,
    "start_time": "2023-12-05T12:03:44.108Z"
   },
   {
    "duration": 16,
    "start_time": "2023-12-05T12:04:03.218Z"
   },
   {
    "duration": 92,
    "start_time": "2023-12-05T12:04:34.021Z"
   },
   {
    "duration": 4,
    "start_time": "2023-12-05T12:04:37.300Z"
   },
   {
    "duration": 4,
    "start_time": "2023-12-05T12:04:40.895Z"
   },
   {
    "duration": 26,
    "start_time": "2023-12-05T12:04:41.539Z"
   },
   {
    "duration": 814,
    "start_time": "2023-12-05T12:05:23.739Z"
   },
   {
    "duration": 733,
    "start_time": "2023-12-05T12:07:24.926Z"
   },
   {
    "duration": 58,
    "start_time": "2023-12-05T12:08:02.527Z"
   },
   {
    "duration": 1034,
    "start_time": "2023-12-05T12:08:56.290Z"
   },
   {
    "duration": 241,
    "start_time": "2023-12-05T12:09:00.364Z"
   },
   {
    "duration": 4,
    "start_time": "2023-12-05T12:09:03.026Z"
   },
   {
    "duration": 3,
    "start_time": "2023-12-05T12:09:05.712Z"
   },
   {
    "duration": 5275,
    "start_time": "2023-12-05T12:09:35.274Z"
   },
   {
    "duration": 2,
    "start_time": "2023-12-05T12:09:40.551Z"
   },
   {
    "duration": 27,
    "start_time": "2023-12-05T12:09:40.554Z"
   },
   {
    "duration": 12,
    "start_time": "2023-12-05T12:09:40.583Z"
   },
   {
    "duration": 27,
    "start_time": "2023-12-05T12:09:40.597Z"
   },
   {
    "duration": 17,
    "start_time": "2023-12-05T12:09:40.626Z"
   },
   {
    "duration": 2349,
    "start_time": "2023-12-05T12:09:40.645Z"
   },
   {
    "duration": 31,
    "start_time": "2023-12-05T12:09:42.995Z"
   },
   {
    "duration": 224,
    "start_time": "2023-12-05T12:09:43.027Z"
   },
   {
    "duration": 27,
    "start_time": "2023-12-05T12:09:43.253Z"
   },
   {
    "duration": 173,
    "start_time": "2023-12-05T12:09:43.281Z"
   },
   {
    "duration": 2,
    "start_time": "2023-12-05T12:09:43.455Z"
   },
   {
    "duration": 22,
    "start_time": "2023-12-05T12:09:43.459Z"
   },
   {
    "duration": 13,
    "start_time": "2023-12-05T12:09:43.483Z"
   },
   {
    "duration": 17,
    "start_time": "2023-12-05T12:09:43.497Z"
   },
   {
    "duration": 23,
    "start_time": "2023-12-05T12:09:43.517Z"
   },
   {
    "duration": 1426,
    "start_time": "2023-12-05T12:09:43.542Z"
   },
   {
    "duration": 5936,
    "start_time": "2023-12-05T12:09:44.970Z"
   },
   {
    "duration": 327,
    "start_time": "2023-12-05T12:09:50.910Z"
   },
   {
    "duration": 0,
    "start_time": "2023-12-05T12:09:51.239Z"
   },
   {
    "duration": 0,
    "start_time": "2023-12-05T12:09:51.240Z"
   },
   {
    "duration": 0,
    "start_time": "2023-12-05T12:09:51.241Z"
   },
   {
    "duration": 0,
    "start_time": "2023-12-05T12:09:51.243Z"
   },
   {
    "duration": 0,
    "start_time": "2023-12-05T12:09:51.243Z"
   },
   {
    "duration": 0,
    "start_time": "2023-12-05T12:09:51.245Z"
   },
   {
    "duration": 0,
    "start_time": "2023-12-05T12:09:51.246Z"
   },
   {
    "duration": 0,
    "start_time": "2023-12-05T12:09:51.247Z"
   },
   {
    "duration": 0,
    "start_time": "2023-12-05T12:09:51.247Z"
   },
   {
    "duration": 0,
    "start_time": "2023-12-05T12:09:51.248Z"
   },
   {
    "duration": 0,
    "start_time": "2023-12-05T12:09:51.249Z"
   },
   {
    "duration": 0,
    "start_time": "2023-12-05T12:09:51.250Z"
   },
   {
    "duration": 0,
    "start_time": "2023-12-05T12:09:51.251Z"
   },
   {
    "duration": 0,
    "start_time": "2023-12-05T12:09:51.252Z"
   },
   {
    "duration": 0,
    "start_time": "2023-12-05T12:09:51.253Z"
   },
   {
    "duration": 0,
    "start_time": "2023-12-05T12:09:51.254Z"
   },
   {
    "duration": 0,
    "start_time": "2023-12-05T12:09:51.255Z"
   },
   {
    "duration": 0,
    "start_time": "2023-12-05T12:09:51.256Z"
   },
   {
    "duration": 0,
    "start_time": "2023-12-05T12:09:51.257Z"
   },
   {
    "duration": 0,
    "start_time": "2023-12-05T12:09:51.258Z"
   },
   {
    "duration": 0,
    "start_time": "2023-12-05T12:09:51.259Z"
   },
   {
    "duration": 0,
    "start_time": "2023-12-05T12:09:51.260Z"
   },
   {
    "duration": 0,
    "start_time": "2023-12-05T12:09:51.260Z"
   },
   {
    "duration": 0,
    "start_time": "2023-12-05T12:09:51.261Z"
   },
   {
    "duration": 0,
    "start_time": "2023-12-05T12:09:51.262Z"
   },
   {
    "duration": 0,
    "start_time": "2023-12-05T12:09:51.263Z"
   },
   {
    "duration": 0,
    "start_time": "2023-12-05T12:09:51.264Z"
   },
   {
    "duration": 6075,
    "start_time": "2023-12-05T12:11:03.749Z"
   },
   {
    "duration": 3,
    "start_time": "2023-12-05T12:11:09.826Z"
   },
   {
    "duration": 8,
    "start_time": "2023-12-05T12:11:09.831Z"
   },
   {
    "duration": 8,
    "start_time": "2023-12-05T12:11:09.842Z"
   },
   {
    "duration": 5,
    "start_time": "2023-12-05T12:11:09.852Z"
   },
   {
    "duration": 4,
    "start_time": "2023-12-05T12:11:09.859Z"
   },
   {
    "duration": 948,
    "start_time": "2023-12-05T12:11:09.865Z"
   },
   {
    "duration": 35,
    "start_time": "2023-12-05T12:11:10.815Z"
   },
   {
    "duration": 267,
    "start_time": "2023-12-05T12:11:10.853Z"
   },
   {
    "duration": 28,
    "start_time": "2023-12-05T12:11:11.122Z"
   },
   {
    "duration": 177,
    "start_time": "2023-12-05T12:11:11.152Z"
   },
   {
    "duration": 2,
    "start_time": "2023-12-05T12:11:11.331Z"
   },
   {
    "duration": 8,
    "start_time": "2023-12-05T12:11:11.335Z"
   },
   {
    "duration": 20,
    "start_time": "2023-12-05T12:11:11.345Z"
   },
   {
    "duration": 13,
    "start_time": "2023-12-05T12:11:11.367Z"
   },
   {
    "duration": 12,
    "start_time": "2023-12-05T12:11:11.382Z"
   },
   {
    "duration": 1535,
    "start_time": "2023-12-05T12:11:11.395Z"
   },
   {
    "duration": 5711,
    "start_time": "2023-12-05T12:11:12.932Z"
   },
   {
    "duration": 532419,
    "start_time": "2023-12-05T12:11:18.644Z"
   },
   {
    "duration": 7,
    "start_time": "2023-12-05T12:20:11.064Z"
   },
   {
    "duration": 40,
    "start_time": "2023-12-05T12:20:11.073Z"
   },
   {
    "duration": 1351,
    "start_time": "2023-12-05T12:20:11.115Z"
   },
   {
    "duration": 88,
    "start_time": "2023-12-05T12:20:12.468Z"
   },
   {
    "duration": 5,
    "start_time": "2023-12-05T12:20:12.557Z"
   },
   {
    "duration": 15,
    "start_time": "2023-12-05T12:20:12.563Z"
   },
   {
    "duration": 11,
    "start_time": "2023-12-05T12:20:12.580Z"
   },
   {
    "duration": 5227,
    "start_time": "2023-12-05T12:24:23.324Z"
   },
   {
    "duration": 3,
    "start_time": "2023-12-05T12:24:28.553Z"
   },
   {
    "duration": 4,
    "start_time": "2023-12-05T12:24:28.557Z"
   },
   {
    "duration": 7,
    "start_time": "2023-12-05T12:24:28.564Z"
   },
   {
    "duration": 8,
    "start_time": "2023-12-05T12:24:28.573Z"
   },
   {
    "duration": 13,
    "start_time": "2023-12-05T12:24:28.582Z"
   },
   {
    "duration": 2365,
    "start_time": "2023-12-05T12:24:28.596Z"
   },
   {
    "duration": 31,
    "start_time": "2023-12-05T12:24:30.963Z"
   },
   {
    "duration": 226,
    "start_time": "2023-12-05T12:24:30.995Z"
   },
   {
    "duration": 27,
    "start_time": "2023-12-05T12:24:31.223Z"
   },
   {
    "duration": 176,
    "start_time": "2023-12-05T12:24:31.251Z"
   },
   {
    "duration": 2,
    "start_time": "2023-12-05T12:24:31.428Z"
   },
   {
    "duration": 22,
    "start_time": "2023-12-05T12:24:31.431Z"
   },
   {
    "duration": 27,
    "start_time": "2023-12-05T12:24:31.455Z"
   },
   {
    "duration": 18,
    "start_time": "2023-12-05T12:24:31.483Z"
   },
   {
    "duration": 16,
    "start_time": "2023-12-05T12:24:31.503Z"
   },
   {
    "duration": 1459,
    "start_time": "2023-12-05T12:24:31.520Z"
   },
   {
    "duration": 5757,
    "start_time": "2023-12-05T12:24:32.981Z"
   },
   {
    "duration": 523745,
    "start_time": "2023-12-05T12:24:38.739Z"
   },
   {
    "duration": 7,
    "start_time": "2023-12-05T12:33:22.486Z"
   },
   {
    "duration": 17,
    "start_time": "2023-12-05T12:33:22.510Z"
   },
   {
    "duration": 1302,
    "start_time": "2023-12-05T12:33:22.529Z"
   },
   {
    "duration": 90,
    "start_time": "2023-12-05T12:33:23.833Z"
   },
   {
    "duration": 4,
    "start_time": "2023-12-05T12:33:23.925Z"
   },
   {
    "duration": 16,
    "start_time": "2023-12-05T12:33:23.931Z"
   },
   {
    "duration": 3,
    "start_time": "2023-12-05T12:33:23.948Z"
   },
   {
    "duration": 46,
    "start_time": "2023-12-05T12:33:47.393Z"
   },
   {
    "duration": 5453,
    "start_time": "2023-12-05T12:34:26.069Z"
   },
   {
    "duration": 2,
    "start_time": "2023-12-05T12:34:31.524Z"
   },
   {
    "duration": 27,
    "start_time": "2023-12-05T12:34:31.527Z"
   },
   {
    "duration": 25,
    "start_time": "2023-12-05T12:34:31.556Z"
   },
   {
    "duration": 25,
    "start_time": "2023-12-05T12:34:31.583Z"
   },
   {
    "duration": 16,
    "start_time": "2023-12-05T12:34:31.610Z"
   },
   {
    "duration": 2402,
    "start_time": "2023-12-05T12:34:31.627Z"
   },
   {
    "duration": 30,
    "start_time": "2023-12-05T12:34:34.030Z"
   },
   {
    "duration": 232,
    "start_time": "2023-12-05T12:34:34.061Z"
   },
   {
    "duration": 31,
    "start_time": "2023-12-05T12:34:34.296Z"
   },
   {
    "duration": 172,
    "start_time": "2023-12-05T12:34:34.328Z"
   },
   {
    "duration": 2,
    "start_time": "2023-12-05T12:34:34.501Z"
   },
   {
    "duration": 4,
    "start_time": "2023-12-05T12:34:34.510Z"
   },
   {
    "duration": 19,
    "start_time": "2023-12-05T12:34:34.515Z"
   },
   {
    "duration": 26,
    "start_time": "2023-12-05T12:34:34.536Z"
   },
   {
    "duration": 17,
    "start_time": "2023-12-05T12:34:34.564Z"
   },
   {
    "duration": 1441,
    "start_time": "2023-12-05T12:34:34.583Z"
   },
   {
    "duration": 5785,
    "start_time": "2023-12-05T12:35:24.268Z"
   },
   {
    "duration": 268864,
    "start_time": "2023-12-05T12:35:33.976Z"
   },
   {
    "duration": 5,
    "start_time": "2023-12-05T12:41:07.701Z"
   },
   {
    "duration": 7,
    "start_time": "2023-12-05T12:41:30.715Z"
   },
   {
    "duration": 4,
    "start_time": "2023-12-05T12:41:56.675Z"
   },
   {
    "duration": 8,
    "start_time": "2023-12-05T12:41:59.554Z"
   },
   {
    "duration": 523853,
    "start_time": "2023-12-05T12:42:36.976Z"
   },
   {
    "duration": 6,
    "start_time": "2023-12-05T12:51:20.830Z"
   },
   {
    "duration": 12,
    "start_time": "2023-12-05T12:53:39.383Z"
   },
   {
    "duration": 105,
    "start_time": "2023-12-05T12:53:45.851Z"
   },
   {
    "duration": 4,
    "start_time": "2023-12-05T12:53:48.551Z"
   },
   {
    "duration": 4,
    "start_time": "2023-12-05T12:53:51.241Z"
   },
   {
    "duration": 6640,
    "start_time": "2023-12-05T12:53:53.501Z"
   },
   {
    "duration": 41541,
    "start_time": "2023-12-05T12:54:14.679Z"
   },
   {
    "duration": 244358,
    "start_time": "2023-12-05T12:56:01.042Z"
   },
   {
    "duration": 24,
    "start_time": "2023-12-05T13:00:15.606Z"
   },
   {
    "duration": 19,
    "start_time": "2023-12-05T13:00:28.808Z"
   },
   {
    "duration": 18,
    "start_time": "2023-12-05T13:00:42.426Z"
   },
   {
    "duration": 42581,
    "start_time": "2023-12-05T13:01:04.641Z"
   },
   {
    "duration": 26,
    "start_time": "2023-12-05T13:02:29.640Z"
   },
   {
    "duration": 127,
    "start_time": "2023-12-05T13:02:30.446Z"
   },
   {
    "duration": 3,
    "start_time": "2023-12-05T13:02:35.027Z"
   },
   {
    "duration": 2,
    "start_time": "2023-12-05T13:02:37.340Z"
   },
   {
    "duration": 10779,
    "start_time": "2023-12-05T13:02:37.742Z"
   },
   {
    "duration": 10,
    "start_time": "2023-12-05T13:05:24.080Z"
   },
   {
    "duration": 1210,
    "start_time": "2023-12-05T13:05:33.907Z"
   },
   {
    "duration": 1239,
    "start_time": "2023-12-05T13:05:44.434Z"
   },
   {
    "duration": 120,
    "start_time": "2023-12-05T13:05:48.348Z"
   },
   {
    "duration": 4,
    "start_time": "2023-12-05T13:05:51.697Z"
   },
   {
    "duration": 1207,
    "start_time": "2023-12-05T13:06:10.777Z"
   },
   {
    "duration": 50,
    "start_time": "2023-12-05T13:06:14.367Z"
   },
   {
    "duration": 4,
    "start_time": "2023-12-05T13:06:15.300Z"
   },
   {
    "duration": 1220,
    "start_time": "2023-12-05T13:06:21.550Z"
   },
   {
    "duration": 119,
    "start_time": "2023-12-05T13:06:23.803Z"
   },
   {
    "duration": 5,
    "start_time": "2023-12-05T13:06:26.477Z"
   },
   {
    "duration": 1226,
    "start_time": "2023-12-05T13:06:38.424Z"
   },
   {
    "duration": 49,
    "start_time": "2023-12-05T13:06:40.452Z"
   },
   {
    "duration": 5,
    "start_time": "2023-12-05T13:06:41.284Z"
   }
  ],
  "kernelspec": {
   "display_name": "Python 3 (ipykernel)",
   "language": "python",
   "name": "python3"
  },
  "language_info": {
   "codemirror_mode": {
    "name": "ipython",
    "version": 3
   },
   "file_extension": ".py",
   "mimetype": "text/x-python",
   "name": "python",
   "nbconvert_exporter": "python",
   "pygments_lexer": "ipython3",
   "version": "3.11.4"
  },
  "toc": {
   "base_numbering": 1,
   "nav_menu": {},
   "number_sections": true,
   "sideBar": true,
   "skip_h1_title": true,
   "title_cell": "Table of Contents",
   "title_sidebar": "Contents",
   "toc_cell": false,
   "toc_position": {
    "height": "calc(100% - 180px)",
    "left": "10px",
    "top": "150px",
    "width": "211px"
   },
   "toc_section_display": true,
   "toc_window_display": true
  }
 },
 "nbformat": 4,
 "nbformat_minor": 5
}
