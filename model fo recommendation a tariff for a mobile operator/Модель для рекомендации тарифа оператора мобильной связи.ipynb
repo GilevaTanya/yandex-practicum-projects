{
 "cells": [
  {
   "cell_type": "markdown",
   "metadata": {},
   "source": [
    "# Модель рекомендации тариф для оператора мобильной связи  «Мегалайн».\n",
    "\n",
    "**Цель проекта:** построить модель для задачи классификации, со значением accuracy не менее 0,75.\n",
    "\n",
    "**План проекта:**\n",
    "- Открыть файл с данными и изучите его.  \n",
    "- Разделите исходные данные на обучающую, валидационную и тестовую выборки.\n",
    "- Исследуйте качество разных моделей, меняя гиперпараметры.  \n",
    "- Проверьте качество модели на тестовой выборке, достичь показателя accuracy не менее 0,75.\n",
    "- Проверьте модели на адекватность.\n",
    "\n",
    "\n",
    "**Описание данных**\n",
    "\n",
    "**сalls** — количество звонков  \n",
    "**minutes** — суммарная длительность звонков в минутах  \n",
    "**messages** — количество sms-сообщений  \n",
    "**mb_used** — израсходованный интернет-трафик в Мб  \n",
    "**is_ultra** — каким тарифом пользовался в течение месяца («Ультра» — 1, «Смарт» — 0)  "
   ]
  },
  {
   "cell_type": "markdown",
   "metadata": {},
   "source": [
    "## Откройте и изучите файл"
   ]
  },
  {
   "cell_type": "markdown",
   "metadata": {},
   "source": [
    "Импортируем библиотеку pandas, а также библиотеки sklearn для  задач классификации."
   ]
  },
  {
   "cell_type": "code",
   "execution_count": 1,
   "metadata": {},
   "outputs": [],
   "source": [
    "import pandas as pd\n",
    "from sklearn.model_selection import train_test_split \n",
    "from sklearn.metrics import accuracy_score\n",
    "from sklearn.tree import DecisionTreeClassifier \n",
    "from sklearn.ensemble import RandomForestClassifier \n",
    "from sklearn.linear_model import LogisticRegression "
   ]
  },
  {
   "cell_type": "code",
   "execution_count": 2,
   "metadata": {},
   "outputs": [],
   "source": [
    "try:\n",
    "    df = pd.read_csv('/datasets/users_behavior.csv')   \n",
    "except BaseException:\n",
    "    df = pd.read_csv('C:/Users/HP/Downloads/Модель для рекомендации тарифа оператора мобильной связи/users_behavior.csv')\n",
    "      "
   ]
  },
  {
   "cell_type": "markdown",
   "metadata": {},
   "source": [
    "Посмотрим на первые 5 строк датафрейма"
   ]
  },
  {
   "cell_type": "code",
   "execution_count": 3,
   "metadata": {},
   "outputs": [
    {
     "data": {
      "text/html": [
       "<div>\n",
       "<style scoped>\n",
       "    .dataframe tbody tr th:only-of-type {\n",
       "        vertical-align: middle;\n",
       "    }\n",
       "\n",
       "    .dataframe tbody tr th {\n",
       "        vertical-align: top;\n",
       "    }\n",
       "\n",
       "    .dataframe thead th {\n",
       "        text-align: right;\n",
       "    }\n",
       "</style>\n",
       "<table border=\"1\" class=\"dataframe\">\n",
       "  <thead>\n",
       "    <tr style=\"text-align: right;\">\n",
       "      <th></th>\n",
       "      <th>calls</th>\n",
       "      <th>minutes</th>\n",
       "      <th>messages</th>\n",
       "      <th>mb_used</th>\n",
       "      <th>is_ultra</th>\n",
       "    </tr>\n",
       "  </thead>\n",
       "  <tbody>\n",
       "    <tr>\n",
       "      <th>0</th>\n",
       "      <td>40.0</td>\n",
       "      <td>311.90</td>\n",
       "      <td>83.0</td>\n",
       "      <td>19915.42</td>\n",
       "      <td>0</td>\n",
       "    </tr>\n",
       "    <tr>\n",
       "      <th>1</th>\n",
       "      <td>85.0</td>\n",
       "      <td>516.75</td>\n",
       "      <td>56.0</td>\n",
       "      <td>22696.96</td>\n",
       "      <td>0</td>\n",
       "    </tr>\n",
       "    <tr>\n",
       "      <th>2</th>\n",
       "      <td>77.0</td>\n",
       "      <td>467.66</td>\n",
       "      <td>86.0</td>\n",
       "      <td>21060.45</td>\n",
       "      <td>0</td>\n",
       "    </tr>\n",
       "    <tr>\n",
       "      <th>3</th>\n",
       "      <td>106.0</td>\n",
       "      <td>745.53</td>\n",
       "      <td>81.0</td>\n",
       "      <td>8437.39</td>\n",
       "      <td>1</td>\n",
       "    </tr>\n",
       "    <tr>\n",
       "      <th>4</th>\n",
       "      <td>66.0</td>\n",
       "      <td>418.74</td>\n",
       "      <td>1.0</td>\n",
       "      <td>14502.75</td>\n",
       "      <td>0</td>\n",
       "    </tr>\n",
       "  </tbody>\n",
       "</table>\n",
       "</div>"
      ],
      "text/plain": [
       "   calls  minutes  messages   mb_used  is_ultra\n",
       "0   40.0   311.90      83.0  19915.42         0\n",
       "1   85.0   516.75      56.0  22696.96         0\n",
       "2   77.0   467.66      86.0  21060.45         0\n",
       "3  106.0   745.53      81.0   8437.39         1\n",
       "4   66.0   418.74       1.0  14502.75         0"
      ]
     },
     "execution_count": 3,
     "metadata": {},
     "output_type": "execute_result"
    }
   ],
   "source": [
    "df.head()"
   ]
  },
  {
   "cell_type": "markdown",
   "metadata": {},
   "source": [
    "Посмотрим размерность первичного датафрейма"
   ]
  },
  {
   "cell_type": "code",
   "execution_count": 4,
   "metadata": {},
   "outputs": [
    {
     "data": {
      "text/plain": [
       "(3214, 5)"
      ]
     },
     "execution_count": 4,
     "metadata": {},
     "output_type": "execute_result"
    }
   ],
   "source": [
    "df_sh = df.shape\n",
    "df_sh"
   ]
  },
  {
   "cell_type": "markdown",
   "metadata": {},
   "source": [
    "Проверяем типы данных"
   ]
  },
  {
   "cell_type": "code",
   "execution_count": 5,
   "metadata": {},
   "outputs": [
    {
     "name": "stdout",
     "output_type": "stream",
     "text": [
      "<class 'pandas.core.frame.DataFrame'>\n",
      "RangeIndex: 3214 entries, 0 to 3213\n",
      "Data columns (total 5 columns):\n",
      " #   Column    Non-Null Count  Dtype  \n",
      "---  ------    --------------  -----  \n",
      " 0   calls     3214 non-null   float64\n",
      " 1   minutes   3214 non-null   float64\n",
      " 2   messages  3214 non-null   float64\n",
      " 3   mb_used   3214 non-null   float64\n",
      " 4   is_ultra  3214 non-null   int64  \n",
      "dtypes: float64(4), int64(1)\n",
      "memory usage: 125.7 KB\n"
     ]
    }
   ],
   "source": [
    "df.info()"
   ]
  },
  {
   "cell_type": "markdown",
   "metadata": {},
   "source": [
    "Проверяем пропуски"
   ]
  },
  {
   "cell_type": "code",
   "execution_count": 6,
   "metadata": {},
   "outputs": [
    {
     "data": {
      "text/plain": [
       "calls       0\n",
       "minutes     0\n",
       "messages    0\n",
       "mb_used     0\n",
       "is_ultra    0\n",
       "dtype: int64"
      ]
     },
     "execution_count": 6,
     "metadata": {},
     "output_type": "execute_result"
    }
   ],
   "source": [
    "df.isna().sum()"
   ]
  },
  {
   "cell_type": "markdown",
   "metadata": {},
   "source": [
    "Проверяем дубликаты; явные и неявыне"
   ]
  },
  {
   "cell_type": "code",
   "execution_count": 7,
   "metadata": {},
   "outputs": [
    {
     "data": {
      "text/plain": [
       "0"
      ]
     },
     "execution_count": 7,
     "metadata": {},
     "output_type": "execute_result"
    }
   ],
   "source": [
    "df.duplicated().sum()"
   ]
  },
  {
   "cell_type": "code",
   "execution_count": 8,
   "metadata": {},
   "outputs": [
    {
     "data": {
      "text/html": [
       "<div>\n",
       "<style scoped>\n",
       "    .dataframe tbody tr th:only-of-type {\n",
       "        vertical-align: middle;\n",
       "    }\n",
       "\n",
       "    .dataframe tbody tr th {\n",
       "        vertical-align: top;\n",
       "    }\n",
       "\n",
       "    .dataframe thead th {\n",
       "        text-align: right;\n",
       "    }\n",
       "</style>\n",
       "<table border=\"1\" class=\"dataframe\">\n",
       "  <thead>\n",
       "    <tr style=\"text-align: right;\">\n",
       "      <th></th>\n",
       "      <th>calls</th>\n",
       "      <th>minutes</th>\n",
       "      <th>messages</th>\n",
       "      <th>mb_used</th>\n",
       "      <th>is_ultra</th>\n",
       "    </tr>\n",
       "  </thead>\n",
       "  <tbody>\n",
       "  </tbody>\n",
       "</table>\n",
       "</div>"
      ],
      "text/plain": [
       "Empty DataFrame\n",
       "Columns: [calls, minutes, messages, mb_used, is_ultra]\n",
       "Index: []"
      ]
     },
     "execution_count": 8,
     "metadata": {},
     "output_type": "execute_result"
    }
   ],
   "source": [
    "df[df[['calls', 'minutes', 'messages', 'mb_used', 'is_ultra']].duplicated(keep=False)]"
   ]
  },
  {
   "cell_type": "markdown",
   "metadata": {},
   "source": [
    "Данные представены верно, отстусвуют пропуски или дубликаты, типы данных присвоены адекватно.  \n",
    "Теперь сосредоточимся на сути и закономерностях в самих данных."
   ]
  },
  {
   "cell_type": "markdown",
   "metadata": {},
   "source": [
    "**Разберемся чем отличаются пользователи с тарифом «Ультра» и «Смарт»**"
   ]
  },
  {
   "cell_type": "code",
   "execution_count": 9,
   "metadata": {},
   "outputs": [
    {
     "data": {
      "text/html": [
       "<div>\n",
       "<style scoped>\n",
       "    .dataframe tbody tr th:only-of-type {\n",
       "        vertical-align: middle;\n",
       "    }\n",
       "\n",
       "    .dataframe tbody tr th {\n",
       "        vertical-align: top;\n",
       "    }\n",
       "\n",
       "    .dataframe thead th {\n",
       "        text-align: right;\n",
       "    }\n",
       "</style>\n",
       "<table border=\"1\" class=\"dataframe\">\n",
       "  <thead>\n",
       "    <tr style=\"text-align: right;\">\n",
       "      <th></th>\n",
       "      <th>calls</th>\n",
       "      <th>minutes</th>\n",
       "      <th>messages</th>\n",
       "      <th>mb_used</th>\n",
       "      <th>is_ultra</th>\n",
       "    </tr>\n",
       "  </thead>\n",
       "  <tbody>\n",
       "    <tr>\n",
       "      <th>count</th>\n",
       "      <td>2229.0</td>\n",
       "      <td>2229.0</td>\n",
       "      <td>2229.0</td>\n",
       "      <td>2229.0</td>\n",
       "      <td>2229.0</td>\n",
       "    </tr>\n",
       "    <tr>\n",
       "      <th>mean</th>\n",
       "      <td>58.0</td>\n",
       "      <td>406.0</td>\n",
       "      <td>33.0</td>\n",
       "      <td>16208.0</td>\n",
       "      <td>0.0</td>\n",
       "    </tr>\n",
       "    <tr>\n",
       "      <th>std</th>\n",
       "      <td>26.0</td>\n",
       "      <td>185.0</td>\n",
       "      <td>28.0</td>\n",
       "      <td>5870.0</td>\n",
       "      <td>0.0</td>\n",
       "    </tr>\n",
       "    <tr>\n",
       "      <th>min</th>\n",
       "      <td>0.0</td>\n",
       "      <td>0.0</td>\n",
       "      <td>0.0</td>\n",
       "      <td>0.0</td>\n",
       "      <td>0.0</td>\n",
       "    </tr>\n",
       "    <tr>\n",
       "      <th>25%</th>\n",
       "      <td>40.0</td>\n",
       "      <td>274.0</td>\n",
       "      <td>10.0</td>\n",
       "      <td>12643.0</td>\n",
       "      <td>0.0</td>\n",
       "    </tr>\n",
       "    <tr>\n",
       "      <th>50%</th>\n",
       "      <td>60.0</td>\n",
       "      <td>411.0</td>\n",
       "      <td>28.0</td>\n",
       "      <td>16507.0</td>\n",
       "      <td>0.0</td>\n",
       "    </tr>\n",
       "    <tr>\n",
       "      <th>75%</th>\n",
       "      <td>76.0</td>\n",
       "      <td>530.0</td>\n",
       "      <td>51.0</td>\n",
       "      <td>20043.0</td>\n",
       "      <td>0.0</td>\n",
       "    </tr>\n",
       "    <tr>\n",
       "      <th>max</th>\n",
       "      <td>198.0</td>\n",
       "      <td>1390.0</td>\n",
       "      <td>143.0</td>\n",
       "      <td>38553.0</td>\n",
       "      <td>0.0</td>\n",
       "    </tr>\n",
       "  </tbody>\n",
       "</table>\n",
       "</div>"
      ],
      "text/plain": [
       "        calls  minutes  messages  mb_used  is_ultra\n",
       "count  2229.0   2229.0    2229.0   2229.0    2229.0\n",
       "mean     58.0    406.0      33.0  16208.0       0.0\n",
       "std      26.0    185.0      28.0   5870.0       0.0\n",
       "min       0.0      0.0       0.0      0.0       0.0\n",
       "25%      40.0    274.0      10.0  12643.0       0.0\n",
       "50%      60.0    411.0      28.0  16507.0       0.0\n",
       "75%      76.0    530.0      51.0  20043.0       0.0\n",
       "max     198.0   1390.0     143.0  38553.0       0.0"
      ]
     },
     "execution_count": 9,
     "metadata": {},
     "output_type": "execute_result"
    }
   ],
   "source": [
    "df_0 = df.query('is_ultra == 0')\n",
    "df_0.describe().round()"
   ]
  },
  {
   "cell_type": "code",
   "execution_count": 10,
   "metadata": {},
   "outputs": [
    {
     "data": {
      "text/html": [
       "<div>\n",
       "<style scoped>\n",
       "    .dataframe tbody tr th:only-of-type {\n",
       "        vertical-align: middle;\n",
       "    }\n",
       "\n",
       "    .dataframe tbody tr th {\n",
       "        vertical-align: top;\n",
       "    }\n",
       "\n",
       "    .dataframe thead th {\n",
       "        text-align: right;\n",
       "    }\n",
       "</style>\n",
       "<table border=\"1\" class=\"dataframe\">\n",
       "  <thead>\n",
       "    <tr style=\"text-align: right;\">\n",
       "      <th></th>\n",
       "      <th>calls</th>\n",
       "      <th>minutes</th>\n",
       "      <th>messages</th>\n",
       "      <th>mb_used</th>\n",
       "      <th>is_ultra</th>\n",
       "    </tr>\n",
       "  </thead>\n",
       "  <tbody>\n",
       "    <tr>\n",
       "      <th>count</th>\n",
       "      <td>985.0</td>\n",
       "      <td>985.0</td>\n",
       "      <td>985.0</td>\n",
       "      <td>985.0</td>\n",
       "      <td>985.0</td>\n",
       "    </tr>\n",
       "    <tr>\n",
       "      <th>mean</th>\n",
       "      <td>73.0</td>\n",
       "      <td>511.0</td>\n",
       "      <td>49.0</td>\n",
       "      <td>19469.0</td>\n",
       "      <td>1.0</td>\n",
       "    </tr>\n",
       "    <tr>\n",
       "      <th>std</th>\n",
       "      <td>44.0</td>\n",
       "      <td>308.0</td>\n",
       "      <td>48.0</td>\n",
       "      <td>10087.0</td>\n",
       "      <td>0.0</td>\n",
       "    </tr>\n",
       "    <tr>\n",
       "      <th>min</th>\n",
       "      <td>0.0</td>\n",
       "      <td>0.0</td>\n",
       "      <td>0.0</td>\n",
       "      <td>0.0</td>\n",
       "      <td>1.0</td>\n",
       "    </tr>\n",
       "    <tr>\n",
       "      <th>25%</th>\n",
       "      <td>41.0</td>\n",
       "      <td>276.0</td>\n",
       "      <td>6.0</td>\n",
       "      <td>11770.0</td>\n",
       "      <td>1.0</td>\n",
       "    </tr>\n",
       "    <tr>\n",
       "      <th>50%</th>\n",
       "      <td>74.0</td>\n",
       "      <td>503.0</td>\n",
       "      <td>38.0</td>\n",
       "      <td>19308.0</td>\n",
       "      <td>1.0</td>\n",
       "    </tr>\n",
       "    <tr>\n",
       "      <th>75%</th>\n",
       "      <td>104.0</td>\n",
       "      <td>730.0</td>\n",
       "      <td>79.0</td>\n",
       "      <td>26838.0</td>\n",
       "      <td>1.0</td>\n",
       "    </tr>\n",
       "    <tr>\n",
       "      <th>max</th>\n",
       "      <td>244.0</td>\n",
       "      <td>1632.0</td>\n",
       "      <td>224.0</td>\n",
       "      <td>49746.0</td>\n",
       "      <td>1.0</td>\n",
       "    </tr>\n",
       "  </tbody>\n",
       "</table>\n",
       "</div>"
      ],
      "text/plain": [
       "       calls  minutes  messages  mb_used  is_ultra\n",
       "count  985.0    985.0     985.0    985.0     985.0\n",
       "mean    73.0    511.0      49.0  19469.0       1.0\n",
       "std     44.0    308.0      48.0  10087.0       0.0\n",
       "min      0.0      0.0       0.0      0.0       1.0\n",
       "25%     41.0    276.0       6.0  11770.0       1.0\n",
       "50%     74.0    503.0      38.0  19308.0       1.0\n",
       "75%    104.0    730.0      79.0  26838.0       1.0\n",
       "max    244.0   1632.0     224.0  49746.0       1.0"
      ]
     },
     "execution_count": 10,
     "metadata": {},
     "output_type": "execute_result"
    }
   ],
   "source": [
    "df_1 = df.query('is_ultra == 1')\n",
    "df_1.describe().round()"
   ]
  },
  {
   "cell_type": "code",
   "execution_count": 11,
   "metadata": {},
   "outputs": [
    {
     "name": "stdout",
     "output_type": "stream",
     "text": [
      "Соотношение между пользователями «Ультра» и «Смарт» по звонкам 0.26\n",
      "Соотношение между пользователями «Ультра» и «Смарт» по минутам разговора 0.26\n",
      "Соотношение между пользователями «Ультра» и «Смарт» по сообщениям 0.48\n",
      "Соотношение между пользователями «Ультра» и «Смарт» по скаченным Мб  0.2\n"
     ]
    }
   ],
   "source": [
    "c = ((df_1['calls'].mean() / df_0['calls'].mean())-1).round(2)\n",
    "mi = ((df_1['minutes'].mean() / df_0['minutes'].mean())-1).round(2)\n",
    "me = ((df_1['messages'].mean() / df_0['messages'].mean())-1).round(2)\n",
    "mb = ((df_1['mb_used'].mean() / df_0['mb_used'].mean())-1).round(2)\n",
    "print('Соотношение между пользователями «Ультра» и «Смарт» по звонкам', c)\n",
    "print('Соотношение между пользователями «Ультра» и «Смарт» по минутам разговора', mi)\n",
    "print('Соотношение между пользователями «Ультра» и «Смарт» по сообщениям', me)\n",
    "print('Соотношение между пользователями «Ультра» и «Смарт» по скаченным Мб ', mb)"
   ]
  },
  {
   "cell_type": "code",
   "execution_count": 12,
   "metadata": {},
   "outputs": [
    {
     "name": "stdout",
     "output_type": "stream",
     "text": [
      "Доля пользователей «Ультра» в датафрейме 0.31\n"
     ]
    }
   ],
   "source": [
    "ult = ((df_1['is_ultra'].count() / df['is_ultra'].count())).round(2)\n",
    "print('Доля пользователей «Ультра» в датафрейме', ult)"
   ]
  },
  {
   "cell_type": "markdown",
   "metadata": {},
   "source": [
    "**Вывод:** Исходя из полученных данных, видно что пользователи \"Ульта\" пользуются связью на 20%-48% больше чем пользователи \"Смарт\", это касается всех направлений: количество звонков, продолжительность звонков, количество сообщений и объема израсходованного интернет-трафика в Мб.\n",
    "При этом пользователи \"Ультра\" составляют всего 31% от всего датафрейма."
   ]
  },
  {
   "cell_type": "code",
   "execution_count": null,
   "metadata": {},
   "outputs": [],
   "source": []
  },
  {
   "cell_type": "markdown",
   "metadata": {},
   "source": [
    "## Разбейте данные на выборки"
   ]
  },
  {
   "cell_type": "markdown",
   "metadata": {},
   "source": [
    "**Разделим датафреймы с обучающими признаками и целевым признаком на тренировочную выборку, валидационную и тестовую.**"
   ]
  },
  {
   "cell_type": "code",
   "execution_count": 13,
   "metadata": {},
   "outputs": [],
   "source": [
    "df_train, dff = train_test_split(df, train_size=0.6, random_state=12345) "
   ]
  },
  {
   "cell_type": "code",
   "execution_count": 14,
   "metadata": {},
   "outputs": [],
   "source": [
    "df_test, df_valid = train_test_split(dff, train_size=0.5, random_state=12345) "
   ]
  },
  {
   "cell_type": "code",
   "execution_count": 15,
   "metadata": {},
   "outputs": [
    {
     "name": "stdout",
     "output_type": "stream",
     "text": [
      "(1928, 5)\n",
      "(643, 5)\n",
      "(643, 5)\n"
     ]
    }
   ],
   "source": [
    "print(df_train.shape)\n",
    "print(df_test.shape)\n",
    "print(df_valid.shape)"
   ]
  },
  {
   "cell_type": "code",
   "execution_count": 16,
   "metadata": {},
   "outputs": [
    {
     "data": {
      "text/plain": [
       "0"
      ]
     },
     "execution_count": 16,
     "metadata": {},
     "output_type": "execute_result"
    }
   ],
   "source": [
    "(df_train.shape[0]+df_test.shape[0] + df_valid.shape[0])-df_sh[0]"
   ]
  },
  {
   "cell_type": "markdown",
   "metadata": {},
   "source": [
    "При разделении данные не потерялись, можно идти дальше."
   ]
  },
  {
   "cell_type": "markdown",
   "metadata": {},
   "source": [
    "Проверим долю пользователей \"Ультра\" в новых выборках."
   ]
  },
  {
   "cell_type": "code",
   "execution_count": 17,
   "metadata": {},
   "outputs": [
    {
     "name": "stdout",
     "output_type": "stream",
     "text": [
      "df_train: 0.30757261410788383\n",
      "df_test: 0.2939346811819596\n",
      "df_valid: 0.3157076205287714\n"
     ]
    }
   ],
   "source": [
    "print('df_train:',(df_train.query('is_ultra == 1').count().max()/df_train.shape[0]))\n",
    "print('df_test:',(df_test.query('is_ultra == 1').count().max()/df_test.shape[0]))\n",
    "print('df_valid:',(df_valid.query('is_ultra == 1').count().max()/df_valid.shape[0]))"
   ]
  },
  {
   "cell_type": "markdown",
   "metadata": {},
   "source": [
    "Доля пользователей \"Ультра\" во всех новых датафреймакх очень близка к доле в изначальном датафреме -31%, значит обучение как и проверка будут потроены на адекватных данных."
   ]
  },
  {
   "cell_type": "markdown",
   "metadata": {},
   "source": [
    "**Разделим датафреймы на целевой признак и признаки для обучения.**"
   ]
  },
  {
   "cell_type": "code",
   "execution_count": 18,
   "metadata": {},
   "outputs": [],
   "source": [
    "df_train_features = df_train.drop(['is_ultra'], axis=1)\n",
    "df_train_target = df_train['is_ultra']\n",
    "\n",
    "df_test_features = df_test.drop(['is_ultra'], axis=1)\n",
    "df_test_target = df_test['is_ultra']\n",
    "\n",
    "df_valid_features = df_valid.drop(['is_ultra'], axis=1)\n",
    "df_valid_target = df_valid['is_ultra']"
   ]
  },
  {
   "cell_type": "markdown",
   "metadata": {},
   "source": [
    "**Посмотрим на размерность новых датафреймов.**"
   ]
  },
  {
   "cell_type": "code",
   "execution_count": 19,
   "metadata": {},
   "outputs": [
    {
     "name": "stdout",
     "output_type": "stream",
     "text": [
      "(1928, 4)\n",
      "(1928,)\n",
      "(643, 4)\n",
      "(643,)\n",
      "(643, 4)\n",
      "(643,)\n"
     ]
    }
   ],
   "source": [
    "print(df_train_features.shape)\n",
    "print(df_train_target.shape)\n",
    "\n",
    "print(df_test_features.shape)\n",
    "print(df_test_target.shape)\n",
    "\n",
    "print(df_valid_features.shape)\n",
    "print(df_valid_target.shape)"
   ]
  },
  {
   "cell_type": "markdown",
   "metadata": {},
   "source": [
    "Размерность польностью сохранена, можно переходить к моделированию."
   ]
  },
  {
   "cell_type": "markdown",
   "metadata": {},
   "source": [
    "## Исследуйте модели"
   ]
  },
  {
   "cell_type": "markdown",
   "metadata": {},
   "source": [
    "Так как перед нами стоит задача классификации, а именно построить модель которая предложит подходящий тариф для пользователя «Ультра» или «Смарт», построим следующие модели: дерево решений, случайный лес, логистическая регрессия."
   ]
  },
  {
   "cell_type": "markdown",
   "metadata": {},
   "source": [
    "Модель - **Дерево решений**"
   ]
  },
  {
   "cell_type": "code",
   "execution_count": 20,
   "metadata": {},
   "outputs": [
    {
     "name": "stdout",
     "output_type": "stream",
     "text": [
      "Accuracy наилучшей модели на валидационной выборке: 0.8\n",
      "Количество ветвей модели на валидационной выборке: 7\n"
     ]
    }
   ],
   "source": [
    "best_model1 = None\n",
    "best_result1 = 0\n",
    "best_depth1 = 0\n",
    "for depth in range(1, 11):\n",
    "    model1 = DecisionTreeClassifier(random_state=12345, max_depth=depth)\n",
    "    model1.fit(df_train_features, df_train_target)\n",
    "    result1 = model1.score(df_valid_features, df_valid_target) \n",
    "    if result1 > best_result1:\n",
    "            best_model1 = model1\n",
    "            best_result1 = result1\n",
    "            best_depth1 = depth\n",
    "print(\"Accuracy наилучшей модели на валидационной выборке:\", best_result1.round(2))\n",
    "print(\"Количество ветвей модели на валидационной выборке:\", best_depth1)  "
   ]
  },
  {
   "cell_type": "markdown",
   "metadata": {},
   "source": [
    "Модель - **Случайный лес**"
   ]
  },
  {
   "cell_type": "code",
   "execution_count": 21,
   "metadata": {},
   "outputs": [
    {
     "name": "stdout",
     "output_type": "stream",
     "text": [
      "Accuracy наилучшей модели на валидационной выборке: 0.81\n",
      "Количество деревьев наилучшей модели на валидационной выборке: 10\n",
      "Количество ветвей модели на валидационной выборке: 9\n"
     ]
    }
   ],
   "source": [
    "best_model2 = None\n",
    "best_result2 = 0\n",
    "best_est2 = 0\n",
    "best_depth2 = 0\n",
    "for est in range(10, 51, 10):\n",
    "    for depth in range(1, 11):\n",
    "        model2 = RandomForestClassifier(random_state=12345, n_estimators= est, max_depth=depth) \n",
    "        model2.fit(df_train_features, df_train_target) \n",
    "        result2 = model2.score(df_valid_features, df_valid_target) \n",
    "        if result2 > best_result2:\n",
    "            best_model2 = model2\n",
    "            best_result2 = result2\n",
    "            best_est2 = est\n",
    "            best_depth2 = depth\n",
    "print(\"Accuracy наилучшей модели на валидационной выборке:\", best_result2.round(2))\n",
    "print(\"Количество деревьев наилучшей модели на валидационной выборке:\", best_est2)\n",
    "print(\"Количество ветвей модели на валидационной выборке:\", best_depth2)"
   ]
  },
  {
   "cell_type": "markdown",
   "metadata": {},
   "source": [
    "Модель - **Логистическая регрессия**"
   ]
  },
  {
   "cell_type": "code",
   "execution_count": 22,
   "metadata": {},
   "outputs": [
    {
     "name": "stdout",
     "output_type": "stream",
     "text": [
      "Accuracy модели Логистическая регрессия: 0.68\n"
     ]
    }
   ],
   "source": [
    "model3 = LogisticRegression(random_state=12345, solver='lbfgs', max_iter=1000)\n",
    "model3.fit(df_train_features, df_train_target) \n",
    "result3 = model3.score(df_valid_features, df_valid_target) \n",
    "print(\"Accuracy модели Логистическая регрессия:\", result3.round(2))"
   ]
  },
  {
   "cell_type": "markdown",
   "metadata": {},
   "source": [
    "**Вывод:**  \n",
    "Наилучшее качество показала модель `Случайный лес` Accuracy = 81%, при 10 деревьях с 9 ветвями. При этом модель обучалась дольше всего.  \n",
    "\n",
    "`Дерево решений` на втором месте, тоже с высоким Accuracy = 80%, количество ветвей -7. Модель обучилась достаточно быстро.   \n",
    "\n",
    "`Логистическая регрессия` показала наихудший результат Accuracy = 68%, обучение было самым быстрым."
   ]
  },
  {
   "cell_type": "code",
   "execution_count": null,
   "metadata": {},
   "outputs": [],
   "source": []
  },
  {
   "cell_type": "markdown",
   "metadata": {},
   "source": [
    "## Проверка модели на тестовой выборке"
   ]
  },
  {
   "cell_type": "code",
   "execution_count": 24,
   "metadata": {},
   "outputs": [
    {
     "name": "stdout",
     "output_type": "stream",
     "text": [
      "Accuracy модели Случайный лес на тестовой выборке, 10 деревьев, 9 ветвей: 0.89\n"
     ]
    }
   ],
   "source": [
    "model_b = RandomForestClassifier(random_state=12345, n_estimators= 10, max_depth=9) \n",
    "model_b.fit(df_test_features, df_test_target) \n",
    "result_b = model_b.score(df_test_features, df_test_target)\n",
    "model_b_pred = model_b.predict(df_test_features) \n",
    "print('Accuracy модели Случайный лес на тестовой выборке, 10 деревьев, 9 ветвей:', result_b.round(2))"
   ]
  },
  {
   "cell_type": "markdown",
   "metadata": {},
   "source": [
    "**Вывод:**  \n",
    "На тестовой выборке модель `Случайный лес` показала Accuracy -  89%.  \n",
    "\n",
    "Модель `Случайный лес` показывает наилучшее качество, при том что задействовано всего 10 деревьев, что относительно немного, и не должно приводить к значительным временным издержкам.  \n",
    "В связи с этим, для построения системы рекомендации для пользователей, которая будет предлагать переход на один из новых тарифов оператора мобильной связи «Мегалайн»: «Смарт» или «Ультра» - я предлгаю использовать модель `Случайный лес`."
   ]
  },
  {
   "cell_type": "markdown",
   "metadata": {},
   "source": [
    "## Проверка модели на адекватность"
   ]
  },
  {
   "cell_type": "markdown",
   "metadata": {},
   "source": [
    "Посчитаем через DummyClassifier"
   ]
  },
  {
   "cell_type": "code",
   "execution_count": 26,
   "metadata": {},
   "outputs": [],
   "source": [
    "from sklearn.dummy import DummyClassifier"
   ]
  },
  {
   "cell_type": "code",
   "execution_count": 27,
   "metadata": {},
   "outputs": [
    {
     "data": {
      "text/plain": [
       "0.7060653188180405"
      ]
     },
     "execution_count": 27,
     "metadata": {},
     "output_type": "execute_result"
    }
   ],
   "source": [
    "dummy_model = DummyClassifier(random_state = 12345, strategy='most_frequent')\n",
    "dummy_model.fit(df_train_features, df_train_target)\n",
    "accuracy_score(dummy_model.predict(df_test_features), df_test_target)"
   ]
  },
  {
   "cell_type": "markdown",
   "metadata": {},
   "source": [
    "Посчитаем через среднее"
   ]
  },
  {
   "cell_type": "code",
   "execution_count": 28,
   "metadata": {},
   "outputs": [
    {
     "data": {
      "text/plain": [
       "0.7060653188180404"
      ]
     },
     "execution_count": 28,
     "metadata": {},
     "output_type": "execute_result"
    }
   ],
   "source": [
    "1- df_test_target.mean()"
   ]
  },
  {
   "cell_type": "markdown",
   "metadata": {},
   "source": [
    "**Вывод:** \n",
    "Среднее по таргету  и по `DummyClassifier` тестовой выборки дает нам результат - 0,70.  \n",
    "Accuracy модели `Случайный лес` на тестовой выборке (10 деревьев, 9 ветвей), дает результат - 0.89.  \n",
    "Таким образом можно утверждать что обученная  модель `Случайный лес` предсказывает результат лучше чем  обычное усреднениие на 19%."
   ]
  },
  {
   "cell_type": "code",
   "execution_count": null,
   "metadata": {},
   "outputs": [],
   "source": []
  }
 ],
 "metadata": {
  "ExecuteTimeLog": [
   {
    "duration": 1381,
    "start_time": "2023-09-01T14:51:17.205Z"
   },
   {
    "duration": 116,
    "start_time": "2023-09-01T14:51:20.379Z"
   },
   {
    "duration": 14,
    "start_time": "2023-09-01T14:51:21.915Z"
   },
   {
    "duration": 33,
    "start_time": "2023-09-01T16:35:07.574Z"
   },
   {
    "duration": 16,
    "start_time": "2023-09-01T16:35:57.854Z"
   },
   {
    "duration": 27,
    "start_time": "2023-09-01T16:36:08.195Z"
   },
   {
    "duration": 18,
    "start_time": "2023-09-01T16:37:25.367Z"
   },
   {
    "duration": 210,
    "start_time": "2023-09-01T16:37:56.432Z"
   },
   {
    "duration": 259,
    "start_time": "2023-09-01T16:38:31.966Z"
   },
   {
    "duration": 222,
    "start_time": "2023-09-01T16:38:43.946Z"
   },
   {
    "duration": 238,
    "start_time": "2023-09-01T16:39:40.297Z"
   },
   {
    "duration": 212,
    "start_time": "2023-09-01T16:40:14.881Z"
   },
   {
    "duration": 20,
    "start_time": "2023-09-01T16:41:00.226Z"
   },
   {
    "duration": 21,
    "start_time": "2023-09-01T16:42:42.953Z"
   },
   {
    "duration": 242,
    "start_time": "2023-09-01T16:43:36.631Z"
   },
   {
    "duration": 240,
    "start_time": "2023-09-01T16:43:43.062Z"
   },
   {
    "duration": 289,
    "start_time": "2023-09-01T16:43:53.606Z"
   },
   {
    "duration": 266,
    "start_time": "2023-09-01T16:44:04.362Z"
   },
   {
    "duration": 209,
    "start_time": "2023-09-01T16:44:22.659Z"
   },
   {
    "duration": 235,
    "start_time": "2023-09-01T16:44:37.134Z"
   },
   {
    "duration": 176,
    "start_time": "2023-09-01T16:45:21.164Z"
   },
   {
    "duration": 176,
    "start_time": "2023-09-01T16:45:29.657Z"
   },
   {
    "duration": 570,
    "start_time": "2023-09-01T16:46:18.915Z"
   },
   {
    "duration": 311,
    "start_time": "2023-09-01T16:46:49.943Z"
   },
   {
    "duration": 16,
    "start_time": "2023-09-01T16:49:18.738Z"
   },
   {
    "duration": 7,
    "start_time": "2023-09-01T16:56:27.841Z"
   },
   {
    "duration": 8,
    "start_time": "2023-09-01T16:56:47.764Z"
   },
   {
    "duration": 8,
    "start_time": "2023-09-01T16:56:51.712Z"
   },
   {
    "duration": 15,
    "start_time": "2023-09-01T16:58:35.906Z"
   },
   {
    "duration": 12,
    "start_time": "2023-09-01T16:59:36.216Z"
   },
   {
    "duration": 5,
    "start_time": "2023-09-01T16:59:43.097Z"
   },
   {
    "duration": 100,
    "start_time": "2023-09-01T17:00:29.455Z"
   },
   {
    "duration": 33,
    "start_time": "2023-09-01T17:01:11.590Z"
   },
   {
    "duration": 12,
    "start_time": "2023-09-01T17:01:55.064Z"
   },
   {
    "duration": 10,
    "start_time": "2023-09-01T17:11:10.384Z"
   },
   {
    "duration": 36,
    "start_time": "2023-09-01T17:11:28.746Z"
   },
   {
    "duration": 26,
    "start_time": "2023-09-01T17:11:30.902Z"
   },
   {
    "duration": 27,
    "start_time": "2023-09-01T17:13:09.268Z"
   },
   {
    "duration": 29,
    "start_time": "2023-09-01T17:13:13.787Z"
   },
   {
    "duration": 441,
    "start_time": "2023-09-01T17:13:22.745Z"
   },
   {
    "duration": 7,
    "start_time": "2023-09-01T17:15:44.506Z"
   },
   {
    "duration": 5,
    "start_time": "2023-09-01T17:16:15.113Z"
   },
   {
    "duration": 6,
    "start_time": "2023-09-01T17:16:26.111Z"
   },
   {
    "duration": 6,
    "start_time": "2023-09-01T17:16:30.076Z"
   },
   {
    "duration": 6,
    "start_time": "2023-09-01T17:16:49.456Z"
   },
   {
    "duration": 5,
    "start_time": "2023-09-01T17:16:50.934Z"
   },
   {
    "duration": 3,
    "start_time": "2023-09-01T17:17:28.136Z"
   },
   {
    "duration": 4,
    "start_time": "2023-09-01T17:17:33.256Z"
   },
   {
    "duration": 6,
    "start_time": "2023-09-01T17:17:53.429Z"
   },
   {
    "duration": 6,
    "start_time": "2023-09-01T17:18:00.299Z"
   },
   {
    "duration": 4,
    "start_time": "2023-09-01T17:18:40.226Z"
   },
   {
    "duration": 5,
    "start_time": "2023-09-01T17:18:56.917Z"
   },
   {
    "duration": 5,
    "start_time": "2023-09-01T17:18:59.477Z"
   },
   {
    "duration": 5,
    "start_time": "2023-09-01T17:19:06.731Z"
   },
   {
    "duration": 5,
    "start_time": "2023-09-01T17:19:51.702Z"
   },
   {
    "duration": 5,
    "start_time": "2023-09-01T17:19:56.748Z"
   },
   {
    "duration": 5,
    "start_time": "2023-09-01T17:20:01.942Z"
   },
   {
    "duration": 5,
    "start_time": "2023-09-01T17:20:19.248Z"
   },
   {
    "duration": 6,
    "start_time": "2023-09-01T17:20:22.012Z"
   },
   {
    "duration": 7,
    "start_time": "2023-09-01T17:20:42.800Z"
   },
   {
    "duration": 12,
    "start_time": "2023-09-01T17:22:12.218Z"
   },
   {
    "duration": 7,
    "start_time": "2023-09-01T17:24:18.558Z"
   },
   {
    "duration": 7,
    "start_time": "2023-09-01T17:24:25.931Z"
   },
   {
    "duration": 7,
    "start_time": "2023-09-01T17:24:43.237Z"
   },
   {
    "duration": 8,
    "start_time": "2023-09-01T17:24:56.754Z"
   },
   {
    "duration": 8,
    "start_time": "2023-09-01T17:26:40.082Z"
   },
   {
    "duration": 8,
    "start_time": "2023-09-01T17:26:48.575Z"
   },
   {
    "duration": 10,
    "start_time": "2023-09-01T17:31:27.354Z"
   },
   {
    "duration": 9,
    "start_time": "2023-09-01T17:32:07.963Z"
   },
   {
    "duration": 134,
    "start_time": "2023-09-01T17:33:38.076Z"
   },
   {
    "duration": 104,
    "start_time": "2023-09-01T17:33:42.991Z"
   },
   {
    "duration": 112,
    "start_time": "2023-09-01T17:33:48.418Z"
   },
   {
    "duration": 100,
    "start_time": "2023-09-01T17:33:54.708Z"
   },
   {
    "duration": 89,
    "start_time": "2023-09-01T17:33:58.463Z"
   },
   {
    "duration": 86,
    "start_time": "2023-09-01T17:34:02.242Z"
   },
   {
    "duration": 110,
    "start_time": "2023-09-01T17:34:11.365Z"
   },
   {
    "duration": 337,
    "start_time": "2023-09-01T17:34:15.657Z"
   },
   {
    "duration": 98,
    "start_time": "2023-09-01T17:34:20.477Z"
   },
   {
    "duration": 157,
    "start_time": "2023-09-01T17:34:24.258Z"
   },
   {
    "duration": 184,
    "start_time": "2023-09-01T17:34:45.148Z"
   },
   {
    "duration": 26,
    "start_time": "2023-09-01T17:38:51.857Z"
   },
   {
    "duration": 27,
    "start_time": "2023-09-01T17:38:54.386Z"
   },
   {
    "duration": 29,
    "start_time": "2023-09-01T17:39:17.841Z"
   },
   {
    "duration": 28,
    "start_time": "2023-09-01T17:39:19.992Z"
   },
   {
    "duration": 45,
    "start_time": "2023-09-02T14:09:44.091Z"
   },
   {
    "duration": 1087,
    "start_time": "2023-09-02T14:09:48.694Z"
   },
   {
    "duration": 123,
    "start_time": "2023-09-02T14:09:49.783Z"
   },
   {
    "duration": 15,
    "start_time": "2023-09-02T14:09:49.908Z"
   },
   {
    "duration": 4,
    "start_time": "2023-09-02T14:09:49.925Z"
   },
   {
    "duration": 12,
    "start_time": "2023-09-02T14:09:49.930Z"
   },
   {
    "duration": 12,
    "start_time": "2023-09-02T14:09:49.944Z"
   },
   {
    "duration": 7,
    "start_time": "2023-09-02T14:09:49.958Z"
   },
   {
    "duration": 13,
    "start_time": "2023-09-02T14:09:49.967Z"
   },
   {
    "duration": 646,
    "start_time": "2023-09-02T14:09:49.982Z"
   },
   {
    "duration": 38,
    "start_time": "2023-09-02T14:09:50.631Z"
   },
   {
    "duration": 26,
    "start_time": "2023-09-02T14:09:50.671Z"
   },
   {
    "duration": 10,
    "start_time": "2023-09-02T14:09:50.700Z"
   },
   {
    "duration": 35,
    "start_time": "2023-09-02T14:09:50.711Z"
   },
   {
    "duration": 20,
    "start_time": "2023-09-02T14:09:50.748Z"
   },
   {
    "duration": 5,
    "start_time": "2023-09-02T14:25:41.115Z"
   },
   {
    "duration": 4,
    "start_time": "2023-09-02T14:25:42.137Z"
   },
   {
    "duration": 74,
    "start_time": "2023-09-02T14:25:59.443Z"
   },
   {
    "duration": 3,
    "start_time": "2023-09-02T14:26:42.569Z"
   },
   {
    "duration": 98,
    "start_time": "2023-09-02T14:26:48.697Z"
   },
   {
    "duration": 3,
    "start_time": "2023-09-02T14:27:51.575Z"
   },
   {
    "duration": 4,
    "start_time": "2023-09-02T14:28:19.071Z"
   },
   {
    "duration": 4,
    "start_time": "2023-09-02T14:28:43.078Z"
   },
   {
    "duration": 4,
    "start_time": "2023-09-02T14:32:27.383Z"
   },
   {
    "duration": 9,
    "start_time": "2023-09-02T14:32:51.210Z"
   },
   {
    "duration": 4,
    "start_time": "2023-09-02T14:32:51.925Z"
   },
   {
    "duration": 4,
    "start_time": "2023-09-02T14:43:21.373Z"
   },
   {
    "duration": 3,
    "start_time": "2023-09-02T14:43:39.598Z"
   },
   {
    "duration": 7,
    "start_time": "2023-09-02T14:44:33.602Z"
   },
   {
    "duration": 5,
    "start_time": "2023-09-02T14:44:38.894Z"
   },
   {
    "duration": 25,
    "start_time": "2023-09-02T14:44:40.140Z"
   },
   {
    "duration": 4,
    "start_time": "2023-09-02T14:45:07.323Z"
   },
   {
    "duration": 10,
    "start_time": "2023-09-02T14:45:29.988Z"
   },
   {
    "duration": 9,
    "start_time": "2023-09-02T14:46:17.205Z"
   },
   {
    "duration": 4,
    "start_time": "2023-09-02T14:46:24.372Z"
   },
   {
    "duration": 11,
    "start_time": "2023-09-02T14:47:12.286Z"
   },
   {
    "duration": 11,
    "start_time": "2023-09-02T14:48:24.992Z"
   },
   {
    "duration": 6,
    "start_time": "2023-09-02T14:49:22.849Z"
   },
   {
    "duration": 4,
    "start_time": "2023-09-02T14:53:43.366Z"
   },
   {
    "duration": 5,
    "start_time": "2023-09-02T14:53:45.220Z"
   },
   {
    "duration": 3,
    "start_time": "2023-09-02T14:54:04.294Z"
   },
   {
    "duration": 4,
    "start_time": "2023-09-02T14:54:50.634Z"
   },
   {
    "duration": 4,
    "start_time": "2023-09-02T14:54:51.175Z"
   },
   {
    "duration": 5,
    "start_time": "2023-09-02T14:58:40.729Z"
   },
   {
    "duration": 2,
    "start_time": "2023-09-02T15:00:37.794Z"
   },
   {
    "duration": 34,
    "start_time": "2023-09-02T15:00:37.803Z"
   },
   {
    "duration": 8,
    "start_time": "2023-09-02T15:00:37.839Z"
   },
   {
    "duration": 16,
    "start_time": "2023-09-02T15:00:37.848Z"
   },
   {
    "duration": 17,
    "start_time": "2023-09-02T15:00:37.865Z"
   },
   {
    "duration": 8,
    "start_time": "2023-09-02T15:00:37.884Z"
   },
   {
    "duration": 8,
    "start_time": "2023-09-02T15:00:37.893Z"
   },
   {
    "duration": 12,
    "start_time": "2023-09-02T15:00:37.903Z"
   },
   {
    "duration": 161,
    "start_time": "2023-09-02T15:00:37.916Z"
   },
   {
    "duration": 24,
    "start_time": "2023-09-02T15:00:38.079Z"
   },
   {
    "duration": 22,
    "start_time": "2023-09-02T15:00:38.104Z"
   },
   {
    "duration": 29,
    "start_time": "2023-09-02T15:00:38.128Z"
   },
   {
    "duration": 14,
    "start_time": "2023-09-02T15:00:38.166Z"
   },
   {
    "duration": 14,
    "start_time": "2023-09-02T15:00:38.181Z"
   },
   {
    "duration": 18,
    "start_time": "2023-09-02T15:00:38.196Z"
   },
   {
    "duration": 10,
    "start_time": "2023-09-02T15:00:38.215Z"
   },
   {
    "duration": 19,
    "start_time": "2023-09-02T15:00:38.226Z"
   },
   {
    "duration": 31,
    "start_time": "2023-09-02T15:00:38.246Z"
   },
   {
    "duration": 35,
    "start_time": "2023-09-02T15:00:38.278Z"
   },
   {
    "duration": 119,
    "start_time": "2023-09-02T15:00:38.314Z"
   },
   {
    "duration": 12,
    "start_time": "2023-09-02T15:01:26.523Z"
   },
   {
    "duration": 13,
    "start_time": "2023-09-02T15:02:18.978Z"
   },
   {
    "duration": 15,
    "start_time": "2023-09-02T15:02:36.875Z"
   },
   {
    "duration": 25,
    "start_time": "2023-09-02T15:02:46.139Z"
   },
   {
    "duration": 20,
    "start_time": "2023-09-02T15:04:26.047Z"
   },
   {
    "duration": 12,
    "start_time": "2023-09-02T15:05:07.298Z"
   },
   {
    "duration": 13,
    "start_time": "2023-09-02T15:05:17.225Z"
   },
   {
    "duration": 13,
    "start_time": "2023-09-02T15:05:24.802Z"
   },
   {
    "duration": 17,
    "start_time": "2023-09-02T15:06:16.942Z"
   },
   {
    "duration": 10,
    "start_time": "2023-09-02T15:07:07.510Z"
   },
   {
    "duration": 82,
    "start_time": "2023-09-02T15:07:53.344Z"
   },
   {
    "duration": 22,
    "start_time": "2023-09-02T15:08:00.349Z"
   },
   {
    "duration": 19,
    "start_time": "2023-09-02T15:08:17.452Z"
   },
   {
    "duration": 100,
    "start_time": "2023-09-02T15:08:54.826Z"
   },
   {
    "duration": 15,
    "start_time": "2023-09-02T15:08:58.322Z"
   },
   {
    "duration": 18,
    "start_time": "2023-09-02T15:09:12.337Z"
   },
   {
    "duration": 23,
    "start_time": "2023-09-02T15:09:44.185Z"
   },
   {
    "duration": 18,
    "start_time": "2023-09-02T15:10:13.470Z"
   },
   {
    "duration": 22,
    "start_time": "2023-09-02T15:10:29.052Z"
   },
   {
    "duration": 5,
    "start_time": "2023-09-02T15:11:34.776Z"
   },
   {
    "duration": 50,
    "start_time": "2023-09-02T21:10:10.341Z"
   },
   {
    "duration": 1135,
    "start_time": "2023-09-02T21:10:19.962Z"
   },
   {
    "duration": 79,
    "start_time": "2023-09-02T21:10:21.099Z"
   },
   {
    "duration": 22,
    "start_time": "2023-09-02T21:10:21.179Z"
   },
   {
    "duration": 4,
    "start_time": "2023-09-02T21:10:21.203Z"
   },
   {
    "duration": 14,
    "start_time": "2023-09-02T21:10:21.208Z"
   },
   {
    "duration": 6,
    "start_time": "2023-09-02T21:10:21.223Z"
   },
   {
    "duration": 7,
    "start_time": "2023-09-02T21:10:21.230Z"
   },
   {
    "duration": 19,
    "start_time": "2023-09-02T21:10:21.238Z"
   },
   {
    "duration": 650,
    "start_time": "2023-09-02T21:10:21.258Z"
   },
   {
    "duration": 38,
    "start_time": "2023-09-02T21:10:21.910Z"
   },
   {
    "duration": 28,
    "start_time": "2023-09-02T21:10:21.952Z"
   },
   {
    "duration": 9,
    "start_time": "2023-09-02T21:10:21.981Z"
   },
   {
    "duration": 5,
    "start_time": "2023-09-02T21:10:21.991Z"
   },
   {
    "duration": 6,
    "start_time": "2023-09-02T21:10:21.997Z"
   },
   {
    "duration": 5,
    "start_time": "2023-09-02T21:10:22.005Z"
   },
   {
    "duration": 4,
    "start_time": "2023-09-02T21:10:22.012Z"
   },
   {
    "duration": 31,
    "start_time": "2023-09-02T21:10:22.018Z"
   },
   {
    "duration": 11,
    "start_time": "2023-09-02T21:10:22.055Z"
   },
   {
    "duration": 5,
    "start_time": "2023-09-02T21:10:22.067Z"
   },
   {
    "duration": 4,
    "start_time": "2023-09-02T21:11:36.921Z"
   },
   {
    "duration": 3,
    "start_time": "2023-09-02T21:12:44.593Z"
   },
   {
    "duration": 6,
    "start_time": "2023-09-02T21:12:49.005Z"
   },
   {
    "duration": 4,
    "start_time": "2023-09-02T21:13:59.375Z"
   },
   {
    "duration": 4,
    "start_time": "2023-09-02T21:14:15.579Z"
   },
   {
    "duration": 3,
    "start_time": "2023-09-02T21:14:58.598Z"
   },
   {
    "duration": 4,
    "start_time": "2023-09-02T21:15:03.884Z"
   },
   {
    "duration": 5,
    "start_time": "2023-09-02T21:15:19.660Z"
   },
   {
    "duration": 5,
    "start_time": "2023-09-02T21:16:45.623Z"
   },
   {
    "duration": 75,
    "start_time": "2023-09-02T21:34:54.748Z"
   },
   {
    "duration": 14,
    "start_time": "2023-09-02T21:35:44.596Z"
   },
   {
    "duration": 17,
    "start_time": "2023-09-02T21:37:02.399Z"
   },
   {
    "duration": 14,
    "start_time": "2023-09-02T21:37:11.561Z"
   },
   {
    "duration": 33,
    "start_time": "2023-09-02T21:37:36.413Z"
   },
   {
    "duration": 35,
    "start_time": "2023-09-02T21:38:33.689Z"
   },
   {
    "duration": 65,
    "start_time": "2023-09-02T21:38:38.910Z"
   },
   {
    "duration": 61,
    "start_time": "2023-09-02T21:38:43.654Z"
   },
   {
    "duration": 73,
    "start_time": "2023-09-02T21:39:30.589Z"
   },
   {
    "duration": 73,
    "start_time": "2023-09-02T21:39:42.208Z"
   },
   {
    "duration": 60,
    "start_time": "2023-09-02T21:40:05.763Z"
   },
   {
    "duration": 62,
    "start_time": "2023-09-02T21:40:27.319Z"
   },
   {
    "duration": 63,
    "start_time": "2023-09-02T21:41:20.457Z"
   },
   {
    "duration": 290,
    "start_time": "2023-09-02T21:44:25.687Z"
   },
   {
    "duration": 3408,
    "start_time": "2023-09-02T21:50:51.551Z"
   },
   {
    "duration": 60,
    "start_time": "2023-09-02T21:51:16.093Z"
   },
   {
    "duration": 3308,
    "start_time": "2023-09-02T21:53:55.657Z"
   },
   {
    "duration": 53,
    "start_time": "2023-09-02T21:55:30.511Z"
   },
   {
    "duration": 63,
    "start_time": "2023-09-02T21:55:55.770Z"
   },
   {
    "duration": 60,
    "start_time": "2023-09-02T21:56:40.905Z"
   },
   {
    "duration": 60,
    "start_time": "2023-09-02T21:56:45.897Z"
   },
   {
    "duration": 66,
    "start_time": "2023-09-02T21:56:51.083Z"
   },
   {
    "duration": 3399,
    "start_time": "2023-09-02T21:56:54.788Z"
   },
   {
    "duration": 25,
    "start_time": "2023-09-02T22:03:20.297Z"
   },
   {
    "duration": 27,
    "start_time": "2023-09-02T22:03:34.365Z"
   },
   {
    "duration": 25,
    "start_time": "2023-09-02T22:04:46.317Z"
   },
   {
    "duration": 79,
    "start_time": "2023-09-02T22:07:05.723Z"
   },
   {
    "duration": 3554,
    "start_time": "2023-09-02T22:08:09.791Z"
   },
   {
    "duration": 27,
    "start_time": "2023-09-02T22:08:30.217Z"
   },
   {
    "duration": 31,
    "start_time": "2023-09-02T22:08:54.076Z"
   },
   {
    "duration": 3,
    "start_time": "2023-09-02T22:09:01.792Z"
   },
   {
    "duration": 61,
    "start_time": "2023-09-02T22:09:01.797Z"
   },
   {
    "duration": 9,
    "start_time": "2023-09-02T22:09:01.859Z"
   },
   {
    "duration": 33,
    "start_time": "2023-09-02T22:09:01.870Z"
   },
   {
    "duration": 17,
    "start_time": "2023-09-02T22:09:01.904Z"
   },
   {
    "duration": 11,
    "start_time": "2023-09-02T22:09:01.923Z"
   },
   {
    "duration": 27,
    "start_time": "2023-09-02T22:09:01.936Z"
   },
   {
    "duration": 58,
    "start_time": "2023-09-02T22:09:01.965Z"
   },
   {
    "duration": 179,
    "start_time": "2023-09-02T22:09:02.025Z"
   },
   {
    "duration": 24,
    "start_time": "2023-09-02T22:09:02.208Z"
   },
   {
    "duration": 23,
    "start_time": "2023-09-02T22:09:02.244Z"
   },
   {
    "duration": 8,
    "start_time": "2023-09-02T22:09:02.269Z"
   },
   {
    "duration": 20,
    "start_time": "2023-09-02T22:09:02.278Z"
   },
   {
    "duration": 20,
    "start_time": "2023-09-02T22:09:02.300Z"
   },
   {
    "duration": 26,
    "start_time": "2023-09-02T22:09:02.322Z"
   },
   {
    "duration": 28,
    "start_time": "2023-09-02T22:09:02.349Z"
   },
   {
    "duration": 36,
    "start_time": "2023-09-02T22:09:02.378Z"
   },
   {
    "duration": 31,
    "start_time": "2023-09-02T22:09:02.415Z"
   },
   {
    "duration": 97,
    "start_time": "2023-09-02T22:09:02.447Z"
   },
   {
    "duration": 3435,
    "start_time": "2023-09-02T22:09:02.546Z"
   },
   {
    "duration": 21,
    "start_time": "2023-09-02T22:09:05.983Z"
   },
   {
    "duration": 63,
    "start_time": "2023-09-02T22:10:06.213Z"
   },
   {
    "duration": 71,
    "start_time": "2023-09-02T22:23:04.090Z"
   },
   {
    "duration": 27,
    "start_time": "2023-09-02T22:23:07.710Z"
   },
   {
    "duration": 9,
    "start_time": "2023-09-02T22:29:06.672Z"
   },
   {
    "duration": 12,
    "start_time": "2023-09-02T22:29:35.389Z"
   },
   {
    "duration": 8,
    "start_time": "2023-09-02T22:30:35.791Z"
   },
   {
    "duration": 9,
    "start_time": "2023-09-02T22:30:46.810Z"
   },
   {
    "duration": 24,
    "start_time": "2023-09-02T22:32:17.103Z"
   },
   {
    "duration": 9,
    "start_time": "2023-09-02T22:33:19.249Z"
   },
   {
    "duration": 27,
    "start_time": "2023-09-02T22:33:26.231Z"
   },
   {
    "duration": 20,
    "start_time": "2023-09-02T22:34:40.503Z"
   },
   {
    "duration": 27,
    "start_time": "2023-09-02T22:35:24.470Z"
   },
   {
    "duration": 3,
    "start_time": "2023-09-02T22:52:14.880Z"
   },
   {
    "duration": 31,
    "start_time": "2023-09-02T22:52:14.885Z"
   },
   {
    "duration": 8,
    "start_time": "2023-09-02T22:52:14.917Z"
   },
   {
    "duration": 4,
    "start_time": "2023-09-02T22:52:14.927Z"
   },
   {
    "duration": 10,
    "start_time": "2023-09-02T22:52:14.932Z"
   },
   {
    "duration": 6,
    "start_time": "2023-09-02T22:52:14.943Z"
   },
   {
    "duration": 6,
    "start_time": "2023-09-02T22:52:14.950Z"
   },
   {
    "duration": 9,
    "start_time": "2023-09-02T22:52:14.957Z"
   },
   {
    "duration": 166,
    "start_time": "2023-09-02T22:52:14.967Z"
   },
   {
    "duration": 32,
    "start_time": "2023-09-02T22:52:15.135Z"
   },
   {
    "duration": 25,
    "start_time": "2023-09-02T22:52:15.168Z"
   },
   {
    "duration": 9,
    "start_time": "2023-09-02T22:52:15.194Z"
   },
   {
    "duration": 5,
    "start_time": "2023-09-02T22:52:15.204Z"
   },
   {
    "duration": 5,
    "start_time": "2023-09-02T22:52:15.210Z"
   },
   {
    "duration": 27,
    "start_time": "2023-09-02T22:52:15.217Z"
   },
   {
    "duration": 5,
    "start_time": "2023-09-02T22:52:15.245Z"
   },
   {
    "duration": 13,
    "start_time": "2023-09-02T22:52:15.251Z"
   },
   {
    "duration": 6,
    "start_time": "2023-09-02T22:52:15.265Z"
   },
   {
    "duration": 124,
    "start_time": "2023-09-02T22:52:15.272Z"
   },
   {
    "duration": 3262,
    "start_time": "2023-09-02T22:52:15.398Z"
   },
   {
    "duration": 20,
    "start_time": "2023-09-02T22:52:18.661Z"
   },
   {
    "duration": 8,
    "start_time": "2023-09-02T22:52:18.683Z"
   },
   {
    "duration": 33,
    "start_time": "2023-09-02T22:52:18.693Z"
   },
   {
    "duration": 28,
    "start_time": "2023-09-02T22:52:18.728Z"
   },
   {
    "duration": 26,
    "start_time": "2023-09-02T23:52:46.895Z"
   },
   {
    "duration": 27,
    "start_time": "2023-09-02T23:53:14.232Z"
   },
   {
    "duration": 8,
    "start_time": "2023-09-02T23:54:24.484Z"
   },
   {
    "duration": 3,
    "start_time": "2023-09-02T23:56:24.942Z"
   },
   {
    "duration": 4,
    "start_time": "2023-09-02T23:56:32.889Z"
   },
   {
    "duration": 13,
    "start_time": "2023-09-02T23:56:49.599Z"
   },
   {
    "duration": 12,
    "start_time": "2023-09-02T23:56:53.734Z"
   },
   {
    "duration": 8,
    "start_time": "2023-09-02T23:57:04.474Z"
   },
   {
    "duration": 5,
    "start_time": "2023-09-02T23:57:22.994Z"
   },
   {
    "duration": 6,
    "start_time": "2023-09-03T00:06:02.518Z"
   },
   {
    "duration": 2,
    "start_time": "2023-09-03T00:16:20.121Z"
   },
   {
    "duration": 34,
    "start_time": "2023-09-03T00:16:20.125Z"
   },
   {
    "duration": 8,
    "start_time": "2023-09-03T00:16:20.161Z"
   },
   {
    "duration": 6,
    "start_time": "2023-09-03T00:16:20.170Z"
   },
   {
    "duration": 11,
    "start_time": "2023-09-03T00:16:20.177Z"
   },
   {
    "duration": 10,
    "start_time": "2023-09-03T00:16:20.189Z"
   },
   {
    "duration": 4,
    "start_time": "2023-09-03T00:16:20.200Z"
   },
   {
    "duration": 14,
    "start_time": "2023-09-03T00:16:20.206Z"
   },
   {
    "duration": 155,
    "start_time": "2023-09-03T00:16:20.221Z"
   },
   {
    "duration": 24,
    "start_time": "2023-09-03T00:16:20.378Z"
   },
   {
    "duration": 23,
    "start_time": "2023-09-03T00:16:20.403Z"
   },
   {
    "duration": 8,
    "start_time": "2023-09-03T00:16:20.444Z"
   },
   {
    "duration": 17,
    "start_time": "2023-09-03T00:16:20.454Z"
   },
   {
    "duration": 8,
    "start_time": "2023-09-03T00:16:20.472Z"
   },
   {
    "duration": 4,
    "start_time": "2023-09-03T00:16:20.481Z"
   },
   {
    "duration": 4,
    "start_time": "2023-09-03T00:16:20.486Z"
   },
   {
    "duration": 5,
    "start_time": "2023-09-03T00:16:20.492Z"
   },
   {
    "duration": 6,
    "start_time": "2023-09-03T00:16:20.498Z"
   },
   {
    "duration": 71,
    "start_time": "2023-09-03T00:16:20.505Z"
   },
   {
    "duration": 3286,
    "start_time": "2023-09-03T00:16:20.578Z"
   },
   {
    "duration": 20,
    "start_time": "2023-09-03T00:16:23.866Z"
   },
   {
    "duration": 9,
    "start_time": "2023-09-03T00:16:23.887Z"
   },
   {
    "duration": 27,
    "start_time": "2023-09-03T00:16:23.897Z"
   },
   {
    "duration": 16,
    "start_time": "2023-09-03T00:16:23.944Z"
   },
   {
    "duration": 3,
    "start_time": "2023-09-03T00:16:23.962Z"
   },
   {
    "duration": 10,
    "start_time": "2023-09-03T00:24:08.149Z"
   },
   {
    "duration": 10,
    "start_time": "2023-09-03T00:25:47.160Z"
   },
   {
    "duration": 19,
    "start_time": "2023-09-03T00:26:10.347Z"
   },
   {
    "duration": 16,
    "start_time": "2023-09-03T00:26:23.269Z"
   },
   {
    "duration": 13,
    "start_time": "2023-09-03T00:26:35.832Z"
   },
   {
    "duration": 13,
    "start_time": "2023-09-03T00:27:09.082Z"
   },
   {
    "duration": 12,
    "start_time": "2023-09-03T00:27:18.241Z"
   },
   {
    "duration": 13,
    "start_time": "2023-09-03T00:28:43.326Z"
   },
   {
    "duration": 12,
    "start_time": "2023-09-03T00:28:58.941Z"
   },
   {
    "duration": 12,
    "start_time": "2023-09-03T00:29:50.459Z"
   },
   {
    "duration": 142,
    "start_time": "2023-09-03T00:30:16.537Z"
   },
   {
    "duration": 13,
    "start_time": "2023-09-03T00:30:28.029Z"
   },
   {
    "duration": 8,
    "start_time": "2023-09-03T00:31:11.740Z"
   },
   {
    "duration": 8,
    "start_time": "2023-09-03T00:31:21.397Z"
   },
   {
    "duration": 12,
    "start_time": "2023-09-03T00:31:43.814Z"
   },
   {
    "duration": 12,
    "start_time": "2023-09-03T00:32:07.219Z"
   },
   {
    "duration": 3,
    "start_time": "2023-09-03T00:32:10.423Z"
   },
   {
    "duration": 29,
    "start_time": "2023-09-03T00:32:10.430Z"
   },
   {
    "duration": 9,
    "start_time": "2023-09-03T00:32:10.461Z"
   },
   {
    "duration": 10,
    "start_time": "2023-09-03T00:32:10.471Z"
   },
   {
    "duration": 12,
    "start_time": "2023-09-03T00:32:10.483Z"
   },
   {
    "duration": 5,
    "start_time": "2023-09-03T00:32:10.497Z"
   },
   {
    "duration": 6,
    "start_time": "2023-09-03T00:32:10.504Z"
   },
   {
    "duration": 9,
    "start_time": "2023-09-03T00:32:10.511Z"
   },
   {
    "duration": 173,
    "start_time": "2023-09-03T00:32:10.522Z"
   },
   {
    "duration": 27,
    "start_time": "2023-09-03T00:32:10.696Z"
   },
   {
    "duration": 32,
    "start_time": "2023-09-03T00:32:10.724Z"
   },
   {
    "duration": 7,
    "start_time": "2023-09-03T00:32:10.758Z"
   },
   {
    "duration": 10,
    "start_time": "2023-09-03T00:32:10.767Z"
   },
   {
    "duration": 6,
    "start_time": "2023-09-03T00:32:10.778Z"
   },
   {
    "duration": 6,
    "start_time": "2023-09-03T00:32:10.786Z"
   },
   {
    "duration": 12,
    "start_time": "2023-09-03T00:32:10.793Z"
   },
   {
    "duration": 18,
    "start_time": "2023-09-03T00:32:10.806Z"
   },
   {
    "duration": 5,
    "start_time": "2023-09-03T00:32:10.825Z"
   },
   {
    "duration": 9,
    "start_time": "2023-09-03T00:32:10.843Z"
   },
   {
    "duration": 66,
    "start_time": "2023-09-03T00:32:10.853Z"
   },
   {
    "duration": 3284,
    "start_time": "2023-09-03T00:32:10.920Z"
   },
   {
    "duration": 21,
    "start_time": "2023-09-03T00:32:14.205Z"
   },
   {
    "duration": 19,
    "start_time": "2023-09-03T00:32:14.227Z"
   },
   {
    "duration": 26,
    "start_time": "2023-09-03T00:32:14.248Z"
   },
   {
    "duration": 16,
    "start_time": "2023-09-03T00:32:14.275Z"
   },
   {
    "duration": 4,
    "start_time": "2023-09-03T00:32:14.292Z"
   },
   {
    "duration": 7,
    "start_time": "2023-09-03T00:34:33.461Z"
   },
   {
    "duration": 8,
    "start_time": "2023-09-03T00:34:43.106Z"
   },
   {
    "duration": 8,
    "start_time": "2023-09-03T00:35:06.055Z"
   },
   {
    "duration": 8,
    "start_time": "2023-09-03T00:35:17.568Z"
   },
   {
    "duration": 3,
    "start_time": "2023-09-03T00:42:27.352Z"
   },
   {
    "duration": 9,
    "start_time": "2023-09-03T00:43:58.852Z"
   },
   {
    "duration": 4,
    "start_time": "2023-09-03T00:44:15.011Z"
   },
   {
    "duration": 3,
    "start_time": "2023-09-03T00:44:21.335Z"
   },
   {
    "duration": 3,
    "start_time": "2023-09-03T00:45:09.659Z"
   },
   {
    "duration": 7,
    "start_time": "2023-09-03T00:46:36.727Z"
   },
   {
    "duration": 4,
    "start_time": "2023-09-03T00:46:38.366Z"
   },
   {
    "duration": 3,
    "start_time": "2023-09-03T00:47:27.671Z"
   },
   {
    "duration": 37,
    "start_time": "2023-09-03T00:47:27.676Z"
   },
   {
    "duration": 8,
    "start_time": "2023-09-03T00:47:27.714Z"
   },
   {
    "duration": 24,
    "start_time": "2023-09-03T00:47:27.723Z"
   },
   {
    "duration": 9,
    "start_time": "2023-09-03T00:47:27.748Z"
   },
   {
    "duration": 5,
    "start_time": "2023-09-03T00:47:27.759Z"
   },
   {
    "duration": 6,
    "start_time": "2023-09-03T00:47:27.765Z"
   },
   {
    "duration": 8,
    "start_time": "2023-09-03T00:47:27.772Z"
   },
   {
    "duration": 164,
    "start_time": "2023-09-03T00:47:27.781Z"
   },
   {
    "duration": 24,
    "start_time": "2023-09-03T00:47:27.947Z"
   },
   {
    "duration": 22,
    "start_time": "2023-09-03T00:47:27.972Z"
   },
   {
    "duration": 6,
    "start_time": "2023-09-03T00:47:27.996Z"
   },
   {
    "duration": 6,
    "start_time": "2023-09-03T00:47:28.004Z"
   },
   {
    "duration": 23,
    "start_time": "2023-09-03T00:47:28.012Z"
   },
   {
    "duration": 4,
    "start_time": "2023-09-03T00:47:28.045Z"
   },
   {
    "duration": 6,
    "start_time": "2023-09-03T00:47:28.050Z"
   },
   {
    "duration": 9,
    "start_time": "2023-09-03T00:47:28.057Z"
   },
   {
    "duration": 14,
    "start_time": "2023-09-03T00:47:28.067Z"
   },
   {
    "duration": 4,
    "start_time": "2023-09-03T00:47:28.082Z"
   },
   {
    "duration": 7,
    "start_time": "2023-09-03T00:47:28.088Z"
   },
   {
    "duration": 83,
    "start_time": "2023-09-03T00:47:28.096Z"
   },
   {
    "duration": 3287,
    "start_time": "2023-09-03T00:47:28.180Z"
   },
   {
    "duration": 20,
    "start_time": "2023-09-03T00:47:31.469Z"
   },
   {
    "duration": 11,
    "start_time": "2023-09-03T00:47:31.491Z"
   },
   {
    "duration": 44,
    "start_time": "2023-09-03T00:47:31.503Z"
   },
   {
    "duration": 21,
    "start_time": "2023-09-03T00:47:31.549Z"
   },
   {
    "duration": 17,
    "start_time": "2023-09-03T00:47:31.571Z"
   },
   {
    "duration": 105,
    "start_time": "2023-09-03T00:49:11.633Z"
   },
   {
    "duration": 12,
    "start_time": "2023-09-03T00:49:19.562Z"
   },
   {
    "duration": 114,
    "start_time": "2023-09-03T00:49:33.030Z"
   },
   {
    "duration": 1284,
    "start_time": "2023-09-03T00:49:53.797Z"
   },
   {
    "duration": 121,
    "start_time": "2023-09-03T00:50:00.340Z"
   },
   {
    "duration": 6,
    "start_time": "2023-09-03T00:50:05.339Z"
   },
   {
    "duration": 107,
    "start_time": "2023-09-03T00:50:08.319Z"
   },
   {
    "duration": 108,
    "start_time": "2023-09-03T00:50:15.652Z"
   },
   {
    "duration": 12,
    "start_time": "2023-09-03T00:50:33.532Z"
   },
   {
    "duration": 12,
    "start_time": "2023-09-03T00:51:33.917Z"
   },
   {
    "duration": 3,
    "start_time": "2023-09-03T00:52:17.571Z"
   },
   {
    "duration": 37,
    "start_time": "2023-09-03T00:52:17.576Z"
   },
   {
    "duration": 8,
    "start_time": "2023-09-03T00:52:17.614Z"
   },
   {
    "duration": 5,
    "start_time": "2023-09-03T00:52:17.624Z"
   },
   {
    "duration": 9,
    "start_time": "2023-09-03T00:52:17.630Z"
   },
   {
    "duration": 4,
    "start_time": "2023-09-03T00:52:17.640Z"
   },
   {
    "duration": 5,
    "start_time": "2023-09-03T00:52:17.646Z"
   },
   {
    "duration": 8,
    "start_time": "2023-09-03T00:52:17.652Z"
   },
   {
    "duration": 21,
    "start_time": "2023-09-03T00:52:17.662Z"
   },
   {
    "duration": 21,
    "start_time": "2023-09-03T00:52:17.685Z"
   },
   {
    "duration": 6,
    "start_time": "2023-09-03T00:52:17.708Z"
   },
   {
    "duration": 30,
    "start_time": "2023-09-03T00:52:17.715Z"
   },
   {
    "duration": 5,
    "start_time": "2023-09-03T00:52:17.746Z"
   },
   {
    "duration": 5,
    "start_time": "2023-09-03T00:52:17.753Z"
   },
   {
    "duration": 4,
    "start_time": "2023-09-03T00:52:17.759Z"
   },
   {
    "duration": 5,
    "start_time": "2023-09-03T00:52:17.765Z"
   },
   {
    "duration": 14,
    "start_time": "2023-09-03T00:52:17.771Z"
   },
   {
    "duration": 5,
    "start_time": "2023-09-03T00:52:17.786Z"
   },
   {
    "duration": 6,
    "start_time": "2023-09-03T00:52:17.793Z"
   },
   {
    "duration": 95,
    "start_time": "2023-09-03T00:52:17.800Z"
   },
   {
    "duration": 3235,
    "start_time": "2023-09-03T00:52:17.896Z"
   },
   {
    "duration": 26,
    "start_time": "2023-09-03T00:52:21.133Z"
   },
   {
    "duration": 8,
    "start_time": "2023-09-03T00:52:21.161Z"
   },
   {
    "duration": 28,
    "start_time": "2023-09-03T00:52:21.170Z"
   },
   {
    "duration": 19,
    "start_time": "2023-09-03T00:52:21.199Z"
   },
   {
    "duration": 4,
    "start_time": "2023-09-03T00:52:21.244Z"
   },
   {
    "duration": 79,
    "start_time": "2023-09-03T09:59:34.919Z"
   },
   {
    "duration": 1341,
    "start_time": "2023-09-03T09:59:41.781Z"
   },
   {
    "duration": 91,
    "start_time": "2023-09-03T09:59:43.124Z"
   },
   {
    "duration": 15,
    "start_time": "2023-09-03T09:59:43.216Z"
   },
   {
    "duration": 5,
    "start_time": "2023-09-03T09:59:43.233Z"
   },
   {
    "duration": 28,
    "start_time": "2023-09-03T09:59:43.240Z"
   },
   {
    "duration": 11,
    "start_time": "2023-09-03T09:59:43.273Z"
   },
   {
    "duration": 6,
    "start_time": "2023-09-03T09:59:43.285Z"
   },
   {
    "duration": 17,
    "start_time": "2023-09-03T09:59:43.293Z"
   },
   {
    "duration": 49,
    "start_time": "2023-09-03T09:59:43.312Z"
   },
   {
    "duration": 44,
    "start_time": "2023-09-03T09:59:43.364Z"
   },
   {
    "duration": 8,
    "start_time": "2023-09-03T09:59:43.410Z"
   },
   {
    "duration": 12,
    "start_time": "2023-09-03T09:59:43.419Z"
   },
   {
    "duration": 14,
    "start_time": "2023-09-03T09:59:43.433Z"
   },
   {
    "duration": 4,
    "start_time": "2023-09-03T09:59:43.450Z"
   },
   {
    "duration": 6,
    "start_time": "2023-09-03T09:59:43.456Z"
   },
   {
    "duration": 6,
    "start_time": "2023-09-03T09:59:43.463Z"
   },
   {
    "duration": 18,
    "start_time": "2023-09-03T09:59:43.470Z"
   },
   {
    "duration": 7,
    "start_time": "2023-09-03T09:59:43.489Z"
   },
   {
    "duration": 5,
    "start_time": "2023-09-03T09:59:43.498Z"
   },
   {
    "duration": 118,
    "start_time": "2023-09-03T09:59:43.505Z"
   },
   {
    "duration": 0,
    "start_time": "2023-09-03T09:59:43.625Z"
   },
   {
    "duration": 0,
    "start_time": "2023-09-03T09:59:43.626Z"
   },
   {
    "duration": 0,
    "start_time": "2023-09-03T09:59:43.627Z"
   },
   {
    "duration": 0,
    "start_time": "2023-09-03T09:59:43.628Z"
   },
   {
    "duration": 0,
    "start_time": "2023-09-03T09:59:43.629Z"
   },
   {
    "duration": 0,
    "start_time": "2023-09-03T09:59:43.630Z"
   },
   {
    "duration": 0,
    "start_time": "2023-09-03T09:59:43.631Z"
   },
   {
    "duration": 19,
    "start_time": "2023-09-03T10:00:39.433Z"
   },
   {
    "duration": 4,
    "start_time": "2023-09-03T10:00:52.642Z"
   },
   {
    "duration": 13,
    "start_time": "2023-09-03T10:00:59.819Z"
   },
   {
    "duration": 86,
    "start_time": "2023-09-03T10:01:12.711Z"
   },
   {
    "duration": 5,
    "start_time": "2023-09-03T10:01:18.461Z"
   },
   {
    "duration": 53,
    "start_time": "2023-09-03T10:01:18.468Z"
   },
   {
    "duration": 8,
    "start_time": "2023-09-03T10:01:18.523Z"
   },
   {
    "duration": 25,
    "start_time": "2023-09-03T10:01:18.533Z"
   },
   {
    "duration": 17,
    "start_time": "2023-09-03T10:01:18.562Z"
   },
   {
    "duration": 29,
    "start_time": "2023-09-03T10:01:18.581Z"
   },
   {
    "duration": 20,
    "start_time": "2023-09-03T10:01:18.612Z"
   },
   {
    "duration": 11,
    "start_time": "2023-09-03T10:01:18.634Z"
   },
   {
    "duration": 44,
    "start_time": "2023-09-03T10:01:18.648Z"
   },
   {
    "duration": 26,
    "start_time": "2023-09-03T10:01:18.695Z"
   },
   {
    "duration": 31,
    "start_time": "2023-09-03T10:01:18.723Z"
   },
   {
    "duration": 25,
    "start_time": "2023-09-03T10:01:18.755Z"
   },
   {
    "duration": 8,
    "start_time": "2023-09-03T10:01:18.782Z"
   },
   {
    "duration": 12,
    "start_time": "2023-09-03T10:01:18.793Z"
   },
   {
    "duration": 8,
    "start_time": "2023-09-03T10:01:18.806Z"
   },
   {
    "duration": 11,
    "start_time": "2023-09-03T10:01:18.815Z"
   },
   {
    "duration": 20,
    "start_time": "2023-09-03T10:01:18.828Z"
   },
   {
    "duration": 39,
    "start_time": "2023-09-03T10:01:18.850Z"
   },
   {
    "duration": 24,
    "start_time": "2023-09-03T10:01:18.890Z"
   },
   {
    "duration": 111,
    "start_time": "2023-09-03T10:01:18.915Z"
   },
   {
    "duration": 4391,
    "start_time": "2023-09-03T10:01:19.028Z"
   },
   {
    "duration": 26,
    "start_time": "2023-09-03T10:01:23.421Z"
   },
   {
    "duration": 10,
    "start_time": "2023-09-03T10:01:23.449Z"
   },
   {
    "duration": 57,
    "start_time": "2023-09-03T10:01:23.462Z"
   },
   {
    "duration": 33,
    "start_time": "2023-09-03T10:01:23.521Z"
   },
   {
    "duration": 4,
    "start_time": "2023-09-03T10:01:23.556Z"
   },
   {
    "duration": 30,
    "start_time": "2023-09-03T10:01:23.562Z"
   },
   {
    "duration": 2,
    "start_time": "2023-09-03T10:07:49.527Z"
   },
   {
    "duration": 10,
    "start_time": "2023-09-03T10:07:50.538Z"
   },
   {
    "duration": 164,
    "start_time": "2023-09-03T10:12:44.838Z"
   },
   {
    "duration": 15,
    "start_time": "2023-09-03T10:14:24.073Z"
   },
   {
    "duration": 5,
    "start_time": "2023-09-03T10:14:31.437Z"
   }
  ],
  "kernelspec": {
   "display_name": "Python 3 (ipykernel)",
   "language": "python",
   "name": "python3"
  },
  "language_info": {
   "codemirror_mode": {
    "name": "ipython",
    "version": 3
   },
   "file_extension": ".py",
   "mimetype": "text/x-python",
   "name": "python",
   "nbconvert_exporter": "python",
   "pygments_lexer": "ipython3",
   "version": "3.11.4"
  },
  "toc": {
   "base_numbering": 1,
   "nav_menu": {},
   "number_sections": true,
   "sideBar": true,
   "skip_h1_title": true,
   "title_cell": "Table of Contents",
   "title_sidebar": "Contents",
   "toc_cell": false,
   "toc_position": {
    "height": "calc(100% - 180px)",
    "left": "10px",
    "top": "150px",
    "width": "165px"
   },
   "toc_section_display": true,
   "toc_window_display": true
  }
 },
 "nbformat": 4,
 "nbformat_minor": 2
}
