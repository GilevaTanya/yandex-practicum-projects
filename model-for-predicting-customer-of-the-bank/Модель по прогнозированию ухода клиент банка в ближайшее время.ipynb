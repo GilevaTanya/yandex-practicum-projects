{
 "cells": [
  {
   "cell_type": "markdown",
   "metadata": {},
   "source": [
    "# Модель по прогнозированию ухода клиент банка в ближайшее время\n",
    "\n",
    "**Описание:** Из банка стали уходить клиенты. Каждый месяц. Немного, но заметно. Банковские маркетологи посчитали: сохранять текущих клиентов дешевле, чем привлекать новых. Предоставлены исторические данные о поведении клиентов и расторжении договоров с банком. \n",
    "\n",
    "**Цель проекта:** Построить модель способную спрогнозировать уйдёт клиент в ближайшее время или нет, с F1-мерой не ниже 0.59. Дополнительно измерить изменение AUC-ROC, сравнивая её значение с F1-мерой.\n",
    "\n",
    "\n",
    "**План проекта:**\n",
    "- Загрузит и подготовить данные. \n",
    "- Исследовать баланс классов, обучите модель без учёта дисбаланса и написать предварительный вывод.\n",
    "- Улучшить качество модели, учитывая дисбаланс классов. Описать изменение AUC-ROC. \n",
    "- Провести финальное тестирование и достигнуть F1-меры не ниже 0.59. \n",
    "\n",
    "**Описание данных:**\n",
    "\n",
    "**Признаки**\n",
    "*RowNumber* — индекс строки в данных  \n",
    "*CustomerId* — уникальный идентификатор клиента  \n",
    "*Surname* — фамилия  \n",
    "*CreditScore* — кредитный рейтинг  \n",
    "*Geography* — страна проживания  \n",
    "*Gender* — пол  \n",
    "*Age* — возраст  \n",
    "*Tenure* — сколько лет человек является клиентом банка  \n",
    "*Balance* — баланс на счёте  \n",
    "*NumOfProducts* — количество продуктов банка, используемых клиентом  \n",
    "*HasCrCard* — наличие кредитной карты  \n",
    "*IsActiveMember* — активность клиента  \n",
    "*EstimatedSalary* — предполагаемая зарплата  \n",
    "\n",
    "**Целевой признак**  \n",
    "*Exited* — факт ухода клиента\n",
    "\n"
   ]
  },
  {
   "cell_type": "markdown",
   "metadata": {},
   "source": [
    "## Подготовка данных"
   ]
  },
  {
   "cell_type": "markdown",
   "metadata": {},
   "source": [
    "Подключаем нужные нам библиотеки"
   ]
  },
  {
   "cell_type": "code",
   "execution_count": 2,
   "metadata": {},
   "outputs": [],
   "source": [
    "import pandas as pd\n",
    "import numpy as np\n",
    "from sklearn.model_selection import train_test_split \n",
    "from sklearn.preprocessing import StandardScaler \n",
    "from sklearn.tree import DecisionTreeClassifier \n",
    "from sklearn.ensemble import RandomForestClassifier \n",
    "from sklearn.linear_model import LogisticRegression \n",
    "from sklearn.utils import shuffle\n",
    "from sklearn.metrics import (roc_auc_score, f1_score, precision_score, recall_score)"
   ]
  },
  {
   "cell_type": "code",
   "execution_count": 3,
   "metadata": {},
   "outputs": [],
   "source": [
    "df = pd.read_csv('/datasets/Churn.csv')"
   ]
  },
  {
   "cell_type": "markdown",
   "metadata": {},
   "source": [
    "**Посмотрим как выглядет таблица**"
   ]
  },
  {
   "cell_type": "code",
   "execution_count": 123,
   "metadata": {},
   "outputs": [
    {
     "data": {
      "text/html": [
       "<div>\n",
       "<style scoped>\n",
       "    .dataframe tbody tr th:only-of-type {\n",
       "        vertical-align: middle;\n",
       "    }\n",
       "\n",
       "    .dataframe tbody tr th {\n",
       "        vertical-align: top;\n",
       "    }\n",
       "\n",
       "    .dataframe thead th {\n",
       "        text-align: right;\n",
       "    }\n",
       "</style>\n",
       "<table border=\"1\" class=\"dataframe\">\n",
       "  <thead>\n",
       "    <tr style=\"text-align: right;\">\n",
       "      <th></th>\n",
       "      <th>RowNumber</th>\n",
       "      <th>CustomerId</th>\n",
       "      <th>Surname</th>\n",
       "      <th>CreditScore</th>\n",
       "      <th>Geography</th>\n",
       "      <th>Gender</th>\n",
       "      <th>Age</th>\n",
       "      <th>Tenure</th>\n",
       "      <th>Balance</th>\n",
       "      <th>NumOfProducts</th>\n",
       "      <th>HasCrCard</th>\n",
       "      <th>IsActiveMember</th>\n",
       "      <th>EstimatedSalary</th>\n",
       "      <th>Exited</th>\n",
       "    </tr>\n",
       "  </thead>\n",
       "  <tbody>\n",
       "    <tr>\n",
       "      <th>0</th>\n",
       "      <td>1</td>\n",
       "      <td>15634602</td>\n",
       "      <td>Hargrave</td>\n",
       "      <td>619</td>\n",
       "      <td>France</td>\n",
       "      <td>Female</td>\n",
       "      <td>42</td>\n",
       "      <td>2.0</td>\n",
       "      <td>0.00</td>\n",
       "      <td>1</td>\n",
       "      <td>1</td>\n",
       "      <td>1</td>\n",
       "      <td>101348.88</td>\n",
       "      <td>1</td>\n",
       "    </tr>\n",
       "    <tr>\n",
       "      <th>1</th>\n",
       "      <td>2</td>\n",
       "      <td>15647311</td>\n",
       "      <td>Hill</td>\n",
       "      <td>608</td>\n",
       "      <td>Spain</td>\n",
       "      <td>Female</td>\n",
       "      <td>41</td>\n",
       "      <td>1.0</td>\n",
       "      <td>83807.86</td>\n",
       "      <td>1</td>\n",
       "      <td>0</td>\n",
       "      <td>1</td>\n",
       "      <td>112542.58</td>\n",
       "      <td>0</td>\n",
       "    </tr>\n",
       "    <tr>\n",
       "      <th>2</th>\n",
       "      <td>3</td>\n",
       "      <td>15619304</td>\n",
       "      <td>Onio</td>\n",
       "      <td>502</td>\n",
       "      <td>France</td>\n",
       "      <td>Female</td>\n",
       "      <td>42</td>\n",
       "      <td>8.0</td>\n",
       "      <td>159660.80</td>\n",
       "      <td>3</td>\n",
       "      <td>1</td>\n",
       "      <td>0</td>\n",
       "      <td>113931.57</td>\n",
       "      <td>1</td>\n",
       "    </tr>\n",
       "    <tr>\n",
       "      <th>3</th>\n",
       "      <td>4</td>\n",
       "      <td>15701354</td>\n",
       "      <td>Boni</td>\n",
       "      <td>699</td>\n",
       "      <td>France</td>\n",
       "      <td>Female</td>\n",
       "      <td>39</td>\n",
       "      <td>1.0</td>\n",
       "      <td>0.00</td>\n",
       "      <td>2</td>\n",
       "      <td>0</td>\n",
       "      <td>0</td>\n",
       "      <td>93826.63</td>\n",
       "      <td>0</td>\n",
       "    </tr>\n",
       "    <tr>\n",
       "      <th>4</th>\n",
       "      <td>5</td>\n",
       "      <td>15737888</td>\n",
       "      <td>Mitchell</td>\n",
       "      <td>850</td>\n",
       "      <td>Spain</td>\n",
       "      <td>Female</td>\n",
       "      <td>43</td>\n",
       "      <td>2.0</td>\n",
       "      <td>125510.82</td>\n",
       "      <td>1</td>\n",
       "      <td>1</td>\n",
       "      <td>1</td>\n",
       "      <td>79084.10</td>\n",
       "      <td>0</td>\n",
       "    </tr>\n",
       "    <tr>\n",
       "      <th>5</th>\n",
       "      <td>6</td>\n",
       "      <td>15574012</td>\n",
       "      <td>Chu</td>\n",
       "      <td>645</td>\n",
       "      <td>Spain</td>\n",
       "      <td>Male</td>\n",
       "      <td>44</td>\n",
       "      <td>8.0</td>\n",
       "      <td>113755.78</td>\n",
       "      <td>2</td>\n",
       "      <td>1</td>\n",
       "      <td>0</td>\n",
       "      <td>149756.71</td>\n",
       "      <td>1</td>\n",
       "    </tr>\n",
       "    <tr>\n",
       "      <th>6</th>\n",
       "      <td>7</td>\n",
       "      <td>15592531</td>\n",
       "      <td>Bartlett</td>\n",
       "      <td>822</td>\n",
       "      <td>France</td>\n",
       "      <td>Male</td>\n",
       "      <td>50</td>\n",
       "      <td>7.0</td>\n",
       "      <td>0.00</td>\n",
       "      <td>2</td>\n",
       "      <td>1</td>\n",
       "      <td>1</td>\n",
       "      <td>10062.80</td>\n",
       "      <td>0</td>\n",
       "    </tr>\n",
       "    <tr>\n",
       "      <th>7</th>\n",
       "      <td>8</td>\n",
       "      <td>15656148</td>\n",
       "      <td>Obinna</td>\n",
       "      <td>376</td>\n",
       "      <td>Germany</td>\n",
       "      <td>Female</td>\n",
       "      <td>29</td>\n",
       "      <td>4.0</td>\n",
       "      <td>115046.74</td>\n",
       "      <td>4</td>\n",
       "      <td>1</td>\n",
       "      <td>0</td>\n",
       "      <td>119346.88</td>\n",
       "      <td>1</td>\n",
       "    </tr>\n",
       "    <tr>\n",
       "      <th>8</th>\n",
       "      <td>9</td>\n",
       "      <td>15792365</td>\n",
       "      <td>He</td>\n",
       "      <td>501</td>\n",
       "      <td>France</td>\n",
       "      <td>Male</td>\n",
       "      <td>44</td>\n",
       "      <td>4.0</td>\n",
       "      <td>142051.07</td>\n",
       "      <td>2</td>\n",
       "      <td>0</td>\n",
       "      <td>1</td>\n",
       "      <td>74940.50</td>\n",
       "      <td>0</td>\n",
       "    </tr>\n",
       "    <tr>\n",
       "      <th>9</th>\n",
       "      <td>10</td>\n",
       "      <td>15592389</td>\n",
       "      <td>H?</td>\n",
       "      <td>684</td>\n",
       "      <td>France</td>\n",
       "      <td>Male</td>\n",
       "      <td>27</td>\n",
       "      <td>2.0</td>\n",
       "      <td>134603.88</td>\n",
       "      <td>1</td>\n",
       "      <td>1</td>\n",
       "      <td>1</td>\n",
       "      <td>71725.73</td>\n",
       "      <td>0</td>\n",
       "    </tr>\n",
       "  </tbody>\n",
       "</table>\n",
       "</div>"
      ],
      "text/plain": [
       "   RowNumber  CustomerId   Surname  CreditScore Geography  Gender  Age  \\\n",
       "0          1    15634602  Hargrave          619    France  Female   42   \n",
       "1          2    15647311      Hill          608     Spain  Female   41   \n",
       "2          3    15619304      Onio          502    France  Female   42   \n",
       "3          4    15701354      Boni          699    France  Female   39   \n",
       "4          5    15737888  Mitchell          850     Spain  Female   43   \n",
       "5          6    15574012       Chu          645     Spain    Male   44   \n",
       "6          7    15592531  Bartlett          822    France    Male   50   \n",
       "7          8    15656148    Obinna          376   Germany  Female   29   \n",
       "8          9    15792365        He          501    France    Male   44   \n",
       "9         10    15592389        H?          684    France    Male   27   \n",
       "\n",
       "   Tenure    Balance  NumOfProducts  HasCrCard  IsActiveMember  \\\n",
       "0     2.0       0.00              1          1               1   \n",
       "1     1.0   83807.86              1          0               1   \n",
       "2     8.0  159660.80              3          1               0   \n",
       "3     1.0       0.00              2          0               0   \n",
       "4     2.0  125510.82              1          1               1   \n",
       "5     8.0  113755.78              2          1               0   \n",
       "6     7.0       0.00              2          1               1   \n",
       "7     4.0  115046.74              4          1               0   \n",
       "8     4.0  142051.07              2          0               1   \n",
       "9     2.0  134603.88              1          1               1   \n",
       "\n",
       "   EstimatedSalary  Exited  \n",
       "0        101348.88       1  \n",
       "1        112542.58       0  \n",
       "2        113931.57       1  \n",
       "3         93826.63       0  \n",
       "4         79084.10       0  \n",
       "5        149756.71       1  \n",
       "6         10062.80       0  \n",
       "7        119346.88       1  \n",
       "8         74940.50       0  \n",
       "9         71725.73       0  "
      ]
     },
     "execution_count": 123,
     "metadata": {},
     "output_type": "execute_result"
    }
   ],
   "source": [
    "df.head(10)"
   ]
  },
  {
   "cell_type": "markdown",
   "metadata": {},
   "source": [
    "**Фикcируем размерность** Делаю это перед началом предобработки, чтобы точно знать что ничего не потеряно"
   ]
  },
  {
   "cell_type": "code",
   "execution_count": 124,
   "metadata": {},
   "outputs": [
    {
     "data": {
      "text/plain": [
       "(10000, 14)"
      ]
     },
     "execution_count": 124,
     "metadata": {},
     "output_type": "execute_result"
    }
   ],
   "source": [
    "df_first = df.shape\n",
    "df_first"
   ]
  },
  {
   "cell_type": "markdown",
   "metadata": {},
   "source": [
    "**Корректирую названия столбцов (привожу к нижнему регистру)** Делаю это вначале, чтобы не было путаницы с названиями."
   ]
  },
  {
   "cell_type": "code",
   "execution_count": 125,
   "metadata": {},
   "outputs": [],
   "source": [
    "df.columns = df.columns.str.lower()"
   ]
  },
  {
   "cell_type": "markdown",
   "metadata": {},
   "source": [
    "**Проверяю изменения названий столбцов (перевод в нижний регистр) и типы данных.**"
   ]
  },
  {
   "cell_type": "code",
   "execution_count": 126,
   "metadata": {},
   "outputs": [
    {
     "name": "stdout",
     "output_type": "stream",
     "text": [
      "<class 'pandas.core.frame.DataFrame'>\n",
      "RangeIndex: 10000 entries, 0 to 9999\n",
      "Data columns (total 14 columns):\n",
      " #   Column           Non-Null Count  Dtype  \n",
      "---  ------           --------------  -----  \n",
      " 0   rownumber        10000 non-null  int64  \n",
      " 1   customerid       10000 non-null  int64  \n",
      " 2   surname          10000 non-null  object \n",
      " 3   creditscore      10000 non-null  int64  \n",
      " 4   geography        10000 non-null  object \n",
      " 5   gender           10000 non-null  object \n",
      " 6   age              10000 non-null  int64  \n",
      " 7   tenure           9091 non-null   float64\n",
      " 8   balance          10000 non-null  float64\n",
      " 9   numofproducts    10000 non-null  int64  \n",
      " 10  hascrcard        10000 non-null  int64  \n",
      " 11  isactivemember   10000 non-null  int64  \n",
      " 12  estimatedsalary  10000 non-null  float64\n",
      " 13  exited           10000 non-null  int64  \n",
      "dtypes: float64(3), int64(8), object(3)\n",
      "memory usage: 1.1+ MB\n"
     ]
    }
   ],
   "source": [
    "df.info()"
   ]
  },
  {
   "cell_type": "markdown",
   "metadata": {},
   "source": [
    "**Вывод:** Названия столбцов приведены к нижнему регистру, типы данных присвоены корректно."
   ]
  },
  {
   "cell_type": "markdown",
   "metadata": {},
   "source": [
    "**Смотрим пропуски**"
   ]
  },
  {
   "cell_type": "code",
   "execution_count": 127,
   "metadata": {},
   "outputs": [
    {
     "data": {
      "text/plain": [
       "rownumber            0\n",
       "customerid           0\n",
       "surname              0\n",
       "creditscore          0\n",
       "geography            0\n",
       "gender               0\n",
       "age                  0\n",
       "tenure             909\n",
       "balance              0\n",
       "numofproducts        0\n",
       "hascrcard            0\n",
       "isactivemember       0\n",
       "estimatedsalary      0\n",
       "exited               0\n",
       "dtype: int64"
      ]
     },
     "execution_count": 127,
     "metadata": {},
     "output_type": "execute_result"
    }
   ],
   "source": [
    "df.isna().sum()"
   ]
  },
  {
   "cell_type": "code",
   "execution_count": 128,
   "metadata": {},
   "outputs": [
    {
     "data": {
      "text/plain": [
       "rownumber          0.0000\n",
       "customerid         0.0000\n",
       "surname            0.0000\n",
       "creditscore        0.0000\n",
       "geography          0.0000\n",
       "gender             0.0000\n",
       "age                0.0000\n",
       "tenure             9.9989\n",
       "balance            0.0000\n",
       "numofproducts      0.0000\n",
       "hascrcard          0.0000\n",
       "isactivemember     0.0000\n",
       "estimatedsalary    0.0000\n",
       "exited             0.0000\n",
       "dtype: float64"
      ]
     },
     "execution_count": 128,
     "metadata": {},
     "output_type": "execute_result"
    }
   ],
   "source": [
    "df.isna().sum() / df['tenure'].count() * 100 "
   ]
  },
  {
   "cell_type": "code",
   "execution_count": 129,
   "metadata": {},
   "outputs": [
    {
     "data": {
      "text/plain": [
       "array([ 2.,  1.,  8.,  7.,  4.,  6.,  3., 10.,  5.,  9.,  0., nan])"
      ]
     },
     "execution_count": 129,
     "metadata": {},
     "output_type": "execute_result"
    }
   ],
   "source": [
    "df['tenure'].unique()"
   ]
  },
  {
   "cell_type": "code",
   "execution_count": 130,
   "metadata": {},
   "outputs": [],
   "source": [
    "df = df.dropna(subset =['tenure'])"
   ]
  },
  {
   "cell_type": "markdown",
   "metadata": {},
   "source": [
    "**Вывод:** Пропуски выявлены только в столбце `tenure` - сколько лет человек является клиентом банка.\n",
    "Объем пропуска составляет примерно 9.99%, восстановить данные или заменить адекватным значением - не представляется возможным, поэтому я их удалю. "
   ]
  },
  {
   "cell_type": "markdown",
   "metadata": {},
   "source": [
    "**Проверяем дубликаты; явные и неявыне**"
   ]
  },
  {
   "cell_type": "code",
   "execution_count": 131,
   "metadata": {},
   "outputs": [
    {
     "data": {
      "text/plain": [
       "0"
      ]
     },
     "execution_count": 131,
     "metadata": {},
     "output_type": "execute_result"
    }
   ],
   "source": [
    "df.duplicated().sum()"
   ]
  },
  {
   "cell_type": "markdown",
   "metadata": {},
   "source": [
    "Неявные дубликаты ищем в столбцах с текстовой информацией, с уникальным числовым индентификатором или с данными имеющими естественные ограничения, типа `age`."
   ]
  },
  {
   "cell_type": "code",
   "execution_count": 132,
   "metadata": {},
   "outputs": [
    {
     "data": {
      "text/html": [
       "<div>\n",
       "<style scoped>\n",
       "    .dataframe tbody tr th:only-of-type {\n",
       "        vertical-align: middle;\n",
       "    }\n",
       "\n",
       "    .dataframe tbody tr th {\n",
       "        vertical-align: top;\n",
       "    }\n",
       "\n",
       "    .dataframe thead th {\n",
       "        text-align: right;\n",
       "    }\n",
       "</style>\n",
       "<table border=\"1\" class=\"dataframe\">\n",
       "  <thead>\n",
       "    <tr style=\"text-align: right;\">\n",
       "      <th></th>\n",
       "      <th>rownumber</th>\n",
       "      <th>customerid</th>\n",
       "      <th>surname</th>\n",
       "      <th>creditscore</th>\n",
       "      <th>geography</th>\n",
       "      <th>gender</th>\n",
       "      <th>age</th>\n",
       "      <th>tenure</th>\n",
       "      <th>balance</th>\n",
       "      <th>numofproducts</th>\n",
       "      <th>hascrcard</th>\n",
       "      <th>isactivemember</th>\n",
       "      <th>estimatedsalary</th>\n",
       "      <th>exited</th>\n",
       "    </tr>\n",
       "  </thead>\n",
       "  <tbody>\n",
       "  </tbody>\n",
       "</table>\n",
       "</div>"
      ],
      "text/plain": [
       "Empty DataFrame\n",
       "Columns: [rownumber, customerid, surname, creditscore, geography, gender, age, tenure, balance, numofproducts, hascrcard, isactivemember, estimatedsalary, exited]\n",
       "Index: []"
      ]
     },
     "execution_count": 132,
     "metadata": {},
     "output_type": "execute_result"
    }
   ],
   "source": [
    "df[df[['customerid', 'surname', 'creditscore', 'geography', 'gender', 'age', 'rownumber', 'tenure']].duplicated(keep=False)]"
   ]
  },
  {
   "cell_type": "markdown",
   "metadata": {},
   "source": [
    "**Вывод:** Дубликатов нет."
   ]
  },
  {
   "cell_type": "markdown",
   "metadata": {},
   "source": [
    "**Проверка аномалий**"
   ]
  },
  {
   "cell_type": "markdown",
   "metadata": {},
   "source": [
    "*Surname — фамилия.* Фамилии могут быть очень разными, поэтому аномалий нет."
   ]
  },
  {
   "cell_type": "code",
   "execution_count": 133,
   "metadata": {},
   "outputs": [
    {
     "data": {
      "text/plain": [
       "array(['Hargrave', 'Hill', 'Onio', ..., 'Kashiwagi', 'Aldridge',\n",
       "       'Burbidge'], dtype=object)"
      ]
     },
     "execution_count": 133,
     "metadata": {},
     "output_type": "execute_result"
    }
   ],
   "source": [
    "df['surname'].unique()"
   ]
  },
  {
   "cell_type": "markdown",
   "metadata": {},
   "source": [
    "*CreditScore — кредитный рейтинг.* Выборка по клиентам распределена нормально, присутсвует и низкий рейтинг и высокий. "
   ]
  },
  {
   "cell_type": "code",
   "execution_count": 134,
   "metadata": {},
   "outputs": [
    {
     "data": {
      "text/plain": [
       "<AxesSubplot:>"
      ]
     },
     "execution_count": 134,
     "metadata": {},
     "output_type": "execute_result"
    },
    {
     "data": {
      "image/png": "[encoded data removed]",
      "text/plain": [
       "<Figure size 432x288 with 1 Axes>"
      ]
     },
     "metadata": {
      "needs_background": "light"
     },
     "output_type": "display_data"
    }
   ],
   "source": [
    "df['creditscore'].hist()"
   ]
  },
  {
   "cell_type": "markdown",
   "metadata": {},
   "source": [
    "*Geography — страна проживания* Данные представлены по 3 странам: Франция, Испания, Германия. Клиентов из франции примерно в 2 раза больше чем представителей дргуих стран."
   ]
  },
  {
   "cell_type": "code",
   "execution_count": 135,
   "metadata": {},
   "outputs": [
    {
     "data": {
      "text/plain": [
       "<AxesSubplot:>"
      ]
     },
     "execution_count": 135,
     "metadata": {},
     "output_type": "execute_result"
    },
    {
     "data": {
      "image/png": "[encoded data removed]",
      "text/plain": [
       "<Figure size 432x288 with 1 Axes>"
      ]
     },
     "metadata": {
      "needs_background": "light"
     },
     "output_type": "display_data"
    }
   ],
   "source": [
    "df['geography'].hist()"
   ]
  },
  {
   "cell_type": "markdown",
   "metadata": {},
   "source": [
    "*Gender — пол.* Пол клиентов отражен верно."
   ]
  },
  {
   "cell_type": "code",
   "execution_count": 136,
   "metadata": {},
   "outputs": [
    {
     "data": {
      "text/plain": [
       "array(['Female', 'Male'], dtype=object)"
      ]
     },
     "execution_count": 136,
     "metadata": {},
     "output_type": "execute_result"
    }
   ],
   "source": [
    "df['gender'].unique()"
   ]
  },
  {
   "cell_type": "markdown",
   "metadata": {},
   "source": [
    "*Age — возраст.* Возраст клиентов соответствует нормальному распределению."
   ]
  },
  {
   "cell_type": "code",
   "execution_count": 137,
   "metadata": {},
   "outputs": [
    {
     "data": {
      "text/plain": [
       "<AxesSubplot:>"
      ]
     },
     "execution_count": 137,
     "metadata": {},
     "output_type": "execute_result"
    },
    {
     "data": {
      "image/png": "[encoded data removed]",
      "text/plain": [
       "<Figure size 432x288 with 1 Axes>"
      ]
     },
     "metadata": {
      "needs_background": "light"
     },
     "output_type": "display_data"
    }
   ],
   "source": [
    "df['age'].hist()"
   ]
  },
  {
   "cell_type": "markdown",
   "metadata": {},
   "source": [
    "*Tenure — сколько лет человек является клиентом банка*. Распределение данных приближенно к нормальному."
   ]
  },
  {
   "cell_type": "code",
   "execution_count": 138,
   "metadata": {
    "scrolled": false
   },
   "outputs": [
    {
     "data": {
      "text/plain": [
       "<AxesSubplot:title={'center':'tenure'}, ylabel='Frequency'>"
      ]
     },
     "execution_count": 138,
     "metadata": {},
     "output_type": "execute_result"
    },
    {
     "data": {
      "image/png": "[encoded data removed]",
      "text/plain": [
       "<Figure size 432x288 with 1 Axes>"
      ]
     },
     "metadata": {
      "needs_background": "light"
     },
     "output_type": "display_data"
    }
   ],
   "source": [
    "df['tenure'].plot(y = 'tenure', kind = 'hist', range=(0,11), bins = 11, title = 'tenure',grid = True)"
   ]
  },
  {
   "cell_type": "markdown",
   "metadata": {},
   "source": [
    "*Balance — баланс на счёте.* Согласно данным у 36% клиентов на счету \"0\", учитывая что примерно половина клиентов из выборки не активны, это вполне может соответствоать действительности. В остальной части данные распределены нормально."
   ]
  },
  {
   "cell_type": "code",
   "execution_count": 139,
   "metadata": {
    "scrolled": false
   },
   "outputs": [
    {
     "data": {
      "text/plain": [
       "0.00         0.361126\n",
       "105473.74    0.000220\n",
       "130170.82    0.000220\n",
       "104088.59    0.000110\n",
       "99836.47     0.000110\n",
       "               ...   \n",
       "166287.85    0.000110\n",
       "110929.96    0.000110\n",
       "131406.56    0.000110\n",
       "91611.12     0.000110\n",
       "104001.38    0.000110\n",
       "Name: balance, Length: 5807, dtype: float64"
      ]
     },
     "execution_count": 139,
     "metadata": {},
     "output_type": "execute_result"
    },
    {
     "data": {
      "image/png": "[encoded data removed]",
      "text/plain": [
       "<Figure size 432x288 with 1 Axes>"
      ]
     },
     "metadata": {
      "needs_background": "light"
     },
     "output_type": "display_data"
    }
   ],
   "source": [
    "df['balance'].plot(y = 'balance', kind = 'hist', range=(0,250000), bins = 10, title = 'tenure',grid = True)\n",
    "df['balance'].value_counts(normalize= True)"
   ]
  },
  {
   "cell_type": "markdown",
   "metadata": {},
   "source": [
    "*NumOfProducts — количество продуктов банка, используемых клиентом.* Большинство клиентов используют 1-2 продукта."
   ]
  },
  {
   "cell_type": "code",
   "execution_count": 140,
   "metadata": {},
   "outputs": [
    {
     "data": {
      "text/plain": [
       "<AxesSubplot:>"
      ]
     },
     "execution_count": 140,
     "metadata": {},
     "output_type": "execute_result"
    },
    {
     "data": {
      "image/png": "[encoded data removed]",
      "text/plain": [
       "<Figure size 432x288 with 1 Axes>"
      ]
     },
     "metadata": {
      "needs_background": "light"
     },
     "output_type": "display_data"
    }
   ],
   "source": [
    "df['numofproducts'].hist()"
   ]
  },
  {
   "cell_type": "markdown",
   "metadata": {},
   "source": [
    "*HasCrCard — наличие кредитной карты.* У большинтса есть креитная карта."
   ]
  },
  {
   "cell_type": "code",
   "execution_count": 141,
   "metadata": {},
   "outputs": [
    {
     "data": {
      "text/plain": [
       "<AxesSubplot:>"
      ]
     },
     "execution_count": 141,
     "metadata": {},
     "output_type": "execute_result"
    },
    {
     "data": {
      "image/png": "[encoded data removed]",
      "text/plain": [
       "<Figure size 432x288 with 1 Axes>"
      ]
     },
     "metadata": {
      "needs_background": "light"
     },
     "output_type": "display_data"
    }
   ],
   "source": [
    "df['hascrcard'].hist()"
   ]
  },
  {
   "cell_type": "markdown",
   "metadata": {},
   "source": [
    "*IsActiveMember — активность клиента.* Активных и не активных клиентов примерно поровну."
   ]
  },
  {
   "cell_type": "code",
   "execution_count": 142,
   "metadata": {},
   "outputs": [
    {
     "data": {
      "text/plain": [
       "<AxesSubplot:>"
      ]
     },
     "execution_count": 142,
     "metadata": {},
     "output_type": "execute_result"
    },
    {
     "data": {
      "image/png": "[encoded data removed]",
      "text/plain": [
       "<Figure size 432x288 with 1 Axes>"
      ]
     },
     "metadata": {
      "needs_background": "light"
     },
     "output_type": "display_data"
    }
   ],
   "source": [
    "df['isactivemember'].hist()"
   ]
  },
  {
   "cell_type": "markdown",
   "metadata": {},
   "source": [
    "*EstimatedSalary — предполагаемая зарплата.* Ежемесячный доход у всех клиентов сопоставим. "
   ]
  },
  {
   "cell_type": "code",
   "execution_count": 143,
   "metadata": {},
   "outputs": [
    {
     "data": {
      "text/plain": [
       "<AxesSubplot:>"
      ]
     },
     "execution_count": 143,
     "metadata": {},
     "output_type": "execute_result"
    },
    {
     "data": {
      "image/png": "[encoded data removed]",
      "text/plain": [
       "<Figure size 432x288 with 1 Axes>"
      ]
     },
     "metadata": {
      "needs_background": "light"
     },
     "output_type": "display_data"
    }
   ],
   "source": [
    "df['estimatedsalary'].hist()"
   ]
  },
  {
   "cell_type": "markdown",
   "metadata": {},
   "source": [
    "*Exited — факт ухода клиента.* Клиентов которые не ушли из банка гораздо больше. Дисбаланс классов составляет 80% на 20%."
   ]
  },
  {
   "cell_type": "code",
   "execution_count": 144,
   "metadata": {},
   "outputs": [
    {
     "data": {
      "text/plain": [
       "0    0.796062\n",
       "1    0.203938\n",
       "Name: exited, dtype: float64"
      ]
     },
     "execution_count": 144,
     "metadata": {},
     "output_type": "execute_result"
    },
    {
     "data": {
      "image/png": "[encoded data removed]",
      "text/plain": [
       "<Figure size 432x288 with 1 Axes>"
      ]
     },
     "metadata": {
      "needs_background": "light"
     },
     "output_type": "display_data"
    }
   ],
   "source": [
    "df['exited'].hist()\n",
    "df['exited'].value_counts(normalize= True)"
   ]
  },
  {
   "cell_type": "code",
   "execution_count": 145,
   "metadata": {},
   "outputs": [
    {
     "data": {
      "text/plain": [
       "90.91"
      ]
     },
     "execution_count": 145,
     "metadata": {},
     "output_type": "execute_result"
    }
   ],
   "source": [
    "df_final = df.shape\n",
    "df_save = df_final[0]/df_first[0] * 100\n",
    "df_save"
   ]
  },
  {
   "cell_type": "markdown",
   "metadata": {},
   "source": [
    "**Вывод раздела предобработки:** Предобработка данных произведена в части приведения названий столбцов к нижнему регистру и удалены пропуски в столбце `tenure`. \n",
    "В остальном с данными все в порядке: отсутствуют дубликаты (явные и неявные), типы данных присвоены адекватно, аномалий не выявленно. Данные сохранены в объеме - 90,91%."
   ]
  },
  {
   "cell_type": "markdown",
   "metadata": {},
   "source": [
    "***Подготовка признаков***"
   ]
  },
  {
   "cell_type": "markdown",
   "metadata": {},
   "source": [
    "*Используем прямое кодирование для преобразования категориальных признаков в численные последством OHE.*"
   ]
  },
  {
   "cell_type": "code",
   "execution_count": 146,
   "metadata": {},
   "outputs": [],
   "source": [
    "df_ohe = pd.get_dummies(df, drop_first=True)"
   ]
  },
  {
   "cell_type": "code",
   "execution_count": 4,
   "metadata": {},
   "outputs": [
    {
     "data": {
      "text/html": [
       "<div>\n",
       "<style scoped>\n",
       "    .dataframe tbody tr th:only-of-type {\n",
       "        vertical-align: middle;\n",
       "    }\n",
       "\n",
       "    .dataframe tbody tr th {\n",
       "        vertical-align: top;\n",
       "    }\n",
       "\n",
       "    .dataframe thead th {\n",
       "        text-align: right;\n",
       "    }\n",
       "</style>\n",
       "<table border=\"1\" class=\"dataframe\">\n",
       "  <thead>\n",
       "    <tr style=\"text-align: right;\">\n",
       "      <th></th>\n",
       "      <th>RowNumber</th>\n",
       "      <th>CustomerId</th>\n",
       "      <th>Surname</th>\n",
       "      <th>CreditScore</th>\n",
       "      <th>Geography</th>\n",
       "      <th>Gender</th>\n",
       "      <th>Age</th>\n",
       "      <th>Tenure</th>\n",
       "      <th>Balance</th>\n",
       "      <th>NumOfProducts</th>\n",
       "      <th>HasCrCard</th>\n",
       "      <th>IsActiveMember</th>\n",
       "      <th>EstimatedSalary</th>\n",
       "      <th>Exited</th>\n",
       "    </tr>\n",
       "  </thead>\n",
       "  <tbody>\n",
       "    <tr>\n",
       "      <th>0</th>\n",
       "      <td>1</td>\n",
       "      <td>15634602</td>\n",
       "      <td>Hargrave</td>\n",
       "      <td>619</td>\n",
       "      <td>France</td>\n",
       "      <td>Female</td>\n",
       "      <td>42</td>\n",
       "      <td>2.0</td>\n",
       "      <td>0.00</td>\n",
       "      <td>1</td>\n",
       "      <td>1</td>\n",
       "      <td>1</td>\n",
       "      <td>101348.88</td>\n",
       "      <td>1</td>\n",
       "    </tr>\n",
       "    <tr>\n",
       "      <th>1</th>\n",
       "      <td>2</td>\n",
       "      <td>15647311</td>\n",
       "      <td>Hill</td>\n",
       "      <td>608</td>\n",
       "      <td>Spain</td>\n",
       "      <td>Female</td>\n",
       "      <td>41</td>\n",
       "      <td>1.0</td>\n",
       "      <td>83807.86</td>\n",
       "      <td>1</td>\n",
       "      <td>0</td>\n",
       "      <td>1</td>\n",
       "      <td>112542.58</td>\n",
       "      <td>0</td>\n",
       "    </tr>\n",
       "    <tr>\n",
       "      <th>2</th>\n",
       "      <td>3</td>\n",
       "      <td>15619304</td>\n",
       "      <td>Onio</td>\n",
       "      <td>502</td>\n",
       "      <td>France</td>\n",
       "      <td>Female</td>\n",
       "      <td>42</td>\n",
       "      <td>8.0</td>\n",
       "      <td>159660.80</td>\n",
       "      <td>3</td>\n",
       "      <td>1</td>\n",
       "      <td>0</td>\n",
       "      <td>113931.57</td>\n",
       "      <td>1</td>\n",
       "    </tr>\n",
       "    <tr>\n",
       "      <th>3</th>\n",
       "      <td>4</td>\n",
       "      <td>15701354</td>\n",
       "      <td>Boni</td>\n",
       "      <td>699</td>\n",
       "      <td>France</td>\n",
       "      <td>Female</td>\n",
       "      <td>39</td>\n",
       "      <td>1.0</td>\n",
       "      <td>0.00</td>\n",
       "      <td>2</td>\n",
       "      <td>0</td>\n",
       "      <td>0</td>\n",
       "      <td>93826.63</td>\n",
       "      <td>0</td>\n",
       "    </tr>\n",
       "    <tr>\n",
       "      <th>4</th>\n",
       "      <td>5</td>\n",
       "      <td>15737888</td>\n",
       "      <td>Mitchell</td>\n",
       "      <td>850</td>\n",
       "      <td>Spain</td>\n",
       "      <td>Female</td>\n",
       "      <td>43</td>\n",
       "      <td>2.0</td>\n",
       "      <td>125510.82</td>\n",
       "      <td>1</td>\n",
       "      <td>1</td>\n",
       "      <td>1</td>\n",
       "      <td>79084.10</td>\n",
       "      <td>0</td>\n",
       "    </tr>\n",
       "    <tr>\n",
       "      <th>...</th>\n",
       "      <td>...</td>\n",
       "      <td>...</td>\n",
       "      <td>...</td>\n",
       "      <td>...</td>\n",
       "      <td>...</td>\n",
       "      <td>...</td>\n",
       "      <td>...</td>\n",
       "      <td>...</td>\n",
       "      <td>...</td>\n",
       "      <td>...</td>\n",
       "      <td>...</td>\n",
       "      <td>...</td>\n",
       "      <td>...</td>\n",
       "      <td>...</td>\n",
       "    </tr>\n",
       "    <tr>\n",
       "      <th>9995</th>\n",
       "      <td>9996</td>\n",
       "      <td>15606229</td>\n",
       "      <td>Obijiaku</td>\n",
       "      <td>771</td>\n",
       "      <td>France</td>\n",
       "      <td>Male</td>\n",
       "      <td>39</td>\n",
       "      <td>5.0</td>\n",
       "      <td>0.00</td>\n",
       "      <td>2</td>\n",
       "      <td>1</td>\n",
       "      <td>0</td>\n",
       "      <td>96270.64</td>\n",
       "      <td>0</td>\n",
       "    </tr>\n",
       "    <tr>\n",
       "      <th>9996</th>\n",
       "      <td>9997</td>\n",
       "      <td>15569892</td>\n",
       "      <td>Johnstone</td>\n",
       "      <td>516</td>\n",
       "      <td>France</td>\n",
       "      <td>Male</td>\n",
       "      <td>35</td>\n",
       "      <td>10.0</td>\n",
       "      <td>57369.61</td>\n",
       "      <td>1</td>\n",
       "      <td>1</td>\n",
       "      <td>1</td>\n",
       "      <td>101699.77</td>\n",
       "      <td>0</td>\n",
       "    </tr>\n",
       "    <tr>\n",
       "      <th>9997</th>\n",
       "      <td>9998</td>\n",
       "      <td>15584532</td>\n",
       "      <td>Liu</td>\n",
       "      <td>709</td>\n",
       "      <td>France</td>\n",
       "      <td>Female</td>\n",
       "      <td>36</td>\n",
       "      <td>7.0</td>\n",
       "      <td>0.00</td>\n",
       "      <td>1</td>\n",
       "      <td>0</td>\n",
       "      <td>1</td>\n",
       "      <td>42085.58</td>\n",
       "      <td>1</td>\n",
       "    </tr>\n",
       "    <tr>\n",
       "      <th>9998</th>\n",
       "      <td>9999</td>\n",
       "      <td>15682355</td>\n",
       "      <td>Sabbatini</td>\n",
       "      <td>772</td>\n",
       "      <td>Germany</td>\n",
       "      <td>Male</td>\n",
       "      <td>42</td>\n",
       "      <td>3.0</td>\n",
       "      <td>75075.31</td>\n",
       "      <td>2</td>\n",
       "      <td>1</td>\n",
       "      <td>0</td>\n",
       "      <td>92888.52</td>\n",
       "      <td>1</td>\n",
       "    </tr>\n",
       "    <tr>\n",
       "      <th>9999</th>\n",
       "      <td>10000</td>\n",
       "      <td>15628319</td>\n",
       "      <td>Walker</td>\n",
       "      <td>792</td>\n",
       "      <td>France</td>\n",
       "      <td>Female</td>\n",
       "      <td>28</td>\n",
       "      <td>NaN</td>\n",
       "      <td>130142.79</td>\n",
       "      <td>1</td>\n",
       "      <td>1</td>\n",
       "      <td>0</td>\n",
       "      <td>38190.78</td>\n",
       "      <td>0</td>\n",
       "    </tr>\n",
       "  </tbody>\n",
       "</table>\n",
       "<p>10000 rows × 14 columns</p>\n",
       "</div>"
      ],
      "text/plain": [
       "      RowNumber  CustomerId    Surname  CreditScore Geography  Gender  Age  \\\n",
       "0             1    15634602   Hargrave          619    France  Female   42   \n",
       "1             2    15647311       Hill          608     Spain  Female   41   \n",
       "2             3    15619304       Onio          502    France  Female   42   \n",
       "3             4    15701354       Boni          699    France  Female   39   \n",
       "4             5    15737888   Mitchell          850     Spain  Female   43   \n",
       "...         ...         ...        ...          ...       ...     ...  ...   \n",
       "9995       9996    15606229   Obijiaku          771    France    Male   39   \n",
       "9996       9997    15569892  Johnstone          516    France    Male   35   \n",
       "9997       9998    15584532        Liu          709    France  Female   36   \n",
       "9998       9999    15682355  Sabbatini          772   Germany    Male   42   \n",
       "9999      10000    15628319     Walker          792    France  Female   28   \n",
       "\n",
       "      Tenure    Balance  NumOfProducts  HasCrCard  IsActiveMember  \\\n",
       "0        2.0       0.00              1          1               1   \n",
       "1        1.0   83807.86              1          0               1   \n",
       "2        8.0  159660.80              3          1               0   \n",
       "3        1.0       0.00              2          0               0   \n",
       "4        2.0  125510.82              1          1               1   \n",
       "...      ...        ...            ...        ...             ...   \n",
       "9995     5.0       0.00              2          1               0   \n",
       "9996    10.0   57369.61              1          1               1   \n",
       "9997     7.0       0.00              1          0               1   \n",
       "9998     3.0   75075.31              2          1               0   \n",
       "9999     NaN  130142.79              1          1               0   \n",
       "\n",
       "      EstimatedSalary  Exited  \n",
       "0           101348.88       1  \n",
       "1           112542.58       0  \n",
       "2           113931.57       1  \n",
       "3            93826.63       0  \n",
       "4            79084.10       0  \n",
       "...               ...     ...  \n",
       "9995         96270.64       0  \n",
       "9996        101699.77       0  \n",
       "9997         42085.58       1  \n",
       "9998         92888.52       1  \n",
       "9999         38190.78       0  \n",
       "\n",
       "[10000 rows x 14 columns]"
      ]
     },
     "execution_count": 4,
     "metadata": {},
     "output_type": "execute_result"
    }
   ],
   "source": [
    "df"
   ]
  },
  {
   "cell_type": "code",
   "execution_count": 147,
   "metadata": {},
   "outputs": [
    {
     "data": {
      "text/plain": [
       "(9091, 2800)"
      ]
     },
     "execution_count": 147,
     "metadata": {},
     "output_type": "execute_result"
    }
   ],
   "source": [
    "df_ohe_first = df_ohe.shape\n",
    "df_ohe_first"
   ]
  },
  {
   "cell_type": "markdown",
   "metadata": {},
   "source": [
    "Теперь все категориальные признаки переведены в численные, но при этом количетво столбцов значительно выросло, даже при использовании дамми-ловушки."
   ]
  },
  {
   "cell_type": "markdown",
   "metadata": {},
   "source": [
    "*Проведем масштабирование признаков*"
   ]
  },
  {
   "cell_type": "markdown",
   "metadata": {},
   "source": [
    "Для начала произведем разделение датафрейма на признаки и целевой признак, а также на тренировочную, валидационную и тестовые выборки."
   ]
  },
  {
   "cell_type": "code",
   "execution_count": 148,
   "metadata": {},
   "outputs": [],
   "source": [
    "target = df_ohe['exited']\n",
    "features = df_ohe.drop('exited', axis=1)\n",
    "\n",
    "features_train, features_tv, target_train, target_tv = train_test_split(\n",
    "    features, target, test_size=0.4, random_state=1234567, stratify= target)\n",
    "\n",
    "features_test, features_valid, target_test, target_valid = train_test_split(\n",
    "    features_tv, target_tv, test_size=0.5, random_state=1234567, stratify= target_tv)\n",
    "\n",
    "numeric = ['rownumber', 'customerid', 'creditscore', 'age', 'tenure', 'balance', 'numofproducts', 'hascrcard', \n",
    "           'isactivemember', 'estimatedsalary']\n",
    "\n",
    "pd.options.mode.chained_assignment = None\n",
    "scaler = StandardScaler()\n",
    "scaler.fit(features_train[numeric])\n",
    "features_train[numeric] = scaler.transform(features_train[numeric])\n",
    "features_valid[numeric] = scaler.transform(features_valid[numeric])\n",
    "features_test[numeric] = scaler.transform(features_test[numeric])"
   ]
  },
  {
   "cell_type": "markdown",
   "metadata": {},
   "source": [
    "Проверим размерность разделенных выборок."
   ]
  },
  {
   "cell_type": "code",
   "execution_count": 149,
   "metadata": {},
   "outputs": [
    {
     "name": "stdout",
     "output_type": "stream",
     "text": [
      "(5454, 2799)\n",
      "(5454,)\n",
      "(1818, 2799)\n",
      "(1818,)\n",
      "(1819, 2799)\n",
      "(1819,)\n"
     ]
    }
   ],
   "source": [
    "print(features_train.shape)\n",
    "print(target_train.shape)\n",
    "\n",
    "print(features_test.shape)\n",
    "print(target_test.shape)\n",
    "\n",
    "print(features_valid.shape)\n",
    "print(target_valid.shape)"
   ]
  },
  {
   "cell_type": "markdown",
   "metadata": {},
   "source": [
    "## Исследование задачи"
   ]
  },
  {
   "cell_type": "markdown",
   "metadata": {},
   "source": [
    "Исследуем баланс классов"
   ]
  },
  {
   "cell_type": "code",
   "execution_count": 150,
   "metadata": {},
   "outputs": [
    {
     "name": "stdout",
     "output_type": "stream",
     "text": [
      "0    7237\n",
      "1    1854\n",
      "Name: exited, dtype: int64\n",
      "0    0.8\n",
      "1    0.2\n",
      "Name: exited, dtype: float64\n"
     ]
    }
   ],
   "source": [
    "print(df['exited'].value_counts())\n",
    "print(df['exited'].value_counts(normalize= True).round(2))"
   ]
  },
  {
   "cell_type": "markdown",
   "metadata": {},
   "source": [
    "**Дисбаланс классов составляет 80% на 20%.**"
   ]
  },
  {
   "cell_type": "markdown",
   "metadata": {},
   "source": [
    "Перед нами стоит задача классификации, а именно построить модель которая спрогнозирует уйдёт клиент из банка в ближайшее время или нет, для решения этой задачи построим следующие модели: дерево решений, случайный лес, логистическая регрессия.\n",
    "На данном этапе построим модели без учета дисбаланса."
   ]
  },
  {
   "cell_type": "markdown",
   "metadata": {},
   "source": [
    "Модель - **Дерево решений**"
   ]
  },
  {
   "cell_type": "code",
   "execution_count": 151,
   "metadata": {},
   "outputs": [
    {
     "name": "stdout",
     "output_type": "stream",
     "text": [
      "F1 - мера: 0.59\n",
      "AUC-ROC: 0.82\n",
      "Количество ветвей наилучшей модели на валидационной выборке: 8\n"
     ]
    }
   ],
   "source": [
    "best_result = 0\n",
    "best_auc_roc = 0\n",
    "best_depth = 0\n",
    "for depth in range(1, 11):\n",
    "    model = DecisionTreeClassifier(random_state=1234567, max_depth=depth)\n",
    "    model.fit(features_train, target_train)\n",
    "    predicted_valid = model.predict(features_valid)\n",
    "    probabilities_valid = model.predict_proba(features_valid)\n",
    "    probabilities_one_valid = probabilities_valid[:, 1]\n",
    "    auc_roc = roc_auc_score(target_valid, probabilities_one_valid)\n",
    "    result = f1_score(target_valid, predicted_valid)\n",
    "    if result > best_result:\n",
    "            best_auc_roc = auc_roc\n",
    "            best_result = result\n",
    "            best_depth = depth\n",
    "print(\"F1 - мера:\", best_result.round(2))\n",
    "print(\"AUC-ROC:\", best_auc_roc.round(2))\n",
    "print(\"Количество ветвей наилучшей модели на валидационной выборке:\", best_depth)  "
   ]
  },
  {
   "cell_type": "markdown",
   "metadata": {},
   "source": [
    "Модель - **Случайный лес**"
   ]
  },
  {
   "cell_type": "code",
   "execution_count": 152,
   "metadata": {},
   "outputs": [
    {
     "name": "stdout",
     "output_type": "stream",
     "text": [
      "F1 - мера: 0.11\n",
      "AUC-ROC: 0.81\n",
      "Количество деревьев наилучшей модели на валидационной выборке: 10\n",
      "Количество ветвей наилучшей модели на валидационной выборке: 18\n"
     ]
    }
   ],
   "source": [
    "best_result2 = 0\n",
    "best_auc_roc2 = 0\n",
    "best_est2 = 0\n",
    "best_depth2 = 0\n",
    "for est in range(10, 101, 10):\n",
    "    for depth in range(1, 21):\n",
    "        model2 = RandomForestClassifier(random_state=1234567, n_estimators= est, max_depth=depth) \n",
    "        model2.fit(features_train, target_train)\n",
    "        predicted_valid2 = model2.predict(features_valid)\n",
    "        probabilities_valid2 = model2.predict_proba(features_valid)\n",
    "        probabilities_one_valid2 = probabilities_valid2[:, 1]\n",
    "        auc_roc2 = roc_auc_score(target_valid, probabilities_one_valid2)\n",
    "        result2 = f1_score(target_valid, predicted_valid2)\n",
    "        if result2 > best_result2:\n",
    "            best_auc_roc2 = auc_roc2\n",
    "            best_result2 = result2\n",
    "            best_depth2 = depth\n",
    "            best_est2 = est\n",
    "print(\"F1 - мера:\", best_result2.round(2))\n",
    "print(\"AUC-ROC:\", best_auc_roc2.round(2))\n",
    "print(\"Количество деревьев наилучшей модели на валидационной выборке:\", best_est2)\n",
    "print(\"Количество ветвей наилучшей модели на валидационной выборке:\", best_depth2)  \n"
   ]
  },
  {
   "cell_type": "markdown",
   "metadata": {},
   "source": [
    "*F1 - мера*  показывает очень низкий результат, нужно проверить полноту и точность по отдельности."
   ]
  },
  {
   "cell_type": "code",
   "execution_count": 153,
   "metadata": {},
   "outputs": [
    {
     "name": "stdout",
     "output_type": "stream",
     "text": [
      "F1 - мера: 0.11\n",
      "AUC-ROC: 0.81\n",
      "Recall: 0.06\n",
      "Precision: 1.0\n"
     ]
    }
   ],
   "source": [
    "model2 = RandomForestClassifier(random_state=1234567, n_estimators= 10, max_depth=18) \n",
    "model2.fit(features_train, target_train)\n",
    "predicted_valid2 = model2.predict(features_valid)\n",
    "probabilities_valid2 = model2.predict_proba(features_valid)\n",
    "probabilities_one_valid2 = probabilities_valid2[:, 1]\n",
    "auc_roc2 = roc_auc_score(target_valid, probabilities_one_valid2)\n",
    "result2 = f1_score(target_valid, predicted_valid2)\n",
    "\n",
    "print(\"F1 - мера:\", result2.round(2))\n",
    "print(\"AUC-ROC:\", auc_roc2.round(2))\n",
    "print(\"Recall:\", recall_score(target_valid, predicted_valid2).round(2))\n",
    "print(\"Precision:\", precision_score(target_valid, predicted_valid2).round(2))\n"
   ]
  },
  {
   "cell_type": "markdown",
   "metadata": {},
   "source": [
    "*F1 - мера* близка к нулю, т.к. полнота близка к \"0\"."
   ]
  },
  {
   "cell_type": "markdown",
   "metadata": {},
   "source": [
    "Модель - **Логистическая регрессия**"
   ]
  },
  {
   "cell_type": "code",
   "execution_count": 154,
   "metadata": {},
   "outputs": [
    {
     "name": "stdout",
     "output_type": "stream",
     "text": [
      "F1 - мера: 0.59\n",
      "AUC-ROC: 0.78\n"
     ]
    }
   ],
   "source": [
    "model3 = LogisticRegression(random_state=1234567, max_iter=1000, solver='liblinear')\n",
    "model3.fit(features_train, target_train) \n",
    "predicted_valid3 = model3.predict(features_valid)\n",
    "result3 = f1_score(target_valid, predicted_valid)\n",
    "probabilities_valid3 = model3.predict_proba(features_valid)\n",
    "probabilities_one_valid3 = probabilities_valid3[:, 1]\n",
    "auc_roc3 = roc_auc_score(target_valid, probabilities_one_valid3)\n",
    "print(\"F1 - мера:\", result3.round(2))\n",
    "print(\"AUC-ROC:\", auc_roc3.round(2))"
   ]
  },
  {
   "cell_type": "markdown",
   "metadata": {},
   "source": [
    "**Вывод о работе моделей на выборке с дисбалансом классов:**  \n",
    "Модель - **Дерево решений** используя 8 ветвей, F1-мера: 0.59, AUC-ROC: 0.82.  \n",
    "Модель - **Логистическая регрессия** также показала результат F1 - мера: 0.59, AUC-ROC: 0.78 (ниже чем у Дерева решений)  \n",
    "Модель - **Случайный лес** в данной выборке показала наихудший результат F1 - мера: 0.11, при 10 деревьях с 18 ветвями.\n",
    "Такое низкое значение метрики связано с тем , что Recall практически равен \"0\" - 0.06, даже при том что Precision: 1.0.  \n",
    "AUC-ROC: 0.81, таким образом снижение метрики F1 не отражается на снижении AUC.\n",
    "\n",
    "**Целевого F1-мера:0.59, достигли модели: Дерево решений и Логистическая регрессия.**"
   ]
  },
  {
   "cell_type": "markdown",
   "metadata": {},
   "source": [
    "## Борьба с дисбалансом"
   ]
  },
  {
   "cell_type": "markdown",
   "metadata": {},
   "source": [
    "Для борьбы с дисбалансом, я использую следующие методы: `взвешивание классов`, `upsampling`и `downsampling`."
   ]
  },
  {
   "cell_type": "markdown",
   "metadata": {},
   "source": [
    "**Взвешивание классов**: Модель - **Дерево решений**"
   ]
  },
  {
   "cell_type": "code",
   "execution_count": 155,
   "metadata": {},
   "outputs": [
    {
     "name": "stdout",
     "output_type": "stream",
     "text": [
      "F1 - мера: 0.59\n",
      "AUC-ROC: 0.85\n",
      "Количество ветвей наилучшей модели на валидационной выборке: 5\n"
     ]
    }
   ],
   "source": [
    "best_result = 0\n",
    "best_auc_roc = 0\n",
    "best_depth = 0\n",
    "for depth in range(1, 21):\n",
    "    model = DecisionTreeClassifier(random_state=1234567, max_depth=depth, class_weight='balanced')\n",
    "    model.fit(features_train, target_train)\n",
    "    predicted_valid = model.predict(features_valid)\n",
    "    probabilities_valid = model.predict_proba(features_valid)\n",
    "    probabilities_one_valid = probabilities_valid[:, 1]\n",
    "    auc_roc = roc_auc_score(target_valid, probabilities_one_valid)\n",
    "    result = f1_score(target_valid, predicted_valid)\n",
    "    if result > best_result:\n",
    "            best_auc_roc = auc_roc\n",
    "            best_result = result\n",
    "            best_depth = depth\n",
    "print(\"F1 - мера:\", best_result.round(2))\n",
    "print(\"AUC-ROC:\", best_auc_roc.round(2))\n",
    "print(\"Количество ветвей наилучшей модели на валидационной выборке:\", best_depth)  "
   ]
  },
  {
   "cell_type": "markdown",
   "metadata": {},
   "source": [
    "**Взвешивание классов**: Модель - **Случайный лес**"
   ]
  },
  {
   "cell_type": "code",
   "execution_count": 156,
   "metadata": {},
   "outputs": [
    {
     "name": "stdout",
     "output_type": "stream",
     "text": [
      "F1 - мера: 0.62\n",
      "AUC-ROC: 0.86\n",
      "Количество деревьев наилучшей модели на валидационной выборке: 100\n",
      "Количество ветвей наилучшей модели на валидационной выборке: 18\n"
     ]
    }
   ],
   "source": [
    "best_result2 = 0\n",
    "best_auc_roc2 = 0\n",
    "best_est2 = 0\n",
    "best_depth2 = 0\n",
    "for est in range(10, 151, 10):\n",
    "    for depth in range(1, 21):\n",
    "        model2 = RandomForestClassifier(random_state=1234567, n_estimators= est, max_depth=depth, class_weight='balanced') \n",
    "        model2.fit(features_train, target_train)\n",
    "        predicted_valid2 = model2.predict(features_valid)\n",
    "        probabilities_valid2 = model2.predict_proba(features_valid)\n",
    "        probabilities_one_valid2 = probabilities_valid2[:, 1]\n",
    "        auc_roc2 = roc_auc_score(target_valid, probabilities_one_valid2)\n",
    "        result2 = f1_score(target_valid, predicted_valid2)\n",
    "        if result2 > best_result2:\n",
    "            best_auc_roc2 = auc_roc2\n",
    "            best_result2 = result2\n",
    "            best_depth2 = depth\n",
    "            best_est2 = est\n",
    "print(\"F1 - мера:\", best_result2.round(2))\n",
    "print(\"AUC-ROC:\", best_auc_roc2.round(2))\n",
    "print(\"Количество деревьев наилучшей модели на валидационной выборке:\", best_est2)\n",
    "print(\"Количество ветвей наилучшей модели на валидационной выборке:\", best_depth2)  "
   ]
  },
  {
   "cell_type": "markdown",
   "metadata": {},
   "source": [
    "**Взвешивание классов**: Модель - **Логистическая регрессия**"
   ]
  },
  {
   "cell_type": "code",
   "execution_count": 157,
   "metadata": {},
   "outputs": [
    {
     "name": "stdout",
     "output_type": "stream",
     "text": [
      "F1 - мера: 0.56\n",
      "AUC-ROC: 0.77\n"
     ]
    }
   ],
   "source": [
    "model3 = LogisticRegression(random_state=1234567, max_iter=1000, solver='liblinear', class_weight='balanced')\n",
    "model3.fit(features_train, target_train) \n",
    "predicted_valid3 = model3.predict(features_valid)\n",
    "result3 = f1_score(target_valid, predicted_valid)\n",
    "probabilities_valid3 = model3.predict_proba(features_valid)\n",
    "probabilities_one_valid3 = probabilities_valid3[:, 1]\n",
    "auc_roc3 = roc_auc_score(target_valid, probabilities_one_valid3)\n",
    "print(\"F1 - мера:\", result3.round(2))\n",
    "print(\"AUC-ROC:\", auc_roc3.round(2))"
   ]
  },
  {
   "cell_type": "markdown",
   "metadata": {},
   "source": [
    "**Вывод о рабооте моделей на выборке со Взвешиванием классов:**  \n",
    "Модель - **Дерево решений** используя 5 ветвей, F1-мера: 0.59, AUC-ROC: 0.85.  \n",
    "Модель - **Случайный лес** F1-мера: 0.62, при 100 деревьях с 18 ветвями. AUC-ROC: 0.86.  \n",
    "Модель - **Логистическая регрессия** F1-мера: 0.56, AUC-ROC: 0.77.  \n",
    "**Целевого F1-мера: 0.59. достигли модели: Дерево решений и Случайный лес**"
   ]
  },
  {
   "cell_type": "markdown",
   "metadata": {},
   "source": [
    "**Увеличение выборки**"
   ]
  },
  {
   "cell_type": "code",
   "execution_count": 158,
   "metadata": {},
   "outputs": [],
   "source": [
    "def upsample(features, target, repeat):\n",
    "    features_zeros = features[target == 0]\n",
    "    features_ones = features[target == 1]\n",
    "    target_zeros = target[target == 0]\n",
    "    target_ones = target[target == 1]\n",
    "\n",
    "    features_upsampled = pd.concat([features_zeros] + [features_ones] * repeat)\n",
    "    target_upsampled = pd.concat([target_zeros] + [target_ones] * repeat)\n",
    "    \n",
    "    features_upsampled, target_upsampled = shuffle(\n",
    "        features_upsampled, target_upsampled, random_state=12345)\n",
    "    \n",
    "    return features_upsampled, target_upsampled\n",
    "\n",
    "features_upsampled, target_upsampled = upsample(features_train, target_train, 4)"
   ]
  },
  {
   "cell_type": "markdown",
   "metadata": {},
   "source": [
    "Техника **upsampling**: Модель - **Дерево решений**"
   ]
  },
  {
   "cell_type": "code",
   "execution_count": 159,
   "metadata": {},
   "outputs": [
    {
     "name": "stdout",
     "output_type": "stream",
     "text": [
      "F1 - мера: 0.59\n",
      "AUC-ROC: 0.85\n",
      "Количество ветвей наилучшей модели на валидационной выборке: 5\n"
     ]
    }
   ],
   "source": [
    "best_result = 0\n",
    "best_auc_roc = 0\n",
    "best_depth = 0\n",
    "for depth in range(1, 21):\n",
    "    model = DecisionTreeClassifier(random_state=1234567, max_depth=depth)\n",
    "    model.fit(features_upsampled, target_upsampled)\n",
    "    predicted_valid = model.predict(features_valid)\n",
    "    probabilities_valid = model.predict_proba(features_valid)\n",
    "    probabilities_one_valid = probabilities_valid[:, 1]\n",
    "    auc_roc = roc_auc_score(target_valid, probabilities_one_valid)\n",
    "    result = f1_score(target_valid, predicted_valid)\n",
    "    if result > best_result:\n",
    "            best_auc_roc = auc_roc\n",
    "            best_result = result\n",
    "            best_depth = depth\n",
    "print(\"F1 - мера:\", best_result.round(2))\n",
    "print(\"AUC-ROC:\", best_auc_roc.round(2))\n",
    "print(\"Количество ветвей наилучшей модели на валидационной выборке:\", best_depth)  "
   ]
  },
  {
   "cell_type": "markdown",
   "metadata": {},
   "source": [
    "Техника **upsampling**: Модель - **Случайный лес**"
   ]
  },
  {
   "cell_type": "code",
   "execution_count": 160,
   "metadata": {},
   "outputs": [
    {
     "name": "stdout",
     "output_type": "stream",
     "text": [
      "F1 - мера: 0.57\n",
      "AUC-ROC: 0.84\n",
      "Количество деревьев наилучшей модели на валидационной выборке: 150\n",
      "Количество ветвей наилучшей модели на валидационной выборке: 9\n"
     ]
    }
   ],
   "source": [
    "best_result2 = 0\n",
    "best_auc_roc2 = 0\n",
    "best_est2 = 0\n",
    "best_depth2 = 0\n",
    "for est in range(10, 161, 10):\n",
    "    for depth in range(1, 11):\n",
    "        model2 = RandomForestClassifier(random_state=1234567, n_estimators= est, max_depth=depth) \n",
    "        model2.fit(features_upsampled, target_upsampled)\n",
    "        predicted_valid2 = model2.predict(features_valid)\n",
    "        probabilities_valid2 = model2.predict_proba(features_valid)\n",
    "        probabilities_one_valid2 = probabilities_valid2[:, 1]\n",
    "        auc_roc2 = roc_auc_score(target_valid, probabilities_one_valid2)\n",
    "        result2 = f1_score(target_valid, predicted_valid2)\n",
    "        if result2 > best_result2:\n",
    "            best_auc_roc2 = auc_roc2\n",
    "            best_result2 = result2\n",
    "            best_depth2 = depth\n",
    "            best_est2 = est\n",
    "print(\"F1 - мера:\", best_result2.round(2))\n",
    "print(\"AUC-ROC:\", best_auc_roc2.round(2))\n",
    "print(\"Количество деревьев наилучшей модели на валидационной выборке:\", best_est2)\n",
    "print(\"Количество ветвей наилучшей модели на валидационной выборке:\", best_depth2)  "
   ]
  },
  {
   "cell_type": "markdown",
   "metadata": {},
   "source": [
    "Техника **upsampling**: Модель - **Логистическая регрессия**"
   ]
  },
  {
   "cell_type": "code",
   "execution_count": 161,
   "metadata": {},
   "outputs": [
    {
     "name": "stdout",
     "output_type": "stream",
     "text": [
      "F1 - мера: 0.57\n",
      "AUC-ROC: 0.76\n"
     ]
    }
   ],
   "source": [
    "model3 = LogisticRegression(random_state=1234567, max_iter=1000, solver='liblinear')\n",
    "model3.fit(features_upsampled, target_upsampled) \n",
    "predicted_valid3 = model3.predict(features_valid)\n",
    "result3 = f1_score(target_valid, predicted_valid)\n",
    "probabilities_valid3 = model3.predict_proba(features_valid)\n",
    "probabilities_one_valid3 = probabilities_valid3[:, 1]\n",
    "auc_roc3 = roc_auc_score(target_valid, probabilities_one_valid3)\n",
    "print(\"F1 - мера:\", result3.round(2))\n",
    "print(\"AUC-ROC:\", auc_roc3.round(2))"
   ]
  },
  {
   "cell_type": "markdown",
   "metadata": {},
   "source": [
    "**Вывод о рабооте моделей на выборке с Увеличением выборки:**   \n",
    "Модель - **Дерево решений** используя 5 ветвей, F1-мера: 0.59, AUC-ROC: 0.85.  \n",
    "Модель - **Случайный лес** F1-мера: 0.57, при 150 деревьях с 9 ветвями. AUC-ROC: 0.84.    \n",
    "Модель - **Логистическая регрессия** F1-мера: 0.57, AUC-ROC: 0.76.  \n",
    "**Целевого F1-мера: 0.59. достигла модель: Дерево решений.**\n"
   ]
  },
  {
   "cell_type": "markdown",
   "metadata": {},
   "source": [
    "**Уменьшение выборки**"
   ]
  },
  {
   "cell_type": "code",
   "execution_count": 162,
   "metadata": {},
   "outputs": [],
   "source": [
    "def downsample(features, target, fraction):\n",
    "    features_zeros = features[target == 0]\n",
    "    features_ones = features[target == 1]\n",
    "    target_zeros = target[target == 0]\n",
    "    target_ones = target[target == 1]\n",
    "\n",
    "    features_downsampled = pd.concat(\n",
    "        [features_zeros.sample(frac=fraction, random_state=12345)] + [features_ones])\n",
    "    target_downsampled = pd.concat(\n",
    "        [target_zeros.sample(frac=fraction, random_state=12345)] + [target_ones])\n",
    "    \n",
    "    features_downsampled, target_downsampled = shuffle(\n",
    "        features_downsampled, target_downsampled, random_state=12345)\n",
    "    \n",
    "    return features_downsampled, target_downsampled\n",
    "\n",
    "features_downsampled, target_downsampled = downsample(features_train, target_train, 0.25)"
   ]
  },
  {
   "cell_type": "markdown",
   "metadata": {},
   "source": [
    "**Техника downsampling:** Модель - **Дерево решений**"
   ]
  },
  {
   "cell_type": "code",
   "execution_count": 163,
   "metadata": {},
   "outputs": [
    {
     "name": "stdout",
     "output_type": "stream",
     "text": [
      "F1 - мера: 0.59\n",
      "AUC-ROC: 0.85\n",
      "Количество ветвей наилучшей модели на валидационной выборке: 5\n"
     ]
    }
   ],
   "source": [
    "best_result = 0\n",
    "best_auc_roc = 0\n",
    "best_depth = 0\n",
    "for depth in range(1, 21):\n",
    "    model = DecisionTreeClassifier(random_state=1234567, max_depth=depth)\n",
    "    model.fit(features_downsampled, target_downsampled)\n",
    "    predicted_valid = model.predict(features_valid)\n",
    "    probabilities_valid = model.predict_proba(features_valid)\n",
    "    probabilities_one_valid = probabilities_valid[:, 1]\n",
    "    auc_roc = roc_auc_score(target_valid, probabilities_one_valid)\n",
    "    result = f1_score(target_valid, predicted_valid)\n",
    "    if result > best_result:\n",
    "            best_auc_roc = auc_roc\n",
    "            best_result = result\n",
    "            best_depth = depth\n",
    "print(\"F1 - мера:\", best_result.round(2))\n",
    "print(\"AUC-ROC:\", best_auc_roc.round(2))\n",
    "print(\"Количество ветвей наилучшей модели на валидационной выборке:\", best_depth)  "
   ]
  },
  {
   "cell_type": "markdown",
   "metadata": {},
   "source": [
    "**Техника downsampling:** Модель - **Случайный лес**"
   ]
  },
  {
   "cell_type": "code",
   "execution_count": 164,
   "metadata": {},
   "outputs": [
    {
     "name": "stdout",
     "output_type": "stream",
     "text": [
      "F1 - мера: 0.59\n",
      "AUC-ROC: 0.85\n",
      "Количество деревьев наилучшей модели на валидационной выборке: 140\n",
      "Количество ветвей наилучшей модели на валидационной выборке: 20\n"
     ]
    }
   ],
   "source": [
    "best_result2 = 0\n",
    "best_auc_roc2 = 0\n",
    "best_est2 = 0\n",
    "best_depth2 = 0\n",
    "for est in range(10, 151, 10):\n",
    "    for depth in range(1, 21):\n",
    "        model2 = RandomForestClassifier(random_state=1234567, n_estimators= est, max_depth=depth) \n",
    "        model2.fit(features_downsampled, target_downsampled)\n",
    "        predicted_valid2 = model2.predict(features_valid)\n",
    "        probabilities_valid2 = model2.predict_proba(features_valid)\n",
    "        probabilities_one_valid2 = probabilities_valid2[:, 1]\n",
    "        auc_roc2 = roc_auc_score(target_valid, probabilities_one_valid2)\n",
    "        result2 = f1_score(target_valid, predicted_valid2)\n",
    "        if result2 > best_result2:\n",
    "            best_auc_roc2 = auc_roc2\n",
    "            best_result2 = result2\n",
    "            best_depth2 = depth\n",
    "            best_est2 = est\n",
    "print(\"F1 - мера:\", best_result2.round(2))\n",
    "print(\"AUC-ROC:\", best_auc_roc2.round(2))\n",
    "print(\"Количество деревьев наилучшей модели на валидационной выборке:\", best_est2)\n",
    "print(\"Количество ветвей наилучшей модели на валидационной выборке:\", best_depth2)  "
   ]
  },
  {
   "cell_type": "markdown",
   "metadata": {},
   "source": [
    "**Техника downsampling:** Модель - **Логистическая регрессия**"
   ]
  },
  {
   "cell_type": "code",
   "execution_count": 165,
   "metadata": {},
   "outputs": [
    {
     "name": "stdout",
     "output_type": "stream",
     "text": [
      "F1 - мера: 0.55\n",
      "AUC-ROC: 0.79\n"
     ]
    }
   ],
   "source": [
    "model3 = LogisticRegression(random_state=1234567, max_iter=1000, solver='liblinear')\n",
    "model3.fit(features_downsampled, target_downsampled) \n",
    "predicted_valid3 = model3.predict(features_valid)\n",
    "result3 = f1_score(target_valid, predicted_valid)\n",
    "probabilities_valid3 = model3.predict_proba(features_valid)\n",
    "probabilities_one_valid3 = probabilities_valid3[:, 1]\n",
    "auc_roc3 = roc_auc_score(target_valid, probabilities_one_valid3)\n",
    "print(\"F1 - мера:\", result3.round(2))\n",
    "print(\"AUC-ROC:\", auc_roc3.round(2))"
   ]
  },
  {
   "cell_type": "markdown",
   "metadata": {},
   "source": [
    "**Вывод о рабооте моделей на выборке с Уменьшением выборки:**  \n",
    "Модель - **Дерево решений** используя 5 ветвей, F1-мера: 0.59, AUC-ROC: 0.85.  \n",
    "Модель - **Случайный лес** F1-мера: 0.6, при 120 деревьях с 26 ветвями. AUC-ROC: 0.85.   \n",
    "Модель - **Логистическая регрессия** F1-мера: 0.55, AUC-ROC: 0.79.  \n",
    "**Целевого F1-мера: 0.59. достигла модель: Дерево решений и Случайный лес**\n"
   ]
  },
  {
   "cell_type": "markdown",
   "metadata": {},
   "source": [
    "**ВЫВОД по разделу улучшения моделей:**\n",
    "По итогу проведенного исследования наилучший показатель F1-меры был достигнут моделью Случайного леса, при взвешивании классов, который составил 0,62. Данную модель я буду использовать для финального тестирования.\n",
    "\n",
    "Параметр AUC-ROC я измеряла на в каждой модели и можно отметить что AUC показывает более оптимистичную оценку модели поскольку усредняет пороговые значения, в отличии от чем F1-меры, которая является средним гармоническим между Полнотой и Точностью.\n",
    "Что очень сильно было заметно при расчете метрик Случайного леса где был дисбаланс классов. F1-мера составила 0,11, а AUC при этом был 0,81 что является высоким показателем, но при этом вероятность предсказания положительного класса recall, почти на \"0\"."
   ]
  },
  {
   "cell_type": "markdown",
   "metadata": {},
   "source": [
    "## Тестирование модели"
   ]
  },
  {
   "cell_type": "markdown",
   "metadata": {},
   "source": [
    "Произведем  финальное тестирование модели Случайный лес, при взвешивании классов: количество деревьев - 100, количество ветвей - 18."
   ]
  },
  {
   "cell_type": "code",
   "execution_count": 166,
   "metadata": {},
   "outputs": [
    {
     "name": "stdout",
     "output_type": "stream",
     "text": [
      "F1-мера: 0.61\n",
      "AUC-ROC: 0.85\n"
     ]
    }
   ],
   "source": [
    "model = RandomForestClassifier(random_state=1234567, n_estimators= 100, max_depth=18, max_features=None, class_weight='balanced') \n",
    "model.fit(features_train, target_train)\n",
    "\n",
    "predicted_test = model.predict(features_test)\n",
    "probabilities_test = model.predict_proba(features_test)\n",
    "probabilities_one_test = probabilities_test[:, 1]\n",
    "auc_roc = roc_auc_score(target_test, probabilities_one_test)\n",
    "result = f1_score(target_test, predicted_test)\n",
    "\n",
    "print(\"F1-мера:\", result.round(2))\n",
    "print(\"AUC-ROC:\", auc_roc.round(2))"
   ]
  },
  {
   "cell_type": "markdown",
   "metadata": {},
   "source": [
    "**F1-мера на тестовой выборке равна- 0.61, целевое значение F1-мера:0.59 - достигнуто.**"
   ]
  },
  {
   "cell_type": "code",
   "execution_count": null,
   "metadata": {},
   "outputs": [],
   "source": []
  }
 ],
 "metadata": {
  "ExecuteTimeLog": [
   {
    "duration": 44,
    "start_time": "2023-09-19T13:05:49.324Z"
   },
   {
    "duration": 79,
    "start_time": "2023-09-19T13:05:51.912Z"
   },
   {
    "duration": 1330,
    "start_time": "2023-09-19T13:06:15.335Z"
   },
   {
    "duration": 82,
    "start_time": "2023-09-19T13:06:16.804Z"
   },
   {
    "duration": 17,
    "start_time": "2023-09-19T13:06:17.568Z"
   },
   {
    "duration": 18,
    "start_time": "2023-09-19T13:12:27.970Z"
   },
   {
    "duration": 8,
    "start_time": "2023-09-19T13:16:21.794Z"
   },
   {
    "duration": 19,
    "start_time": "2023-09-19T13:16:52.992Z"
   },
   {
    "duration": 1114,
    "start_time": "2023-09-20T12:50:47.018Z"
   },
   {
    "duration": 157,
    "start_time": "2023-09-20T12:50:48.134Z"
   },
   {
    "duration": 17,
    "start_time": "2023-09-20T12:50:48.293Z"
   },
   {
    "duration": 36,
    "start_time": "2023-09-20T12:50:48.312Z"
   },
   {
    "duration": 7,
    "start_time": "2023-09-20T12:50:48.350Z"
   },
   {
    "duration": 18,
    "start_time": "2023-09-20T12:50:48.359Z"
   },
   {
    "duration": 14,
    "start_time": "2023-09-20T12:59:02.104Z"
   },
   {
    "duration": 3,
    "start_time": "2023-09-20T13:00:12.658Z"
   },
   {
    "duration": 21,
    "start_time": "2023-09-20T13:01:22.802Z"
   },
   {
    "duration": 11,
    "start_time": "2023-09-20T13:02:46.976Z"
   },
   {
    "duration": 3,
    "start_time": "2023-09-20T13:03:02.663Z"
   },
   {
    "duration": 8,
    "start_time": "2023-09-20T13:13:25.594Z"
   },
   {
    "duration": 2189,
    "start_time": "2023-09-20T13:14:28.011Z"
   },
   {
    "duration": 20,
    "start_time": "2023-09-20T13:14:40.102Z"
   },
   {
    "duration": 142,
    "start_time": "2023-09-20T13:14:55.558Z"
   },
   {
    "duration": 6,
    "start_time": "2023-09-20T13:15:28.400Z"
   },
   {
    "duration": 4,
    "start_time": "2023-09-20T13:15:48.601Z"
   },
   {
    "duration": 6,
    "start_time": "2023-09-20T13:15:54.131Z"
   },
   {
    "duration": 4,
    "start_time": "2023-09-20T13:16:26.387Z"
   },
   {
    "duration": 5,
    "start_time": "2023-09-20T13:16:43.794Z"
   },
   {
    "duration": 13,
    "start_time": "2023-09-20T13:22:34.824Z"
   },
   {
    "duration": 14,
    "start_time": "2023-09-20T13:25:55.849Z"
   },
   {
    "duration": 98,
    "start_time": "2023-09-20T13:31:07.962Z"
   },
   {
    "duration": 116,
    "start_time": "2023-09-20T13:31:25.268Z"
   },
   {
    "duration": 20,
    "start_time": "2023-09-20T13:34:44.750Z"
   },
   {
    "duration": 2170,
    "start_time": "2023-09-20T13:35:30.715Z"
   },
   {
    "duration": 4,
    "start_time": "2023-09-20T13:35:35.566Z"
   },
   {
    "duration": 12,
    "start_time": "2023-09-20T13:35:49.864Z"
   },
   {
    "duration": 10,
    "start_time": "2023-09-20T13:36:04.200Z"
   },
   {
    "duration": 9,
    "start_time": "2023-09-20T13:36:26.831Z"
   },
   {
    "duration": 12,
    "start_time": "2023-09-20T13:36:28.948Z"
   },
   {
    "duration": 8,
    "start_time": "2023-09-20T13:36:38.301Z"
   },
   {
    "duration": 7,
    "start_time": "2023-09-20T13:36:47.517Z"
   },
   {
    "duration": 8,
    "start_time": "2023-09-20T13:37:09.125Z"
   },
   {
    "duration": 25,
    "start_time": "2023-09-20T13:37:18.966Z"
   },
   {
    "duration": 9,
    "start_time": "2023-09-20T13:37:21.919Z"
   },
   {
    "duration": 7,
    "start_time": "2023-09-20T13:37:45.169Z"
   },
   {
    "duration": 8,
    "start_time": "2023-09-20T13:38:38.110Z"
   },
   {
    "duration": 9,
    "start_time": "2023-09-20T13:38:50.398Z"
   },
   {
    "duration": 9,
    "start_time": "2023-09-20T13:39:01.457Z"
   },
   {
    "duration": 9,
    "start_time": "2023-09-20T13:39:08.318Z"
   },
   {
    "duration": 24,
    "start_time": "2023-09-20T13:39:18.048Z"
   },
   {
    "duration": 3,
    "start_time": "2023-09-20T13:39:58.392Z"
   },
   {
    "duration": 11,
    "start_time": "2023-09-20T13:40:09.656Z"
   },
   {
    "duration": 9,
    "start_time": "2023-09-20T13:40:15.698Z"
   },
   {
    "duration": 8,
    "start_time": "2023-09-20T13:40:20.921Z"
   },
   {
    "duration": 4,
    "start_time": "2023-09-20T13:40:38.947Z"
   },
   {
    "duration": 5,
    "start_time": "2023-09-20T13:41:27.789Z"
   },
   {
    "duration": 6,
    "start_time": "2023-09-20T13:41:43.968Z"
   },
   {
    "duration": 7,
    "start_time": "2023-09-20T13:42:00.864Z"
   },
   {
    "duration": 6,
    "start_time": "2023-09-20T13:42:41.233Z"
   },
   {
    "duration": 4,
    "start_time": "2023-09-20T13:42:46.948Z"
   },
   {
    "duration": 5,
    "start_time": "2023-09-20T13:43:44.188Z"
   },
   {
    "duration": 3,
    "start_time": "2023-09-20T14:03:05.124Z"
   },
   {
    "duration": 97,
    "start_time": "2023-09-20T14:09:39.662Z"
   },
   {
    "duration": 19,
    "start_time": "2023-09-20T14:09:57.306Z"
   },
   {
    "duration": 4,
    "start_time": "2023-09-20T14:19:02.147Z"
   },
   {
    "duration": 5,
    "start_time": "2023-09-20T14:19:21.019Z"
   },
   {
    "duration": 5,
    "start_time": "2023-09-20T14:19:49.669Z"
   },
   {
    "duration": 560,
    "start_time": "2023-09-20T14:20:25.297Z"
   },
   {
    "duration": 127,
    "start_time": "2023-09-20T14:21:26.547Z"
   },
   {
    "duration": 129,
    "start_time": "2023-09-20T14:21:38.650Z"
   },
   {
    "duration": 236,
    "start_time": "2023-09-20T14:22:04.222Z"
   },
   {
    "duration": 112,
    "start_time": "2023-09-20T14:22:14.661Z"
   },
   {
    "duration": 172,
    "start_time": "2023-09-20T14:23:18.276Z"
   },
   {
    "duration": 125,
    "start_time": "2023-09-20T14:23:36.376Z"
   },
   {
    "duration": 111,
    "start_time": "2023-09-20T14:24:39.679Z"
   },
   {
    "duration": 5,
    "start_time": "2023-09-20T14:25:34.469Z"
   },
   {
    "duration": 127,
    "start_time": "2023-09-20T14:25:41.919Z"
   },
   {
    "duration": 120,
    "start_time": "2023-09-20T14:31:14.744Z"
   },
   {
    "duration": 144,
    "start_time": "2023-09-20T14:32:22.719Z"
   },
   {
    "duration": 111,
    "start_time": "2023-09-20T14:32:45.962Z"
   },
   {
    "duration": 119,
    "start_time": "2023-09-20T14:33:11.870Z"
   },
   {
    "duration": 125,
    "start_time": "2023-09-20T14:33:31.429Z"
   },
   {
    "duration": 135,
    "start_time": "2023-09-20T14:46:57.736Z"
   },
   {
    "duration": 117,
    "start_time": "2023-09-20T14:48:58.874Z"
   },
   {
    "duration": 1172,
    "start_time": "2023-09-21T12:33:24.154Z"
   },
   {
    "duration": 87,
    "start_time": "2023-09-21T12:33:25.328Z"
   },
   {
    "duration": 23,
    "start_time": "2023-09-21T12:33:25.417Z"
   },
   {
    "duration": 36,
    "start_time": "2023-09-21T12:33:25.444Z"
   },
   {
    "duration": 52,
    "start_time": "2023-09-21T12:33:25.482Z"
   },
   {
    "duration": 22,
    "start_time": "2023-09-21T12:33:25.535Z"
   },
   {
    "duration": 8,
    "start_time": "2023-09-21T12:33:25.559Z"
   },
   {
    "duration": 24,
    "start_time": "2023-09-21T12:33:25.569Z"
   },
   {
    "duration": 5,
    "start_time": "2023-09-21T12:33:25.595Z"
   },
   {
    "duration": 26,
    "start_time": "2023-09-21T12:33:25.604Z"
   },
   {
    "duration": 17,
    "start_time": "2023-09-21T12:33:25.632Z"
   },
   {
    "duration": 5,
    "start_time": "2023-09-21T12:33:25.651Z"
   },
   {
    "duration": 647,
    "start_time": "2023-09-21T12:33:25.658Z"
   },
   {
    "duration": 129,
    "start_time": "2023-09-21T12:33:26.308Z"
   },
   {
    "duration": 6,
    "start_time": "2023-09-21T12:33:26.438Z"
   },
   {
    "duration": 176,
    "start_time": "2023-09-21T12:33:26.445Z"
   },
   {
    "duration": 158,
    "start_time": "2023-09-21T12:33:26.623Z"
   },
   {
    "duration": 160,
    "start_time": "2023-09-21T12:33:26.783Z"
   },
   {
    "duration": 233,
    "start_time": "2023-09-21T12:33:26.945Z"
   },
   {
    "duration": 162,
    "start_time": "2023-09-21T12:33:27.180Z"
   },
   {
    "duration": 144,
    "start_time": "2023-09-21T12:33:27.343Z"
   },
   {
    "duration": 152,
    "start_time": "2023-09-21T12:33:27.489Z"
   },
   {
    "duration": 166,
    "start_time": "2023-09-21T12:33:27.643Z"
   },
   {
    "duration": 4,
    "start_time": "2023-09-21T12:33:27.811Z"
   },
   {
    "duration": 125,
    "start_time": "2023-09-21T12:33:27.816Z"
   },
   {
    "duration": 8,
    "start_time": "2023-09-21T12:37:20.478Z"
   },
   {
    "duration": 8,
    "start_time": "2023-09-21T12:38:07.477Z"
   },
   {
    "duration": 187,
    "start_time": "2023-09-21T13:02:52.589Z"
   },
   {
    "duration": 158,
    "start_time": "2023-09-21T13:03:10.509Z"
   },
   {
    "duration": 165,
    "start_time": "2023-09-21T13:05:01.409Z"
   },
   {
    "duration": 154,
    "start_time": "2023-09-21T13:10:06.153Z"
   },
   {
    "duration": 153,
    "start_time": "2023-09-21T13:10:21.179Z"
   },
   {
    "duration": 12,
    "start_time": "2023-09-21T13:10:23.049Z"
   },
   {
    "duration": 180,
    "start_time": "2023-09-21T13:15:10.590Z"
   },
   {
    "duration": 142,
    "start_time": "2023-09-21T14:17:52.161Z"
   },
   {
    "duration": 250,
    "start_time": "2023-09-21T14:18:15.933Z"
   },
   {
    "duration": 146,
    "start_time": "2023-09-21T14:18:42.027Z"
   },
   {
    "duration": 143,
    "start_time": "2023-09-21T14:18:49.418Z"
   },
   {
    "duration": 147,
    "start_time": "2023-09-21T14:19:15.718Z"
   },
   {
    "duration": 146,
    "start_time": "2023-09-21T14:19:31.691Z"
   },
   {
    "duration": 206,
    "start_time": "2023-09-21T14:21:19.417Z"
   },
   {
    "duration": 8,
    "start_time": "2023-09-21T14:26:10.965Z"
   },
   {
    "duration": 35,
    "start_time": "2023-09-21T14:26:10.982Z"
   },
   {
    "duration": 16,
    "start_time": "2023-09-21T14:26:11.035Z"
   },
   {
    "duration": 21,
    "start_time": "2023-09-21T14:26:11.064Z"
   },
   {
    "duration": 0,
    "start_time": "2023-09-21T14:26:13.549Z"
   },
   {
    "duration": 0,
    "start_time": "2023-09-21T14:26:13.553Z"
   },
   {
    "duration": 0,
    "start_time": "2023-09-21T14:26:13.556Z"
   },
   {
    "duration": 0,
    "start_time": "2023-09-21T14:26:13.559Z"
   },
   {
    "duration": 0,
    "start_time": "2023-09-21T14:26:13.562Z"
   },
   {
    "duration": 0,
    "start_time": "2023-09-21T14:26:13.565Z"
   },
   {
    "duration": 0,
    "start_time": "2023-09-21T14:26:13.567Z"
   },
   {
    "duration": 0,
    "start_time": "2023-09-21T14:26:13.571Z"
   },
   {
    "duration": 0,
    "start_time": "2023-09-21T14:26:13.574Z"
   },
   {
    "duration": 0,
    "start_time": "2023-09-21T14:26:13.577Z"
   },
   {
    "duration": 0,
    "start_time": "2023-09-21T14:26:13.579Z"
   },
   {
    "duration": 0,
    "start_time": "2023-09-21T14:26:13.582Z"
   },
   {
    "duration": 0,
    "start_time": "2023-09-21T14:26:13.585Z"
   },
   {
    "duration": 0,
    "start_time": "2023-09-21T14:26:13.588Z"
   },
   {
    "duration": 0,
    "start_time": "2023-09-21T14:26:13.590Z"
   },
   {
    "duration": 0,
    "start_time": "2023-09-21T14:26:13.610Z"
   },
   {
    "duration": 0,
    "start_time": "2023-09-21T14:26:13.613Z"
   },
   {
    "duration": 0,
    "start_time": "2023-09-21T14:26:13.616Z"
   },
   {
    "duration": 0,
    "start_time": "2023-09-21T14:26:13.617Z"
   },
   {
    "duration": 0,
    "start_time": "2023-09-21T14:26:13.619Z"
   },
   {
    "duration": 0,
    "start_time": "2023-09-21T14:26:13.620Z"
   },
   {
    "duration": 4,
    "start_time": "2023-09-21T14:27:43.423Z"
   },
   {
    "duration": 59,
    "start_time": "2023-09-21T14:27:43.428Z"
   },
   {
    "duration": 16,
    "start_time": "2023-09-21T14:27:43.489Z"
   },
   {
    "duration": 6,
    "start_time": "2023-09-21T14:27:43.508Z"
   },
   {
    "duration": 6,
    "start_time": "2023-09-21T14:27:43.516Z"
   },
   {
    "duration": 18,
    "start_time": "2023-09-21T14:27:43.524Z"
   },
   {
    "duration": 9,
    "start_time": "2023-09-21T14:27:43.544Z"
   },
   {
    "duration": 40,
    "start_time": "2023-09-21T14:27:43.555Z"
   },
   {
    "duration": 19,
    "start_time": "2023-09-21T14:27:43.596Z"
   },
   {
    "duration": 28,
    "start_time": "2023-09-21T14:27:43.616Z"
   },
   {
    "duration": 45,
    "start_time": "2023-09-21T14:27:43.646Z"
   },
   {
    "duration": 19,
    "start_time": "2023-09-21T14:27:43.693Z"
   },
   {
    "duration": 202,
    "start_time": "2023-09-21T14:27:43.714Z"
   },
   {
    "duration": 137,
    "start_time": "2023-09-21T14:27:43.920Z"
   },
   {
    "duration": 6,
    "start_time": "2023-09-21T14:27:44.059Z"
   },
   {
    "duration": 185,
    "start_time": "2023-09-21T14:27:44.066Z"
   },
   {
    "duration": 135840,
    "start_time": "2023-09-21T14:27:44.253Z"
   },
   {
    "duration": 184,
    "start_time": "2023-09-21T14:30:00.096Z"
   },
   {
    "duration": 166,
    "start_time": "2023-09-21T14:30:00.282Z"
   },
   {
    "duration": 183,
    "start_time": "2023-09-21T14:30:00.450Z"
   },
   {
    "duration": 154,
    "start_time": "2023-09-21T14:30:00.635Z"
   },
   {
    "duration": 183,
    "start_time": "2023-09-21T14:30:00.791Z"
   },
   {
    "duration": 168,
    "start_time": "2023-09-21T14:30:00.976Z"
   },
   {
    "duration": 4,
    "start_time": "2023-09-21T14:30:01.146Z"
   },
   {
    "duration": 216,
    "start_time": "2023-09-21T14:30:01.152Z"
   },
   {
    "duration": 147,
    "start_time": "2023-09-21T14:30:54.396Z"
   },
   {
    "duration": 140685,
    "start_time": "2023-09-21T14:33:57.182Z"
   },
   {
    "duration": 200,
    "start_time": "2023-09-21T14:37:05.221Z"
   },
   {
    "duration": 163,
    "start_time": "2023-09-21T14:37:56.084Z"
   },
   {
    "duration": 148,
    "start_time": "2023-09-21T14:38:33.664Z"
   },
   {
    "duration": 170,
    "start_time": "2023-09-21T14:40:35.522Z"
   },
   {
    "duration": 173,
    "start_time": "2023-09-21T14:41:23.035Z"
   },
   {
    "duration": 179,
    "start_time": "2023-09-21T14:41:42.696Z"
   },
   {
    "duration": 159,
    "start_time": "2023-09-21T14:42:03.483Z"
   },
   {
    "duration": 139,
    "start_time": "2023-09-21T14:43:37.077Z"
   },
   {
    "duration": 140,
    "start_time": "2023-09-21T14:44:48.245Z"
   },
   {
    "duration": 157,
    "start_time": "2023-09-21T14:45:09.955Z"
   },
   {
    "duration": 142,
    "start_time": "2023-09-21T14:45:18.863Z"
   },
   {
    "duration": 166,
    "start_time": "2023-09-21T14:46:12.111Z"
   },
   {
    "duration": 201,
    "start_time": "2023-09-21T14:46:25.219Z"
   },
   {
    "duration": 402,
    "start_time": "2023-09-21T14:46:37.404Z"
   },
   {
    "duration": 239,
    "start_time": "2023-09-21T14:46:45.289Z"
   },
   {
    "duration": 178,
    "start_time": "2023-09-21T14:46:52.911Z"
   },
   {
    "duration": 167,
    "start_time": "2023-09-21T14:47:00.854Z"
   },
   {
    "duration": 163,
    "start_time": "2023-09-21T14:47:08.636Z"
   },
   {
    "duration": 91,
    "start_time": "2023-09-21T14:49:45.619Z"
   },
   {
    "duration": 216,
    "start_time": "2023-09-21T14:52:43.896Z"
   },
   {
    "duration": 32,
    "start_time": "2023-09-21T14:53:07.653Z"
   },
   {
    "duration": 5,
    "start_time": "2023-09-21T14:53:16.766Z"
   },
   {
    "duration": 152,
    "start_time": "2023-09-21T15:04:27.602Z"
   },
   {
    "duration": 9,
    "start_time": "2023-09-21T15:18:03.520Z"
   },
   {
    "duration": 167,
    "start_time": "2023-09-21T15:18:14.455Z"
   },
   {
    "duration": 4,
    "start_time": "2023-09-21T15:18:16.751Z"
   },
   {
    "duration": 3,
    "start_time": "2023-09-21T15:18:26.148Z"
   },
   {
    "duration": 23,
    "start_time": "2023-09-21T15:19:40.696Z"
   },
   {
    "duration": 128,
    "start_time": "2023-09-21T15:25:33.465Z"
   },
   {
    "duration": 4,
    "start_time": "2023-09-21T15:25:43.705Z"
   },
   {
    "duration": 117,
    "start_time": "2023-09-21T15:25:52.922Z"
   },
   {
    "duration": 117,
    "start_time": "2023-09-21T15:26:07.359Z"
   },
   {
    "duration": 120,
    "start_time": "2023-09-21T15:27:46.486Z"
   },
   {
    "duration": 140,
    "start_time": "2023-09-21T15:28:03.686Z"
   },
   {
    "duration": 101,
    "start_time": "2023-09-21T15:29:09.632Z"
   },
   {
    "duration": 145,
    "start_time": "2023-09-21T15:31:23.213Z"
   },
   {
    "duration": 137,
    "start_time": "2023-09-21T15:31:33.709Z"
   },
   {
    "duration": 23,
    "start_time": "2023-09-21T15:31:39.649Z"
   },
   {
    "duration": 23,
    "start_time": "2023-09-21T15:31:47.328Z"
   },
   {
    "duration": 22,
    "start_time": "2023-09-21T15:32:05.556Z"
   },
   {
    "duration": 127,
    "start_time": "2023-09-21T15:34:04.751Z"
   },
   {
    "duration": 10,
    "start_time": "2023-09-21T15:34:44.757Z"
   },
   {
    "duration": 4,
    "start_time": "2023-09-21T15:35:06.191Z"
   },
   {
    "duration": 4,
    "start_time": "2023-09-21T15:35:17.865Z"
   },
   {
    "duration": 146,
    "start_time": "2023-09-21T15:35:41.622Z"
   },
   {
    "duration": 6,
    "start_time": "2023-09-21T15:36:49.207Z"
   },
   {
    "duration": 141,
    "start_time": "2023-09-21T15:54:46.022Z"
   },
   {
    "duration": 10,
    "start_time": "2023-09-21T16:01:25.107Z"
   },
   {
    "duration": 7,
    "start_time": "2023-09-21T16:01:34.733Z"
   },
   {
    "duration": 3,
    "start_time": "2023-09-21T16:01:47.022Z"
   },
   {
    "duration": 50,
    "start_time": "2023-09-21T16:01:47.027Z"
   },
   {
    "duration": 16,
    "start_time": "2023-09-21T16:01:47.079Z"
   },
   {
    "duration": 8,
    "start_time": "2023-09-21T16:01:47.097Z"
   },
   {
    "duration": 28,
    "start_time": "2023-09-21T16:01:47.107Z"
   },
   {
    "duration": 42,
    "start_time": "2023-09-21T16:01:47.137Z"
   },
   {
    "duration": 22,
    "start_time": "2023-09-21T16:01:47.182Z"
   },
   {
    "duration": 43,
    "start_time": "2023-09-21T16:01:47.206Z"
   },
   {
    "duration": 88,
    "start_time": "2023-09-21T16:01:47.250Z"
   },
   {
    "duration": 0,
    "start_time": "2023-09-21T16:01:47.340Z"
   },
   {
    "duration": 0,
    "start_time": "2023-09-21T16:01:47.341Z"
   },
   {
    "duration": 0,
    "start_time": "2023-09-21T16:01:47.342Z"
   },
   {
    "duration": 0,
    "start_time": "2023-09-21T16:01:47.343Z"
   },
   {
    "duration": 0,
    "start_time": "2023-09-21T16:01:47.344Z"
   },
   {
    "duration": 0,
    "start_time": "2023-09-21T16:01:47.345Z"
   },
   {
    "duration": 0,
    "start_time": "2023-09-21T16:01:47.347Z"
   },
   {
    "duration": 0,
    "start_time": "2023-09-21T16:01:47.348Z"
   },
   {
    "duration": 0,
    "start_time": "2023-09-21T16:01:47.349Z"
   },
   {
    "duration": 0,
    "start_time": "2023-09-21T16:01:47.350Z"
   },
   {
    "duration": 0,
    "start_time": "2023-09-21T16:01:47.350Z"
   },
   {
    "duration": 0,
    "start_time": "2023-09-21T16:01:47.352Z"
   },
   {
    "duration": 0,
    "start_time": "2023-09-21T16:01:47.353Z"
   },
   {
    "duration": 0,
    "start_time": "2023-09-21T16:01:47.354Z"
   },
   {
    "duration": 0,
    "start_time": "2023-09-21T16:01:47.355Z"
   },
   {
    "duration": 0,
    "start_time": "2023-09-21T16:01:47.356Z"
   },
   {
    "duration": 0,
    "start_time": "2023-09-21T16:01:47.357Z"
   },
   {
    "duration": 0,
    "start_time": "2023-09-21T16:01:47.358Z"
   },
   {
    "duration": 0,
    "start_time": "2023-09-21T16:01:47.359Z"
   },
   {
    "duration": 0,
    "start_time": "2023-09-21T16:01:47.360Z"
   },
   {
    "duration": 0,
    "start_time": "2023-09-21T16:01:47.361Z"
   },
   {
    "duration": 0,
    "start_time": "2023-09-21T16:01:47.362Z"
   },
   {
    "duration": 0,
    "start_time": "2023-09-21T16:01:47.363Z"
   },
   {
    "duration": 6,
    "start_time": "2023-09-21T16:02:48.461Z"
   },
   {
    "duration": 3,
    "start_time": "2023-09-21T16:02:51.599Z"
   },
   {
    "duration": 80,
    "start_time": "2023-09-21T16:02:51.607Z"
   },
   {
    "duration": 35,
    "start_time": "2023-09-21T16:02:51.690Z"
   },
   {
    "duration": 32,
    "start_time": "2023-09-21T16:02:51.728Z"
   },
   {
    "duration": 41,
    "start_time": "2023-09-21T16:02:51.762Z"
   },
   {
    "duration": 39,
    "start_time": "2023-09-21T16:02:51.806Z"
   },
   {
    "duration": 19,
    "start_time": "2023-09-21T16:02:51.848Z"
   },
   {
    "duration": 51,
    "start_time": "2023-09-21T16:02:51.869Z"
   },
   {
    "duration": 18,
    "start_time": "2023-09-21T16:02:51.923Z"
   },
   {
    "duration": 51,
    "start_time": "2023-09-21T16:02:51.943Z"
   },
   {
    "duration": 42,
    "start_time": "2023-09-21T16:02:51.996Z"
   },
   {
    "duration": 29,
    "start_time": "2023-09-21T16:02:52.041Z"
   },
   {
    "duration": 17,
    "start_time": "2023-09-21T16:02:52.072Z"
   },
   {
    "duration": 170,
    "start_time": "2023-09-21T16:02:52.091Z"
   },
   {
    "duration": 131,
    "start_time": "2023-09-21T16:02:52.266Z"
   },
   {
    "duration": 7,
    "start_time": "2023-09-21T16:02:52.411Z"
   },
   {
    "duration": 232,
    "start_time": "2023-09-21T16:02:52.420Z"
   },
   {
    "duration": 166,
    "start_time": "2023-09-21T16:02:52.655Z"
   },
   {
    "duration": 172,
    "start_time": "2023-09-21T16:02:52.823Z"
   },
   {
    "duration": 152,
    "start_time": "2023-09-21T16:02:52.997Z"
   },
   {
    "duration": 150,
    "start_time": "2023-09-21T16:02:53.151Z"
   },
   {
    "duration": 140,
    "start_time": "2023-09-21T16:02:53.310Z"
   },
   {
    "duration": 152,
    "start_time": "2023-09-21T16:02:53.453Z"
   },
   {
    "duration": 159,
    "start_time": "2023-09-21T16:02:53.609Z"
   },
   {
    "duration": 4,
    "start_time": "2023-09-21T16:02:53.769Z"
   },
   {
    "duration": 182,
    "start_time": "2023-09-21T16:02:53.775Z"
   },
   {
    "duration": 5,
    "start_time": "2023-09-21T16:02:53.959Z"
   },
   {
    "duration": 166,
    "start_time": "2023-09-21T16:02:53.967Z"
   },
   {
    "duration": 5,
    "start_time": "2023-09-21T16:02:54.135Z"
   },
   {
    "duration": 12,
    "start_time": "2023-09-21T16:02:54.141Z"
   },
   {
    "duration": 3090,
    "start_time": "2023-09-21T16:02:54.155Z"
   },
   {
    "duration": 5,
    "start_time": "2023-09-21T16:04:57.486Z"
   },
   {
    "duration": 10,
    "start_time": "2023-09-21T16:07:55.766Z"
   },
   {
    "duration": 4,
    "start_time": "2023-09-21T16:08:05.906Z"
   },
   {
    "duration": 59,
    "start_time": "2023-09-21T16:08:05.912Z"
   },
   {
    "duration": 17,
    "start_time": "2023-09-21T16:08:05.973Z"
   },
   {
    "duration": 12,
    "start_time": "2023-09-21T16:08:05.992Z"
   },
   {
    "duration": 21,
    "start_time": "2023-09-21T16:08:06.007Z"
   },
   {
    "duration": 28,
    "start_time": "2023-09-21T16:08:06.031Z"
   },
   {
    "duration": 17,
    "start_time": "2023-09-21T16:08:06.061Z"
   },
   {
    "duration": 9,
    "start_time": "2023-09-21T16:08:10.717Z"
   },
   {
    "duration": 138,
    "start_time": "2023-09-21T16:10:34.180Z"
   },
   {
    "duration": 5,
    "start_time": "2023-09-21T16:11:53.030Z"
   },
   {
    "duration": 4,
    "start_time": "2023-09-21T16:12:17.710Z"
   },
   {
    "duration": 5,
    "start_time": "2023-09-21T16:12:26.413Z"
   },
   {
    "duration": 23,
    "start_time": "2023-09-21T16:12:35.426Z"
   },
   {
    "duration": 4,
    "start_time": "2023-09-21T16:12:40.953Z"
   },
   {
    "duration": 4,
    "start_time": "2023-09-21T16:12:48.839Z"
   },
   {
    "duration": 63,
    "start_time": "2023-09-21T16:12:48.845Z"
   },
   {
    "duration": 16,
    "start_time": "2023-09-21T16:12:48.910Z"
   },
   {
    "duration": 23,
    "start_time": "2023-09-21T16:12:48.928Z"
   },
   {
    "duration": 6,
    "start_time": "2023-09-21T16:12:48.953Z"
   },
   {
    "duration": 17,
    "start_time": "2023-09-21T16:12:48.960Z"
   },
   {
    "duration": 10,
    "start_time": "2023-09-21T16:12:48.979Z"
   },
   {
    "duration": 24,
    "start_time": "2023-09-21T16:12:48.991Z"
   },
   {
    "duration": 8,
    "start_time": "2023-09-21T16:12:49.016Z"
   },
   {
    "duration": 8,
    "start_time": "2023-09-21T16:12:49.026Z"
   },
   {
    "duration": 15,
    "start_time": "2023-09-21T16:12:49.039Z"
   },
   {
    "duration": 15,
    "start_time": "2023-09-21T16:12:49.056Z"
   },
   {
    "duration": 5,
    "start_time": "2023-09-21T16:12:49.073Z"
   },
   {
    "duration": 150,
    "start_time": "2023-09-21T16:12:49.110Z"
   },
   {
    "duration": 120,
    "start_time": "2023-09-21T16:12:49.262Z"
   },
   {
    "duration": 5,
    "start_time": "2023-09-21T16:12:49.383Z"
   },
   {
    "duration": 171,
    "start_time": "2023-09-21T16:12:49.390Z"
   },
   {
    "duration": 171,
    "start_time": "2023-09-21T16:12:49.563Z"
   },
   {
    "duration": 148,
    "start_time": "2023-09-21T16:12:49.735Z"
   },
   {
    "duration": 145,
    "start_time": "2023-09-21T16:12:49.885Z"
   },
   {
    "duration": 153,
    "start_time": "2023-09-21T16:12:50.032Z"
   },
   {
    "duration": 137,
    "start_time": "2023-09-21T16:12:50.187Z"
   },
   {
    "duration": 148,
    "start_time": "2023-09-21T16:12:50.325Z"
   },
   {
    "duration": 334,
    "start_time": "2023-09-21T16:12:50.475Z"
   },
   {
    "duration": 4,
    "start_time": "2023-09-21T16:12:50.811Z"
   },
   {
    "duration": 7,
    "start_time": "2023-09-21T16:12:50.817Z"
   },
   {
    "duration": 11,
    "start_time": "2023-09-21T16:12:50.826Z"
   },
   {
    "duration": 170,
    "start_time": "2023-09-21T16:12:50.839Z"
   },
   {
    "duration": 4,
    "start_time": "2023-09-21T16:12:51.011Z"
   },
   {
    "duration": 155,
    "start_time": "2023-09-21T16:12:51.017Z"
   },
   {
    "duration": 5,
    "start_time": "2023-09-21T16:12:51.174Z"
   },
   {
    "duration": 24,
    "start_time": "2023-09-21T16:12:51.181Z"
   },
   {
    "duration": 3453,
    "start_time": "2023-09-21T16:12:51.207Z"
   },
   {
    "duration": 167,
    "start_time": "2023-09-21T16:21:32.825Z"
   },
   {
    "duration": 4,
    "start_time": "2023-09-21T16:22:33.344Z"
   },
   {
    "duration": 62,
    "start_time": "2023-09-21T21:24:13.831Z"
   },
   {
    "duration": 598,
    "start_time": "2023-09-21T21:25:09.229Z"
   },
   {
    "duration": 3410,
    "start_time": "2023-09-21T21:25:42.817Z"
   },
   {
    "duration": 42452,
    "start_time": "2023-09-21T21:26:11.797Z"
   },
   {
    "duration": 6,
    "start_time": "2023-09-21T21:26:54.251Z"
   },
   {
    "duration": 42364,
    "start_time": "2023-09-21T21:27:36.482Z"
   },
   {
    "duration": 48045,
    "start_time": "2023-09-21T21:31:15.006Z"
   },
   {
    "duration": 615,
    "start_time": "2023-09-21T21:32:39.996Z"
   },
   {
    "duration": 3366,
    "start_time": "2023-09-21T21:32:46.243Z"
   },
   {
    "duration": 48307,
    "start_time": "2023-09-21T21:33:25.975Z"
   },
   {
    "duration": 627,
    "start_time": "2023-09-21T21:34:14.284Z"
   },
   {
    "duration": 708,
    "start_time": "2023-09-21T21:35:22.103Z"
   },
   {
    "duration": 61,
    "start_time": "2023-09-21T21:35:56.913Z"
   },
   {
    "duration": 52,
    "start_time": "2023-09-21T21:37:55.780Z"
   },
   {
    "duration": 597,
    "start_time": "2023-09-21T21:38:05.632Z"
   },
   {
    "duration": 1682,
    "start_time": "2023-09-21T21:39:54.074Z"
   },
   {
    "duration": 47938,
    "start_time": "2023-09-21T21:41:41.814Z"
   },
   {
    "duration": 332,
    "start_time": "2023-09-21T21:45:05.577Z"
   },
   {
    "duration": 318,
    "start_time": "2023-09-21T21:45:34.966Z"
   },
   {
    "duration": 380,
    "start_time": "2023-09-21T21:45:43.568Z"
   },
   {
    "duration": 247,
    "start_time": "2023-09-21T21:47:01.188Z"
   },
   {
    "duration": 258,
    "start_time": "2023-09-21T21:48:25.360Z"
   },
   {
    "duration": 4,
    "start_time": "2023-09-21T21:49:47.486Z"
   },
   {
    "duration": 259,
    "start_time": "2023-09-21T21:49:53.332Z"
   },
   {
    "duration": 314,
    "start_time": "2023-09-21T21:50:10.730Z"
   },
   {
    "duration": 343,
    "start_time": "2023-09-21T21:50:17.591Z"
   },
   {
    "duration": 258,
    "start_time": "2023-09-21T21:50:23.574Z"
   },
   {
    "duration": 248,
    "start_time": "2023-09-21T21:50:28.138Z"
   },
   {
    "duration": 253,
    "start_time": "2023-09-21T21:51:30.910Z"
   },
   {
    "duration": 48030,
    "start_time": "2023-09-21T21:56:41.182Z"
   },
   {
    "duration": 47496,
    "start_time": "2023-09-21T21:58:41.605Z"
   },
   {
    "duration": 251,
    "start_time": "2023-09-21T22:11:05.752Z"
   },
   {
    "duration": 249,
    "start_time": "2023-09-21T22:11:16.884Z"
   },
   {
    "duration": 49,
    "start_time": "2023-09-21T22:22:25.690Z"
   },
   {
    "duration": 48,
    "start_time": "2023-09-21T22:22:29.479Z"
   },
   {
    "duration": 21,
    "start_time": "2023-09-21T22:24:57.038Z"
   },
   {
    "duration": 21,
    "start_time": "2023-09-21T22:27:55.329Z"
   },
   {
    "duration": 91,
    "start_time": "2023-09-21T22:28:09.244Z"
   },
   {
    "duration": 25,
    "start_time": "2023-09-21T22:29:57.685Z"
   },
   {
    "duration": 22,
    "start_time": "2023-09-21T22:30:18.574Z"
   },
   {
    "duration": 18,
    "start_time": "2023-09-21T22:30:32.910Z"
   },
   {
    "duration": 22,
    "start_time": "2023-09-21T22:31:17.889Z"
   },
   {
    "duration": 27,
    "start_time": "2023-09-21T22:32:15.106Z"
   },
   {
    "duration": 6,
    "start_time": "2023-09-21T22:32:42.037Z"
   },
   {
    "duration": 7,
    "start_time": "2023-09-21T22:32:44.086Z"
   },
   {
    "duration": 23,
    "start_time": "2023-09-21T22:33:03.749Z"
   },
   {
    "duration": 24,
    "start_time": "2023-09-21T22:33:06.081Z"
   },
   {
    "duration": 23,
    "start_time": "2023-09-21T22:33:41.850Z"
   },
   {
    "duration": 23,
    "start_time": "2023-09-21T22:33:44.503Z"
   },
   {
    "duration": 9,
    "start_time": "2023-09-21T22:34:31.308Z"
   },
   {
    "duration": 6,
    "start_time": "2023-09-21T22:36:07.452Z"
   },
   {
    "duration": 29,
    "start_time": "2023-09-21T22:37:13.911Z"
   },
   {
    "duration": 30,
    "start_time": "2023-09-21T22:37:47.193Z"
   },
   {
    "duration": 29,
    "start_time": "2023-09-21T22:42:08.209Z"
   },
   {
    "duration": 29,
    "start_time": "2023-09-21T22:42:10.974Z"
   },
   {
    "duration": 27,
    "start_time": "2023-09-21T22:43:24.158Z"
   },
   {
    "duration": 28,
    "start_time": "2023-09-21T22:43:26.150Z"
   },
   {
    "duration": 27,
    "start_time": "2023-09-21T22:43:37.400Z"
   },
   {
    "duration": 27,
    "start_time": "2023-09-21T22:43:38.322Z"
   },
   {
    "duration": 51,
    "start_time": "2023-09-21T22:45:33.011Z"
   },
   {
    "duration": 23,
    "start_time": "2023-09-21T22:46:07.827Z"
   },
   {
    "duration": 21,
    "start_time": "2023-09-21T22:46:15.610Z"
   },
   {
    "duration": 30,
    "start_time": "2023-09-21T22:47:28.692Z"
   },
   {
    "duration": 19,
    "start_time": "2023-09-21T22:47:52.071Z"
   },
   {
    "duration": 21,
    "start_time": "2023-09-21T22:47:59.956Z"
   },
   {
    "duration": 22,
    "start_time": "2023-09-21T22:48:07.943Z"
   },
   {
    "duration": 19,
    "start_time": "2023-09-21T22:49:57.306Z"
   },
   {
    "duration": 18,
    "start_time": "2023-09-21T22:49:59.150Z"
   },
   {
    "duration": 18,
    "start_time": "2023-09-21T22:50:32.635Z"
   },
   {
    "duration": 20,
    "start_time": "2023-09-21T22:50:33.556Z"
   },
   {
    "duration": 134,
    "start_time": "2023-09-21T23:02:16.329Z"
   },
   {
    "duration": 3279,
    "start_time": "2023-09-21T23:22:26.491Z"
   },
   {
    "duration": 3288,
    "start_time": "2023-09-21T23:23:41.039Z"
   },
   {
    "duration": 80,
    "start_time": "2023-09-21T23:24:06.126Z"
   },
   {
    "duration": 545,
    "start_time": "2023-09-21T23:25:21.493Z"
   },
   {
    "duration": 48451,
    "start_time": "2023-09-21T23:26:17.506Z"
   },
   {
    "duration": 3361,
    "start_time": "2023-09-21T23:27:09.218Z"
   },
   {
    "duration": 752,
    "start_time": "2023-09-21T23:38:33.764Z"
   },
   {
    "duration": 92,
    "start_time": "2023-09-21T23:41:00.091Z"
   },
   {
    "duration": 884,
    "start_time": "2023-09-21T23:41:06.443Z"
   },
   {
    "duration": 9,
    "start_time": "2023-09-21T23:42:52.769Z"
   },
   {
    "duration": 80,
    "start_time": "2023-09-21T23:43:27.960Z"
   },
   {
    "duration": 876,
    "start_time": "2023-09-21T23:43:35.435Z"
   },
   {
    "duration": 4503,
    "start_time": "2023-09-21T23:44:37.388Z"
   },
   {
    "duration": 66002,
    "start_time": "2023-09-21T23:45:31.252Z"
   },
   {
    "duration": 150863,
    "start_time": "2023-09-21T23:57:49.454Z"
   },
   {
    "duration": 86,
    "start_time": "2023-09-22T00:05:55.151Z"
   },
   {
    "duration": 110,
    "start_time": "2023-09-22T00:06:55.876Z"
   },
   {
    "duration": 215400,
    "start_time": "2023-09-22T00:07:51.058Z"
   },
   {
    "duration": 54,
    "start_time": "2023-09-22T00:15:25.027Z"
   },
   {
    "duration": 1415,
    "start_time": "2023-09-22T00:15:27.797Z"
   },
   {
    "duration": 342,
    "start_time": "2023-09-22T00:16:02.685Z"
   },
   {
    "duration": 91179,
    "start_time": "2023-09-22T00:16:35.963Z"
   },
   {
    "duration": 395,
    "start_time": "2023-09-22T00:21:02.423Z"
   },
   {
    "duration": 91510,
    "start_time": "2023-09-22T00:21:34.564Z"
   },
   {
    "duration": 92695,
    "start_time": "2023-09-22T00:23:35.602Z"
   },
   {
    "duration": 7489,
    "start_time": "2023-09-22T00:26:02.753Z"
   },
   {
    "duration": 126,
    "start_time": "2023-09-22T00:31:44.484Z"
   },
   {
    "duration": 6,
    "start_time": "2023-09-22T00:31:56.655Z"
   },
   {
    "duration": 49,
    "start_time": "2023-09-22T00:31:56.668Z"
   },
   {
    "duration": 15,
    "start_time": "2023-09-22T00:31:56.719Z"
   },
   {
    "duration": 4,
    "start_time": "2023-09-22T00:31:56.736Z"
   },
   {
    "duration": 17,
    "start_time": "2023-09-22T00:31:56.742Z"
   },
   {
    "duration": 17,
    "start_time": "2023-09-22T00:31:56.762Z"
   },
   {
    "duration": 8,
    "start_time": "2023-09-22T00:31:56.781Z"
   },
   {
    "duration": 28,
    "start_time": "2023-09-22T00:31:56.791Z"
   },
   {
    "duration": 6,
    "start_time": "2023-09-22T00:31:56.821Z"
   },
   {
    "duration": 13,
    "start_time": "2023-09-22T00:31:56.829Z"
   },
   {
    "duration": 22,
    "start_time": "2023-09-22T00:31:56.844Z"
   },
   {
    "duration": 17,
    "start_time": "2023-09-22T00:31:56.868Z"
   },
   {
    "duration": 25,
    "start_time": "2023-09-22T00:31:56.886Z"
   },
   {
    "duration": 156,
    "start_time": "2023-09-22T00:31:56.912Z"
   },
   {
    "duration": 123,
    "start_time": "2023-09-22T00:31:57.071Z"
   },
   {
    "duration": 14,
    "start_time": "2023-09-22T00:31:57.196Z"
   },
   {
    "duration": 159,
    "start_time": "2023-09-22T00:31:57.212Z"
   },
   {
    "duration": 150,
    "start_time": "2023-09-22T00:31:57.373Z"
   },
   {
    "duration": 162,
    "start_time": "2023-09-22T00:31:57.525Z"
   },
   {
    "duration": 142,
    "start_time": "2023-09-22T00:31:57.689Z"
   },
   {
    "duration": 150,
    "start_time": "2023-09-22T00:31:57.833Z"
   },
   {
    "duration": 142,
    "start_time": "2023-09-22T00:31:57.985Z"
   },
   {
    "duration": 151,
    "start_time": "2023-09-22T00:31:58.129Z"
   },
   {
    "duration": 155,
    "start_time": "2023-09-22T00:31:58.282Z"
   },
   {
    "duration": 4,
    "start_time": "2023-09-22T00:31:58.439Z"
   },
   {
    "duration": 172,
    "start_time": "2023-09-22T00:31:58.444Z"
   },
   {
    "duration": 5,
    "start_time": "2023-09-22T00:31:58.617Z"
   },
   {
    "duration": 145,
    "start_time": "2023-09-22T00:31:58.624Z"
   },
   {
    "duration": 4,
    "start_time": "2023-09-22T00:31:58.771Z"
   },
   {
    "duration": 5981,
    "start_time": "2023-09-22T00:32:16.308Z"
   },
   {
    "duration": 81994,
    "start_time": "2023-09-22T00:32:28.494Z"
   },
   {
    "duration": 620,
    "start_time": "2023-09-22T00:33:50.490Z"
   },
   {
    "duration": 118,
    "start_time": "2023-09-22T00:35:20.731Z"
   },
   {
    "duration": 4,
    "start_time": "2023-09-22T00:35:23.277Z"
   },
   {
    "duration": 110672,
    "start_time": "2023-09-22T00:44:17.722Z"
   },
   {
    "duration": 94992,
    "start_time": "2023-09-22T00:47:08.012Z"
   },
   {
    "duration": 114,
    "start_time": "2023-09-22T00:50:28.816Z"
   },
   {
    "duration": 89489,
    "start_time": "2023-09-22T00:50:43.665Z"
   },
   {
    "duration": 112,
    "start_time": "2023-09-22T00:52:40.402Z"
   },
   {
    "duration": 89685,
    "start_time": "2023-09-22T00:52:49.003Z"
   },
   {
    "duration": 113,
    "start_time": "2023-09-22T00:55:18.814Z"
   },
   {
    "duration": 93950,
    "start_time": "2023-09-22T00:55:37.855Z"
   },
   {
    "duration": 121,
    "start_time": "2023-09-22T01:04:16.519Z"
   },
   {
    "duration": 91088,
    "start_time": "2023-09-22T01:04:29.626Z"
   },
   {
    "duration": 276132,
    "start_time": "2023-09-22T01:09:21.539Z"
   },
   {
    "duration": 1983,
    "start_time": "2023-09-22T01:14:55.088Z"
   },
   {
    "duration": 840,
    "start_time": "2023-09-22T01:15:59.650Z"
   },
   {
    "duration": 826,
    "start_time": "2023-09-22T01:16:04.413Z"
   },
   {
    "duration": 813,
    "start_time": "2023-09-22T01:16:38.821Z"
   },
   {
    "duration": 823,
    "start_time": "2023-09-22T01:19:52.766Z"
   },
   {
    "duration": 1995,
    "start_time": "2023-09-22T01:21:52.165Z"
   },
   {
    "duration": 2001,
    "start_time": "2023-09-22T01:23:14.188Z"
   },
   {
    "duration": 1214,
    "start_time": "2023-09-22T07:50:38.302Z"
   },
   {
    "duration": 91,
    "start_time": "2023-09-22T07:50:39.518Z"
   },
   {
    "duration": 23,
    "start_time": "2023-09-22T07:50:39.611Z"
   },
   {
    "duration": 16,
    "start_time": "2023-09-22T07:50:39.636Z"
   },
   {
    "duration": 39,
    "start_time": "2023-09-22T07:50:39.654Z"
   },
   {
    "duration": 23,
    "start_time": "2023-09-22T07:50:39.694Z"
   },
   {
    "duration": 25,
    "start_time": "2023-09-22T07:50:39.719Z"
   },
   {
    "duration": 20,
    "start_time": "2023-09-22T07:50:39.746Z"
   },
   {
    "duration": 5,
    "start_time": "2023-09-22T07:50:39.768Z"
   },
   {
    "duration": 7,
    "start_time": "2023-09-22T07:50:39.777Z"
   },
   {
    "duration": 25,
    "start_time": "2023-09-22T07:50:39.786Z"
   },
   {
    "duration": 16,
    "start_time": "2023-09-22T07:50:39.813Z"
   },
   {
    "duration": 6,
    "start_time": "2023-09-22T07:50:39.831Z"
   },
   {
    "duration": 641,
    "start_time": "2023-09-22T07:50:39.839Z"
   },
   {
    "duration": 143,
    "start_time": "2023-09-22T07:50:40.483Z"
   },
   {
    "duration": 4,
    "start_time": "2023-09-22T07:50:40.628Z"
   },
   {
    "duration": 186,
    "start_time": "2023-09-22T07:50:40.634Z"
   },
   {
    "duration": 158,
    "start_time": "2023-09-22T07:50:40.822Z"
   },
   {
    "duration": 174,
    "start_time": "2023-09-22T07:50:40.983Z"
   },
   {
    "duration": 237,
    "start_time": "2023-09-22T07:50:41.159Z"
   },
   {
    "duration": 187,
    "start_time": "2023-09-22T07:50:41.398Z"
   },
   {
    "duration": 140,
    "start_time": "2023-09-22T07:50:41.587Z"
   },
   {
    "duration": 159,
    "start_time": "2023-09-22T07:50:41.728Z"
   },
   {
    "duration": 155,
    "start_time": "2023-09-22T07:50:41.888Z"
   },
   {
    "duration": 4,
    "start_time": "2023-09-22T07:50:42.045Z"
   },
   {
    "duration": 188,
    "start_time": "2023-09-22T07:50:42.051Z"
   },
   {
    "duration": 4,
    "start_time": "2023-09-22T07:50:42.240Z"
   },
   {
    "duration": 183,
    "start_time": "2023-09-22T07:50:42.248Z"
   },
   {
    "duration": 6,
    "start_time": "2023-09-22T07:50:42.433Z"
   },
   {
    "duration": 28,
    "start_time": "2023-09-22T07:50:42.440Z"
   },
   {
    "duration": 3481,
    "start_time": "2023-09-22T07:50:42.470Z"
   },
   {
    "duration": 48988,
    "start_time": "2023-09-22T07:50:45.953Z"
   },
   {
    "duration": 0,
    "start_time": "2023-09-22T07:51:34.943Z"
   },
   {
    "duration": 0,
    "start_time": "2023-09-22T07:51:34.944Z"
   },
   {
    "duration": 0,
    "start_time": "2023-09-22T07:51:34.945Z"
   },
   {
    "duration": 0,
    "start_time": "2023-09-22T07:51:34.946Z"
   },
   {
    "duration": 0,
    "start_time": "2023-09-22T07:51:34.946Z"
   },
   {
    "duration": 0,
    "start_time": "2023-09-22T07:51:34.947Z"
   },
   {
    "duration": 0,
    "start_time": "2023-09-22T07:51:34.949Z"
   },
   {
    "duration": 0,
    "start_time": "2023-09-22T07:51:34.950Z"
   },
   {
    "duration": 0,
    "start_time": "2023-09-22T07:51:34.951Z"
   },
   {
    "duration": 0,
    "start_time": "2023-09-22T07:51:34.952Z"
   },
   {
    "duration": 0,
    "start_time": "2023-09-22T07:51:34.953Z"
   },
   {
    "duration": 0,
    "start_time": "2023-09-22T07:51:34.954Z"
   },
   {
    "duration": 0,
    "start_time": "2023-09-22T07:51:34.955Z"
   },
   {
    "duration": 0,
    "start_time": "2023-09-22T07:51:34.956Z"
   },
   {
    "duration": 89,
    "start_time": "2023-09-22T07:54:29.077Z"
   },
   {
    "duration": 48360,
    "start_time": "2023-09-22T07:54:36.274Z"
   },
   {
    "duration": 3490,
    "start_time": "2023-09-22T07:56:01.010Z"
   },
   {
    "duration": 49029,
    "start_time": "2023-09-22T07:56:46.333Z"
   },
   {
    "duration": 49350,
    "start_time": "2023-09-22T07:57:55.466Z"
   },
   {
    "duration": 624,
    "start_time": "2023-09-22T07:58:44.819Z"
   },
   {
    "duration": 247,
    "start_time": "2023-09-22T07:58:52.646Z"
   },
   {
    "duration": 579,
    "start_time": "2023-09-22T07:59:28.857Z"
   },
   {
    "duration": 8153,
    "start_time": "2023-09-22T08:00:17.923Z"
   },
   {
    "duration": 138851,
    "start_time": "2023-09-22T08:01:03.882Z"
   },
   {
    "duration": 1182,
    "start_time": "2023-09-22T08:03:46.612Z"
   },
   {
    "duration": 8116,
    "start_time": "2023-09-22T08:04:36.370Z"
   },
   {
    "duration": 293726,
    "start_time": "2023-09-22T08:05:03.057Z"
   },
   {
    "duration": 626,
    "start_time": "2023-09-22T08:09:56.786Z"
   },
   {
    "duration": 632,
    "start_time": "2023-09-22T08:10:12.609Z"
   },
   {
    "duration": 12,
    "start_time": "2023-09-22T08:11:57.030Z"
   },
   {
    "duration": 102,
    "start_time": "2023-09-22T08:12:04.371Z"
   },
   {
    "duration": 4643,
    "start_time": "2023-09-22T08:12:06.852Z"
   },
   {
    "duration": 132461,
    "start_time": "2023-09-22T08:12:33.510Z"
   },
   {
    "duration": 852,
    "start_time": "2023-09-22T08:16:08.962Z"
   },
   {
    "duration": 53,
    "start_time": "2023-09-22T08:16:13.641Z"
   },
   {
    "duration": 1635,
    "start_time": "2023-09-22T08:16:18.151Z"
   },
   {
    "duration": 439,
    "start_time": "2023-09-22T08:16:24.472Z"
   },
   {
    "duration": 58076,
    "start_time": "2023-09-22T08:16:30.265Z"
   },
   {
    "duration": 2227,
    "start_time": "2023-09-22T08:24:03.069Z"
   },
   {
    "duration": 2259,
    "start_time": "2023-09-22T08:25:40.171Z"
   },
   {
    "duration": 1730,
    "start_time": "2023-09-22T08:26:31.938Z"
   },
   {
    "duration": 1115,
    "start_time": "2023-09-22T08:26:37.248Z"
   },
   {
    "duration": 751,
    "start_time": "2023-09-22T08:26:46.460Z"
   },
   {
    "duration": 1004,
    "start_time": "2023-09-22T08:26:52.265Z"
   },
   {
    "duration": 298008,
    "start_time": "2023-09-22T08:28:28.275Z"
   },
   {
    "duration": 40,
    "start_time": "2023-09-22T08:34:46.594Z"
   },
   {
    "duration": 6,
    "start_time": "2023-09-22T08:34:50.688Z"
   },
   {
    "duration": 6,
    "start_time": "2023-09-22T08:34:56.231Z"
   },
   {
    "duration": 25,
    "start_time": "2023-09-22T08:35:04.219Z"
   },
   {
    "duration": 21,
    "start_time": "2023-09-22T08:35:26.770Z"
   },
   {
    "duration": 176,
    "start_time": "2023-09-22T08:37:20.708Z"
   },
   {
    "duration": 4,
    "start_time": "2023-09-22T08:37:21.622Z"
   },
   {
    "duration": 139,
    "start_time": "2023-09-22T08:37:36.408Z"
   },
   {
    "duration": 972,
    "start_time": "2023-09-22T08:37:44.701Z"
   },
   {
    "duration": 180,
    "start_time": "2023-09-22T08:41:49.489Z"
   },
   {
    "duration": 5,
    "start_time": "2023-09-22T08:41:50.299Z"
   },
   {
    "duration": 170,
    "start_time": "2023-09-22T08:41:59.632Z"
   },
   {
    "duration": 8,
    "start_time": "2023-09-22T08:42:00.381Z"
   },
   {
    "duration": 3469,
    "start_time": "2023-09-22T08:43:56.041Z"
   },
   {
    "duration": 25,
    "start_time": "2023-09-22T08:45:23.187Z"
   },
   {
    "duration": 5,
    "start_time": "2023-09-22T08:46:12.148Z"
   },
   {
    "duration": 7,
    "start_time": "2023-09-22T08:46:19.948Z"
   },
   {
    "duration": 8,
    "start_time": "2023-09-22T08:46:37.883Z"
   },
   {
    "duration": 104,
    "start_time": "2023-09-22T09:10:26.773Z"
   },
   {
    "duration": 343,
    "start_time": "2023-09-22T09:12:23.309Z"
   },
   {
    "duration": 86,
    "start_time": "2023-09-22T09:12:31.202Z"
   },
   {
    "duration": 5,
    "start_time": "2023-09-22T09:13:01.687Z"
   },
   {
    "duration": 5,
    "start_time": "2023-09-22T09:13:10.530Z"
   },
   {
    "duration": 86,
    "start_time": "2023-09-22T09:14:09.493Z"
   },
   {
    "duration": 98,
    "start_time": "2023-09-22T09:14:24.695Z"
   },
   {
    "duration": 102,
    "start_time": "2023-09-22T09:15:58.777Z"
   },
   {
    "duration": 129,
    "start_time": "2023-09-22T09:16:07.269Z"
   },
   {
    "duration": 5,
    "start_time": "2023-09-22T09:16:15.114Z"
   },
   {
    "duration": 3568,
    "start_time": "2023-09-22T09:16:19.585Z"
   },
   {
    "duration": 1205,
    "start_time": "2023-09-22T09:16:33.518Z"
   },
   {
    "duration": 630,
    "start_time": "2023-09-22T09:16:41.910Z"
   },
   {
    "duration": 8468,
    "start_time": "2023-09-22T09:16:47.837Z"
   },
   {
    "duration": 626,
    "start_time": "2023-09-22T09:17:10.210Z"
   },
   {
    "duration": 302702,
    "start_time": "2023-09-22T09:17:15.778Z"
   },
   {
    "duration": 603,
    "start_time": "2023-09-22T09:26:46.727Z"
   },
   {
    "duration": 95,
    "start_time": "2023-09-22T09:26:56.032Z"
   },
   {
    "duration": 5266,
    "start_time": "2023-09-22T09:27:00.504Z"
   },
   {
    "duration": 862,
    "start_time": "2023-09-22T09:27:08.953Z"
   },
   {
    "duration": 144309,
    "start_time": "2023-09-22T09:27:12.746Z"
   },
   {
    "duration": 61,
    "start_time": "2023-09-22T09:33:26.766Z"
   },
   {
    "duration": 1801,
    "start_time": "2023-09-22T09:33:29.163Z"
   },
   {
    "duration": 414,
    "start_time": "2023-09-22T09:33:35.835Z"
   },
   {
    "duration": 63286,
    "start_time": "2023-09-22T09:33:38.816Z"
   },
   {
    "duration": 3673,
    "start_time": "2023-09-22T09:34:46.504Z"
   },
   {
    "duration": 2005,
    "start_time": "2023-09-22T09:44:17.209Z"
   },
   {
    "duration": 2134,
    "start_time": "2023-09-22T09:45:44.124Z"
   },
   {
    "duration": 5156,
    "start_time": "2023-09-22T11:49:02.455Z"
   },
   {
    "duration": 50,
    "start_time": "2023-09-22T11:51:47.476Z"
   },
   {
    "duration": 1909,
    "start_time": "2023-09-22T11:51:50.331Z"
   },
   {
    "duration": 490,
    "start_time": "2023-09-22T11:51:59.133Z"
   },
   {
    "duration": 59160,
    "start_time": "2023-09-22T11:52:04.301Z"
   },
   {
    "duration": 159116,
    "start_time": "2023-09-22T11:53:30.036Z"
   },
   {
    "duration": 311051,
    "start_time": "2023-09-22T11:56:24.658Z"
   },
   {
    "duration": 460,
    "start_time": "2023-09-22T12:09:16.610Z"
   },
   {
    "duration": 136,
    "start_time": "2023-09-22T12:11:33.845Z"
   },
   {
    "duration": 2009,
    "start_time": "2023-09-22T12:11:40.502Z"
   },
   {
    "duration": 412,
    "start_time": "2023-09-22T12:11:45.989Z"
   },
   {
    "duration": 671,
    "start_time": "2023-09-22T12:14:39.637Z"
   },
   {
    "duration": 545,
    "start_time": "2023-09-22T12:15:37.696Z"
   },
   {
    "duration": 408,
    "start_time": "2023-09-22T12:16:04.332Z"
   },
   {
    "duration": 410,
    "start_time": "2023-09-22T12:16:24.614Z"
   },
   {
    "duration": 2067,
    "start_time": "2023-09-22T12:16:50.667Z"
   },
   {
    "duration": 1875,
    "start_time": "2023-09-22T12:17:03.475Z"
   },
   {
    "duration": 548,
    "start_time": "2023-09-22T12:17:26.272Z"
   },
   {
    "duration": 359,
    "start_time": "2023-09-22T12:19:42.099Z"
   },
   {
    "duration": 1842,
    "start_time": "2023-09-22T12:19:44.672Z"
   },
   {
    "duration": 80,
    "start_time": "2023-09-22T12:20:37.073Z"
   },
   {
    "duration": 811,
    "start_time": "2023-09-22T12:21:11.249Z"
   },
   {
    "duration": 59,
    "start_time": "2023-09-22T12:21:34.366Z"
   },
   {
    "duration": 148,
    "start_time": "2023-09-22T12:22:45.533Z"
   },
   {
    "duration": 1345,
    "start_time": "2023-09-22T12:22:48.438Z"
   },
   {
    "duration": 424,
    "start_time": "2023-09-22T12:26:46.903Z"
   },
   {
    "duration": 307,
    "start_time": "2023-09-22T12:26:50.740Z"
   },
   {
    "duration": 363,
    "start_time": "2023-09-22T12:26:53.940Z"
   },
   {
    "duration": 375,
    "start_time": "2023-09-22T12:26:57.281Z"
   },
   {
    "duration": 345,
    "start_time": "2023-09-22T12:27:00.468Z"
   },
   {
    "duration": 3255,
    "start_time": "2023-09-22T12:27:51.540Z"
   },
   {
    "duration": 706,
    "start_time": "2023-09-22T12:29:27.842Z"
   },
   {
    "duration": 1104,
    "start_time": "2023-09-22T12:29:34.077Z"
   },
   {
    "duration": 1286,
    "start_time": "2023-09-22T12:29:39.573Z"
   },
   {
    "duration": 1191,
    "start_time": "2023-09-22T12:29:43.925Z"
   },
   {
    "duration": 1838,
    "start_time": "2023-09-22T12:29:48.089Z"
   },
   {
    "duration": 1993,
    "start_time": "2023-09-22T12:29:59.095Z"
   },
   {
    "duration": 1850,
    "start_time": "2023-09-22T12:30:10.864Z"
   },
   {
    "duration": 1853,
    "start_time": "2023-09-22T12:30:16.873Z"
   },
   {
    "duration": 1970,
    "start_time": "2023-09-22T12:30:42.995Z"
   },
   {
    "duration": 2156,
    "start_time": "2023-09-22T12:30:50.756Z"
   },
   {
    "duration": 1947,
    "start_time": "2023-09-22T12:30:56.943Z"
   },
   {
    "duration": 2080,
    "start_time": "2023-09-22T12:31:01.791Z"
   },
   {
    "duration": 2024,
    "start_time": "2023-09-22T12:31:07.822Z"
   },
   {
    "duration": 1997,
    "start_time": "2023-09-22T12:31:16.568Z"
   },
   {
    "duration": 2022,
    "start_time": "2023-09-22T12:31:22.317Z"
   },
   {
    "duration": 1864,
    "start_time": "2023-09-22T12:31:28.107Z"
   },
   {
    "duration": 2070,
    "start_time": "2023-09-22T12:31:42.035Z"
   },
   {
    "duration": 1825,
    "start_time": "2023-09-22T12:31:48.025Z"
   },
   {
    "duration": 1934,
    "start_time": "2023-09-22T12:31:57.064Z"
   },
   {
    "duration": 1893,
    "start_time": "2023-09-22T12:32:06.919Z"
   },
   {
    "duration": 1950,
    "start_time": "2023-09-22T12:32:12.688Z"
   },
   {
    "duration": 1970,
    "start_time": "2023-09-22T12:32:18.426Z"
   },
   {
    "duration": 1922,
    "start_time": "2023-09-22T12:32:23.115Z"
   },
   {
    "duration": 758,
    "start_time": "2023-09-22T12:34:54.728Z"
   },
   {
    "duration": 1950,
    "start_time": "2023-09-22T12:35:13.657Z"
   },
   {
    "duration": 19222,
    "start_time": "2023-09-22T12:35:33.357Z"
   },
   {
    "duration": 2134,
    "start_time": "2023-09-22T13:26:59.106Z"
   },
   {
    "duration": 45,
    "start_time": "2023-09-22T13:27:04.632Z"
   },
   {
    "duration": 31,
    "start_time": "2023-09-22T13:27:07.996Z"
   },
   {
    "duration": 5,
    "start_time": "2023-09-22T13:27:11.825Z"
   },
   {
    "duration": 9,
    "start_time": "2023-09-22T13:37:26.200Z"
   },
   {
    "duration": 15,
    "start_time": "2023-09-22T13:37:27.371Z"
   },
   {
    "duration": 17,
    "start_time": "2023-09-22T13:37:36.207Z"
   },
   {
    "duration": 4,
    "start_time": "2023-09-22T13:37:40.177Z"
   },
   {
    "duration": 9,
    "start_time": "2023-09-22T13:37:45.334Z"
   },
   {
    "duration": 5,
    "start_time": "2023-09-22T13:38:02.492Z"
   },
   {
    "duration": 116,
    "start_time": "2023-09-22T13:38:02.511Z"
   },
   {
    "duration": 20,
    "start_time": "2023-09-22T13:38:02.628Z"
   },
   {
    "duration": 63,
    "start_time": "2023-09-22T13:38:02.651Z"
   },
   {
    "duration": 44,
    "start_time": "2023-09-22T13:38:02.716Z"
   },
   {
    "duration": 55,
    "start_time": "2023-09-22T13:38:02.763Z"
   },
   {
    "duration": 8,
    "start_time": "2023-09-22T13:38:02.819Z"
   },
   {
    "duration": 26,
    "start_time": "2023-09-22T13:38:02.829Z"
   },
   {
    "duration": 5,
    "start_time": "2023-09-22T13:38:02.909Z"
   },
   {
    "duration": 37,
    "start_time": "2023-09-22T13:38:02.917Z"
   },
   {
    "duration": 81,
    "start_time": "2023-09-22T13:38:02.956Z"
   },
   {
    "duration": 21,
    "start_time": "2023-09-22T13:38:03.039Z"
   },
   {
    "duration": 52,
    "start_time": "2023-09-22T13:38:03.061Z"
   },
   {
    "duration": 830,
    "start_time": "2023-09-22T13:38:03.114Z"
   },
   {
    "duration": 267,
    "start_time": "2023-09-22T13:38:03.945Z"
   },
   {
    "duration": 6,
    "start_time": "2023-09-22T13:38:04.213Z"
   },
   {
    "duration": 313,
    "start_time": "2023-09-22T13:38:04.220Z"
   },
   {
    "duration": 306,
    "start_time": "2023-09-22T13:38:04.535Z"
   },
   {
    "duration": 370,
    "start_time": "2023-09-22T13:38:04.843Z"
   },
   {
    "duration": 418,
    "start_time": "2023-09-22T13:38:05.214Z"
   },
   {
    "duration": 302,
    "start_time": "2023-09-22T13:38:05.634Z"
   },
   {
    "duration": 286,
    "start_time": "2023-09-22T13:38:05.937Z"
   },
   {
    "duration": 308,
    "start_time": "2023-09-22T13:38:06.224Z"
   },
   {
    "duration": 309,
    "start_time": "2023-09-22T13:38:06.534Z"
   },
   {
    "duration": 5,
    "start_time": "2023-09-22T13:38:06.845Z"
   },
   {
    "duration": 403,
    "start_time": "2023-09-22T13:38:06.910Z"
   },
   {
    "duration": 5,
    "start_time": "2023-09-22T13:38:07.315Z"
   },
   {
    "duration": 331,
    "start_time": "2023-09-22T13:38:07.324Z"
   },
   {
    "duration": 58,
    "start_time": "2023-09-22T13:38:07.657Z"
   },
   {
    "duration": 7,
    "start_time": "2023-09-22T13:38:07.717Z"
   },
   {
    "duration": 7932,
    "start_time": "2023-09-22T13:49:51.992Z"
   },
   {
    "duration": 317321,
    "start_time": "2023-09-22T13:49:59.927Z"
   },
   {
    "duration": 2679,
    "start_time": "2023-09-22T13:55:17.250Z"
   },
   {
    "duration": 1180,
    "start_time": "2023-09-22T13:55:19.931Z"
   },
   {
    "duration": 17307,
    "start_time": "2023-09-22T13:55:21.116Z"
   },
   {
    "duration": 671599,
    "start_time": "2023-09-22T13:55:38.425Z"
   },
   {
    "duration": 45200,
    "start_time": "2023-09-22T14:06:50.026Z"
   },
   {
    "duration": 1106,
    "start_time": "2023-09-22T14:07:35.230Z"
   },
   {
    "duration": 299,
    "start_time": "2023-09-22T14:07:36.414Z"
   },
   {
    "duration": 10439,
    "start_time": "2023-09-22T14:07:36.715Z"
   },
   {
    "duration": 4,
    "start_time": "2023-09-22T15:02:48.244Z"
   },
   {
    "duration": 42,
    "start_time": "2023-09-22T15:03:00.206Z"
   },
   {
    "duration": 23,
    "start_time": "2023-09-22T15:03:03.088Z"
   },
   {
    "duration": 4,
    "start_time": "2023-09-22T15:03:30.716Z"
   },
   {
    "duration": 99,
    "start_time": "2023-09-22T15:03:30.724Z"
   },
   {
    "duration": 15,
    "start_time": "2023-09-22T15:03:30.825Z"
   },
   {
    "duration": 82,
    "start_time": "2023-09-22T15:03:30.843Z"
   },
   {
    "duration": 47,
    "start_time": "2023-09-22T15:03:30.927Z"
   },
   {
    "duration": 65,
    "start_time": "2023-09-22T15:03:30.977Z"
   },
   {
    "duration": 91,
    "start_time": "2023-09-22T15:03:31.044Z"
   },
   {
    "duration": 82,
    "start_time": "2023-09-22T15:03:31.137Z"
   },
   {
    "duration": 6,
    "start_time": "2023-09-22T15:03:31.221Z"
   },
   {
    "duration": 83,
    "start_time": "2023-09-22T15:03:31.229Z"
   },
   {
    "duration": 16,
    "start_time": "2023-09-22T15:03:31.314Z"
   },
   {
    "duration": 86,
    "start_time": "2023-09-22T15:03:31.332Z"
   },
   {
    "duration": 7,
    "start_time": "2023-09-22T15:03:31.420Z"
   },
   {
    "duration": 386,
    "start_time": "2023-09-22T15:03:31.429Z"
   },
   {
    "duration": 396,
    "start_time": "2023-09-22T15:03:31.818Z"
   },
   {
    "duration": 5,
    "start_time": "2023-09-22T15:03:32.215Z"
   },
   {
    "duration": 396,
    "start_time": "2023-09-22T15:03:32.222Z"
   },
   {
    "duration": 323,
    "start_time": "2023-09-22T15:03:32.621Z"
   },
   {
    "duration": 303,
    "start_time": "2023-09-22T15:03:32.946Z"
   },
   {
    "duration": 283,
    "start_time": "2023-09-22T15:03:33.251Z"
   },
   {
    "duration": 299,
    "start_time": "2023-09-22T15:03:33.536Z"
   },
   {
    "duration": 292,
    "start_time": "2023-09-22T15:03:33.836Z"
   },
   {
    "duration": 308,
    "start_time": "2023-09-22T15:03:34.130Z"
   },
   {
    "duration": 308,
    "start_time": "2023-09-22T15:03:34.440Z"
   },
   {
    "duration": 61,
    "start_time": "2023-09-22T15:03:34.750Z"
   },
   {
    "duration": 324,
    "start_time": "2023-09-22T15:03:34.813Z"
   },
   {
    "duration": 5,
    "start_time": "2023-09-22T15:03:35.138Z"
   },
   {
    "duration": 378,
    "start_time": "2023-09-22T15:03:35.144Z"
   },
   {
    "duration": 5,
    "start_time": "2023-09-22T15:03:35.523Z"
   },
   {
    "duration": 8,
    "start_time": "2023-09-22T15:03:44.367Z"
   },
   {
    "duration": 6560,
    "start_time": "2023-09-22T15:03:48.571Z"
   },
   {
    "duration": 280370,
    "start_time": "2023-09-22T15:04:24.862Z"
   },
   {
    "duration": 639,
    "start_time": "2023-09-22T15:09:34.712Z"
   },
   {
    "duration": 967,
    "start_time": "2023-09-22T15:09:48.950Z"
   },
   {
    "duration": 15666,
    "start_time": "2023-09-22T15:11:25.586Z"
   },
   {
    "duration": 37764,
    "start_time": "2023-09-22T15:12:14.379Z"
   },
   {
    "duration": 1115,
    "start_time": "2023-09-22T15:13:36.394Z"
   },
   {
    "duration": 533691,
    "start_time": "2023-09-22T15:14:13.522Z"
   },
   {
    "duration": 362660,
    "start_time": "2023-09-22T15:23:25.468Z"
   },
   {
    "duration": 0,
    "start_time": "2023-09-22T15:29:28.129Z"
   },
   {
    "duration": 1112,
    "start_time": "2023-09-22T15:29:35.406Z"
   },
   {
    "duration": 597802,
    "start_time": "2023-09-22T15:31:01.414Z"
   },
   {
    "duration": 974,
    "start_time": "2023-09-22T15:44:20.651Z"
   },
   {
    "duration": 227,
    "start_time": "2023-09-22T15:44:32.912Z"
   },
   {
    "duration": 9858,
    "start_time": "2023-09-22T15:44:35.795Z"
   },
   {
    "duration": 1498,
    "start_time": "2023-09-22T15:44:50.820Z"
   },
   {
    "duration": 100153,
    "start_time": "2023-09-22T15:44:55.381Z"
   },
   {
    "duration": 25249,
    "start_time": "2023-09-22T15:46:49.303Z"
   },
   {
    "duration": 135,
    "start_time": "2023-09-22T15:47:39.003Z"
   },
   {
    "duration": 8060,
    "start_time": "2023-09-22T15:47:42.292Z"
   },
   {
    "duration": 714,
    "start_time": "2023-09-22T15:47:54.705Z"
   },
   {
    "duration": 651684,
    "start_time": "2023-09-22T15:48:26.338Z"
   },
   {
    "duration": 158620,
    "start_time": "2023-09-22T15:59:20.130Z"
   },
   {
    "duration": 0,
    "start_time": "2023-09-22T16:01:58.752Z"
   },
   {
    "duration": 41047,
    "start_time": "2023-09-22T16:02:03.995Z"
   },
   {
    "duration": 37315,
    "start_time": "2023-09-22T16:07:02.905Z"
   },
   {
    "duration": 40263,
    "start_time": "2023-09-22T16:09:55.946Z"
   },
   {
    "duration": 345347,
    "start_time": "2023-09-22T16:18:46.378Z"
   },
   {
    "duration": 365161,
    "start_time": "2023-09-22T16:25:34.155Z"
   },
   {
    "duration": 13,
    "start_time": "2023-09-22T16:58:18.837Z"
   },
   {
    "duration": 91,
    "start_time": "2023-09-22T16:58:18.853Z"
   },
   {
    "duration": 105,
    "start_time": "2023-09-22T16:58:18.948Z"
   },
   {
    "duration": 4,
    "start_time": "2023-09-22T16:58:19.063Z"
   },
   {
    "duration": 49,
    "start_time": "2023-09-22T16:58:19.068Z"
   },
   {
    "duration": 34,
    "start_time": "2023-09-22T16:58:19.119Z"
   },
   {
    "duration": 66,
    "start_time": "2023-09-22T16:58:19.155Z"
   },
   {
    "duration": 23,
    "start_time": "2023-09-22T16:58:19.225Z"
   },
   {
    "duration": 7,
    "start_time": "2023-09-22T16:58:19.254Z"
   },
   {
    "duration": 16,
    "start_time": "2023-09-22T16:58:19.313Z"
   },
   {
    "duration": 29,
    "start_time": "2023-09-22T16:58:19.331Z"
   },
   {
    "duration": 36,
    "start_time": "2023-09-22T16:58:19.411Z"
   },
   {
    "duration": 6,
    "start_time": "2023-09-22T16:58:19.456Z"
   },
   {
    "duration": 396,
    "start_time": "2023-09-22T16:58:19.515Z"
   },
   {
    "duration": 291,
    "start_time": "2023-09-22T16:58:19.922Z"
   },
   {
    "duration": 10,
    "start_time": "2023-09-22T16:58:20.215Z"
   },
   {
    "duration": 419,
    "start_time": "2023-09-22T16:58:20.233Z"
   },
   {
    "duration": 395,
    "start_time": "2023-09-22T16:58:20.654Z"
   },
   {
    "duration": 407,
    "start_time": "2023-09-22T16:58:21.051Z"
   },
   {
    "duration": 452,
    "start_time": "2023-09-22T16:58:21.460Z"
   },
   {
    "duration": 340,
    "start_time": "2023-09-22T16:58:21.918Z"
   },
   {
    "duration": 378,
    "start_time": "2023-09-22T16:58:22.260Z"
   },
   {
    "duration": 415,
    "start_time": "2023-09-22T16:58:22.640Z"
   },
   {
    "duration": 400,
    "start_time": "2023-09-22T16:58:23.056Z"
   },
   {
    "duration": 23,
    "start_time": "2023-09-22T16:58:23.522Z"
   },
   {
    "duration": 305,
    "start_time": "2023-09-22T16:58:23.549Z"
   },
   {
    "duration": 61,
    "start_time": "2023-09-22T16:58:23.859Z"
   },
   {
    "duration": 328,
    "start_time": "2023-09-22T16:58:23.931Z"
   },
   {
    "duration": 64,
    "start_time": "2023-09-22T16:58:24.261Z"
   },
   {
    "duration": 24,
    "start_time": "2023-09-22T16:58:24.333Z"
   },
   {
    "duration": 8711,
    "start_time": "2023-09-22T16:58:24.359Z"
   },
   {
    "duration": 351536,
    "start_time": "2023-09-22T16:58:33.072Z"
   },
   {
    "duration": 828,
    "start_time": "2023-09-22T17:04:24.611Z"
   },
   {
    "duration": 1178,
    "start_time": "2023-09-22T17:04:25.441Z"
   },
   {
    "duration": 21111,
    "start_time": "2023-09-22T17:04:26.622Z"
   },
   {
    "duration": 749107,
    "start_time": "2023-09-22T17:04:47.739Z"
   },
   {
    "duration": 1382,
    "start_time": "2023-09-22T17:17:16.848Z"
   },
   {
    "duration": 317,
    "start_time": "2023-09-22T17:17:18.238Z"
   },
   {
    "duration": 30910,
    "start_time": "2023-09-22T17:17:18.558Z"
   },
   {
    "duration": 419002,
    "start_time": "2023-09-22T17:17:49.509Z"
   },
   {
    "duration": 1724,
    "start_time": "2023-09-22T17:24:48.513Z"
   },
   {
    "duration": 143,
    "start_time": "2023-09-22T17:24:50.313Z"
   },
   {
    "duration": 8053,
    "start_time": "2023-09-22T17:24:50.457Z"
   },
   {
    "duration": 429721,
    "start_time": "2023-09-22T17:24:58.516Z"
   },
   {
    "duration": 793,
    "start_time": "2023-09-22T17:32:08.239Z"
   },
   {
    "duration": 54191,
    "start_time": "2023-09-22T17:32:09.038Z"
   },
   {
    "duration": 106,
    "start_time": "2023-09-23T12:17:56.200Z"
   },
   {
    "duration": 1213,
    "start_time": "2023-09-23T12:32:54.490Z"
   },
   {
    "duration": 93,
    "start_time": "2023-09-23T12:32:58.531Z"
   },
   {
    "duration": 29,
    "start_time": "2023-09-23T12:33:10.407Z"
   },
   {
    "duration": 71,
    "start_time": "2023-09-23T12:41:27.835Z"
   },
   {
    "duration": 76,
    "start_time": "2023-09-23T12:44:17.810Z"
   }
  ],
  "kernelspec": {
   "display_name": "Python 3 (ipykernel)",
   "language": "python",
   "name": "python3"
  },
  "language_info": {
   "codemirror_mode": {
    "name": "ipython",
    "version": 3
   },
   "file_extension": ".py",
   "mimetype": "text/x-python",
   "name": "python",
   "nbconvert_exporter": "python",
   "pygments_lexer": "ipython3",
   "version": "3.11.4"
  },
  "toc": {
   "base_numbering": 1,
   "nav_menu": {},
   "number_sections": true,
   "sideBar": true,
   "skip_h1_title": true,
   "title_cell": "Содержание",
   "title_sidebar": "Contents",
   "toc_cell": true,
   "toc_position": {
    "height": "calc(100% - 180px)",
    "left": "10px",
    "top": "150px",
    "width": "167.6px"
   },
   "toc_section_display": true,
   "toc_window_display": true
  }
 },
 "nbformat": 4,
 "nbformat_minor": 2
}
