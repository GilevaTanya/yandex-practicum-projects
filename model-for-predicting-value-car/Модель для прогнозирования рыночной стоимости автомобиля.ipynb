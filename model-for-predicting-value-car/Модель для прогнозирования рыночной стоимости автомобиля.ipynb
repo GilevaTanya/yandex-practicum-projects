{
 "cells": [
  {
   "cell_type": "markdown",
   "metadata": {},
   "source": [
    "# Модель для прогнозирования рыночной стоимости автомобиля\n",
    "\n",
    "**Описание:**  \n",
    "Сервис по продаже автомобилей с пробегом «Не бит, не крашен» разрабатывает приложение для привлечения новых клиентов. В нём можно быстро узнать рыночную стоимость своего автомобиля. В вашем распоряжении исторические данные: технические характеристики, комплектации и цены автомобилей. Вам нужно построить модель для определения стоимости.\n",
    "\n",
    "**Задача:** Разработать модель для прогнозирования рыночной стоимости автомобиля  \n",
    "\n",
    "**Основные требования заказчика:**  \n",
    " * качество предсказания по RMSE должно быть меньше 2500;  \n",
    " * скорость предсказания;  \n",
    " * время обучения.  \n",
    " \n",
    "**План действий:**  \n",
    " 1. Загрузить данные.\n",
    " 2. Изучить данные. Обработать пропущенные значения и аномалии, неинформативные признаки - удалить.\n",
    " 3. Подготовить выборки для обучения моделей.\n",
    " 4. Обучим разные модели, одна из которых — LightGBM и как минимум одна — не бустинг. Попробуем разные гиперпараметры.\n",
    " 5. Проанализируем время обучения, время предсказания и качество моделей.\n",
    " 6. Опираясь на критерии заказчика, выберете лучшую модель, проверьте её качество на тестовой выборке.\n",
    "\n",
    "\n",
    "**Признаки:**  \n",
    "*DateCrawled* — дата скачивания анкеты из базы  \n",
    "*VehicleType* — тип автомобильного кузова  \n",
    "*RegistrationYear* — год регистрации автомобиля  \n",
    "*Gearbox* — тип коробки передач  \n",
    "*Power* — мощность (л. с.)  \n",
    "*Model* — модель автомобиля  \n",
    "*Kilometer* — пробег (км)  \n",
    "*RegistrationMonth* — месяц регистрации автомобиля  \n",
    "*FuelType* — тип топлива  \n",
    "*Brand* — марка автомобиля  \n",
    "*Repaired* — была машина в ремонте или нет  \n",
    "*DateCreated* — дата создания анкеты  \n",
    "*NumberOfPictures* — количество фотографий автомобиля  \n",
    "*PostalCode* — почтовый индекс владельца анкеты (пользователя)  \n",
    "*LastSeen* — дата последней активности пользователя  \n",
    "  \n",
    "**Целевой признак**  \n",
    "*Price* — цена (евро)"
   ]
  },
  {
   "cell_type": "markdown",
   "metadata": {},
   "source": [
    "## Подготовка данных"
   ]
  },
  {
   "cell_type": "markdown",
   "metadata": {},
   "source": [
    "### Загрузим данные."
   ]
  },
  {
   "cell_type": "code",
   "execution_count": 26,
   "metadata": {},
   "outputs": [],
   "source": [
    "import pandas as pd\n",
    "import numpy as np\n",
    "import matplotlib.pyplot as plt\n",
    "from sklearn.linear_model import LinearRegression\n",
    "from sklearn.tree import DecisionTreeRegressor\n",
    "from sklearn.ensemble import RandomForestRegressor\n",
    "import lightgbm as lgb\n",
    "from lightgbm import LGBMRegressor\n",
    "from catboost import CatBoostRegressor\n",
    "from sklearn.model_selection import train_test_split\n",
    "from sklearn.preprocessing import StandardScaler \n",
    "from sklearn.metrics import mean_squared_error\n",
    "import warnings \n",
    "warnings.filterwarnings('ignore')\n",
    "from tqdm import tqdm\n",
    "from scipy.stats import spearmanr"
   ]
  },
  {
   "cell_type": "markdown",
   "metadata": {},
   "source": [
    "Загрузим данные и посмотрим что внутри датасета"
   ]
  },
  {
   "cell_type": "code",
   "execution_count": 27,
   "metadata": {},
   "outputs": [],
   "source": [
    "df = pd.read_csv('/datasets/autos.csv', parse_dates=['DateCrawled', 'LastSeen', 'DateCreated'])"
   ]
  },
  {
   "cell_type": "code",
   "execution_count": 28,
   "metadata": {},
   "outputs": [
    {
     "data": {
      "text/html": [
       "<div>\n",
       "<style scoped>\n",
       "    .dataframe tbody tr th:only-of-type {\n",
       "        vertical-align: middle;\n",
       "    }\n",
       "\n",
       "    .dataframe tbody tr th {\n",
       "        vertical-align: top;\n",
       "    }\n",
       "\n",
       "    .dataframe thead th {\n",
       "        text-align: right;\n",
       "    }\n",
       "</style>\n",
       "<table border=\"1\" class=\"dataframe\">\n",
       "  <thead>\n",
       "    <tr style=\"text-align: right;\">\n",
       "      <th></th>\n",
       "      <th>DateCrawled</th>\n",
       "      <th>Price</th>\n",
       "      <th>VehicleType</th>\n",
       "      <th>RegistrationYear</th>\n",
       "      <th>Gearbox</th>\n",
       "      <th>Power</th>\n",
       "      <th>Model</th>\n",
       "      <th>Kilometer</th>\n",
       "      <th>RegistrationMonth</th>\n",
       "      <th>FuelType</th>\n",
       "      <th>Brand</th>\n",
       "      <th>Repaired</th>\n",
       "      <th>DateCreated</th>\n",
       "      <th>NumberOfPictures</th>\n",
       "      <th>PostalCode</th>\n",
       "      <th>LastSeen</th>\n",
       "    </tr>\n",
       "  </thead>\n",
       "  <tbody>\n",
       "    <tr>\n",
       "      <th>0</th>\n",
       "      <td>2016-03-24 11:52:17</td>\n",
       "      <td>480</td>\n",
       "      <td>NaN</td>\n",
       "      <td>1993</td>\n",
       "      <td>manual</td>\n",
       "      <td>0</td>\n",
       "      <td>golf</td>\n",
       "      <td>150000</td>\n",
       "      <td>0</td>\n",
       "      <td>petrol</td>\n",
       "      <td>volkswagen</td>\n",
       "      <td>NaN</td>\n",
       "      <td>2016-03-24</td>\n",
       "      <td>0</td>\n",
       "      <td>70435</td>\n",
       "      <td>2016-04-07 03:16:57</td>\n",
       "    </tr>\n",
       "    <tr>\n",
       "      <th>1</th>\n",
       "      <td>2016-03-24 10:58:45</td>\n",
       "      <td>18300</td>\n",
       "      <td>coupe</td>\n",
       "      <td>2011</td>\n",
       "      <td>manual</td>\n",
       "      <td>190</td>\n",
       "      <td>NaN</td>\n",
       "      <td>125000</td>\n",
       "      <td>5</td>\n",
       "      <td>gasoline</td>\n",
       "      <td>audi</td>\n",
       "      <td>yes</td>\n",
       "      <td>2016-03-24</td>\n",
       "      <td>0</td>\n",
       "      <td>66954</td>\n",
       "      <td>2016-04-07 01:46:50</td>\n",
       "    </tr>\n",
       "    <tr>\n",
       "      <th>2</th>\n",
       "      <td>2016-03-14 12:52:21</td>\n",
       "      <td>9800</td>\n",
       "      <td>suv</td>\n",
       "      <td>2004</td>\n",
       "      <td>auto</td>\n",
       "      <td>163</td>\n",
       "      <td>grand</td>\n",
       "      <td>125000</td>\n",
       "      <td>8</td>\n",
       "      <td>gasoline</td>\n",
       "      <td>jeep</td>\n",
       "      <td>NaN</td>\n",
       "      <td>2016-03-14</td>\n",
       "      <td>0</td>\n",
       "      <td>90480</td>\n",
       "      <td>2016-04-05 12:47:46</td>\n",
       "    </tr>\n",
       "    <tr>\n",
       "      <th>3</th>\n",
       "      <td>2016-03-17 16:54:04</td>\n",
       "      <td>1500</td>\n",
       "      <td>small</td>\n",
       "      <td>2001</td>\n",
       "      <td>manual</td>\n",
       "      <td>75</td>\n",
       "      <td>golf</td>\n",
       "      <td>150000</td>\n",
       "      <td>6</td>\n",
       "      <td>petrol</td>\n",
       "      <td>volkswagen</td>\n",
       "      <td>no</td>\n",
       "      <td>2016-03-17</td>\n",
       "      <td>0</td>\n",
       "      <td>91074</td>\n",
       "      <td>2016-03-17 17:40:17</td>\n",
       "    </tr>\n",
       "    <tr>\n",
       "      <th>4</th>\n",
       "      <td>2016-03-31 17:25:20</td>\n",
       "      <td>3600</td>\n",
       "      <td>small</td>\n",
       "      <td>2008</td>\n",
       "      <td>manual</td>\n",
       "      <td>69</td>\n",
       "      <td>fabia</td>\n",
       "      <td>90000</td>\n",
       "      <td>7</td>\n",
       "      <td>gasoline</td>\n",
       "      <td>skoda</td>\n",
       "      <td>no</td>\n",
       "      <td>2016-03-31</td>\n",
       "      <td>0</td>\n",
       "      <td>60437</td>\n",
       "      <td>2016-04-06 10:17:21</td>\n",
       "    </tr>\n",
       "  </tbody>\n",
       "</table>\n",
       "</div>"
      ],
      "text/plain": [
       "          DateCrawled  Price VehicleType  RegistrationYear Gearbox  Power  \\\n",
       "0 2016-03-24 11:52:17    480         NaN              1993  manual      0   \n",
       "1 2016-03-24 10:58:45  18300       coupe              2011  manual    190   \n",
       "2 2016-03-14 12:52:21   9800         suv              2004    auto    163   \n",
       "3 2016-03-17 16:54:04   1500       small              2001  manual     75   \n",
       "4 2016-03-31 17:25:20   3600       small              2008  manual     69   \n",
       "\n",
       "   Model  Kilometer  RegistrationMonth  FuelType       Brand Repaired  \\\n",
       "0   golf     150000                  0    petrol  volkswagen      NaN   \n",
       "1    NaN     125000                  5  gasoline        audi      yes   \n",
       "2  grand     125000                  8  gasoline        jeep      NaN   \n",
       "3   golf     150000                  6    petrol  volkswagen       no   \n",
       "4  fabia      90000                  7  gasoline       skoda       no   \n",
       "\n",
       "  DateCreated  NumberOfPictures  PostalCode            LastSeen  \n",
       "0  2016-03-24                 0       70435 2016-04-07 03:16:57  \n",
       "1  2016-03-24                 0       66954 2016-04-07 01:46:50  \n",
       "2  2016-03-14                 0       90480 2016-04-05 12:47:46  \n",
       "3  2016-03-17                 0       91074 2016-03-17 17:40:17  \n",
       "4  2016-03-31                 0       60437 2016-04-06 10:17:21  "
      ]
     },
     "execution_count": 28,
     "metadata": {},
     "output_type": "execute_result"
    }
   ],
   "source": [
    "df.head()"
   ]
  },
  {
   "cell_type": "markdown",
   "metadata": {},
   "source": [
    "Фиксируем размероность датасета"
   ]
  },
  {
   "cell_type": "code",
   "execution_count": 29,
   "metadata": {},
   "outputs": [
    {
     "data": {
      "text/plain": [
       "(354369, 16)"
      ]
     },
     "execution_count": 29,
     "metadata": {},
     "output_type": "execute_result"
    }
   ],
   "source": [
    "df_first = df.shape\n",
    "df_first"
   ]
  },
  {
   "cell_type": "markdown",
   "metadata": {},
   "source": [
    "### Изучим данные. "
   ]
  },
  {
   "cell_type": "code",
   "execution_count": 30,
   "metadata": {},
   "outputs": [
    {
     "name": "stdout",
     "output_type": "stream",
     "text": [
      "<class 'pandas.core.frame.DataFrame'>\n",
      "RangeIndex: 354369 entries, 0 to 354368\n",
      "Data columns (total 16 columns):\n",
      " #   Column             Non-Null Count   Dtype         \n",
      "---  ------             --------------   -----         \n",
      " 0   DateCrawled        354369 non-null  datetime64[ns]\n",
      " 1   Price              354369 non-null  int64         \n",
      " 2   VehicleType        316879 non-null  object        \n",
      " 3   RegistrationYear   354369 non-null  int64         \n",
      " 4   Gearbox            334536 non-null  object        \n",
      " 5   Power              354369 non-null  int64         \n",
      " 6   Model              334664 non-null  object        \n",
      " 7   Kilometer          354369 non-null  int64         \n",
      " 8   RegistrationMonth  354369 non-null  int64         \n",
      " 9   FuelType           321474 non-null  object        \n",
      " 10  Brand              354369 non-null  object        \n",
      " 11  Repaired           283215 non-null  object        \n",
      " 12  DateCreated        354369 non-null  datetime64[ns]\n",
      " 13  NumberOfPictures   354369 non-null  int64         \n",
      " 14  PostalCode         354369 non-null  int64         \n",
      " 15  LastSeen           354369 non-null  datetime64[ns]\n",
      "dtypes: datetime64[ns](3), int64(7), object(6)\n",
      "memory usage: 43.3+ MB\n"
     ]
    }
   ],
   "source": [
    "df.info()"
   ]
  },
  {
   "cell_type": "markdown",
   "metadata": {},
   "source": [
    "Типы данных привоены верно. Названия столбцов не соответствует стандарту, но менять его не буду т.к. так будет удобно для чтения."
   ]
  },
  {
   "cell_type": "markdown",
   "metadata": {},
   "source": [
    "**Проверим дубликаты**"
   ]
  },
  {
   "cell_type": "markdown",
   "metadata": {},
   "source": [
    "Явные дубликаты:"
   ]
  },
  {
   "cell_type": "code",
   "execution_count": 31,
   "metadata": {},
   "outputs": [
    {
     "data": {
      "text/plain": [
       "4"
      ]
     },
     "execution_count": 31,
     "metadata": {},
     "output_type": "execute_result"
    }
   ],
   "source": [
    "df.duplicated().sum()"
   ]
  },
  {
   "cell_type": "code",
   "execution_count": 32,
   "metadata": {},
   "outputs": [],
   "source": [
    "df = df.drop_duplicates()"
   ]
  },
  {
   "cell_type": "code",
   "execution_count": 33,
   "metadata": {},
   "outputs": [
    {
     "data": {
      "text/plain": [
       "0"
      ]
     },
     "execution_count": 33,
     "metadata": {},
     "output_type": "execute_result"
    }
   ],
   "source": [
    "df.duplicated().sum()"
   ]
  },
  {
   "cell_type": "markdown",
   "metadata": {},
   "source": [
    "Неявные дубликаты:"
   ]
  },
  {
   "cell_type": "code",
   "execution_count": 34,
   "metadata": {
    "scrolled": false
   },
   "outputs": [
    {
     "data": {
      "text/html": [
       "<div>\n",
       "<style scoped>\n",
       "    .dataframe tbody tr th:only-of-type {\n",
       "        vertical-align: middle;\n",
       "    }\n",
       "\n",
       "    .dataframe tbody tr th {\n",
       "        vertical-align: top;\n",
       "    }\n",
       "\n",
       "    .dataframe thead th {\n",
       "        text-align: right;\n",
       "    }\n",
       "</style>\n",
       "<table border=\"1\" class=\"dataframe\">\n",
       "  <thead>\n",
       "    <tr style=\"text-align: right;\">\n",
       "      <th></th>\n",
       "      <th>DateCrawled</th>\n",
       "      <th>Price</th>\n",
       "      <th>VehicleType</th>\n",
       "      <th>RegistrationYear</th>\n",
       "      <th>Gearbox</th>\n",
       "      <th>Power</th>\n",
       "      <th>Model</th>\n",
       "      <th>Kilometer</th>\n",
       "      <th>RegistrationMonth</th>\n",
       "      <th>FuelType</th>\n",
       "      <th>Brand</th>\n",
       "      <th>Repaired</th>\n",
       "      <th>DateCreated</th>\n",
       "      <th>NumberOfPictures</th>\n",
       "      <th>PostalCode</th>\n",
       "      <th>LastSeen</th>\n",
       "    </tr>\n",
       "  </thead>\n",
       "  <tbody>\n",
       "  </tbody>\n",
       "</table>\n",
       "</div>"
      ],
      "text/plain": [
       "Empty DataFrame\n",
       "Columns: [DateCrawled, Price, VehicleType, RegistrationYear, Gearbox, Power, Model, Kilometer, RegistrationMonth, FuelType, Brand, Repaired, DateCreated, NumberOfPictures, PostalCode, LastSeen]\n",
       "Index: []"
      ]
     },
     "execution_count": 34,
     "metadata": {},
     "output_type": "execute_result"
    }
   ],
   "source": [
    "df[df[['DateCrawled','Price', 'VehicleType', 'RegistrationYear', 'Gearbox', 'Power', 'Model','Kilometer','RegistrationMonth',\n",
    "       'FuelType','Brand','Repaired','DateCreated','NumberOfPictures','PostalCode','LastSeen']].duplicated(keep=False)]"
   ]
  },
  {
   "cell_type": "markdown",
   "metadata": {},
   "source": [
    "**Смотрим пропуски.**"
   ]
  },
  {
   "cell_type": "code",
   "execution_count": 37,
   "metadata": {},
   "outputs": [
    {
     "data": {
      "text/plain": [
       "DateCrawled              0\n",
       "Price                    0\n",
       "VehicleType          37490\n",
       "RegistrationYear         0\n",
       "Gearbox              19833\n",
       "Power                    0\n",
       "Model                19705\n",
       "Kilometer                0\n",
       "RegistrationMonth        0\n",
       "FuelType             32895\n",
       "Brand                    0\n",
       "Repaired             71154\n",
       "DateCreated              0\n",
       "NumberOfPictures         0\n",
       "PostalCode               0\n",
       "LastSeen                 0\n",
       "dtype: int64"
      ]
     },
     "execution_count": 37,
     "metadata": {},
     "output_type": "execute_result"
    }
   ],
   "source": [
    "df.isna().sum()"
   ]
  },
  {
   "cell_type": "code",
   "execution_count": 38,
   "metadata": {},
   "outputs": [
    {
     "data": {
      "text/plain": [
       "DateCrawled           0.0\n",
       "Price                 0.0\n",
       "VehicleType          11.0\n",
       "RegistrationYear      0.0\n",
       "Gearbox               6.0\n",
       "Power                 0.0\n",
       "Model                 6.0\n",
       "Kilometer             0.0\n",
       "RegistrationMonth     0.0\n",
       "FuelType              9.0\n",
       "Brand                 0.0\n",
       "Repaired             20.0\n",
       "DateCreated           0.0\n",
       "NumberOfPictures      0.0\n",
       "PostalCode            0.0\n",
       "LastSeen              0.0\n",
       "dtype: float64"
      ]
     },
     "execution_count": 38,
     "metadata": {},
     "output_type": "execute_result"
    }
   ],
   "source": [
    "((df.isna().sum()/ df.isna().count())*100).round()"
   ]
  },
  {
   "cell_type": "markdown",
   "metadata": {},
   "source": [
    "**Пропуски присутствуют только в 5 столбцах, но их достаточно много от 6% до 20%.**"
   ]
  },
  {
   "cell_type": "markdown",
   "metadata": {},
   "source": [
    "Будем рассматривать каждый столбец в отдельности на пропуски, аномалии и необходимость для модели прогнозирования."
   ]
  },
  {
   "cell_type": "markdown",
   "metadata": {},
   "source": [
    "---"
   ]
  },
  {
   "cell_type": "markdown",
   "metadata": {},
   "source": [
    "### Обработаем пропущенные значения и аномалии."
   ]
  },
  {
   "cell_type": "markdown",
   "metadata": {},
   "source": [
    "*Price* — цена (евро)"
   ]
  },
  {
   "cell_type": "code",
   "execution_count": 39,
   "metadata": {
    "scrolled": true
   },
   "outputs": [
    {
     "data": {
      "text/plain": [
       "count    354365.000000\n",
       "mean       4416.679830\n",
       "std        4514.176349\n",
       "min           0.000000\n",
       "25%        1050.000000\n",
       "50%        2700.000000\n",
       "75%        6400.000000\n",
       "max       20000.000000\n",
       "Name: Price, dtype: float64"
      ]
     },
     "execution_count": 39,
     "metadata": {},
     "output_type": "execute_result"
    }
   ],
   "source": [
    "df['Price'].describe()"
   ]
  },
  {
   "cell_type": "code",
   "execution_count": 40,
   "metadata": {},
   "outputs": [
    {
     "data": {
      "text/plain": [
       "<AxesSubplot:title={'center':'Price'}, ylabel='Frequency'>"
      ]
     },
     "execution_count": 40,
     "metadata": {},
     "output_type": "execute_result"
    },
    {
     "data": {
      "image/png": "[encoded data removed]",
      "text/plain": [
       "<Figure size 1440x360 with 1 Axes>"
      ]
     },
     "metadata": {
      "needs_background": "light"
     },
     "output_type": "display_data"
    }
   ],
   "source": [
    "df['Price'].plot(kind = 'hist', range=(0,300), bins = 150, title = 'Price',grid = True, figsize=(20,5))"
   ]
  },
  {
   "cell_type": "code",
   "execution_count": 41,
   "metadata": {},
   "outputs": [
    {
     "data": {
      "text/plain": [
       "Price\n",
       "0       0.030398\n",
       "500     0.016000\n",
       "1500    0.015222\n",
       "1000    0.013116\n",
       "1200    0.012964\n",
       "          ...   \n",
       "1294    0.000003\n",
       "2511    0.000003\n",
       "5775    0.000003\n",
       "7428    0.000003\n",
       "7070    0.000003\n",
       "Name: proportion, Length: 3731, dtype: float64"
      ]
     },
     "execution_count": 41,
     "metadata": {},
     "output_type": "execute_result"
    }
   ],
   "source": [
    "df['Price'].value_counts(normalize= True)"
   ]
  },
  {
   "cell_type": "markdown",
   "metadata": {},
   "source": [
    "**Количество нулей в столбце цены составлет самую большую групу, в общем объеме 3%. Выделим отдельно строки с 0.**"
   ]
  },
  {
   "cell_type": "code",
   "execution_count": 42,
   "metadata": {},
   "outputs": [
    {
     "data": {
      "text/html": [
       "<div>\n",
       "<style scoped>\n",
       "    .dataframe tbody tr th:only-of-type {\n",
       "        vertical-align: middle;\n",
       "    }\n",
       "\n",
       "    .dataframe tbody tr th {\n",
       "        vertical-align: top;\n",
       "    }\n",
       "\n",
       "    .dataframe thead th {\n",
       "        text-align: right;\n",
       "    }\n",
       "</style>\n",
       "<table border=\"1\" class=\"dataframe\">\n",
       "  <thead>\n",
       "    <tr style=\"text-align: right;\">\n",
       "      <th></th>\n",
       "      <th>DateCrawled</th>\n",
       "      <th>Price</th>\n",
       "      <th>VehicleType</th>\n",
       "      <th>RegistrationYear</th>\n",
       "      <th>Gearbox</th>\n",
       "      <th>Power</th>\n",
       "      <th>Model</th>\n",
       "      <th>Kilometer</th>\n",
       "      <th>RegistrationMonth</th>\n",
       "      <th>FuelType</th>\n",
       "      <th>Brand</th>\n",
       "      <th>Repaired</th>\n",
       "      <th>DateCreated</th>\n",
       "      <th>NumberOfPictures</th>\n",
       "      <th>PostalCode</th>\n",
       "      <th>LastSeen</th>\n",
       "    </tr>\n",
       "  </thead>\n",
       "  <tbody>\n",
       "    <tr>\n",
       "      <th>7</th>\n",
       "      <td>2016-03-21 18:54:38</td>\n",
       "      <td>0</td>\n",
       "      <td>sedan</td>\n",
       "      <td>1980</td>\n",
       "      <td>manual</td>\n",
       "      <td>50</td>\n",
       "      <td>other</td>\n",
       "      <td>40000</td>\n",
       "      <td>7</td>\n",
       "      <td>petrol</td>\n",
       "      <td>volkswagen</td>\n",
       "      <td>no</td>\n",
       "      <td>2016-03-21</td>\n",
       "      <td>0</td>\n",
       "      <td>19348</td>\n",
       "      <td>2016-03-25 16:47:58</td>\n",
       "    </tr>\n",
       "    <tr>\n",
       "      <th>40</th>\n",
       "      <td>2016-03-26 22:06:17</td>\n",
       "      <td>0</td>\n",
       "      <td>NaN</td>\n",
       "      <td>1990</td>\n",
       "      <td>NaN</td>\n",
       "      <td>0</td>\n",
       "      <td>corsa</td>\n",
       "      <td>150000</td>\n",
       "      <td>1</td>\n",
       "      <td>petrol</td>\n",
       "      <td>opel</td>\n",
       "      <td>NaN</td>\n",
       "      <td>2016-03-26</td>\n",
       "      <td>0</td>\n",
       "      <td>56412</td>\n",
       "      <td>2016-03-27 17:43:34</td>\n",
       "    </tr>\n",
       "    <tr>\n",
       "      <th>111</th>\n",
       "      <td>2016-03-19 18:40:12</td>\n",
       "      <td>0</td>\n",
       "      <td>NaN</td>\n",
       "      <td>2017</td>\n",
       "      <td>manual</td>\n",
       "      <td>0</td>\n",
       "      <td>golf</td>\n",
       "      <td>5000</td>\n",
       "      <td>12</td>\n",
       "      <td>petrol</td>\n",
       "      <td>volkswagen</td>\n",
       "      <td>NaN</td>\n",
       "      <td>2016-03-19</td>\n",
       "      <td>0</td>\n",
       "      <td>21698</td>\n",
       "      <td>2016-04-01 08:47:05</td>\n",
       "    </tr>\n",
       "    <tr>\n",
       "      <th>115</th>\n",
       "      <td>2016-03-20 18:53:27</td>\n",
       "      <td>0</td>\n",
       "      <td>small</td>\n",
       "      <td>1999</td>\n",
       "      <td>NaN</td>\n",
       "      <td>0</td>\n",
       "      <td>NaN</td>\n",
       "      <td>5000</td>\n",
       "      <td>0</td>\n",
       "      <td>petrol</td>\n",
       "      <td>volkswagen</td>\n",
       "      <td>NaN</td>\n",
       "      <td>2016-03-20</td>\n",
       "      <td>0</td>\n",
       "      <td>37520</td>\n",
       "      <td>2016-04-07 02:45:22</td>\n",
       "    </tr>\n",
       "    <tr>\n",
       "      <th>152</th>\n",
       "      <td>2016-03-11 18:55:53</td>\n",
       "      <td>0</td>\n",
       "      <td>bus</td>\n",
       "      <td>2004</td>\n",
       "      <td>manual</td>\n",
       "      <td>101</td>\n",
       "      <td>meriva</td>\n",
       "      <td>150000</td>\n",
       "      <td>10</td>\n",
       "      <td>lpg</td>\n",
       "      <td>opel</td>\n",
       "      <td>yes</td>\n",
       "      <td>2016-03-11</td>\n",
       "      <td>0</td>\n",
       "      <td>27432</td>\n",
       "      <td>2016-03-12 23:47:10</td>\n",
       "    </tr>\n",
       "  </tbody>\n",
       "</table>\n",
       "</div>"
      ],
      "text/plain": [
       "            DateCrawled  Price VehicleType  RegistrationYear Gearbox  Power  \\\n",
       "7   2016-03-21 18:54:38      0       sedan              1980  manual     50   \n",
       "40  2016-03-26 22:06:17      0         NaN              1990     NaN      0   \n",
       "111 2016-03-19 18:40:12      0         NaN              2017  manual      0   \n",
       "115 2016-03-20 18:53:27      0       small              1999     NaN      0   \n",
       "152 2016-03-11 18:55:53      0         bus              2004  manual    101   \n",
       "\n",
       "      Model  Kilometer  RegistrationMonth FuelType       Brand Repaired  \\\n",
       "7     other      40000                  7   petrol  volkswagen       no   \n",
       "40    corsa     150000                  1   petrol        opel      NaN   \n",
       "111    golf       5000                 12   petrol  volkswagen      NaN   \n",
       "115     NaN       5000                  0   petrol  volkswagen      NaN   \n",
       "152  meriva     150000                 10      lpg        opel      yes   \n",
       "\n",
       "    DateCreated  NumberOfPictures  PostalCode            LastSeen  \n",
       "7    2016-03-21                 0       19348 2016-03-25 16:47:58  \n",
       "40   2016-03-26                 0       56412 2016-03-27 17:43:34  \n",
       "111  2016-03-19                 0       21698 2016-04-01 08:47:05  \n",
       "115  2016-03-20                 0       37520 2016-04-07 02:45:22  \n",
       "152  2016-03-11                 0       27432 2016-03-12 23:47:10  "
      ]
     },
     "execution_count": 42,
     "metadata": {},
     "output_type": "execute_result"
    }
   ],
   "source": [
    "p = df[df['Price'] == 0]\n",
    "p.head()"
   ]
  },
  {
   "cell_type": "code",
   "execution_count": 43,
   "metadata": {
    "scrolled": true
   },
   "outputs": [
    {
     "data": {
      "text/plain": [
       "DateCreated\n",
       "2016-01-26   2016-03-06 01:47:42\n",
       "2016-02-07   2016-03-07 20:44:49\n",
       "2016-02-09   2016-03-07 09:58:38\n",
       "2016-02-12   2016-03-06 00:53:53\n",
       "2016-02-18   2016-03-06 00:58:57\n",
       "2016-02-29   2016-03-05 14:47:15\n",
       "2016-03-02   2016-03-08 08:28:19\n",
       "2016-03-03   2016-03-05 14:12:21\n",
       "2016-03-04   2016-03-05 14:23:21\n",
       "2016-03-05   2016-03-05 14:43:47\n",
       "2016-03-06   2016-03-06 10:06:20\n",
       "2016-03-07   2016-03-07 15:06:23\n",
       "2016-03-08   2016-03-08 14:38:34\n",
       "2016-03-09   2016-03-09 08:53:31\n",
       "2016-03-10   2016-03-10 22:25:34\n",
       "2016-03-11   2016-03-11 18:55:53\n",
       "2016-03-12   2016-03-12 11:53:24\n",
       "2016-03-13   2016-03-13 07:36:57\n",
       "2016-03-14   2016-03-14 18:40:14\n",
       "2016-03-15   2016-03-15 21:48:31\n",
       "2016-03-16   2016-03-16 22:06:24\n",
       "2016-03-17   2016-03-17 22:38:13\n",
       "2016-03-18   2016-03-18 08:37:21\n",
       "2016-03-19   2016-03-19 18:40:12\n",
       "2016-03-20   2016-03-20 18:53:27\n",
       "2016-03-21   2016-03-21 18:54:38\n",
       "2016-03-22   2016-03-22 16:37:59\n",
       "2016-03-23   2016-03-23 17:55:19\n",
       "2016-03-24   2016-03-24 10:58:40\n",
       "2016-03-25   2016-03-25 22:53:44\n",
       "2016-03-26   2016-03-26 22:06:17\n",
       "2016-03-27   2016-03-27 11:37:43\n",
       "2016-03-28   2016-03-28 11:56:25\n",
       "2016-03-29   2016-03-29 17:56:52\n",
       "2016-03-30   2016-03-30 23:57:49\n",
       "2016-03-31   2016-03-31 22:51:53\n",
       "2016-04-01   2016-04-01 06:36:36\n",
       "2016-04-02   2016-04-02 15:38:40\n",
       "2016-04-03   2016-04-03 20:48:56\n",
       "2016-04-04   2016-04-04 02:37:41\n",
       "2016-04-05   2016-04-05 06:36:35\n",
       "2016-04-06   2016-04-06 06:36:24\n",
       "2016-04-07   2016-04-07 13:06:36\n",
       "Name: DateCrawled, dtype: datetime64[ns]"
      ]
     },
     "execution_count": 43,
     "metadata": {},
     "output_type": "execute_result"
    }
   ],
   "source": [
    "p.groupby('DateCreated')['DateCrawled'].first()"
   ]
  },
  {
   "cell_type": "code",
   "execution_count": 44,
   "metadata": {},
   "outputs": [],
   "source": [
    "del p"
   ]
  },
  {
   "cell_type": "markdown",
   "metadata": {},
   "source": [
    "Все анкеты с \"0\" в столбце цена имеют одно время создания 00:00:00. И в большенстве случаев в туже дату что были скачены анкеты из базы. Данные особенности создают угрозу что аннкеты с \"0\" искуственные и это может исказить работу модели. К тому же цена является целевым признаком, а наличие нулей в наборе данных повлияет на качество предсказания. Востановить данные нет возможности. Поэтому удалю строки с ценой равной \"0\" евро."
   ]
  },
  {
   "cell_type": "code",
   "execution_count": 45,
   "metadata": {},
   "outputs": [
    {
     "data": {
      "text/plain": [
       "count    342404.000000\n",
       "mean       4570.961668\n",
       "std        4514.912239\n",
       "min           2.000000\n",
       "25%        1200.000000\n",
       "50%        2900.000000\n",
       "75%        6500.000000\n",
       "max       20000.000000\n",
       "Name: Price, dtype: float64"
      ]
     },
     "execution_count": 45,
     "metadata": {},
     "output_type": "execute_result"
    }
   ],
   "source": [
    "df = df[df['Price'] > 1]\n",
    "df['Price'].describe()"
   ]
  },
  {
   "cell_type": "code",
   "execution_count": 46,
   "metadata": {},
   "outputs": [
    {
     "data": {
      "image/png": "[encoded data removed]",
      "text/plain": [
       "<Figure size 1440x360 with 1 Axes>"
      ]
     },
     "metadata": {
      "needs_background": "light"
     },
     "output_type": "display_data"
    }
   ],
   "source": [
    "df['Price'].plot(kind = 'hist', range=(0,20000), bins = 200, title = 'Price',grid = True, figsize=(20,5))\n",
    "plt.show()"
   ]
  },
  {
   "cell_type": "markdown",
   "metadata": {},
   "source": [
    "---"
   ]
  },
  {
   "cell_type": "markdown",
   "metadata": {},
   "source": [
    "*DateCrawled* — дата скачивания анкеты из базы"
   ]
  },
  {
   "cell_type": "markdown",
   "metadata": {},
   "source": [
    "Данные выгружены за один месяц 2016г, примерно равномерно за этот период.  \n",
    "Никакой пользы для модели данная инофрмация не несет, поэтому чтобы не перегружать расчеты, удалю столбец при подготовке данных к обучению."
   ]
  },
  {
   "cell_type": "code",
   "execution_count": 47,
   "metadata": {},
   "outputs": [
    {
     "name": "stdout",
     "output_type": "stream",
     "text": [
      "Начало: 2016-03-05 14:06:22\n",
      "Конец: 2016-04-07 14:36:58\n"
     ]
    },
    {
     "data": {
      "image/png": "[encoded data removed]",
      "text/plain": [
       "<Figure size 1080x360 with 1 Axes>"
      ]
     },
     "metadata": {
      "needs_background": "light"
     },
     "output_type": "display_data"
    }
   ],
   "source": [
    "df['DateCrawled'] = pd.to_datetime(df['DateCrawled'])\n",
    "df['DateCrawled'].hist(figsize = (15, 5), grid = True)\n",
    "print('Начало:', df['DateCrawled'].min())\n",
    "print('Конец:', df['DateCrawled'].max())"
   ]
  },
  {
   "cell_type": "markdown",
   "metadata": {},
   "source": [
    "------"
   ]
  },
  {
   "cell_type": "markdown",
   "metadata": {},
   "source": [
    "*VehicleType* — тип автомобильного кузова"
   ]
  },
  {
   "cell_type": "markdown",
   "metadata": {},
   "source": [
    "Типы кузова указаны корректно. Однако большое количество пропусков - 9,7%. \n",
    "Маловероятно чтобы владелец машины не знал какой у нее кузов, при этом для случайного пропуска, объем почти в 10% слишком велик.\n",
    "Определим тип кузова по Модели авто, там где по модели сопоставить не получиться, присвою пропускам категорию \"other\". "
   ]
  },
  {
   "cell_type": "code",
   "execution_count": 48,
   "metadata": {},
   "outputs": [
    {
     "name": "stdout",
     "output_type": "stream",
     "text": [
      "VehicleType\n",
      "sedan          0.288585\n",
      "small          0.251829\n",
      "wagon          0.205585\n",
      "bus            0.091495\n",
      "convertible    0.064143\n",
      "coupe          0.050388\n",
      "suv            0.038072\n",
      "other          0.009902\n",
      "Name: proportion, dtype: float64\n",
      "\n",
      "Пропуски: 0.09720096727841965\n"
     ]
    }
   ],
   "source": [
    "print(df['VehicleType'].value_counts(normalize= True))\n",
    "print()\n",
    "print('Пропуски:', df['VehicleType'].isna().sum() / df['VehicleType'].isna().count())"
   ]
  },
  {
   "cell_type": "code",
   "execution_count": 49,
   "metadata": {},
   "outputs": [
    {
     "name": "stdout",
     "output_type": "stream",
     "text": [
      "VehicleType\n",
      "sedan          0.279135\n",
      "small          0.260429\n",
      "wagon          0.199869\n",
      "bus            0.092274\n",
      "convertible    0.060975\n",
      "coupe          0.046594\n",
      "suv            0.035554\n",
      "other          0.025169\n",
      "Name: proportion, dtype: float64\n",
      "\n",
      "Пропуски: 0.0\n"
     ]
    }
   ],
   "source": [
    "df['VehicleType'] = df['VehicleType'].fillna(df.groupby('Model')['VehicleType'].transform('first'))\n",
    "df['VehicleType'] = df['VehicleType'].fillna('other')\n",
    "print(df['VehicleType'].value_counts(normalize= True))\n",
    "print()\n",
    "print('Пропуски:', df['VehicleType'].isna().sum() / df['VehicleType'].isna().count())"
   ]
  },
  {
   "cell_type": "markdown",
   "metadata": {},
   "source": [
    "---"
   ]
  },
  {
   "cell_type": "markdown",
   "metadata": {},
   "source": [
    "*RegistrationYear* — год регистрации автомобиля"
   ]
  },
  {
   "cell_type": "markdown",
   "metadata": {},
   "source": [
    "Не совсем понятно, что имеется ввиду в данном параметре: год выпуска авто или когда владелец именно зарегистрировал его на себя. При этом очень большой разброс годов регистрации, некоторые прям совсем фантастические. Судя по графикам и согласно здравого смысла машины не могут быть зарегистированны ранее 1960 года и позже апреля 2016.  \n",
    "Исходя из названия сервиса по продаже автомобилей с пробегом «Не бит, не крашен» территориально он должен находиться в России.\n",
    "Согласно историческим данным в 1946 была проведена реформа регистрационных знаков, требующая обязательной перерегистрации всех автомобилей, поэтому данные за более ранний период недействительны.\n",
    "Т.к. выгрузка у нас за март-апрель 2016г. более поздних анкет не должны быть в данных.  \n",
    "Скореткировать их нет возможности, удалим данные выходящие за пределы временного отрезка от 1946 до 2016 года."
   ]
  },
  {
   "cell_type": "code",
   "execution_count": 650,
   "metadata": {
    "scrolled": false
   },
   "outputs": [
    {
     "data": {
      "text/plain": [
       "array([1000, 1001, 1039, 1111, 1234, 1255, 1300, 1400, 1500, 1600, 1602,\n",
       "       1800, 1910, 1923, 1925, 1927, 1928, 1929, 1930, 1931, 1932, 1933,\n",
       "       1934, 1935, 1936, 1937, 1938, 1940, 1941, 1942, 1943, 1944, 1945,\n",
       "       1946, 1947, 1948, 1949, 1950, 1951, 1952, 1953, 1954, 1955, 1956,\n",
       "       1957, 1958, 1959, 1960, 1961, 1962, 1963, 1964, 1965, 1966, 1967,\n",
       "       1968, 1969, 1970, 1971, 1972, 1973, 1974, 1975, 1976, 1977, 1978,\n",
       "       1979, 1980, 1981, 1982, 1983, 1984, 1985, 1986, 1987, 1988, 1989,\n",
       "       1990, 1991, 1992, 1993, 1994, 1995, 1996, 1997, 1998, 1999, 2000,\n",
       "       2001, 2002, 2003, 2004, 2005, 2006, 2007, 2008, 2009, 2010, 2011,\n",
       "       2012, 2013, 2014, 2015, 2016, 2017, 2018, 2019, 2066, 2200, 2222,\n",
       "       2290, 2500, 2800, 2900, 3000, 3200, 3700, 3800, 4000, 4100, 4500,\n",
       "       4800, 5000, 5300, 5555, 5600, 5900, 5911, 6000, 7000, 7100, 7800,\n",
       "       8000, 8200, 8500, 8888, 9000, 9450, 9999])"
      ]
     },
     "execution_count": 650,
     "metadata": {},
     "output_type": "execute_result"
    }
   ],
   "source": [
    "np.unique(df['RegistrationYear'])"
   ]
  },
  {
   "cell_type": "code",
   "execution_count": 651,
   "metadata": {},
   "outputs": [
    {
     "data": {
      "text/plain": [
       "Text(0, 0.5, 'Количество')"
      ]
     },
     "execution_count": 651,
     "metadata": {},
     "output_type": "execute_result"
    },
    {
     "data": {
      "image/png": "[encoded data removed]",
      "text/plain": [
       "<Figure size 1080x360 with 1 Axes>"
      ]
     },
     "metadata": {
      "needs_background": "light"
     },
     "output_type": "display_data"
    }
   ],
   "source": [
    "df.plot(y = 'RegistrationYear', kind = 'hist', bins = 200, range=(1950,2050), figsize = (15, 5), \n",
    "          title = 'Год регистрации автомобиля', grid = True)\n",
    "plt.xlabel(\"Год регистрации автомобиля\")\n",
    "plt.ylabel(\"Количество\")"
   ]
  },
  {
   "cell_type": "code",
   "execution_count": 652,
   "metadata": {},
   "outputs": [
    {
     "data": {
      "text/plain": [
       "array([1946, 1947, 1948, 1949, 1950, 1951, 1952, 1953, 1954, 1955, 1956,\n",
       "       1957, 1958, 1959, 1960, 1961, 1962, 1963, 1964, 1965, 1966, 1967,\n",
       "       1968, 1969, 1970, 1971, 1972, 1973, 1974, 1975, 1976, 1977, 1978,\n",
       "       1979, 1980, 1981, 1982, 1983, 1984, 1985, 1986, 1987, 1988, 1989,\n",
       "       1990, 1991, 1992, 1993, 1994, 1995, 1996, 1997, 1998, 1999, 2000,\n",
       "       2001, 2002, 2003, 2004, 2005, 2006, 2007, 2008, 2009, 2010, 2011,\n",
       "       2012, 2013, 2014, 2015, 2016])"
      ]
     },
     "execution_count": 652,
     "metadata": {},
     "output_type": "execute_result"
    }
   ],
   "source": [
    "df = df[df['RegistrationYear'] > 1945]\n",
    "df = df[df['RegistrationYear'] < 2017]\n",
    "np.unique(df['RegistrationYear'])"
   ]
  },
  {
   "cell_type": "markdown",
   "metadata": {},
   "source": [
    "---"
   ]
  },
  {
   "cell_type": "markdown",
   "metadata": {},
   "source": [
    "*Gearbox* — тип коробки передач"
   ]
  },
  {
   "cell_type": "markdown",
   "metadata": {},
   "source": [
    "В данных представлены только две возможые вариации коробок передач, скоре всего пропуски, это авто с роботизированной или вариативной коробками передеч. Поэтому заменим пропуски на \"other\"."
   ]
  },
  {
   "cell_type": "code",
   "execution_count": 653,
   "metadata": {},
   "outputs": [
    {
     "name": "stdout",
     "output_type": "stream",
     "text": [
      "manual    0.799404\n",
      "auto      0.200596\n",
      "Name: Gearbox, dtype: float64\n",
      "\n",
      "Пропуски: 0.04627513050359931\n"
     ]
    }
   ],
   "source": [
    "print(df['Gearbox'].value_counts(normalize= True))\n",
    "print()\n",
    "print('Пропуски:', df['Gearbox'].isna().sum() / df['Gearbox'].isna().count())"
   ]
  },
  {
   "cell_type": "code",
   "execution_count": 654,
   "metadata": {},
   "outputs": [
    {
     "name": "stdout",
     "output_type": "stream",
     "text": [
      "manual    0.762412\n",
      "auto      0.191313\n",
      "other     0.046275\n",
      "Name: Gearbox, dtype: float64\n",
      "\n",
      "Пропуски: 0.0\n"
     ]
    }
   ],
   "source": [
    "df['Gearbox'] = df['Gearbox'].fillna('other')\n",
    "print(df['Gearbox'].value_counts(normalize= True))\n",
    "print()\n",
    "print('Пропуски:', df['Gearbox'].isna().sum() / df['Gearbox'].isna().count())"
   ]
  },
  {
   "cell_type": "markdown",
   "metadata": {},
   "source": [
    "---"
   ]
  },
  {
   "cell_type": "markdown",
   "metadata": {},
   "source": [
    "*Power* — мощность (л. с.)"
   ]
  },
  {
   "cell_type": "markdown",
   "metadata": {},
   "source": [
    "Соглано данным 9,8% строк не содержат данных о мощности, т.е. указанная мощность равна \"0\", при этом пропусков в данных нет. \n",
    "Данный объем слишком большой чтобы его удалять, поэтому предлагаю заменить \"0\" средними значениями для моделей автомобилей.\n",
    "Согласно изучению рынка автомобилей мощность варьируется от 5 до 3000 лошадинных сил. В среднем машины обладают мощность от 30 до 300 л.с."
   ]
  },
  {
   "cell_type": "code",
   "execution_count": 655,
   "metadata": {},
   "outputs": [
    {
     "data": {
      "text/plain": [
       "0       0.098434\n",
       "75      0.067210\n",
       "60      0.044875\n",
       "150     0.041703\n",
       "101     0.037716\n",
       "          ...   \n",
       "428     0.000003\n",
       "6062    0.000003\n",
       "685     0.000003\n",
       "1799    0.000003\n",
       "903     0.000003\n",
       "Name: Power, Length: 683, dtype: float64"
      ]
     },
     "execution_count": 655,
     "metadata": {},
     "output_type": "execute_result"
    },
    {
     "data": {
      "image/png": "[encoded data removed]",
      "text/plain": [
       "<Figure size 1080x360 with 1 Axes>"
      ]
     },
     "metadata": {
      "needs_background": "light"
     },
     "output_type": "display_data"
    }
   ],
   "source": [
    "df.plot(y = 'Power', kind = 'hist', bins = 200, figsize = (15, 5), \n",
    "          title = 'Power', grid = True, range=(0,5000))\n",
    "plt.xlabel(\"Power\")\n",
    "plt.ylabel(\"Количество\")\n",
    "df['Power'].value_counts(normalize= True)"
   ]
  },
  {
   "cell_type": "code",
   "execution_count": 656,
   "metadata": {},
   "outputs": [],
   "source": [
    "df.loc[(df['Power'] > 3000) | (df['Power'] <= 5), 'Power'] = None\n",
    "df['Power'] = df['Power'].fillna(df.groupby('Model')['Power'].transform('mean'))\n",
    "df['Power'] = df['Power'].fillna(df.groupby('Brand')['Power'].transform('mean'))"
   ]
  },
  {
   "cell_type": "code",
   "execution_count": 657,
   "metadata": {},
   "outputs": [
    {
     "name": "stdout",
     "output_type": "stream",
     "text": [
      "count    328535.000000\n",
      "mean        121.027763\n",
      "std          63.818011\n",
      "min           6.000000\n",
      "25%          77.000000\n",
      "50%         111.000000\n",
      "75%         150.000000\n",
      "max        2799.000000\n",
      "Name: Power, dtype: float64\n",
      "\n",
      "Пропуски: 0.0\n"
     ]
    }
   ],
   "source": [
    "print(df['Power'].describe())\n",
    "print()\n",
    "print('Пропуски:', df['Power'].isna().sum() / df['Power'].isna().count())"
   ]
  },
  {
   "cell_type": "markdown",
   "metadata": {},
   "source": [
    "---"
   ]
  },
  {
   "cell_type": "markdown",
   "metadata": {},
   "source": [
    "*Brand* — марка автомобиля"
   ]
  },
  {
   "cell_type": "markdown",
   "metadata": {},
   "source": [
    "В столбце Бренд нет пропусков, названия брендов отражены корректно. Названия брендов 'land_rover' и  'rover' - синонимы, поэтому объединю значения под брендом 'land_rover'."
   ]
  },
  {
   "cell_type": "code",
   "execution_count": 658,
   "metadata": {
    "scrolled": true
   },
   "outputs": [
    {
     "data": {
      "text/plain": [
       "['alfa_romeo',\n",
       " 'audi',\n",
       " 'bmw',\n",
       " 'chevrolet',\n",
       " 'chrysler',\n",
       " 'citroen',\n",
       " 'dacia',\n",
       " 'daewoo',\n",
       " 'daihatsu',\n",
       " 'fiat',\n",
       " 'ford',\n",
       " 'honda',\n",
       " 'hyundai',\n",
       " 'jaguar',\n",
       " 'jeep',\n",
       " 'kia',\n",
       " 'lada',\n",
       " 'lancia',\n",
       " 'land_rover',\n",
       " 'mazda',\n",
       " 'mercedes_benz',\n",
       " 'mini',\n",
       " 'mitsubishi',\n",
       " 'nissan',\n",
       " 'opel',\n",
       " 'peugeot',\n",
       " 'porsche',\n",
       " 'renault',\n",
       " 'rover',\n",
       " 'saab',\n",
       " 'seat',\n",
       " 'skoda',\n",
       " 'smart',\n",
       " 'sonstige_autos',\n",
       " 'subaru',\n",
       " 'suzuki',\n",
       " 'toyota',\n",
       " 'trabant',\n",
       " 'volkswagen',\n",
       " 'volvo']"
      ]
     },
     "execution_count": 658,
     "metadata": {},
     "output_type": "execute_result"
    }
   ],
   "source": [
    "sorted(df['Brand'].unique(), key=str)"
   ]
  },
  {
   "cell_type": "code",
   "execution_count": 659,
   "metadata": {},
   "outputs": [],
   "source": [
    "df['Brand'] = df['Brand'].replace('rover', 'land_rover')"
   ]
  },
  {
   "cell_type": "code",
   "execution_count": 660,
   "metadata": {
    "scrolled": true
   },
   "outputs": [
    {
     "data": {
      "text/plain": [
       "['alfa_romeo',\n",
       " 'audi',\n",
       " 'bmw',\n",
       " 'chevrolet',\n",
       " 'chrysler',\n",
       " 'citroen',\n",
       " 'dacia',\n",
       " 'daewoo',\n",
       " 'daihatsu',\n",
       " 'fiat',\n",
       " 'ford',\n",
       " 'honda',\n",
       " 'hyundai',\n",
       " 'jaguar',\n",
       " 'jeep',\n",
       " 'kia',\n",
       " 'lada',\n",
       " 'lancia',\n",
       " 'land_rover',\n",
       " 'mazda',\n",
       " 'mercedes_benz',\n",
       " 'mini',\n",
       " 'mitsubishi',\n",
       " 'nissan',\n",
       " 'opel',\n",
       " 'peugeot',\n",
       " 'porsche',\n",
       " 'renault',\n",
       " 'saab',\n",
       " 'seat',\n",
       " 'skoda',\n",
       " 'smart',\n",
       " 'sonstige_autos',\n",
       " 'subaru',\n",
       " 'suzuki',\n",
       " 'toyota',\n",
       " 'trabant',\n",
       " 'volkswagen',\n",
       " 'volvo']"
      ]
     },
     "execution_count": 660,
     "metadata": {},
     "output_type": "execute_result"
    }
   ],
   "source": [
    "sorted(df['Brand'].unique(), key=str)"
   ]
  },
  {
   "cell_type": "markdown",
   "metadata": {},
   "source": [
    "---"
   ]
  },
  {
   "cell_type": "markdown",
   "metadata": {},
   "source": [
    "*Model* — модель автомобиля"
   ]
  },
  {
   "cell_type": "markdown",
   "metadata": {},
   "source": [
    "Названия моделей отражены корректно. Названия моделей 'range_rover' и  'rangerover' - синонимы, поэтому объединю значения под маркой 'range_rover'.  \n",
    "В столбце Модель 4,6% пропусков, заменю их на \"other\", данная категория уже есть в данных по некоторым брендам. "
   ]
  },
  {
   "cell_type": "code",
   "execution_count": 661,
   "metadata": {
    "scrolled": true
   },
   "outputs": [
    {
     "name": "stdout",
     "output_type": "stream",
     "text": [
      "Пропуски: 0.04673779049416348\n"
     ]
    }
   ],
   "source": [
    "print('Пропуски:', df['Model'].isna().sum() / df['Model'].isna().count())"
   ]
  },
  {
   "cell_type": "code",
   "execution_count": 662,
   "metadata": {
    "scrolled": true
   },
   "outputs": [
    {
     "data": {
      "text/plain": [
       "['100',\n",
       " '145',\n",
       " '147',\n",
       " '156',\n",
       " '159',\n",
       " '1_reihe',\n",
       " '1er',\n",
       " '200',\n",
       " '2_reihe',\n",
       " '300c',\n",
       " '3_reihe',\n",
       " '3er',\n",
       " '4_reihe',\n",
       " '500',\n",
       " '5_reihe',\n",
       " '5er',\n",
       " '601',\n",
       " '6_reihe',\n",
       " '6er',\n",
       " '7er',\n",
       " '80',\n",
       " '850',\n",
       " '90',\n",
       " '900',\n",
       " '9000',\n",
       " '911',\n",
       " 'a1',\n",
       " 'a2',\n",
       " 'a3',\n",
       " 'a4',\n",
       " 'a5',\n",
       " 'a6',\n",
       " 'a8',\n",
       " 'a_klasse',\n",
       " 'accord',\n",
       " 'agila',\n",
       " 'alhambra',\n",
       " 'almera',\n",
       " 'altea',\n",
       " 'amarok',\n",
       " 'antara',\n",
       " 'arosa',\n",
       " 'astra',\n",
       " 'auris',\n",
       " 'avensis',\n",
       " 'aveo',\n",
       " 'aygo',\n",
       " 'b_klasse',\n",
       " 'b_max',\n",
       " 'beetle',\n",
       " 'berlingo',\n",
       " 'bora',\n",
       " 'boxster',\n",
       " 'bravo',\n",
       " 'c1',\n",
       " 'c2',\n",
       " 'c3',\n",
       " 'c4',\n",
       " 'c5',\n",
       " 'c_klasse',\n",
       " 'c_max',\n",
       " 'c_reihe',\n",
       " 'caddy',\n",
       " 'calibra',\n",
       " 'captiva',\n",
       " 'carisma',\n",
       " 'carnival',\n",
       " 'cayenne',\n",
       " 'cc',\n",
       " 'ceed',\n",
       " 'charade',\n",
       " 'cherokee',\n",
       " 'citigo',\n",
       " 'civic',\n",
       " 'cl',\n",
       " 'clio',\n",
       " 'clk',\n",
       " 'clubman',\n",
       " 'colt',\n",
       " 'combo',\n",
       " 'cooper',\n",
       " 'cordoba',\n",
       " 'corolla',\n",
       " 'corsa',\n",
       " 'cr_reihe',\n",
       " 'croma',\n",
       " 'crossfire',\n",
       " 'cuore',\n",
       " 'cx_reihe',\n",
       " 'defender',\n",
       " 'delta',\n",
       " 'discovery',\n",
       " 'doblo',\n",
       " 'ducato',\n",
       " 'duster',\n",
       " 'e_klasse',\n",
       " 'elefantino',\n",
       " 'eos',\n",
       " 'escort',\n",
       " 'espace',\n",
       " 'exeo',\n",
       " 'fabia',\n",
       " 'fiesta',\n",
       " 'focus',\n",
       " 'forester',\n",
       " 'forfour',\n",
       " 'fortwo',\n",
       " 'fox',\n",
       " 'freelander',\n",
       " 'fusion',\n",
       " 'g_klasse',\n",
       " 'galant',\n",
       " 'galaxy',\n",
       " 'getz',\n",
       " 'gl',\n",
       " 'glk',\n",
       " 'golf',\n",
       " 'grand',\n",
       " 'i3',\n",
       " 'i_reihe',\n",
       " 'ibiza',\n",
       " 'impreza',\n",
       " 'insignia',\n",
       " 'jazz',\n",
       " 'jetta',\n",
       " 'jimny',\n",
       " 'juke',\n",
       " 'justy',\n",
       " 'ka',\n",
       " 'kadett',\n",
       " 'kaefer',\n",
       " 'kalina',\n",
       " 'kalos',\n",
       " 'kangoo',\n",
       " 'kappa',\n",
       " 'kuga',\n",
       " 'laguna',\n",
       " 'lancer',\n",
       " 'lanos',\n",
       " 'legacy',\n",
       " 'leon',\n",
       " 'lodgy',\n",
       " 'logan',\n",
       " 'lupo',\n",
       " 'lybra',\n",
       " 'm_klasse',\n",
       " 'm_reihe',\n",
       " 'materia',\n",
       " 'matiz',\n",
       " 'megane',\n",
       " 'meriva',\n",
       " 'micra',\n",
       " 'mii',\n",
       " 'modus',\n",
       " 'mondeo',\n",
       " 'move',\n",
       " 'musa',\n",
       " 'mustang',\n",
       " 'mx_reihe',\n",
       " nan,\n",
       " 'navara',\n",
       " 'niva',\n",
       " 'note',\n",
       " 'nubira',\n",
       " 'octavia',\n",
       " 'omega',\n",
       " 'one',\n",
       " 'other',\n",
       " 'outlander',\n",
       " 'pajero',\n",
       " 'panda',\n",
       " 'passat',\n",
       " 'phaeton',\n",
       " 'picanto',\n",
       " 'polo',\n",
       " 'primera',\n",
       " 'ptcruiser',\n",
       " 'punto',\n",
       " 'q3',\n",
       " 'q5',\n",
       " 'q7',\n",
       " 'qashqai',\n",
       " 'r19',\n",
       " 'range_rover',\n",
       " 'range_rover_evoque',\n",
       " 'range_rover_sport',\n",
       " 'rangerover',\n",
       " 'rav',\n",
       " 'rio',\n",
       " 'roadster',\n",
       " 'roomster',\n",
       " 'rx_reihe',\n",
       " 's60',\n",
       " 's_klasse',\n",
       " 's_max',\n",
       " 's_type',\n",
       " 'samara',\n",
       " 'sandero',\n",
       " 'santa',\n",
       " 'scenic',\n",
       " 'scirocco',\n",
       " 'seicento',\n",
       " 'serie_1',\n",
       " 'serie_2',\n",
       " 'serie_3',\n",
       " 'sharan',\n",
       " 'signum',\n",
       " 'sirion',\n",
       " 'sl',\n",
       " 'slk',\n",
       " 'sorento',\n",
       " 'spark',\n",
       " 'spider',\n",
       " 'sportage',\n",
       " 'sprinter',\n",
       " 'stilo',\n",
       " 'superb',\n",
       " 'swift',\n",
       " 'terios',\n",
       " 'tigra',\n",
       " 'tiguan',\n",
       " 'toledo',\n",
       " 'touareg',\n",
       " 'touran',\n",
       " 'transit',\n",
       " 'transporter',\n",
       " 'tt',\n",
       " 'tucson',\n",
       " 'twingo',\n",
       " 'up',\n",
       " 'v40',\n",
       " 'v50',\n",
       " 'v60',\n",
       " 'v70',\n",
       " 'v_klasse',\n",
       " 'vectra',\n",
       " 'verso',\n",
       " 'viano',\n",
       " 'vito',\n",
       " 'vivaro',\n",
       " 'voyager',\n",
       " 'wrangler',\n",
       " 'x_reihe',\n",
       " 'x_trail',\n",
       " 'x_type',\n",
       " 'xc_reihe',\n",
       " 'yaris',\n",
       " 'yeti',\n",
       " 'ypsilon',\n",
       " 'z_reihe',\n",
       " 'zafira']"
      ]
     },
     "execution_count": 662,
     "metadata": {},
     "output_type": "execute_result"
    }
   ],
   "source": [
    "sorted(df['Model'].unique(), key=str)"
   ]
  },
  {
   "cell_type": "code",
   "execution_count": 663,
   "metadata": {},
   "outputs": [],
   "source": [
    "df['Model'] = df['Model'].replace('rangerover', 'range_rover')"
   ]
  },
  {
   "cell_type": "code",
   "execution_count": 664,
   "metadata": {},
   "outputs": [],
   "source": [
    "df['Model'] = df['Model'].fillna(\"other\")"
   ]
  },
  {
   "cell_type": "code",
   "execution_count": 665,
   "metadata": {
    "scrolled": true
   },
   "outputs": [
    {
     "data": {
      "text/plain": [
       "['100',\n",
       " '145',\n",
       " '147',\n",
       " '156',\n",
       " '159',\n",
       " '1_reihe',\n",
       " '1er',\n",
       " '200',\n",
       " '2_reihe',\n",
       " '300c',\n",
       " '3_reihe',\n",
       " '3er',\n",
       " '4_reihe',\n",
       " '500',\n",
       " '5_reihe',\n",
       " '5er',\n",
       " '601',\n",
       " '6_reihe',\n",
       " '6er',\n",
       " '7er',\n",
       " '80',\n",
       " '850',\n",
       " '90',\n",
       " '900',\n",
       " '9000',\n",
       " '911',\n",
       " 'a1',\n",
       " 'a2',\n",
       " 'a3',\n",
       " 'a4',\n",
       " 'a5',\n",
       " 'a6',\n",
       " 'a8',\n",
       " 'a_klasse',\n",
       " 'accord',\n",
       " 'agila',\n",
       " 'alhambra',\n",
       " 'almera',\n",
       " 'altea',\n",
       " 'amarok',\n",
       " 'antara',\n",
       " 'arosa',\n",
       " 'astra',\n",
       " 'auris',\n",
       " 'avensis',\n",
       " 'aveo',\n",
       " 'aygo',\n",
       " 'b_klasse',\n",
       " 'b_max',\n",
       " 'beetle',\n",
       " 'berlingo',\n",
       " 'bora',\n",
       " 'boxster',\n",
       " 'bravo',\n",
       " 'c1',\n",
       " 'c2',\n",
       " 'c3',\n",
       " 'c4',\n",
       " 'c5',\n",
       " 'c_klasse',\n",
       " 'c_max',\n",
       " 'c_reihe',\n",
       " 'caddy',\n",
       " 'calibra',\n",
       " 'captiva',\n",
       " 'carisma',\n",
       " 'carnival',\n",
       " 'cayenne',\n",
       " 'cc',\n",
       " 'ceed',\n",
       " 'charade',\n",
       " 'cherokee',\n",
       " 'citigo',\n",
       " 'civic',\n",
       " 'cl',\n",
       " 'clio',\n",
       " 'clk',\n",
       " 'clubman',\n",
       " 'colt',\n",
       " 'combo',\n",
       " 'cooper',\n",
       " 'cordoba',\n",
       " 'corolla',\n",
       " 'corsa',\n",
       " 'cr_reihe',\n",
       " 'croma',\n",
       " 'crossfire',\n",
       " 'cuore',\n",
       " 'cx_reihe',\n",
       " 'defender',\n",
       " 'delta',\n",
       " 'discovery',\n",
       " 'doblo',\n",
       " 'ducato',\n",
       " 'duster',\n",
       " 'e_klasse',\n",
       " 'elefantino',\n",
       " 'eos',\n",
       " 'escort',\n",
       " 'espace',\n",
       " 'exeo',\n",
       " 'fabia',\n",
       " 'fiesta',\n",
       " 'focus',\n",
       " 'forester',\n",
       " 'forfour',\n",
       " 'fortwo',\n",
       " 'fox',\n",
       " 'freelander',\n",
       " 'fusion',\n",
       " 'g_klasse',\n",
       " 'galant',\n",
       " 'galaxy',\n",
       " 'getz',\n",
       " 'gl',\n",
       " 'glk',\n",
       " 'golf',\n",
       " 'grand',\n",
       " 'i3',\n",
       " 'i_reihe',\n",
       " 'ibiza',\n",
       " 'impreza',\n",
       " 'insignia',\n",
       " 'jazz',\n",
       " 'jetta',\n",
       " 'jimny',\n",
       " 'juke',\n",
       " 'justy',\n",
       " 'ka',\n",
       " 'kadett',\n",
       " 'kaefer',\n",
       " 'kalina',\n",
       " 'kalos',\n",
       " 'kangoo',\n",
       " 'kappa',\n",
       " 'kuga',\n",
       " 'laguna',\n",
       " 'lancer',\n",
       " 'lanos',\n",
       " 'legacy',\n",
       " 'leon',\n",
       " 'lodgy',\n",
       " 'logan',\n",
       " 'lupo',\n",
       " 'lybra',\n",
       " 'm_klasse',\n",
       " 'm_reihe',\n",
       " 'materia',\n",
       " 'matiz',\n",
       " 'megane',\n",
       " 'meriva',\n",
       " 'micra',\n",
       " 'mii',\n",
       " 'modus',\n",
       " 'mondeo',\n",
       " 'move',\n",
       " 'musa',\n",
       " 'mustang',\n",
       " 'mx_reihe',\n",
       " 'navara',\n",
       " 'niva',\n",
       " 'note',\n",
       " 'nubira',\n",
       " 'octavia',\n",
       " 'omega',\n",
       " 'one',\n",
       " 'other',\n",
       " 'outlander',\n",
       " 'pajero',\n",
       " 'panda',\n",
       " 'passat',\n",
       " 'phaeton',\n",
       " 'picanto',\n",
       " 'polo',\n",
       " 'primera',\n",
       " 'ptcruiser',\n",
       " 'punto',\n",
       " 'q3',\n",
       " 'q5',\n",
       " 'q7',\n",
       " 'qashqai',\n",
       " 'r19',\n",
       " 'range_rover',\n",
       " 'range_rover_evoque',\n",
       " 'range_rover_sport',\n",
       " 'rav',\n",
       " 'rio',\n",
       " 'roadster',\n",
       " 'roomster',\n",
       " 'rx_reihe',\n",
       " 's60',\n",
       " 's_klasse',\n",
       " 's_max',\n",
       " 's_type',\n",
       " 'samara',\n",
       " 'sandero',\n",
       " 'santa',\n",
       " 'scenic',\n",
       " 'scirocco',\n",
       " 'seicento',\n",
       " 'serie_1',\n",
       " 'serie_2',\n",
       " 'serie_3',\n",
       " 'sharan',\n",
       " 'signum',\n",
       " 'sirion',\n",
       " 'sl',\n",
       " 'slk',\n",
       " 'sorento',\n",
       " 'spark',\n",
       " 'spider',\n",
       " 'sportage',\n",
       " 'sprinter',\n",
       " 'stilo',\n",
       " 'superb',\n",
       " 'swift',\n",
       " 'terios',\n",
       " 'tigra',\n",
       " 'tiguan',\n",
       " 'toledo',\n",
       " 'touareg',\n",
       " 'touran',\n",
       " 'transit',\n",
       " 'transporter',\n",
       " 'tt',\n",
       " 'tucson',\n",
       " 'twingo',\n",
       " 'up',\n",
       " 'v40',\n",
       " 'v50',\n",
       " 'v60',\n",
       " 'v70',\n",
       " 'v_klasse',\n",
       " 'vectra',\n",
       " 'verso',\n",
       " 'viano',\n",
       " 'vito',\n",
       " 'vivaro',\n",
       " 'voyager',\n",
       " 'wrangler',\n",
       " 'x_reihe',\n",
       " 'x_trail',\n",
       " 'x_type',\n",
       " 'xc_reihe',\n",
       " 'yaris',\n",
       " 'yeti',\n",
       " 'ypsilon',\n",
       " 'z_reihe',\n",
       " 'zafira']"
      ]
     },
     "execution_count": 665,
     "metadata": {},
     "output_type": "execute_result"
    }
   ],
   "source": [
    "sorted(df['Model'].unique(), key=str)"
   ]
  },
  {
   "cell_type": "code",
   "execution_count": 666,
   "metadata": {},
   "outputs": [
    {
     "name": "stdout",
     "output_type": "stream",
     "text": [
      "Пропуски: 0.0\n"
     ]
    }
   ],
   "source": [
    "print('Пропуски:', df['Model'].isna().sum() / df['Model'].isna().count())"
   ]
  },
  {
   "cell_type": "markdown",
   "metadata": {},
   "source": [
    "---"
   ]
  },
  {
   "cell_type": "markdown",
   "metadata": {},
   "source": [
    "*Kilometer* — пробег (км)"
   ]
  },
  {
   "cell_type": "markdown",
   "metadata": {},
   "source": [
    "В данном столбце пропусков нет. Распределение не соответствует нормальному, но соответствует ожиданиям для объявлений о продаже подержагнных машин: большинство авто с пробегом более 125 тыс.км."
   ]
  },
  {
   "cell_type": "code",
   "execution_count": 667,
   "metadata": {},
   "outputs": [
    {
     "name": "stdout",
     "output_type": "stream",
     "text": [
      "count    328535.000000\n",
      "mean     128267.323116\n",
      "std       37410.718568\n",
      "min        5000.000000\n",
      "25%      125000.000000\n",
      "50%      150000.000000\n",
      "75%      150000.000000\n",
      "max      150000.000000\n",
      "Name: Kilometer, dtype: float64\n",
      "\n",
      "Пропуски: 0.0\n"
     ]
    }
   ],
   "source": [
    "print(df['Kilometer'].describe())\n",
    "print()\n",
    "print('Пропуски:', df['Kilometer'].isna().sum() / df['Kilometer'].isna().count())"
   ]
  },
  {
   "cell_type": "code",
   "execution_count": 668,
   "metadata": {},
   "outputs": [
    {
     "data": {
      "text/plain": [
       "<AxesSubplot:>"
      ]
     },
     "execution_count": 668,
     "metadata": {},
     "output_type": "execute_result"
    },
    {
     "data": {
      "image/png": "[encoded data removed]",
      "text/plain": [
       "<Figure size 432x288 with 1 Axes>"
      ]
     },
     "metadata": {
      "needs_background": "light"
     },
     "output_type": "display_data"
    }
   ],
   "source": [
    "df['Kilometer'].hist()"
   ]
  },
  {
   "cell_type": "markdown",
   "metadata": {},
   "source": [
    "---"
   ]
  },
  {
   "cell_type": "markdown",
   "metadata": {},
   "source": [
    "*RegistrationMonth* — месяц регистрации автомобиля"
   ]
  },
  {
   "cell_type": "markdown",
   "metadata": {},
   "source": [
    "В данном столбце пропусков нет. Распределение распологается в диапозоне от 1 до 12.  \n",
    "Для построения модели, данная информация не нужна, поэтому при подготове данных к обучению, удалю этот столбец."
   ]
  },
  {
   "cell_type": "code",
   "execution_count": 669,
   "metadata": {},
   "outputs": [
    {
     "data": {
      "text/plain": [
       "<AxesSubplot:>"
      ]
     },
     "execution_count": 669,
     "metadata": {},
     "output_type": "execute_result"
    },
    {
     "data": {
      "image/png": "[encoded data removed]",
      "text/plain": [
       "<Figure size 432x288 with 1 Axes>"
      ]
     },
     "metadata": {
      "needs_background": "light"
     },
     "output_type": "display_data"
    }
   ],
   "source": [
    "df['RegistrationMonth'].hist()"
   ]
  },
  {
   "cell_type": "code",
   "execution_count": 670,
   "metadata": {},
   "outputs": [],
   "source": [
    "df['RegistrationMonth'] = df['RegistrationMonth'].replace( 0, 'unknown')"
   ]
  },
  {
   "cell_type": "code",
   "execution_count": 671,
   "metadata": {},
   "outputs": [
    {
     "data": {
      "text/plain": [
       "array(['unknown', 5, 8, 6, 7, 10, 12, 11, 2, 3, 1, 4, 9], dtype=object)"
      ]
     },
     "execution_count": 671,
     "metadata": {},
     "output_type": "execute_result"
    }
   ],
   "source": [
    "df['RegistrationMonth'].unique()"
   ]
  },
  {
   "cell_type": "markdown",
   "metadata": {},
   "source": [
    "---"
   ]
  },
  {
   "cell_type": "markdown",
   "metadata": {},
   "source": [
    "*FuelType* — тип топлива"
   ]
  },
  {
   "cell_type": "markdown",
   "metadata": {},
   "source": [
    "В данном столбце пропуски составляют 7,2%. \n",
    "Предполагается, что есть зависимость между моделью и типом топлива которое рекомедует производитель, поэтому заменим пропуски на тип топлива по таким же моделям."
   ]
  },
  {
   "cell_type": "code",
   "execution_count": 672,
   "metadata": {},
   "outputs": [
    {
     "name": "stdout",
     "output_type": "stream",
     "text": [
      "petrol      0.669675\n",
      "gasoline    0.310621\n",
      "lpg         0.016443\n",
      "cng         0.001742\n",
      "hybrid      0.000718\n",
      "other       0.000518\n",
      "electric    0.000282\n",
      "Name: FuelType, dtype: float64\n",
      "\n",
      "NaN: 0.0721901776066477\n"
     ]
    }
   ],
   "source": [
    "print(df['FuelType'].value_counts(normalize= True))\n",
    "print()\n",
    "print('NaN:', df['FuelType'].isna().sum() / df['FuelType'].isna().count())"
   ]
  },
  {
   "cell_type": "code",
   "execution_count": 673,
   "metadata": {},
   "outputs": [],
   "source": [
    "df['FuelType'] = df['FuelType'].fillna(df.groupby('Model')['FuelType'].transform('first'))"
   ]
  },
  {
   "cell_type": "code",
   "execution_count": 674,
   "metadata": {},
   "outputs": [],
   "source": [
    "df['FuelType'] = df['FuelType'].replace('petrol', 'gasoline')"
   ]
  },
  {
   "cell_type": "code",
   "execution_count": 675,
   "metadata": {},
   "outputs": [
    {
     "name": "stdout",
     "output_type": "stream",
     "text": [
      "gasoline    0.981259\n",
      "lpg         0.015688\n",
      "cng         0.001616\n",
      "hybrid      0.000667\n",
      "other       0.000508\n",
      "electric    0.000262\n",
      "Name: FuelType, dtype: float64\n",
      "\n",
      "NaN: 0.0\n"
     ]
    }
   ],
   "source": [
    "print(df['FuelType'].value_counts(normalize= True))\n",
    "print()\n",
    "print('NaN:', df['FuelType'].isna().sum() / df['FuelType'].isna().count())"
   ]
  },
  {
   "cell_type": "markdown",
   "metadata": {},
   "source": [
    "---"
   ]
  },
  {
   "cell_type": "markdown",
   "metadata": {},
   "source": [
    "*Repaired* — была машина в ремонте или нет"
   ]
  },
  {
   "cell_type": "markdown",
   "metadata": {},
   "source": [
    "В данном столбце пропуски составляют 18%. \n",
    "Если владелец авто пытается cкрыть факт ремонта, проверить это достаточно сложно, даже когда физически видешь машину. Поэтому предположим что все пропуски, это машины которые не были в ремонте."
   ]
  },
  {
   "cell_type": "code",
   "execution_count": 676,
   "metadata": {},
   "outputs": [
    {
     "name": "stdout",
     "output_type": "stream",
     "text": [
      "no     0.878532\n",
      "yes    0.121468\n",
      "Name: Repaired, dtype: float64\n",
      "\n",
      "NaN: 0.18026085500783784\n"
     ]
    }
   ],
   "source": [
    "print(df['Repaired'].value_counts(normalize= True))\n",
    "print()\n",
    "print('NaN:', df['Repaired'].isna().sum() / df['Repaired'].isna().count())"
   ]
  },
  {
   "cell_type": "code",
   "execution_count": 677,
   "metadata": {},
   "outputs": [],
   "source": [
    "df['Repaired'] = df['Repaired'].fillna('unknown')"
   ]
  },
  {
   "cell_type": "code",
   "execution_count": 678,
   "metadata": {},
   "outputs": [
    {
     "name": "stdout",
     "output_type": "stream",
     "text": [
      "no         0.720167\n",
      "unknown    0.180261\n",
      "yes        0.099572\n",
      "Name: Repaired, dtype: float64\n",
      "\n",
      "Пропуски: 0.0\n"
     ]
    }
   ],
   "source": [
    "print(df['Repaired'].value_counts(normalize= True))\n",
    "print()\n",
    "print('Пропуски:', df['Repaired'].isna().sum() / df['Repaired'].isna().count())"
   ]
  },
  {
   "cell_type": "markdown",
   "metadata": {},
   "source": [
    "---"
   ]
  },
  {
   "cell_type": "markdown",
   "metadata": {},
   "source": [
    "*DateCreated* — дата создания анкеты"
   ]
  },
  {
   "cell_type": "markdown",
   "metadata": {},
   "source": [
    "Анкеты представленные в датасете созданы за период с марта 2014г. по апрель 2016г. Основной объем взят за 2016г - это хорошо т.к. цены на авто меняются и для лучшего прогнозирования лучше опираться на ближайшие данные. \n",
    "Так как никакой пользы для прогнозирования данная иноформация не несет, удалю данный столбец при подготовке данных к обучению."
   ]
  },
  {
   "cell_type": "code",
   "execution_count": 679,
   "metadata": {},
   "outputs": [
    {
     "name": "stdout",
     "output_type": "stream",
     "text": [
      "Начало: 2014-03-10 00:00:00\n",
      "Конец: 2016-04-07 00:00:00\n"
     ]
    },
    {
     "data": {
      "image/png": "[encoded data removed]",
      "text/plain": [
       "<Figure size 1080x360 with 1 Axes>"
      ]
     },
     "metadata": {
      "needs_background": "light"
     },
     "output_type": "display_data"
    }
   ],
   "source": [
    "df['DateCreated'].hist(figsize = (15, 5), grid = True)\n",
    "print('Начало:', df['DateCreated'].min())\n",
    "print('Конец:', df['DateCreated'].max())"
   ]
  },
  {
   "cell_type": "markdown",
   "metadata": {},
   "source": [
    "---"
   ]
  },
  {
   "cell_type": "markdown",
   "metadata": {},
   "source": [
    "*NumberOfPictures* — количество фотографий автомобиля"
   ]
  },
  {
   "cell_type": "markdown",
   "metadata": {},
   "source": [
    "Странно, что нет ни одной фотографии, но так как ниличие фото нам никак не поможет в прогнозе цены, удалю данный столбец при подготовке данных к обучению."
   ]
  },
  {
   "cell_type": "code",
   "execution_count": 680,
   "metadata": {},
   "outputs": [
    {
     "data": {
      "text/plain": [
       "count    328535.0\n",
       "mean          0.0\n",
       "std           0.0\n",
       "min           0.0\n",
       "25%           0.0\n",
       "50%           0.0\n",
       "75%           0.0\n",
       "max           0.0\n",
       "Name: NumberOfPictures, dtype: float64"
      ]
     },
     "execution_count": 680,
     "metadata": {},
     "output_type": "execute_result"
    }
   ],
   "source": [
    "df['NumberOfPictures'].describe()"
   ]
  },
  {
   "cell_type": "markdown",
   "metadata": {},
   "source": [
    "---"
   ]
  },
  {
   "cell_type": "markdown",
   "metadata": {},
   "source": [
    "*PostalCode* — почтовый индекс владельца анкеты (пользователя)"
   ]
  },
  {
   "cell_type": "markdown",
   "metadata": {},
   "source": [
    "Индекс излишняя информация для прогноза цены, удалю данный столбец при подготовке данных к обучению."
   ]
  },
  {
   "cell_type": "code",
   "execution_count": 681,
   "metadata": {},
   "outputs": [
    {
     "data": {
      "text/plain": [
       "<AxesSubplot:>"
      ]
     },
     "execution_count": 681,
     "metadata": {},
     "output_type": "execute_result"
    },
    {
     "data": {
      "image/png": "[encoded data removed]",
      "text/plain": [
       "<Figure size 432x288 with 1 Axes>"
      ]
     },
     "metadata": {
      "needs_background": "light"
     },
     "output_type": "display_data"
    }
   ],
   "source": [
    "df['PostalCode'].hist()"
   ]
  },
  {
   "cell_type": "markdown",
   "metadata": {},
   "source": [
    "---"
   ]
  },
  {
   "cell_type": "markdown",
   "metadata": {},
   "source": [
    "*LastSeen* — дата последней активности пользователя"
   ]
  },
  {
   "cell_type": "markdown",
   "metadata": {},
   "source": [
    "Все анкеты в выборке были активированы в течении месяца выгрузки данных, значит в выборке нет старых анкеты про которые просто забыли. Т.о. модель будет обучаться на актуальных данных.\n",
    "Для прогнозирования данная иноформация не нужна, удалю этот столбец при подготовке данных к обучению."
   ]
  },
  {
   "cell_type": "code",
   "execution_count": 682,
   "metadata": {},
   "outputs": [
    {
     "name": "stdout",
     "output_type": "stream",
     "text": [
      "Начало: 2016-03-05 14:15:08\n",
      "Конец: 2016-04-07 14:58:51\n"
     ]
    },
    {
     "data": {
      "image/png": "[encoded data removed]",
      "text/plain": [
       "<Figure size 1080x288 with 1 Axes>"
      ]
     },
     "metadata": {
      "needs_background": "light"
     },
     "output_type": "display_data"
    }
   ],
   "source": [
    "df['LastSeen'].hist(figsize = (15, 4), grid = True)\n",
    "print('Начало:', df['LastSeen'].min())\n",
    "print('Конец:', df['LastSeen'].max())"
   ]
  },
  {
   "cell_type": "markdown",
   "metadata": {},
   "source": [
    "---"
   ]
  },
  {
   "cell_type": "markdown",
   "metadata": {},
   "source": [
    "**Проверим наличие пропусков и объем сохраненной информации после предобработки:**"
   ]
  },
  {
   "cell_type": "code",
   "execution_count": 683,
   "metadata": {},
   "outputs": [
    {
     "name": "stdout",
     "output_type": "stream",
     "text": [
      "Размерность датасета после предобработки: (328535, 16)\n",
      "Сохраненный объем изначального датасета: 0.9270985893235583\n"
     ]
    }
   ],
   "source": [
    "print('Размерность датасета после предобработки:', df.shape)\n",
    "print('Сохраненный объем изначального датасета:', df.shape[0] / df_first[0])"
   ]
  },
  {
   "cell_type": "code",
   "execution_count": 684,
   "metadata": {},
   "outputs": [
    {
     "data": {
      "text/plain": [
       "DateCrawled          0.0\n",
       "Price                0.0\n",
       "VehicleType          0.0\n",
       "RegistrationYear     0.0\n",
       "Gearbox              0.0\n",
       "Power                0.0\n",
       "Model                0.0\n",
       "Kilometer            0.0\n",
       "RegistrationMonth    0.0\n",
       "FuelType             0.0\n",
       "Brand                0.0\n",
       "Repaired             0.0\n",
       "DateCreated          0.0\n",
       "NumberOfPictures     0.0\n",
       "PostalCode           0.0\n",
       "LastSeen             0.0\n",
       "dtype: float64"
      ]
     },
     "execution_count": 684,
     "metadata": {},
     "output_type": "execute_result"
    }
   ],
   "source": [
    "((df.isna().sum()/ df.isna().count())*100).round()"
   ]
  },
  {
   "cell_type": "markdown",
   "metadata": {},
   "source": [
    "---"
   ]
  },
  {
   "cell_type": "markdown",
   "metadata": {},
   "source": [
    "**Вывод подраздела:**  \n",
    "Проведена следующая предобработка:  \n",
    "\n",
    "- Изначальный датасет содержал 354 369 строк и 16 столбцов, типы данных по столбцам присвоены корректно. \n",
    "- Стиль наименования столбцов не меняла, т.к. в названии слиты несколько слов и при существующем стиле так удобнее.\n",
    "- Выявленные явные и неявные дубликаты в небольшом объеме удалены.  \n",
    "- Удалены строки с нулевым целевым признаком по столбцу Price, а также строки  по столбцу RegistrationYear с датой регистрации автомобиля  за пределами периода с 1946 по 2016 года.  \n",
    "- Пропуски выявлены в 5 столбцах:  VehicleType, Gearbox, Model, FuelType  и Repaired.\n",
    "  - В VehicleType, пропуски были заменены по типу кузова такой же модели, если сопоставление сделать было невозможно, производилась замена на  'other'.\n",
    "  - В Gearbox, пропуски были заменены на 'other' т.к. в датасете присутствовало только два вида коробки передач.\n",
    "  - В Model, пропуски были заменены на 'other', т.к. Сопоставить модели по другим признаком не представлеяется возможным. Синонимы  'range_rover' и 'rangerover' были объединены под маркой 'range_rover'. \n",
    "  - В FuelType, пропуски были скорректированы по типу топлива такой же модели. Так как названия топлива 'petrol' и 'gasoline' это одно и тоже, были объеденены под типом 'gasoline'.\n",
    "  - В Repaired, пропуски были заменены на “unknown”, т.к. подтвердить факт ремонта нет возможности.  \n",
    "  \n",
    "- В Power присутствовали строки с “0” мощностью, была произведена корректировка в соответствии с  аналогичной мощностью по такое же Модели или Бренду.\n",
    "- В Brand  синонимы 'land_rover' и 'rover' были объединены под брендом 'land_rover'.\n",
    "- Kilometer - пропусков нет, большинство моделей с пробегом более 125 тыс.км.\n",
    "- RegistrationMonth - строки с “0” заменены на “unknown”.\n",
    "- DateCreated — большинство анкет которые включены в датасет были созданы в 2016г.\n",
    "- NumberOfPictures  - фотографии не предоставлены\n",
    "- PostalCode -  пропусков и аномалий нет. \n",
    "- LastSeen -  пропусков и аномалий нет.  Все анкеты датасета были активированы в течении месяца выгрузки данных в 2016г.\n",
    "  \n",
    "**По итогу преобразований обработаны все пропуски и аномалии. Сохраненный объем изначального датасета 92,7%.**  \n",
    "\n",
    "\n",
    "Для ускорения работы модели, в следующем разделе удалим столбцы с признаками которые никаким образом не повлияют на прогнозирование целевого признака, а лишь усложнять расчеты:\n",
    "- DateCrawled \n",
    "- RegistrationMonth \n",
    "- DateCreated \n",
    "- NumberOfPictures \n",
    "- PostalCode \n",
    "- LastSeen "
   ]
  },
  {
   "cell_type": "markdown",
   "metadata": {},
   "source": [
    "### Подготовка данных к обучению"
   ]
  },
  {
   "cell_type": "markdown",
   "metadata": {},
   "source": [
    "**Согласно выводам предобработки удаляю столбцы с признаками не нужными для обучения модели.**"
   ]
  },
  {
   "cell_type": "code",
   "execution_count": 685,
   "metadata": {},
   "outputs": [
    {
     "data": {
      "text/html": [
       "<div>\n",
       "<style scoped>\n",
       "    .dataframe tbody tr th:only-of-type {\n",
       "        vertical-align: middle;\n",
       "    }\n",
       "\n",
       "    .dataframe tbody tr th {\n",
       "        vertical-align: top;\n",
       "    }\n",
       "\n",
       "    .dataframe thead th {\n",
       "        text-align: right;\n",
       "    }\n",
       "</style>\n",
       "<table border=\"1\" class=\"dataframe\">\n",
       "  <thead>\n",
       "    <tr style=\"text-align: right;\">\n",
       "      <th></th>\n",
       "      <th>Price</th>\n",
       "      <th>VehicleType</th>\n",
       "      <th>RegistrationYear</th>\n",
       "      <th>Gearbox</th>\n",
       "      <th>Power</th>\n",
       "      <th>Model</th>\n",
       "      <th>Kilometer</th>\n",
       "      <th>FuelType</th>\n",
       "      <th>Brand</th>\n",
       "      <th>Repaired</th>\n",
       "    </tr>\n",
       "  </thead>\n",
       "  <tbody>\n",
       "    <tr>\n",
       "      <th>0</th>\n",
       "      <td>480</td>\n",
       "      <td>small</td>\n",
       "      <td>1993</td>\n",
       "      <td>manual</td>\n",
       "      <td>105.267137</td>\n",
       "      <td>golf</td>\n",
       "      <td>150000</td>\n",
       "      <td>gasoline</td>\n",
       "      <td>volkswagen</td>\n",
       "      <td>unknown</td>\n",
       "    </tr>\n",
       "    <tr>\n",
       "      <th>1</th>\n",
       "      <td>18300</td>\n",
       "      <td>coupe</td>\n",
       "      <td>2011</td>\n",
       "      <td>manual</td>\n",
       "      <td>190.000000</td>\n",
       "      <td>other</td>\n",
       "      <td>125000</td>\n",
       "      <td>gasoline</td>\n",
       "      <td>audi</td>\n",
       "      <td>yes</td>\n",
       "    </tr>\n",
       "    <tr>\n",
       "      <th>2</th>\n",
       "      <td>9800</td>\n",
       "      <td>suv</td>\n",
       "      <td>2004</td>\n",
       "      <td>auto</td>\n",
       "      <td>163.000000</td>\n",
       "      <td>grand</td>\n",
       "      <td>125000</td>\n",
       "      <td>gasoline</td>\n",
       "      <td>jeep</td>\n",
       "      <td>unknown</td>\n",
       "    </tr>\n",
       "    <tr>\n",
       "      <th>3</th>\n",
       "      <td>1500</td>\n",
       "      <td>small</td>\n",
       "      <td>2001</td>\n",
       "      <td>manual</td>\n",
       "      <td>75.000000</td>\n",
       "      <td>golf</td>\n",
       "      <td>150000</td>\n",
       "      <td>gasoline</td>\n",
       "      <td>volkswagen</td>\n",
       "      <td>no</td>\n",
       "    </tr>\n",
       "    <tr>\n",
       "      <th>4</th>\n",
       "      <td>3600</td>\n",
       "      <td>small</td>\n",
       "      <td>2008</td>\n",
       "      <td>manual</td>\n",
       "      <td>69.000000</td>\n",
       "      <td>fabia</td>\n",
       "      <td>90000</td>\n",
       "      <td>gasoline</td>\n",
       "      <td>skoda</td>\n",
       "      <td>no</td>\n",
       "    </tr>\n",
       "  </tbody>\n",
       "</table>\n",
       "</div>"
      ],
      "text/plain": [
       "   Price VehicleType  RegistrationYear Gearbox       Power  Model  Kilometer  \\\n",
       "0    480       small              1993  manual  105.267137   golf     150000   \n",
       "1  18300       coupe              2011  manual  190.000000  other     125000   \n",
       "2   9800         suv              2004    auto  163.000000  grand     125000   \n",
       "3   1500       small              2001  manual   75.000000   golf     150000   \n",
       "4   3600       small              2008  manual   69.000000  fabia      90000   \n",
       "\n",
       "   FuelType       Brand Repaired  \n",
       "0  gasoline  volkswagen  unknown  \n",
       "1  gasoline        audi      yes  \n",
       "2  gasoline        jeep  unknown  \n",
       "3  gasoline  volkswagen       no  \n",
       "4  gasoline       skoda       no  "
      ]
     },
     "execution_count": 685,
     "metadata": {},
     "output_type": "execute_result"
    }
   ],
   "source": [
    "df = df.drop(['DateCrawled','RegistrationMonth','DateCreated','NumberOfPictures','PostalCode','LastSeen'], axis=1)\n",
    "df.head()"
   ]
  },
  {
   "cell_type": "markdown",
   "metadata": {},
   "source": [
    "---"
   ]
  },
  {
   "cell_type": "markdown",
   "metadata": {},
   "source": [
    "**Проведем проверку на мультиколлинеарности, т.к будем использовать линейную регрессию.**"
   ]
  },
  {
   "cell_type": "code",
   "execution_count": 686,
   "metadata": {},
   "outputs": [
    {
     "data": {
      "image/png": "[encoded data removed]",
      "text/plain": [
       "<Figure size 1080x360 with 4 Axes>"
      ]
     },
     "metadata": {
      "needs_background": "light"
     },
     "output_type": "display_data"
    }
   ],
   "source": [
    "df.hist(figsize = (15, 5), grid = True)\n",
    "plt.show()"
   ]
  },
  {
   "cell_type": "code",
   "execution_count": 687,
   "metadata": {},
   "outputs": [
    {
     "data": {
      "text/html": [
       "<div>\n",
       "<style scoped>\n",
       "    .dataframe tbody tr th:only-of-type {\n",
       "        vertical-align: middle;\n",
       "    }\n",
       "\n",
       "    .dataframe tbody tr th {\n",
       "        vertical-align: top;\n",
       "    }\n",
       "\n",
       "    .dataframe thead th {\n",
       "        text-align: right;\n",
       "    }\n",
       "</style>\n",
       "<table border=\"1\" class=\"dataframe\">\n",
       "  <thead>\n",
       "    <tr style=\"text-align: right;\">\n",
       "      <th></th>\n",
       "      <th>Price</th>\n",
       "      <th>RegistrationYear</th>\n",
       "      <th>Power</th>\n",
       "      <th>Kilometer</th>\n",
       "    </tr>\n",
       "  </thead>\n",
       "  <tbody>\n",
       "    <tr>\n",
       "      <th>Price</th>\n",
       "      <td>1.000000</td>\n",
       "      <td>0.449365</td>\n",
       "      <td>0.406181</td>\n",
       "      <td>-0.357095</td>\n",
       "    </tr>\n",
       "    <tr>\n",
       "      <th>RegistrationYear</th>\n",
       "      <td>0.449365</td>\n",
       "      <td>1.000000</td>\n",
       "      <td>0.096107</td>\n",
       "      <td>-0.234739</td>\n",
       "    </tr>\n",
       "    <tr>\n",
       "      <th>Power</th>\n",
       "      <td>0.406181</td>\n",
       "      <td>0.096107</td>\n",
       "      <td>1.000000</td>\n",
       "      <td>0.080185</td>\n",
       "    </tr>\n",
       "    <tr>\n",
       "      <th>Kilometer</th>\n",
       "      <td>-0.357095</td>\n",
       "      <td>-0.234739</td>\n",
       "      <td>0.080185</td>\n",
       "      <td>1.000000</td>\n",
       "    </tr>\n",
       "  </tbody>\n",
       "</table>\n",
       "</div>"
      ],
      "text/plain": [
       "                     Price  RegistrationYear     Power  Kilometer\n",
       "Price             1.000000          0.449365  0.406181  -0.357095\n",
       "RegistrationYear  0.449365          1.000000  0.096107  -0.234739\n",
       "Power             0.406181          0.096107  1.000000   0.080185\n",
       "Kilometer        -0.357095         -0.234739  0.080185   1.000000"
      ]
     },
     "execution_count": 687,
     "metadata": {},
     "output_type": "execute_result"
    }
   ],
   "source": [
    "df.corr()"
   ]
  },
  {
   "cell_type": "markdown",
   "metadata": {},
   "source": [
    "Согласно коэффициента корреляции Пирсона, можно сказать что между числовиыми признаками наблюдается незачительная корреляция, как положительная так и отрицательная."
   ]
  },
  {
   "cell_type": "markdown",
   "metadata": {},
   "source": [
    "Так как данные в столбцах распределены не нормально, используем корреляцию Спирмена."
   ]
  },
  {
   "cell_type": "code",
   "execution_count": 688,
   "metadata": {},
   "outputs": [
    {
     "name": "stdout",
     "output_type": "stream",
     "text": [
      "Корреляцию Спирмена между \"Price\" и \"Power\": SpearmanrResult(correlation=0.5005242012758986, pvalue=0.0)\n",
      "Корреляцию Спирмена между \"Price\" и \"Kilometer\": SpearmanrResult(correlation=-0.3404768045149033, pvalue=0.0)\n",
      "Корреляцию Спирмена между \"Price\" и \"RegistrationYear\": SpearmanrResult(correlation=0.6338916864493388, pvalue=0.0)\n"
     ]
    }
   ],
   "source": [
    "print('Корреляцию Спирмена между \"Price\" и \"Power\":', spearmanr(df[\"Price\"], df[\"Power\"]))\n",
    "print('Корреляцию Спирмена между \"Price\" и \"Kilometer\":', spearmanr(df[\"Price\"], df[\"Kilometer\"]))\n",
    "print('Корреляцию Спирмена между \"Price\" и \"RegistrationYear\":', spearmanr(df[\"Price\"], df[\"RegistrationYear\"]))"
   ]
  },
  {
   "cell_type": "markdown",
   "metadata": {},
   "source": [
    "Соглано расчетам, между числовими признаками имеется некоторая положительная корреляция."
   ]
  },
  {
   "cell_type": "markdown",
   "metadata": {},
   "source": [
    "**Исходя из полученных данных о корреляции нельзя сказать, что ее уровень настолько высок чтобы оказать значительно влияние на качестово работы модели Линейной регрессии.**"
   ]
  },
  {
   "cell_type": "markdown",
   "metadata": {},
   "source": [
    "---"
   ]
  },
  {
   "cell_type": "markdown",
   "metadata": {},
   "source": [
    "**Используем прямое кодирование для преобразования категориальных признаков в численные последством OHE.**"
   ]
  },
  {
   "cell_type": "code",
   "execution_count": 689,
   "metadata": {},
   "outputs": [
    {
     "data": {
      "text/html": [
       "<div>\n",
       "<style scoped>\n",
       "    .dataframe tbody tr th:only-of-type {\n",
       "        vertical-align: middle;\n",
       "    }\n",
       "\n",
       "    .dataframe tbody tr th {\n",
       "        vertical-align: top;\n",
       "    }\n",
       "\n",
       "    .dataframe thead th {\n",
       "        text-align: right;\n",
       "    }\n",
       "</style>\n",
       "<table border=\"1\" class=\"dataframe\">\n",
       "  <thead>\n",
       "    <tr style=\"text-align: right;\">\n",
       "      <th></th>\n",
       "      <th>Price</th>\n",
       "      <th>RegistrationYear</th>\n",
       "      <th>Power</th>\n",
       "      <th>Kilometer</th>\n",
       "      <th>VehicleType_convertible</th>\n",
       "      <th>VehicleType_coupe</th>\n",
       "      <th>VehicleType_other</th>\n",
       "      <th>VehicleType_sedan</th>\n",
       "      <th>VehicleType_small</th>\n",
       "      <th>VehicleType_suv</th>\n",
       "      <th>...</th>\n",
       "      <th>Brand_smart</th>\n",
       "      <th>Brand_sonstige_autos</th>\n",
       "      <th>Brand_subaru</th>\n",
       "      <th>Brand_suzuki</th>\n",
       "      <th>Brand_toyota</th>\n",
       "      <th>Brand_trabant</th>\n",
       "      <th>Brand_volkswagen</th>\n",
       "      <th>Brand_volvo</th>\n",
       "      <th>Repaired_unknown</th>\n",
       "      <th>Repaired_yes</th>\n",
       "    </tr>\n",
       "  </thead>\n",
       "  <tbody>\n",
       "    <tr>\n",
       "      <th>0</th>\n",
       "      <td>480</td>\n",
       "      <td>1993</td>\n",
       "      <td>105.267137</td>\n",
       "      <td>150000</td>\n",
       "      <td>0</td>\n",
       "      <td>0</td>\n",
       "      <td>0</td>\n",
       "      <td>0</td>\n",
       "      <td>1</td>\n",
       "      <td>0</td>\n",
       "      <td>...</td>\n",
       "      <td>0</td>\n",
       "      <td>0</td>\n",
       "      <td>0</td>\n",
       "      <td>0</td>\n",
       "      <td>0</td>\n",
       "      <td>0</td>\n",
       "      <td>1</td>\n",
       "      <td>0</td>\n",
       "      <td>1</td>\n",
       "      <td>0</td>\n",
       "    </tr>\n",
       "    <tr>\n",
       "      <th>1</th>\n",
       "      <td>18300</td>\n",
       "      <td>2011</td>\n",
       "      <td>190.000000</td>\n",
       "      <td>125000</td>\n",
       "      <td>0</td>\n",
       "      <td>1</td>\n",
       "      <td>0</td>\n",
       "      <td>0</td>\n",
       "      <td>0</td>\n",
       "      <td>0</td>\n",
       "      <td>...</td>\n",
       "      <td>0</td>\n",
       "      <td>0</td>\n",
       "      <td>0</td>\n",
       "      <td>0</td>\n",
       "      <td>0</td>\n",
       "      <td>0</td>\n",
       "      <td>0</td>\n",
       "      <td>0</td>\n",
       "      <td>0</td>\n",
       "      <td>1</td>\n",
       "    </tr>\n",
       "    <tr>\n",
       "      <th>2</th>\n",
       "      <td>9800</td>\n",
       "      <td>2004</td>\n",
       "      <td>163.000000</td>\n",
       "      <td>125000</td>\n",
       "      <td>0</td>\n",
       "      <td>0</td>\n",
       "      <td>0</td>\n",
       "      <td>0</td>\n",
       "      <td>0</td>\n",
       "      <td>1</td>\n",
       "      <td>...</td>\n",
       "      <td>0</td>\n",
       "      <td>0</td>\n",
       "      <td>0</td>\n",
       "      <td>0</td>\n",
       "      <td>0</td>\n",
       "      <td>0</td>\n",
       "      <td>0</td>\n",
       "      <td>0</td>\n",
       "      <td>1</td>\n",
       "      <td>0</td>\n",
       "    </tr>\n",
       "    <tr>\n",
       "      <th>3</th>\n",
       "      <td>1500</td>\n",
       "      <td>2001</td>\n",
       "      <td>75.000000</td>\n",
       "      <td>150000</td>\n",
       "      <td>0</td>\n",
       "      <td>0</td>\n",
       "      <td>0</td>\n",
       "      <td>0</td>\n",
       "      <td>1</td>\n",
       "      <td>0</td>\n",
       "      <td>...</td>\n",
       "      <td>0</td>\n",
       "      <td>0</td>\n",
       "      <td>0</td>\n",
       "      <td>0</td>\n",
       "      <td>0</td>\n",
       "      <td>0</td>\n",
       "      <td>1</td>\n",
       "      <td>0</td>\n",
       "      <td>0</td>\n",
       "      <td>0</td>\n",
       "    </tr>\n",
       "    <tr>\n",
       "      <th>4</th>\n",
       "      <td>3600</td>\n",
       "      <td>2008</td>\n",
       "      <td>69.000000</td>\n",
       "      <td>90000</td>\n",
       "      <td>0</td>\n",
       "      <td>0</td>\n",
       "      <td>0</td>\n",
       "      <td>0</td>\n",
       "      <td>1</td>\n",
       "      <td>0</td>\n",
       "      <td>...</td>\n",
       "      <td>0</td>\n",
       "      <td>0</td>\n",
       "      <td>0</td>\n",
       "      <td>0</td>\n",
       "      <td>0</td>\n",
       "      <td>0</td>\n",
       "      <td>0</td>\n",
       "      <td>0</td>\n",
       "      <td>0</td>\n",
       "      <td>0</td>\n",
       "    </tr>\n",
       "    <tr>\n",
       "      <th>...</th>\n",
       "      <td>...</td>\n",
       "      <td>...</td>\n",
       "      <td>...</td>\n",
       "      <td>...</td>\n",
       "      <td>...</td>\n",
       "      <td>...</td>\n",
       "      <td>...</td>\n",
       "      <td>...</td>\n",
       "      <td>...</td>\n",
       "      <td>...</td>\n",
       "      <td>...</td>\n",
       "      <td>...</td>\n",
       "      <td>...</td>\n",
       "      <td>...</td>\n",
       "      <td>...</td>\n",
       "      <td>...</td>\n",
       "      <td>...</td>\n",
       "      <td>...</td>\n",
       "      <td>...</td>\n",
       "      <td>...</td>\n",
       "      <td>...</td>\n",
       "    </tr>\n",
       "    <tr>\n",
       "      <th>354363</th>\n",
       "      <td>1150</td>\n",
       "      <td>2000</td>\n",
       "      <td>127.768800</td>\n",
       "      <td>150000</td>\n",
       "      <td>0</td>\n",
       "      <td>0</td>\n",
       "      <td>0</td>\n",
       "      <td>0</td>\n",
       "      <td>0</td>\n",
       "      <td>0</td>\n",
       "      <td>...</td>\n",
       "      <td>0</td>\n",
       "      <td>0</td>\n",
       "      <td>0</td>\n",
       "      <td>0</td>\n",
       "      <td>0</td>\n",
       "      <td>0</td>\n",
       "      <td>0</td>\n",
       "      <td>0</td>\n",
       "      <td>0</td>\n",
       "      <td>0</td>\n",
       "    </tr>\n",
       "    <tr>\n",
       "      <th>354365</th>\n",
       "      <td>2200</td>\n",
       "      <td>2005</td>\n",
       "      <td>159.151373</td>\n",
       "      <td>20000</td>\n",
       "      <td>0</td>\n",
       "      <td>0</td>\n",
       "      <td>1</td>\n",
       "      <td>0</td>\n",
       "      <td>0</td>\n",
       "      <td>0</td>\n",
       "      <td>...</td>\n",
       "      <td>0</td>\n",
       "      <td>1</td>\n",
       "      <td>0</td>\n",
       "      <td>0</td>\n",
       "      <td>0</td>\n",
       "      <td>0</td>\n",
       "      <td>0</td>\n",
       "      <td>0</td>\n",
       "      <td>1</td>\n",
       "      <td>0</td>\n",
       "    </tr>\n",
       "    <tr>\n",
       "      <th>354366</th>\n",
       "      <td>1199</td>\n",
       "      <td>2000</td>\n",
       "      <td>101.000000</td>\n",
       "      <td>125000</td>\n",
       "      <td>1</td>\n",
       "      <td>0</td>\n",
       "      <td>0</td>\n",
       "      <td>0</td>\n",
       "      <td>0</td>\n",
       "      <td>0</td>\n",
       "      <td>...</td>\n",
       "      <td>1</td>\n",
       "      <td>0</td>\n",
       "      <td>0</td>\n",
       "      <td>0</td>\n",
       "      <td>0</td>\n",
       "      <td>0</td>\n",
       "      <td>0</td>\n",
       "      <td>0</td>\n",
       "      <td>0</td>\n",
       "      <td>0</td>\n",
       "    </tr>\n",
       "    <tr>\n",
       "      <th>354367</th>\n",
       "      <td>9200</td>\n",
       "      <td>1996</td>\n",
       "      <td>102.000000</td>\n",
       "      <td>150000</td>\n",
       "      <td>0</td>\n",
       "      <td>0</td>\n",
       "      <td>0</td>\n",
       "      <td>0</td>\n",
       "      <td>0</td>\n",
       "      <td>0</td>\n",
       "      <td>...</td>\n",
       "      <td>0</td>\n",
       "      <td>0</td>\n",
       "      <td>0</td>\n",
       "      <td>0</td>\n",
       "      <td>0</td>\n",
       "      <td>0</td>\n",
       "      <td>1</td>\n",
       "      <td>0</td>\n",
       "      <td>0</td>\n",
       "      <td>0</td>\n",
       "    </tr>\n",
       "    <tr>\n",
       "      <th>354368</th>\n",
       "      <td>3400</td>\n",
       "      <td>2002</td>\n",
       "      <td>100.000000</td>\n",
       "      <td>150000</td>\n",
       "      <td>0</td>\n",
       "      <td>0</td>\n",
       "      <td>0</td>\n",
       "      <td>0</td>\n",
       "      <td>0</td>\n",
       "      <td>0</td>\n",
       "      <td>...</td>\n",
       "      <td>0</td>\n",
       "      <td>0</td>\n",
       "      <td>0</td>\n",
       "      <td>0</td>\n",
       "      <td>0</td>\n",
       "      <td>0</td>\n",
       "      <td>1</td>\n",
       "      <td>0</td>\n",
       "      <td>1</td>\n",
       "      <td>0</td>\n",
       "    </tr>\n",
       "  </tbody>\n",
       "</table>\n",
       "<p>328535 rows × 306 columns</p>\n",
       "</div>"
      ],
      "text/plain": [
       "        Price  RegistrationYear       Power  Kilometer  \\\n",
       "0         480              1993  105.267137     150000   \n",
       "1       18300              2011  190.000000     125000   \n",
       "2        9800              2004  163.000000     125000   \n",
       "3        1500              2001   75.000000     150000   \n",
       "4        3600              2008   69.000000      90000   \n",
       "...       ...               ...         ...        ...   \n",
       "354363   1150              2000  127.768800     150000   \n",
       "354365   2200              2005  159.151373      20000   \n",
       "354366   1199              2000  101.000000     125000   \n",
       "354367   9200              1996  102.000000     150000   \n",
       "354368   3400              2002  100.000000     150000   \n",
       "\n",
       "        VehicleType_convertible  VehicleType_coupe  VehicleType_other  \\\n",
       "0                             0                  0                  0   \n",
       "1                             0                  1                  0   \n",
       "2                             0                  0                  0   \n",
       "3                             0                  0                  0   \n",
       "4                             0                  0                  0   \n",
       "...                         ...                ...                ...   \n",
       "354363                        0                  0                  0   \n",
       "354365                        0                  0                  1   \n",
       "354366                        1                  0                  0   \n",
       "354367                        0                  0                  0   \n",
       "354368                        0                  0                  0   \n",
       "\n",
       "        VehicleType_sedan  VehicleType_small  VehicleType_suv  ...  \\\n",
       "0                       0                  1                0  ...   \n",
       "1                       0                  0                0  ...   \n",
       "2                       0                  0                1  ...   \n",
       "3                       0                  1                0  ...   \n",
       "4                       0                  1                0  ...   \n",
       "...                   ...                ...              ...  ...   \n",
       "354363                  0                  0                0  ...   \n",
       "354365                  0                  0                0  ...   \n",
       "354366                  0                  0                0  ...   \n",
       "354367                  0                  0                0  ...   \n",
       "354368                  0                  0                0  ...   \n",
       "\n",
       "        Brand_smart  Brand_sonstige_autos  Brand_subaru  Brand_suzuki  \\\n",
       "0                 0                     0             0             0   \n",
       "1                 0                     0             0             0   \n",
       "2                 0                     0             0             0   \n",
       "3                 0                     0             0             0   \n",
       "4                 0                     0             0             0   \n",
       "...             ...                   ...           ...           ...   \n",
       "354363            0                     0             0             0   \n",
       "354365            0                     1             0             0   \n",
       "354366            1                     0             0             0   \n",
       "354367            0                     0             0             0   \n",
       "354368            0                     0             0             0   \n",
       "\n",
       "        Brand_toyota  Brand_trabant  Brand_volkswagen  Brand_volvo  \\\n",
       "0                  0              0                 1            0   \n",
       "1                  0              0                 0            0   \n",
       "2                  0              0                 0            0   \n",
       "3                  0              0                 1            0   \n",
       "4                  0              0                 0            0   \n",
       "...              ...            ...               ...          ...   \n",
       "354363             0              0                 0            0   \n",
       "354365             0              0                 0            0   \n",
       "354366             0              0                 0            0   \n",
       "354367             0              0                 1            0   \n",
       "354368             0              0                 1            0   \n",
       "\n",
       "        Repaired_unknown  Repaired_yes  \n",
       "0                      1             0  \n",
       "1                      0             1  \n",
       "2                      1             0  \n",
       "3                      0             0  \n",
       "4                      0             0  \n",
       "...                  ...           ...  \n",
       "354363                 0             0  \n",
       "354365                 1             0  \n",
       "354366                 0             0  \n",
       "354367                 0             0  \n",
       "354368                 1             0  \n",
       "\n",
       "[328535 rows x 306 columns]"
      ]
     },
     "execution_count": 689,
     "metadata": {},
     "output_type": "execute_result"
    }
   ],
   "source": [
    "df_ohe = pd.get_dummies(df, drop_first=True)\n",
    "df_ohe"
   ]
  },
  {
   "cell_type": "markdown",
   "metadata": {},
   "source": [
    "Фиксируем размерность нового датасета"
   ]
  },
  {
   "cell_type": "code",
   "execution_count": 690,
   "metadata": {},
   "outputs": [
    {
     "data": {
      "text/plain": [
       "(328535, 306)"
      ]
     },
     "execution_count": 690,
     "metadata": {},
     "output_type": "execute_result"
    }
   ],
   "source": [
    "df_ohe_first = df_ohe.shape\n",
    "df_ohe_first"
   ]
  },
  {
   "cell_type": "markdown",
   "metadata": {},
   "source": [
    "**Произведем разделение датафрейма на признаки и целевой признак, а также на тренировочную, валидационную и тестовые выборки.**"
   ]
  },
  {
   "cell_type": "code",
   "execution_count": 691,
   "metadata": {},
   "outputs": [],
   "source": [
    "target = df_ohe['Price']\n",
    "features = df_ohe.drop('Price', axis=1)\n",
    "\n",
    "features_train, features_tv, target_train, target_tv = train_test_split(\n",
    "    features, target, test_size=0.4, random_state=1234567)\n",
    "\n",
    "features_test, features_valid, target_test, target_valid = train_test_split(\n",
    "    features_tv, target_tv, test_size=0.5, random_state=1234567)"
   ]
  },
  {
   "cell_type": "markdown",
   "metadata": {},
   "source": [
    "**Проведем масштабирование признаков**"
   ]
  },
  {
   "cell_type": "code",
   "execution_count": 692,
   "metadata": {},
   "outputs": [],
   "source": [
    "numeric = ['Power', 'Kilometer', 'RegistrationYear']\n",
    "\n",
    "pd.options.mode.chained_assignment = None\n",
    "scaler = StandardScaler()\n",
    "scaler.fit(features_train[numeric])\n",
    "features_train[numeric] = scaler.transform(features_train[numeric])\n",
    "features_valid[numeric] = scaler.transform(features_valid[numeric])\n",
    "features_test[numeric] = scaler.transform(features_test[numeric])"
   ]
  },
  {
   "cell_type": "markdown",
   "metadata": {},
   "source": [
    "**Проверим размерность разделенных выборок.**"
   ]
  },
  {
   "cell_type": "code",
   "execution_count": 693,
   "metadata": {},
   "outputs": [
    {
     "name": "stdout",
     "output_type": "stream",
     "text": [
      "Размерность features_train: (197121, 305)\n",
      "Размерность   target_train: (197121,)\n",
      "Размерность features_valid: (65707, 305)\n",
      "Размерность   target_valid: (65707,)\n",
      "Размерность  features_test: (65707, 305)\n",
      "Размерность    target_test: (65707,)\n",
      "Доля train: 0.6\n",
      "Доля valid: 0.2\n",
      "Доля  test: 0.2\n"
     ]
    }
   ],
   "source": [
    "print('Размерность features_train:', features_train.shape)\n",
    "print('Размерность   target_train:', target_train.shape)\n",
    "\n",
    "print('Размерность features_valid:', features_valid.shape)\n",
    "print('Размерность   target_valid:', target_valid.shape)\n",
    "\n",
    "print('Размерность  features_test:', features_test.shape)\n",
    "print('Размерность    target_test:', target_test.shape)\n",
    "\n",
    "\n",
    "print('Доля train:', features_train.shape[0] / df_ohe_first[0])\n",
    "print('Доля valid:', features_valid.shape[0] / df_ohe_first[0])\n",
    "print('Доля  test:', features_test.shape[0] / df_ohe_first[0])"
   ]
  },
  {
   "cell_type": "markdown",
   "metadata": {},
   "source": [
    "**Вывод: Данные готовы к обучению моделей.**"
   ]
  },
  {
   "cell_type": "markdown",
   "metadata": {},
   "source": [
    "## Обучение моделей"
   ]
  },
  {
   "cell_type": "markdown",
   "metadata": {},
   "source": [
    "Проведем обучсение 3 моделей: Линейная регрессия, Дерево Решений и  LightGBM.  \n",
    "Время будем замерять через команду `%%time`.  \n",
    "**Целевой показатель RMSE меньше 2500**."
   ]
  },
  {
   "cell_type": "markdown",
   "metadata": {},
   "source": [
    "### Линейная регрессия"
   ]
  },
  {
   "cell_type": "code",
   "execution_count": 694,
   "metadata": {},
   "outputs": [
    {
     "name": "stdout",
     "output_type": "stream",
     "text": [
      "CPU times: user 12.5 s, sys: 4.03 s, total: 16.5 s\n",
      "Wall time: 16.4 s\n"
     ]
    },
    {
     "data": {
      "text/plain": [
       "LinearRegression(fit_intercept=False)"
      ]
     },
     "execution_count": 694,
     "metadata": {},
     "output_type": "execute_result"
    }
   ],
   "source": [
    "%%time\n",
    "model_lr = LinearRegression(fit_intercept=False, normalize = False)\n",
    "model_lr.fit(features_train, target_train)"
   ]
  },
  {
   "cell_type": "code",
   "execution_count": 695,
   "metadata": {},
   "outputs": [
    {
     "name": "stdout",
     "output_type": "stream",
     "text": [
      "Метрика RMSE по модели Линейной регрессии на валидационной выборке: 2840.57\n",
      "CPU times: user 87.2 ms, sys: 115 ms, total: 202 ms\n",
      "Wall time: 196 ms\n"
     ]
    }
   ],
   "source": [
    "%%time\n",
    "predictions_lr = model_lr.predict(features_valid)\n",
    "rmse_lr = mean_squared_error(target_valid, predictions_lr)**0.5\n",
    "print('Метрика RMSE по модели Линейной регрессии на валидационной выборке:', rmse_lr.round(2))"
   ]
  },
  {
   "cell_type": "markdown",
   "metadata": {},
   "source": [
    "### Дерево Решений"
   ]
  },
  {
   "cell_type": "markdown",
   "metadata": {},
   "source": [
    "Подбираем параметры:"
   ]
  },
  {
   "cell_type": "code",
   "execution_count": 696,
   "metadata": {},
   "outputs": [
    {
     "name": "stdout",
     "output_type": "stream",
     "text": [
      "Метрика RMSE по модели Дерево Решений: 1881.472811371966\n",
      "Количество ветвей наилучшей модели на валидационной выборке: 17\n"
     ]
    }
   ],
   "source": [
    "best_rmse_dtr = 2500 \n",
    "best_depth = 0\n",
    "for depth in range(1, 21):\n",
    "    model_dtr = DecisionTreeRegressor(random_state=1234567, max_depth=depth)\n",
    "    model_dtr.fit(features_train, target_train)\n",
    "    predictions_dtr = model_dtr.predict(features_valid)\n",
    "    rmse_dtr = mean_squared_error(target_valid, predictions_dtr)**0.5\n",
    "    if rmse_dtr < best_rmse_dtr:\n",
    "            best_rmse_dtr = rmse_dtr\n",
    "            best_depth = depth\n",
    "print('Метрика RMSE по модели Дерево Решений:', best_rmse_dtr)\n",
    "print(\"Количество ветвей наилучшей модели на валидационной выборке:\", best_depth)  "
   ]
  },
  {
   "cell_type": "code",
   "execution_count": 697,
   "metadata": {},
   "outputs": [
    {
     "name": "stdout",
     "output_type": "stream",
     "text": [
      "CPU times: user 4.47 s, sys: 173 ms, total: 4.64 s\n",
      "Wall time: 4.65 s\n"
     ]
    },
    {
     "data": {
      "text/plain": [
       "DecisionTreeRegressor(max_depth=17, random_state=1234567)"
      ]
     },
     "execution_count": 697,
     "metadata": {},
     "output_type": "execute_result"
    }
   ],
   "source": [
    "%%time\n",
    "model_dtr = DecisionTreeRegressor(random_state=1234567, max_depth=17)\n",
    "model_dtr.fit(features_train, target_train)"
   ]
  },
  {
   "cell_type": "code",
   "execution_count": 698,
   "metadata": {},
   "outputs": [
    {
     "name": "stdout",
     "output_type": "stream",
     "text": [
      "Метрика RMSE по модели Дерево Решений на валидационной выборке: 1881.472811371966\n",
      "CPU times: user 61.3 ms, sys: 58.1 ms, total: 119 ms\n",
      "Wall time: 126 ms\n"
     ]
    }
   ],
   "source": [
    "%%time\n",
    "predictions_dtr = model_dtr.predict(features_valid)\n",
    "rmse_dtr = mean_squared_error(target_valid, predictions_dtr)**0.5\n",
    "print('Метрика RMSE по модели Дерево Решений на валидационной выборке:', rmse_dtr)"
   ]
  },
  {
   "cell_type": "markdown",
   "metadata": {},
   "source": [
    "---"
   ]
  },
  {
   "cell_type": "markdown",
   "metadata": {},
   "source": [
    "### LightGBM"
   ]
  },
  {
   "cell_type": "markdown",
   "metadata": {},
   "source": [
    "Для бустинга произведем перекодировку подвыборок."
   ]
  },
  {
   "cell_type": "code",
   "execution_count": 699,
   "metadata": {},
   "outputs": [],
   "source": [
    "for col in ['VehicleType', 'Gearbox', 'Model', 'FuelType', 'Brand', 'Repaired']:\n",
    "    df[col] = df[col].astype('category')"
   ]
  },
  {
   "cell_type": "code",
   "execution_count": 701,
   "metadata": {},
   "outputs": [],
   "source": [
    "target_gbm = df['Price']\n",
    "features_gbm = df.drop('Price', axis=1)\n",
    "\n",
    "features_train_gbm, features_tv_gbm, target_train_gbm, target_tv_gbm = train_test_split(\n",
    "    features, target, test_size=0.4, random_state=1234567)\n",
    "\n",
    "features_test_gbm, features_valid_gbm, target_test_gbm, target_valid_gbm = train_test_split(\n",
    "    features_tv_gbm, target_tv_gbm, test_size=0.5, random_state=1234567)\n",
    "\n",
    "numeric = ['Power', 'Kilometer', 'RegistrationYear']\n",
    "\n",
    "scaler.fit(features_train_gbm[numeric])\n",
    "features_train_gbm[numeric] = scaler.transform(features_train_gbm[numeric])\n",
    "features_valid_gbm[numeric] = scaler.transform(features_valid_gbm[numeric])\n",
    "features_test_gbm[numeric] = scaler.transform(features_test_gbm[numeric])"
   ]
  },
  {
   "cell_type": "markdown",
   "metadata": {},
   "source": [
    "Подбираем параметры:"
   ]
  },
  {
   "cell_type": "code",
   "execution_count": 702,
   "metadata": {},
   "outputs": [
    {
     "name": "stdout",
     "output_type": "stream",
     "text": [
      "Метрика RMSE по модели Дерево Решений: 1617.5310766692382\n",
      "Количество деревьев наилучшей модели на валидационной выборке: 150\n",
      "Количество ветвей наилучшей модели на валидационной выборке: 20\n",
      "Количество листьев наилучшей модели на валидационной выборке: 100\n",
      "CPU times: user 2min 43s, sys: 6.15 s, total: 2min 49s\n",
      "Wall time: 2min 50s\n"
     ]
    }
   ],
   "source": [
    "%%time\n",
    "best_rmse_lightgbm = 2500 \n",
    "best_est_lightgbm = 0\n",
    "best_depth_lightgbm = 0\n",
    "best_num_leaves_lightgbm = 0\n",
    "\n",
    "for est in range(50, 151, 50):\n",
    "    for depth in range(10, 21, 5):\n",
    "        for num in range (50, 101, 50):\n",
    "            model_lightgbm = LGBMRegressor(learning_rate=0.1, num_leaves=num, max_depth = depth, \n",
    "                                           n_estimators = est, random_state=1234567)\n",
    "            model_lightgbm.fit(features_train_gbm, target_train_gbm)\n",
    "            predictions_lightgbm = model_lightgbm.predict(features_valid_gbm)\n",
    "            rmse_lightgbm = mean_squared_error(target_valid_gbm, predictions_lightgbm)**0.5\n",
    "            if rmse_lightgbm < best_rmse_lightgbm:\n",
    "                best_rmse_lightgbm = rmse_lightgbm\n",
    "                best_est_lightgbm = est\n",
    "                best_depth_lightgbm = depth\n",
    "                best_num_leaves_lightgbm = num\n",
    "print('Метрика RMSE по модели Дерево Решений:', best_rmse_lightgbm)\n",
    "print(\"Количество деревьев наилучшей модели на валидационной выборке:\", best_est_lightgbm)  \n",
    "print(\"Количество ветвей наилучшей модели на валидационной выборке:\", best_depth_lightgbm) \n",
    "print(\"Количество листьев наилучшей модели на валидационной выборке:\", best_num_leaves_lightgbm) "
   ]
  },
  {
   "cell_type": "code",
   "execution_count": 703,
   "metadata": {},
   "outputs": [
    {
     "name": "stdout",
     "output_type": "stream",
     "text": [
      "CPU times: user 12.9 s, sys: 275 ms, total: 13.2 s\n",
      "Wall time: 13.3 s\n"
     ]
    },
    {
     "data": {
      "text/plain": [
       "LGBMRegressor(max_depth=20, n_estimators=150, num_leaves=100,\n",
       "              random_state=1234567)"
      ]
     },
     "execution_count": 703,
     "metadata": {},
     "output_type": "execute_result"
    }
   ],
   "source": [
    "%%time\n",
    "model_lightgbm = LGBMRegressor(learning_rate=0.1, num_leaves=100, max_depth = 20, n_estimators = 150, random_state=1234567)\n",
    "model_lightgbm.fit(features_train_gbm, target_train_gbm)"
   ]
  },
  {
   "cell_type": "code",
   "execution_count": 704,
   "metadata": {},
   "outputs": [
    {
     "name": "stdout",
     "output_type": "stream",
     "text": [
      "Метрика RMSE по модели LightGBM на валидационной выборке: 1617.5310766692382\n",
      "CPU times: user 1.16 s, sys: 78 ms, total: 1.24 s\n",
      "Wall time: 1.28 s\n"
     ]
    }
   ],
   "source": [
    "%%time\n",
    "predictions_lightgbm = model_lightgbm.predict(features_valid_gbm)\n",
    "rmse_lightgbm = mean_squared_error(target_valid_gbm, predictions_lightgbm)**0.5\n",
    "print('Метрика RMSE по модели LightGBM на валидационной выборке:', rmse_lightgbm)"
   ]
  },
  {
   "cell_type": "markdown",
   "metadata": {},
   "source": [
    "**Переходим к анализу моделей**"
   ]
  },
  {
   "cell_type": "markdown",
   "metadata": {},
   "source": [
    "## Анализ моделей"
   ]
  },
  {
   "cell_type": "code",
   "execution_count": 708,
   "metadata": {},
   "outputs": [
    {
     "data": {
      "text/html": [
       "<div>\n",
       "<style scoped>\n",
       "    .dataframe tbody tr th:only-of-type {\n",
       "        vertical-align: middle;\n",
       "    }\n",
       "\n",
       "    .dataframe tbody tr th {\n",
       "        vertical-align: top;\n",
       "    }\n",
       "\n",
       "    .dataframe thead th {\n",
       "        text-align: right;\n",
       "    }\n",
       "</style>\n",
       "<table border=\"1\" class=\"dataframe\">\n",
       "  <thead>\n",
       "    <tr style=\"text-align: right;\">\n",
       "      <th></th>\n",
       "      <th>Время обучения</th>\n",
       "      <th>Время предсказания по valid</th>\n",
       "      <th>RMSE по valid</th>\n",
       "    </tr>\n",
       "  </thead>\n",
       "  <tbody>\n",
       "    <tr>\n",
       "      <th>Линейная регрессия</th>\n",
       "      <td>16.4s</td>\n",
       "      <td>196 ms</td>\n",
       "      <td>2840.57</td>\n",
       "    </tr>\n",
       "    <tr>\n",
       "      <th>Дерево Решений</th>\n",
       "      <td>4.65 s</td>\n",
       "      <td>126 ms</td>\n",
       "      <td>1881.47</td>\n",
       "    </tr>\n",
       "    <tr>\n",
       "      <th>LGBMRegressor</th>\n",
       "      <td>13.3 s</td>\n",
       "      <td>1.28 s</td>\n",
       "      <td>1617.53</td>\n",
       "    </tr>\n",
       "  </tbody>\n",
       "</table>\n",
       "</div>"
      ],
      "text/plain": [
       "                   Время обучения Время предсказания по valid  RMSE по valid\n",
       "Линейная регрессия          16.4s                      196 ms        2840.57\n",
       "Дерево Решений             4.65 s                      126 ms        1881.47\n",
       "LGBMRegressor              13.3 s                      1.28 s        1617.53"
      ]
     },
     "execution_count": 708,
     "metadata": {},
     "output_type": "execute_result"
    }
   ],
   "source": [
    "df_model = [[\"16.4s\", \"196 ms\", 2840.57],\n",
    "        [\"4.65 s\", \"126 ms\", 1881.47],\n",
    "        [\"13.3 s\", \"1.28 s\", 1617.53]]\n",
    "model = [\"Линейная регрессия\", \"Дерево Решений\", \"LGBMRegressor\"]\n",
    "df_model_result = pd.DataFrame(data=df_model, index=model, columns=[\"Время обучения\", \n",
    "                                                                    \"Время предсказания по valid\", \"RMSE по valid\"])\n",
    "df_model_result"
   ]
  },
  {
   "cell_type": "markdown",
   "metadata": {},
   "source": [
    "**Исходя из полученных данных наилучшее качество показала модель LightGBM.**\n",
    "\n",
    "**Проведя финальное тестирование наилучшей модели получаем RMSE - 1611,62, качество даже немного улучшилось отностиельно валидации, минимальный порог заказчика RMSE < 2500, преодален.**"
   ]
  },
  {
   "cell_type": "code",
   "execution_count": 706,
   "metadata": {},
   "outputs": [
    {
     "name": "stdout",
     "output_type": "stream",
     "text": [
      "Метрика RMSE по модели LightGBM на тестовой выборке: 1611.6225104645353\n",
      "CPU times: user 1.14 s, sys: 78.9 ms, total: 1.22 s\n",
      "Wall time: 1.19 s\n"
     ]
    }
   ],
   "source": [
    "%%time\n",
    "predictions_lightgbm_t = model_lightgbm.predict(features_test_gbm)\n",
    "rmse_lightgbm_t = mean_squared_error(target_test_gbm, predictions_lightgbm_t)**0.5\n",
    "print('Метрика RMSE по модели LightGBM на тестовой выборке:', rmse_lightgbm_t)"
   ]
  },
  {
   "cell_type": "markdown",
   "metadata": {},
   "source": [
    "---"
   ]
  },
  {
   "cell_type": "markdown",
   "metadata": {},
   "source": [
    "**ИТОГОВЫЙ ВЫВОД ИССЛЕДОВАНИЯ:**  \n",
    "\n",
    "Изначальный датасет содержал 354 369 строк и 16 столбцов, типы данных по столбцам присвоены корректно. \n",
    "На этапе предобработки были удалены строки с нулевым целевым признаком по столбцу Price и строки по столбцу RegistrationYear с датой регистрации автомобиля за пределами периода с 1946 по 2016 года.  \n",
    "Пропуски и аномалии были обработаны в следущем формате:\n",
    "- В VehicleType, пропуски были заменены по типу кузова такой же модели, если сопоставление сделать было невозможно, производилась замена на  'other'.\n",
    "- В Gearbox, пропуски были заменены на 'other' т.к. в датасете присутствовало только два вида коробки передач.\n",
    "- В Model, пропуски были заменены на 'other', т.к. Сопоставить модели по другим признаком не представлеяется возможным. Синонимы  'range_rover' и 'rangerover' были объединены под маркой 'range_rover'. \n",
    "- В FuelType, пропуски были скорректированы по типу топлива такой же модели. Так как названия топлива 'petrol' и 'gasoline' это одно и тоже, были объеденены под типом 'gasoline'.\n",
    "- В Repaired, пропуски были заменены на “unknown”, т.к. подтвердить факт ремонта нет возможности.   \n",
    "- В Power присутствовали строки с “0” мощностью, была произведена корректировка в соответствии с аналогичной мощностью по такой же Модели или Бренду.\n",
    "- RegistrationMonth - строки с “0” заменены на “unknown”.\n",
    "- В Brand  синонимы 'land_rover' и 'rover' были объединены под брендом 'land_rover'.\n",
    "- Kilometer - большинство моделей с пробегом более 125 тыс.км.\n",
    "- DateCreated — большинство анкет которые включены в датасет были созданы в 2016г.\n",
    "- LastSeen -  Все анкеты датасета были активированы в течении месяца выгрузки данных в 2016г.\n",
    "  \n",
    "По итогу поведенных преобразований сохранен изначальный датасет в объеме - 92,7%. \n",
    "\n",
    "Для ускорения работы модели, были удалены столбцы с признаками которые не влияют прогнозирование целевого признака:\n",
    "- DateCrawled \n",
    "- RegistrationMonth \n",
    "- DateCreated \n",
    "- NumberOfPictures \n",
    "- PostalCode \n",
    "- LastSeen  \n",
    "\n",
    "При подготовке данных к обучению, к датасету было применено прямое кодирование с целью преобразования категориальных признаков в численные посредством OHE, а также произведено масштабирование признаков. Для модели LightGBM кодировка через OHE не проводилась.\n",
    "\n",
    "Датафрейм был разделен на тренировочную, валидационную и тестовые выборки из пропорции 60%/20%/20%.  \n",
    "\n",
    "Основными требования заказчика к модели предсказания рыночной стоимости автомобиля, являются:\n",
    " - качество предсказания (RMSE должно быть менее 2500);\n",
    " - скорость предсказания (фиксация через команду `%%time`);\n",
    " - время обучения (фиксация через команду `%%time`).\n",
    "\n",
    "Исходя из этих требований было обучено и протестировано 3 моделей: Линейная регрессия, Дерево Решений и бустинг LightGBM.\n",
    "По итогам проведенного исследования на валидационной выборке:\n",
    "- наилучший результат по целевой метрике RMSE получен по LightGBM - 1617,53, при этом время потраченное на обучение - 13.3s  и предсказание - 1.28s, это средний совокупный показатель.\n",
    "- вторим по качеству предсказаний было Дерево Решений: RMSE - 1881.47, время потраченное на обучение - 4.65 s  и предсказание  - 126 ms  - самый быстрый показатель.\n",
    "- самый низкий результат по целевой метрике оказалась Линейная Регрессия: RMSE - 2840.57, время потраченное на обучение - 16.4s и предсказание - 196 ms  - самый медленный совокупный показатель.\n",
    "\n",
    "**Исходя из совокупности обозначенных заказчиком требований я бы предложила остановиться на модели LightGBM, т.к данный алгоритм выдает самую низкую ошибку на валидаци - 1617,53, при этом скорость предсказания 1,28s  для будущего пользователя приложения сервиса «Не бит, не крашен» достаточно приемлемая.**  \n",
    "\n",
    "**По итогу проверки `LightGBM на тестовой выборке, получаем RMSE -  1611.62, время предсказания 1,19 s.`  \n",
    "Относительно валидации качество немного повысилось, модель работает на новых данных корректно.**\n"
   ]
  }
 ],
 "metadata": {
  "ExecuteTimeLog": [
   {
    "duration": 1690,
    "start_time": "2023-11-09T12:48:27.228Z"
   },
   {
    "duration": 1341,
    "start_time": "2023-11-09T12:48:29.735Z"
   },
   {
    "duration": 31,
    "start_time": "2023-11-09T12:48:46.835Z"
   },
   {
    "duration": 15,
    "start_time": "2023-11-09T12:49:02.119Z"
   },
   {
    "duration": 177,
    "start_time": "2023-11-09T12:50:04.117Z"
   },
   {
    "duration": 167,
    "start_time": "2023-11-09T12:50:52.112Z"
   },
   {
    "duration": 325,
    "start_time": "2023-11-09T12:51:55.448Z"
   },
   {
    "duration": 360,
    "start_time": "2023-11-09T12:51:58.870Z"
   },
   {
    "duration": 357,
    "start_time": "2023-11-09T12:52:20.846Z"
   },
   {
    "duration": 335,
    "start_time": "2023-11-09T12:52:25.737Z"
   },
   {
    "duration": 90,
    "start_time": "2023-11-09T12:52:51.925Z"
   },
   {
    "duration": 466,
    "start_time": "2023-11-09T12:52:56.570Z"
   },
   {
    "duration": 363,
    "start_time": "2023-11-09T12:53:02.167Z"
   },
   {
    "duration": 183,
    "start_time": "2023-11-09T12:53:37.637Z"
   },
   {
    "duration": 1530,
    "start_time": "2023-11-11T14:26:36.967Z"
   },
   {
    "duration": 3002,
    "start_time": "2023-11-11T14:26:38.499Z"
   },
   {
    "duration": 21,
    "start_time": "2023-11-11T14:26:41.503Z"
   },
   {
    "duration": 161,
    "start_time": "2023-11-11T14:26:41.525Z"
   },
   {
    "duration": 173,
    "start_time": "2023-11-11T14:26:41.689Z"
   },
   {
    "duration": 314,
    "start_time": "2023-11-11T14:26:41.864Z"
   },
   {
    "duration": 4,
    "start_time": "2023-11-11T14:45:50.625Z"
   },
   {
    "duration": 340,
    "start_time": "2023-11-11T14:46:02.593Z"
   },
   {
    "duration": 302,
    "start_time": "2023-11-11T14:46:13.141Z"
   },
   {
    "duration": 5,
    "start_time": "2023-11-11T14:51:09.080Z"
   },
   {
    "duration": 22,
    "start_time": "2023-11-11T15:02:57.077Z"
   },
   {
    "duration": 72,
    "start_time": "2023-11-11T15:06:07.851Z"
   },
   {
    "duration": 509,
    "start_time": "2023-11-11T15:08:12.676Z"
   },
   {
    "duration": 2,
    "start_time": "2023-11-11T15:09:48.845Z"
   },
   {
    "duration": 4,
    "start_time": "2023-11-11T15:09:54.974Z"
   },
   {
    "duration": 38,
    "start_time": "2023-11-11T15:14:35.348Z"
   },
   {
    "duration": 35,
    "start_time": "2023-11-11T15:15:25.115Z"
   },
   {
    "duration": 462,
    "start_time": "2023-11-11T15:18:56.585Z"
   },
   {
    "duration": 565,
    "start_time": "2023-11-11T15:22:34.689Z"
   },
   {
    "duration": 445,
    "start_time": "2023-11-11T15:22:36.224Z"
   },
   {
    "duration": 4,
    "start_time": "2023-11-11T15:24:46.275Z"
   },
   {
    "duration": 136,
    "start_time": "2023-11-11T15:24:50.268Z"
   },
   {
    "duration": 136,
    "start_time": "2023-11-11T15:25:13.304Z"
   },
   {
    "duration": 815,
    "start_time": "2023-11-11T15:25:17.834Z"
   },
   {
    "duration": 12,
    "start_time": "2023-11-11T15:25:20.395Z"
   },
   {
    "duration": 145,
    "start_time": "2023-11-11T15:25:23.341Z"
   },
   {
    "duration": 490,
    "start_time": "2023-11-11T15:29:40.376Z"
   },
   {
    "duration": 504,
    "start_time": "2023-11-11T15:30:53.447Z"
   },
   {
    "duration": 491,
    "start_time": "2023-11-11T15:31:01.979Z"
   },
   {
    "duration": 487,
    "start_time": "2023-11-11T15:34:22.992Z"
   },
   {
    "duration": 42,
    "start_time": "2023-11-11T15:38:59.678Z"
   },
   {
    "duration": 513,
    "start_time": "2023-11-11T15:39:01.229Z"
   },
   {
    "duration": 136,
    "start_time": "2023-11-11T15:39:39.717Z"
   },
   {
    "duration": 262,
    "start_time": "2023-11-11T15:39:58.457Z"
   },
   {
    "duration": 372,
    "start_time": "2023-11-11T16:32:16.558Z"
   },
   {
    "duration": 423,
    "start_time": "2023-11-11T16:32:56.747Z"
   },
   {
    "duration": 466,
    "start_time": "2023-11-11T16:33:12.218Z"
   },
   {
    "duration": 499,
    "start_time": "2023-11-11T16:40:25.868Z"
   },
   {
    "duration": 321,
    "start_time": "2023-11-11T16:40:43.545Z"
   },
   {
    "duration": 28,
    "start_time": "2023-11-11T16:40:53.565Z"
   },
   {
    "duration": 27,
    "start_time": "2023-11-11T16:41:04.770Z"
   },
   {
    "duration": 59,
    "start_time": "2023-11-11T16:45:19.987Z"
   },
   {
    "duration": 25,
    "start_time": "2023-11-11T16:45:20.685Z"
   },
   {
    "duration": 18,
    "start_time": "2023-11-11T16:46:41.036Z"
   },
   {
    "duration": 143,
    "start_time": "2023-11-11T16:47:13.448Z"
   },
   {
    "duration": 137,
    "start_time": "2023-11-11T16:47:19.244Z"
   },
   {
    "duration": 9,
    "start_time": "2023-11-11T16:47:40.716Z"
   },
   {
    "duration": 450,
    "start_time": "2023-11-11T16:48:07.395Z"
   },
   {
    "duration": 180,
    "start_time": "2023-11-11T16:48:13.049Z"
   },
   {
    "duration": 164,
    "start_time": "2023-11-11T16:50:26.533Z"
   },
   {
    "duration": 21,
    "start_time": "2023-11-11T16:50:35.398Z"
   },
   {
    "duration": 42749,
    "start_time": "2023-11-11T16:52:50.617Z"
   },
   {
    "duration": 21180,
    "start_time": "2023-11-11T16:54:02.129Z"
   },
   {
    "duration": 156,
    "start_time": "2023-11-11T17:14:24.487Z"
   },
   {
    "duration": 10,
    "start_time": "2023-11-11T17:18:32.187Z"
   },
   {
    "duration": 26,
    "start_time": "2023-11-11T17:18:35.737Z"
   },
   {
    "duration": 26,
    "start_time": "2023-11-11T18:07:06.296Z"
   },
   {
    "duration": 3,
    "start_time": "2023-11-11T18:08:10.170Z"
   },
   {
    "duration": 804,
    "start_time": "2023-11-11T18:08:10.175Z"
   },
   {
    "duration": 13,
    "start_time": "2023-11-11T18:08:10.980Z"
   },
   {
    "duration": 3,
    "start_time": "2023-11-11T18:08:10.999Z"
   },
   {
    "duration": 149,
    "start_time": "2023-11-11T18:08:11.004Z"
   },
   {
    "duration": 396,
    "start_time": "2023-11-11T18:08:11.155Z"
   },
   {
    "duration": 447,
    "start_time": "2023-11-11T18:08:11.552Z"
   },
   {
    "duration": 396,
    "start_time": "2023-11-11T18:08:12.001Z"
   },
   {
    "duration": 451,
    "start_time": "2023-11-11T18:08:12.399Z"
   },
   {
    "duration": 58,
    "start_time": "2023-11-11T18:08:12.851Z"
   },
   {
    "duration": 500,
    "start_time": "2023-11-11T18:08:12.910Z"
   },
   {
    "duration": 142,
    "start_time": "2023-11-11T18:08:13.411Z"
   },
   {
    "duration": 279,
    "start_time": "2023-11-11T18:08:13.555Z"
   },
   {
    "duration": 16,
    "start_time": "2023-11-11T18:08:13.836Z"
   },
   {
    "duration": 9,
    "start_time": "2023-11-11T18:08:13.853Z"
   },
   {
    "duration": 174,
    "start_time": "2023-11-11T18:08:13.863Z"
   },
   {
    "duration": 25,
    "start_time": "2023-11-11T18:08:14.039Z"
   },
   {
    "duration": 37,
    "start_time": "2023-11-11T18:08:14.066Z"
   },
   {
    "duration": 7,
    "start_time": "2023-11-11T18:11:25.802Z"
   },
   {
    "duration": 6,
    "start_time": "2023-11-11T18:11:52.617Z"
   },
   {
    "duration": 1504,
    "start_time": "2023-11-11T18:12:33.039Z"
   },
   {
    "duration": 13,
    "start_time": "2023-11-11T18:16:24.857Z"
   },
   {
    "duration": 8,
    "start_time": "2023-11-11T18:17:16.700Z"
   },
   {
    "duration": 18,
    "start_time": "2023-11-11T22:56:53.001Z"
   },
   {
    "duration": 9,
    "start_time": "2023-11-11T22:58:05.646Z"
   },
   {
    "duration": 66,
    "start_time": "2023-11-11T23:08:20.145Z"
   },
   {
    "duration": 205,
    "start_time": "2023-11-11T23:10:02.794Z"
   },
   {
    "duration": 224,
    "start_time": "2023-11-11T23:10:27.786Z"
   },
   {
    "duration": 201,
    "start_time": "2023-11-11T23:10:31.761Z"
   },
   {
    "duration": 212,
    "start_time": "2023-11-11T23:10:37.088Z"
   },
   {
    "duration": 213,
    "start_time": "2023-11-11T23:10:46.561Z"
   },
   {
    "duration": 273,
    "start_time": "2023-11-11T23:10:52.396Z"
   },
   {
    "duration": 305,
    "start_time": "2023-11-11T23:11:03.063Z"
   },
   {
    "duration": 407,
    "start_time": "2023-11-11T23:11:26.255Z"
   },
   {
    "duration": 398,
    "start_time": "2023-11-11T23:11:38.576Z"
   },
   {
    "duration": 415,
    "start_time": "2023-11-11T23:11:45.611Z"
   },
   {
    "duration": 402,
    "start_time": "2023-11-11T23:12:53.237Z"
   },
   {
    "duration": 494,
    "start_time": "2023-11-11T23:13:20.675Z"
   },
   {
    "duration": 388,
    "start_time": "2023-11-11T23:15:28.515Z"
   },
   {
    "duration": 382,
    "start_time": "2023-11-11T23:15:42.023Z"
   },
   {
    "duration": 402,
    "start_time": "2023-11-11T23:15:47.520Z"
   },
   {
    "duration": 3,
    "start_time": "2023-11-11T23:19:58.237Z"
   },
   {
    "duration": 802,
    "start_time": "2023-11-11T23:19:58.244Z"
   },
   {
    "duration": 12,
    "start_time": "2023-11-11T23:19:59.048Z"
   },
   {
    "duration": 5,
    "start_time": "2023-11-11T23:19:59.061Z"
   },
   {
    "duration": 147,
    "start_time": "2023-11-11T23:19:59.067Z"
   },
   {
    "duration": 368,
    "start_time": "2023-11-11T23:19:59.216Z"
   },
   {
    "duration": 442,
    "start_time": "2023-11-11T23:19:59.586Z"
   },
   {
    "duration": 404,
    "start_time": "2023-11-11T23:20:00.030Z"
   },
   {
    "duration": 485,
    "start_time": "2023-11-11T23:20:00.435Z"
   },
   {
    "duration": 44,
    "start_time": "2023-11-11T23:20:00.922Z"
   },
   {
    "duration": 470,
    "start_time": "2023-11-11T23:20:00.968Z"
   },
   {
    "duration": 137,
    "start_time": "2023-11-11T23:20:01.440Z"
   },
   {
    "duration": 271,
    "start_time": "2023-11-11T23:20:01.579Z"
   },
   {
    "duration": 15,
    "start_time": "2023-11-11T23:20:01.851Z"
   },
   {
    "duration": 13,
    "start_time": "2023-11-11T23:20:01.869Z"
   },
   {
    "duration": 534,
    "start_time": "2023-11-11T23:20:01.884Z"
   },
   {
    "duration": 420,
    "start_time": "2023-11-11T23:20:02.419Z"
   },
   {
    "duration": 398,
    "start_time": "2023-11-11T23:20:14.791Z"
   },
   {
    "duration": 404,
    "start_time": "2023-11-11T23:20:22.810Z"
   },
   {
    "duration": 409,
    "start_time": "2023-11-11T23:20:33.604Z"
   },
   {
    "duration": 402,
    "start_time": "2023-11-11T23:20:41.035Z"
   },
   {
    "duration": 524,
    "start_time": "2023-11-11T23:20:53.911Z"
   },
   {
    "duration": 978,
    "start_time": "2023-11-11T23:20:59.889Z"
   },
   {
    "duration": 496,
    "start_time": "2023-11-11T23:21:08.933Z"
   },
   {
    "duration": 487,
    "start_time": "2023-11-11T23:21:38.710Z"
   },
   {
    "duration": 375,
    "start_time": "2023-11-11T23:22:32.093Z"
   },
   {
    "duration": 276,
    "start_time": "2023-11-11T23:24:53.927Z"
   },
   {
    "duration": 215,
    "start_time": "2023-11-11T23:25:08.999Z"
   },
   {
    "duration": 328,
    "start_time": "2023-11-11T23:25:25.867Z"
   },
   {
    "duration": 51,
    "start_time": "2023-11-11T23:27:31.023Z"
   },
   {
    "duration": 334,
    "start_time": "2023-11-11T23:27:32.470Z"
   },
   {
    "duration": 394,
    "start_time": "2023-11-11T23:28:22.283Z"
   },
   {
    "duration": 518,
    "start_time": "2023-11-11T23:30:47.356Z"
   },
   {
    "duration": 392,
    "start_time": "2023-11-11T23:30:52.875Z"
   },
   {
    "duration": 48,
    "start_time": "2023-11-11T23:33:09.390Z"
   },
   {
    "duration": 48,
    "start_time": "2023-11-11T23:33:32.794Z"
   },
   {
    "duration": 18,
    "start_time": "2023-11-11T23:34:14.177Z"
   },
   {
    "duration": 18,
    "start_time": "2023-11-11T23:34:23.203Z"
   },
   {
    "duration": 31,
    "start_time": "2023-11-11T23:41:56.501Z"
   },
   {
    "duration": 55,
    "start_time": "2023-11-11T23:58:35.567Z"
   },
   {
    "duration": 18,
    "start_time": "2023-11-11T23:58:50.660Z"
   },
   {
    "duration": 8,
    "start_time": "2023-11-12T00:00:09.931Z"
   },
   {
    "duration": 6,
    "start_time": "2023-11-12T00:01:40.192Z"
   },
   {
    "duration": 10,
    "start_time": "2023-11-12T00:04:27.391Z"
   },
   {
    "duration": 5,
    "start_time": "2023-11-12T00:04:58.914Z"
   },
   {
    "duration": 4,
    "start_time": "2023-11-12T00:05:57.431Z"
   },
   {
    "duration": 6,
    "start_time": "2023-11-12T00:06:01.443Z"
   },
   {
    "duration": 7,
    "start_time": "2023-11-12T00:07:29.187Z"
   },
   {
    "duration": 8,
    "start_time": "2023-11-12T00:08:06.659Z"
   },
   {
    "duration": 7,
    "start_time": "2023-11-12T00:08:13.379Z"
   },
   {
    "duration": 6,
    "start_time": "2023-11-12T00:08:45.807Z"
   },
   {
    "duration": 110,
    "start_time": "2023-11-12T00:08:50.537Z"
   },
   {
    "duration": 389,
    "start_time": "2023-11-12T00:09:50.986Z"
   },
   {
    "duration": 367,
    "start_time": "2023-11-12T00:10:10.822Z"
   },
   {
    "duration": 8,
    "start_time": "2023-11-12T00:10:46.306Z"
   },
   {
    "duration": 9,
    "start_time": "2023-11-12T00:11:06.211Z"
   },
   {
    "duration": 349,
    "start_time": "2023-11-12T00:11:12.972Z"
   },
   {
    "duration": 379,
    "start_time": "2023-11-12T00:11:25.222Z"
   },
   {
    "duration": 346,
    "start_time": "2023-11-12T00:11:45.929Z"
   },
   {
    "duration": 109,
    "start_time": "2023-11-12T00:12:16.799Z"
   },
   {
    "duration": 288,
    "start_time": "2023-11-12T00:12:43.848Z"
   },
   {
    "duration": 735,
    "start_time": "2023-11-12T00:12:57.096Z"
   },
   {
    "duration": 123,
    "start_time": "2023-11-12T00:13:17.420Z"
   },
   {
    "duration": 108,
    "start_time": "2023-11-12T00:13:30.851Z"
   },
   {
    "duration": 386,
    "start_time": "2023-11-12T00:14:05.645Z"
   },
   {
    "duration": 405,
    "start_time": "2023-11-12T00:14:24.698Z"
   },
   {
    "duration": 400,
    "start_time": "2023-11-12T00:15:12.739Z"
   },
   {
    "duration": 387,
    "start_time": "2023-11-12T00:15:27.128Z"
   },
   {
    "duration": 363,
    "start_time": "2023-11-12T00:18:38.340Z"
   },
   {
    "duration": 338,
    "start_time": "2023-11-12T00:19:02.876Z"
   },
   {
    "duration": 357,
    "start_time": "2023-11-12T00:19:21.463Z"
   },
   {
    "duration": 358,
    "start_time": "2023-11-12T00:19:30.764Z"
   },
   {
    "duration": 508,
    "start_time": "2023-11-12T00:21:01.470Z"
   },
   {
    "duration": 457,
    "start_time": "2023-11-12T00:22:46.142Z"
   },
   {
    "duration": 463,
    "start_time": "2023-11-12T00:23:05.670Z"
   },
   {
    "duration": 472,
    "start_time": "2023-11-12T00:24:33.476Z"
   },
   {
    "duration": 466,
    "start_time": "2023-11-12T00:24:46.535Z"
   },
   {
    "duration": 480,
    "start_time": "2023-11-12T00:25:17.319Z"
   },
   {
    "duration": 482,
    "start_time": "2023-11-12T00:25:30.852Z"
   },
   {
    "duration": 15,
    "start_time": "2023-11-12T00:26:16.371Z"
   },
   {
    "duration": 387,
    "start_time": "2023-11-12T00:27:08.827Z"
   },
   {
    "duration": 9,
    "start_time": "2023-11-12T00:29:35.971Z"
   },
   {
    "duration": 29,
    "start_time": "2023-11-12T00:29:54.084Z"
   },
   {
    "duration": 84,
    "start_time": "2023-11-12T00:30:13.559Z"
   },
   {
    "duration": 14,
    "start_time": "2023-11-12T00:30:14.395Z"
   },
   {
    "duration": 68,
    "start_time": "2023-11-12T00:30:29.857Z"
   },
   {
    "duration": 15,
    "start_time": "2023-11-12T00:30:30.446Z"
   },
   {
    "duration": 2,
    "start_time": "2023-11-12T00:30:35.869Z"
   },
   {
    "duration": 762,
    "start_time": "2023-11-12T00:30:35.875Z"
   },
   {
    "duration": 12,
    "start_time": "2023-11-12T00:30:36.639Z"
   },
   {
    "duration": 20,
    "start_time": "2023-11-12T00:30:36.652Z"
   },
   {
    "duration": 152,
    "start_time": "2023-11-12T00:30:36.674Z"
   },
   {
    "duration": 374,
    "start_time": "2023-11-12T00:30:36.829Z"
   },
   {
    "duration": 414,
    "start_time": "2023-11-12T00:30:37.205Z"
   },
   {
    "duration": 379,
    "start_time": "2023-11-12T00:30:37.620Z"
   },
   {
    "duration": 448,
    "start_time": "2023-11-12T00:30:38.001Z"
   },
   {
    "duration": 49,
    "start_time": "2023-11-12T00:30:38.451Z"
   },
   {
    "duration": 455,
    "start_time": "2023-11-12T00:30:38.502Z"
   },
   {
    "duration": 134,
    "start_time": "2023-11-12T00:30:38.959Z"
   },
   {
    "duration": 269,
    "start_time": "2023-11-12T00:30:39.095Z"
   },
   {
    "duration": 15,
    "start_time": "2023-11-12T00:30:39.366Z"
   },
   {
    "duration": 20,
    "start_time": "2023-11-12T00:30:39.384Z"
   },
   {
    "duration": 336,
    "start_time": "2023-11-12T00:30:39.405Z"
   },
   {
    "duration": 413,
    "start_time": "2023-11-12T00:30:39.743Z"
   },
   {
    "duration": 24,
    "start_time": "2023-11-12T00:30:40.158Z"
   },
   {
    "duration": 21,
    "start_time": "2023-11-12T00:30:40.184Z"
   },
   {
    "duration": 52,
    "start_time": "2023-11-12T00:30:40.207Z"
   },
   {
    "duration": 399,
    "start_time": "2023-11-12T00:30:40.260Z"
   },
   {
    "duration": 26,
    "start_time": "2023-11-12T00:30:40.661Z"
   },
   {
    "duration": 30,
    "start_time": "2023-11-12T00:30:40.688Z"
   },
   {
    "duration": 9,
    "start_time": "2023-11-12T00:30:40.720Z"
   },
   {
    "duration": 34,
    "start_time": "2023-11-12T00:30:40.730Z"
   },
   {
    "duration": 36,
    "start_time": "2023-11-12T00:30:40.766Z"
   },
   {
    "duration": 40,
    "start_time": "2023-11-12T00:30:40.804Z"
   },
   {
    "duration": 56,
    "start_time": "2023-11-12T00:30:40.846Z"
   },
   {
    "duration": 17,
    "start_time": "2023-11-12T00:30:40.904Z"
   },
   {
    "duration": 19,
    "start_time": "2023-11-12T00:30:40.922Z"
   },
   {
    "duration": 492,
    "start_time": "2023-11-12T00:30:40.942Z"
   },
   {
    "duration": 407,
    "start_time": "2023-11-12T00:30:41.436Z"
   },
   {
    "duration": 83,
    "start_time": "2023-11-12T00:30:41.844Z"
   },
   {
    "duration": 2,
    "start_time": "2023-11-12T00:31:27.904Z"
   },
   {
    "duration": 767,
    "start_time": "2023-11-12T00:31:27.911Z"
   },
   {
    "duration": 12,
    "start_time": "2023-11-12T00:31:28.680Z"
   },
   {
    "duration": 3,
    "start_time": "2023-11-12T00:31:28.699Z"
   },
   {
    "duration": 145,
    "start_time": "2023-11-12T00:31:28.703Z"
   },
   {
    "duration": 369,
    "start_time": "2023-11-12T00:31:28.850Z"
   },
   {
    "duration": 421,
    "start_time": "2023-11-12T00:31:29.220Z"
   },
   {
    "duration": 384,
    "start_time": "2023-11-12T00:31:29.643Z"
   },
   {
    "duration": 479,
    "start_time": "2023-11-12T00:31:30.029Z"
   },
   {
    "duration": 45,
    "start_time": "2023-11-12T00:31:30.509Z"
   },
   {
    "duration": 493,
    "start_time": "2023-11-12T00:31:30.555Z"
   },
   {
    "duration": 134,
    "start_time": "2023-11-12T00:31:31.049Z"
   },
   {
    "duration": 273,
    "start_time": "2023-11-12T00:31:31.185Z"
   },
   {
    "duration": 15,
    "start_time": "2023-11-12T00:31:31.460Z"
   },
   {
    "duration": 22,
    "start_time": "2023-11-12T00:31:31.477Z"
   },
   {
    "duration": 334,
    "start_time": "2023-11-12T00:31:31.500Z"
   },
   {
    "duration": 409,
    "start_time": "2023-11-12T00:31:31.836Z"
   },
   {
    "duration": 25,
    "start_time": "2023-11-12T00:31:32.246Z"
   },
   {
    "duration": 7,
    "start_time": "2023-11-12T00:31:32.272Z"
   },
   {
    "duration": 51,
    "start_time": "2023-11-12T00:31:32.299Z"
   },
   {
    "duration": 410,
    "start_time": "2023-11-12T00:31:32.352Z"
   },
   {
    "duration": 35,
    "start_time": "2023-11-12T00:31:32.764Z"
   },
   {
    "duration": 27,
    "start_time": "2023-11-12T00:31:32.801Z"
   },
   {
    "duration": 4,
    "start_time": "2023-11-12T00:31:32.830Z"
   },
   {
    "duration": 42,
    "start_time": "2023-11-12T00:31:32.836Z"
   },
   {
    "duration": 30,
    "start_time": "2023-11-12T00:31:32.880Z"
   },
   {
    "duration": 31,
    "start_time": "2023-11-12T00:31:32.912Z"
   },
   {
    "duration": 67,
    "start_time": "2023-11-12T00:31:32.944Z"
   },
   {
    "duration": 18,
    "start_time": "2023-11-12T00:31:33.013Z"
   },
   {
    "duration": 15,
    "start_time": "2023-11-12T00:31:33.032Z"
   },
   {
    "duration": 530,
    "start_time": "2023-11-12T00:31:33.049Z"
   },
   {
    "duration": 424,
    "start_time": "2023-11-12T00:31:33.580Z"
   },
   {
    "duration": 79,
    "start_time": "2023-11-12T00:31:34.006Z"
   },
   {
    "duration": 26,
    "start_time": "2023-11-12T00:31:34.087Z"
   },
   {
    "duration": 1221,
    "start_time": "2023-11-12T00:32:50.802Z"
   },
   {
    "duration": 3,
    "start_time": "2023-11-12T00:35:27.509Z"
   },
   {
    "duration": 731,
    "start_time": "2023-11-12T00:35:27.513Z"
   },
   {
    "duration": 11,
    "start_time": "2023-11-12T00:35:28.246Z"
   },
   {
    "duration": 5,
    "start_time": "2023-11-12T00:35:28.259Z"
   },
   {
    "duration": 151,
    "start_time": "2023-11-12T00:35:28.266Z"
   },
   {
    "duration": 372,
    "start_time": "2023-11-12T00:35:28.418Z"
   },
   {
    "duration": 426,
    "start_time": "2023-11-12T00:35:28.791Z"
   },
   {
    "duration": 389,
    "start_time": "2023-11-12T00:35:29.219Z"
   },
   {
    "duration": 432,
    "start_time": "2023-11-12T00:35:29.610Z"
   },
   {
    "duration": 46,
    "start_time": "2023-11-12T00:35:30.044Z"
   },
   {
    "duration": 439,
    "start_time": "2023-11-12T00:35:30.099Z"
   },
   {
    "duration": 144,
    "start_time": "2023-11-12T00:35:30.540Z"
   },
   {
    "duration": 278,
    "start_time": "2023-11-12T00:35:30.686Z"
   },
   {
    "duration": 16,
    "start_time": "2023-11-12T00:35:30.967Z"
   },
   {
    "duration": 18,
    "start_time": "2023-11-12T00:35:30.984Z"
   },
   {
    "duration": 356,
    "start_time": "2023-11-12T00:35:31.003Z"
   },
   {
    "duration": 426,
    "start_time": "2023-11-12T00:35:31.360Z"
   },
   {
    "duration": 28,
    "start_time": "2023-11-12T00:35:31.788Z"
   },
   {
    "duration": 8,
    "start_time": "2023-11-12T00:35:31.817Z"
   },
   {
    "duration": 63,
    "start_time": "2023-11-12T00:35:31.826Z"
   },
   {
    "duration": 399,
    "start_time": "2023-11-12T00:35:31.890Z"
   },
   {
    "duration": 31,
    "start_time": "2023-11-12T00:35:32.290Z"
   },
   {
    "duration": 29,
    "start_time": "2023-11-12T00:35:32.322Z"
   },
   {
    "duration": 2,
    "start_time": "2023-11-12T00:35:32.352Z"
   },
   {
    "duration": 50,
    "start_time": "2023-11-12T00:35:32.355Z"
   },
   {
    "duration": 17,
    "start_time": "2023-11-12T00:35:32.407Z"
   },
   {
    "duration": 32,
    "start_time": "2023-11-12T00:35:32.425Z"
   },
   {
    "duration": 71,
    "start_time": "2023-11-12T00:35:32.458Z"
   },
   {
    "duration": 17,
    "start_time": "2023-11-12T00:35:32.530Z"
   },
   {
    "duration": 20,
    "start_time": "2023-11-12T00:35:32.548Z"
   },
   {
    "duration": 101,
    "start_time": "2023-11-12T00:35:32.569Z"
   },
   {
    "duration": 0,
    "start_time": "2023-11-12T00:35:32.671Z"
   },
   {
    "duration": 0,
    "start_time": "2023-11-12T00:35:32.672Z"
   },
   {
    "duration": 0,
    "start_time": "2023-11-12T00:35:32.673Z"
   },
   {
    "duration": 0,
    "start_time": "2023-11-12T00:35:32.674Z"
   },
   {
    "duration": 468,
    "start_time": "2023-11-12T00:35:44.440Z"
   },
   {
    "duration": 443,
    "start_time": "2023-11-12T00:35:44.910Z"
   },
   {
    "duration": 75,
    "start_time": "2023-11-12T00:35:45.354Z"
   },
   {
    "duration": 24,
    "start_time": "2023-11-12T00:35:45.431Z"
   },
   {
    "duration": 64,
    "start_time": "2023-11-12T00:36:18.736Z"
   },
   {
    "duration": 22,
    "start_time": "2023-11-12T00:36:19.395Z"
   },
   {
    "duration": 63,
    "start_time": "2023-11-12T00:36:44.029Z"
   },
   {
    "duration": 22,
    "start_time": "2023-11-12T00:36:52.398Z"
   },
   {
    "duration": 64,
    "start_time": "2023-11-12T00:36:59.736Z"
   },
   {
    "duration": 23,
    "start_time": "2023-11-12T00:37:00.404Z"
   },
   {
    "duration": 3,
    "start_time": "2023-11-12T00:37:04.704Z"
   },
   {
    "duration": 767,
    "start_time": "2023-11-12T00:37:04.709Z"
   },
   {
    "duration": 13,
    "start_time": "2023-11-12T00:37:05.477Z"
   },
   {
    "duration": 8,
    "start_time": "2023-11-12T00:37:05.491Z"
   },
   {
    "duration": 154,
    "start_time": "2023-11-12T00:37:05.501Z"
   },
   {
    "duration": 376,
    "start_time": "2023-11-12T00:37:05.656Z"
   },
   {
    "duration": 467,
    "start_time": "2023-11-12T00:37:06.034Z"
   },
   {
    "duration": 386,
    "start_time": "2023-11-12T00:37:06.503Z"
   },
   {
    "duration": 462,
    "start_time": "2023-11-12T00:37:06.891Z"
   },
   {
    "duration": 50,
    "start_time": "2023-11-12T00:37:07.354Z"
   },
   {
    "duration": 461,
    "start_time": "2023-11-12T00:37:07.405Z"
   },
   {
    "duration": 132,
    "start_time": "2023-11-12T00:37:07.867Z"
   },
   {
    "duration": 264,
    "start_time": "2023-11-12T00:37:08.001Z"
   },
   {
    "duration": 16,
    "start_time": "2023-11-12T00:37:08.267Z"
   },
   {
    "duration": 8,
    "start_time": "2023-11-12T00:37:08.299Z"
   },
   {
    "duration": 341,
    "start_time": "2023-11-12T00:37:08.308Z"
   },
   {
    "duration": 437,
    "start_time": "2023-11-12T00:37:08.650Z"
   },
   {
    "duration": 29,
    "start_time": "2023-11-12T00:37:09.088Z"
   },
   {
    "duration": 8,
    "start_time": "2023-11-12T00:37:09.119Z"
   },
   {
    "duration": 57,
    "start_time": "2023-11-12T00:37:09.128Z"
   },
   {
    "duration": 408,
    "start_time": "2023-11-12T00:37:09.186Z"
   },
   {
    "duration": 26,
    "start_time": "2023-11-12T00:37:09.595Z"
   },
   {
    "duration": 35,
    "start_time": "2023-11-12T00:37:09.622Z"
   },
   {
    "duration": 8,
    "start_time": "2023-11-12T00:37:09.659Z"
   },
   {
    "duration": 41,
    "start_time": "2023-11-12T00:37:09.668Z"
   },
   {
    "duration": 32,
    "start_time": "2023-11-12T00:37:09.710Z"
   },
   {
    "duration": 44,
    "start_time": "2023-11-12T00:37:09.744Z"
   },
   {
    "duration": 51,
    "start_time": "2023-11-12T00:37:09.790Z"
   },
   {
    "duration": 18,
    "start_time": "2023-11-12T00:37:09.843Z"
   },
   {
    "duration": 15,
    "start_time": "2023-11-12T00:37:09.863Z"
   },
   {
    "duration": 520,
    "start_time": "2023-11-12T00:37:09.879Z"
   },
   {
    "duration": 430,
    "start_time": "2023-11-12T00:37:10.400Z"
   },
   {
    "duration": 85,
    "start_time": "2023-11-12T00:37:10.832Z"
   },
   {
    "duration": 25,
    "start_time": "2023-11-12T00:37:10.918Z"
   },
   {
    "duration": 39,
    "start_time": "2023-11-12T00:37:42.233Z"
   },
   {
    "duration": 23,
    "start_time": "2023-11-12T00:37:42.929Z"
   },
   {
    "duration": 80,
    "start_time": "2023-11-12T00:38:09.316Z"
   },
   {
    "duration": 25,
    "start_time": "2023-11-12T00:38:09.720Z"
   },
   {
    "duration": 9,
    "start_time": "2023-11-12T00:38:25.384Z"
   },
   {
    "duration": 4,
    "start_time": "2023-11-12T00:38:36.720Z"
   },
   {
    "duration": 7,
    "start_time": "2023-11-12T00:38:55.934Z"
   },
   {
    "duration": 85,
    "start_time": "2023-11-12T00:38:58.603Z"
   },
   {
    "duration": 14,
    "start_time": "2023-11-12T00:38:58.975Z"
   },
   {
    "duration": 20,
    "start_time": "2023-11-12T00:39:02.479Z"
   },
   {
    "duration": 8,
    "start_time": "2023-11-12T00:39:10.656Z"
   },
   {
    "duration": 4,
    "start_time": "2023-11-12T00:39:48.044Z"
   },
   {
    "duration": 3,
    "start_time": "2023-11-12T00:40:06.858Z"
   },
   {
    "duration": 4,
    "start_time": "2023-11-12T00:40:53.675Z"
   },
   {
    "duration": 6,
    "start_time": "2023-11-12T00:41:39.704Z"
   },
   {
    "duration": 20,
    "start_time": "2023-11-12T00:41:44.983Z"
   },
   {
    "duration": 7,
    "start_time": "2023-11-12T00:41:55.922Z"
   },
   {
    "duration": 12,
    "start_time": "2023-11-12T00:42:12.279Z"
   },
   {
    "duration": 20,
    "start_time": "2023-11-12T00:42:12.633Z"
   },
   {
    "duration": 3,
    "start_time": "2023-11-12T00:48:55.490Z"
   },
   {
    "duration": 20,
    "start_time": "2023-11-12T00:49:52.254Z"
   },
   {
    "duration": 476,
    "start_time": "2023-11-12T00:53:24.808Z"
   },
   {
    "duration": 71,
    "start_time": "2023-11-12T00:56:17.779Z"
   },
   {
    "duration": 73,
    "start_time": "2023-11-12T00:56:51.283Z"
   },
   {
    "duration": 3,
    "start_time": "2023-11-12T00:56:59.829Z"
   },
   {
    "duration": 34,
    "start_time": "2023-11-12T00:58:26.244Z"
   },
   {
    "duration": 17,
    "start_time": "2023-11-12T00:59:05.943Z"
   },
   {
    "duration": 31,
    "start_time": "2023-11-12T01:00:42.684Z"
   },
   {
    "duration": 17,
    "start_time": "2023-11-12T01:00:49.612Z"
   },
   {
    "duration": 20,
    "start_time": "2023-11-12T01:05:31.213Z"
   },
   {
    "duration": 38,
    "start_time": "2023-11-12T01:05:48.944Z"
   },
   {
    "duration": 50,
    "start_time": "2023-11-12T01:11:01.913Z"
   },
   {
    "duration": 82,
    "start_time": "2023-11-12T01:11:40.256Z"
   },
   {
    "duration": 20,
    "start_time": "2023-11-12T01:11:44.762Z"
   },
   {
    "duration": 17,
    "start_time": "2023-11-12T01:11:50.026Z"
   },
   {
    "duration": 17,
    "start_time": "2023-11-12T01:12:00.339Z"
   },
   {
    "duration": 1460,
    "start_time": "2023-11-12T09:01:49.279Z"
   },
   {
    "duration": 2755,
    "start_time": "2023-11-12T09:01:50.741Z"
   },
   {
    "duration": 17,
    "start_time": "2023-11-12T09:01:53.498Z"
   },
   {
    "duration": 4,
    "start_time": "2023-11-12T09:01:53.516Z"
   },
   {
    "duration": 150,
    "start_time": "2023-11-12T09:01:53.522Z"
   },
   {
    "duration": 452,
    "start_time": "2023-11-12T09:01:53.673Z"
   },
   {
    "duration": 546,
    "start_time": "2023-11-12T09:01:54.127Z"
   },
   {
    "duration": 445,
    "start_time": "2023-11-12T09:01:54.675Z"
   },
   {
    "duration": 523,
    "start_time": "2023-11-12T09:01:55.121Z"
   },
   {
    "duration": 56,
    "start_time": "2023-11-12T09:01:55.646Z"
   },
   {
    "duration": 544,
    "start_time": "2023-11-12T09:01:55.704Z"
   },
   {
    "duration": 153,
    "start_time": "2023-11-12T09:01:56.250Z"
   },
   {
    "duration": 295,
    "start_time": "2023-11-12T09:01:56.405Z"
   },
   {
    "duration": 29,
    "start_time": "2023-11-12T09:01:56.703Z"
   },
   {
    "duration": 10,
    "start_time": "2023-11-12T09:01:56.733Z"
   },
   {
    "duration": 411,
    "start_time": "2023-11-12T09:01:56.744Z"
   },
   {
    "duration": 462,
    "start_time": "2023-11-12T09:01:57.157Z"
   },
   {
    "duration": 35,
    "start_time": "2023-11-12T09:01:57.621Z"
   },
   {
    "duration": 12,
    "start_time": "2023-11-12T09:01:57.657Z"
   },
   {
    "duration": 90,
    "start_time": "2023-11-12T09:01:57.671Z"
   },
   {
    "duration": 539,
    "start_time": "2023-11-12T09:01:57.763Z"
   },
   {
    "duration": 34,
    "start_time": "2023-11-12T09:01:58.304Z"
   },
   {
    "duration": 56,
    "start_time": "2023-11-12T09:01:58.340Z"
   },
   {
    "duration": 2,
    "start_time": "2023-11-12T09:01:58.398Z"
   },
   {
    "duration": 38,
    "start_time": "2023-11-12T09:01:58.402Z"
   },
   {
    "duration": 20,
    "start_time": "2023-11-12T09:01:58.441Z"
   },
   {
    "duration": 33,
    "start_time": "2023-11-12T09:01:58.463Z"
   },
   {
    "duration": 71,
    "start_time": "2023-11-12T09:01:58.498Z"
   },
   {
    "duration": 18,
    "start_time": "2023-11-12T09:01:58.571Z"
   },
   {
    "duration": 17,
    "start_time": "2023-11-12T09:01:58.590Z"
   },
   {
    "duration": 526,
    "start_time": "2023-11-12T09:01:58.609Z"
   },
   {
    "duration": 424,
    "start_time": "2023-11-12T09:01:59.137Z"
   },
   {
    "duration": 101,
    "start_time": "2023-11-12T09:01:59.563Z"
   },
   {
    "duration": 35,
    "start_time": "2023-11-12T09:01:59.665Z"
   },
   {
    "duration": 17,
    "start_time": "2023-11-12T09:01:59.701Z"
   },
   {
    "duration": 55,
    "start_time": "2023-11-12T09:01:59.731Z"
   },
   {
    "duration": 18,
    "start_time": "2023-11-12T09:01:59.787Z"
   },
   {
    "duration": 24,
    "start_time": "2023-11-12T09:01:59.807Z"
   },
   {
    "duration": 73,
    "start_time": "2023-11-12T09:55:44.579Z"
   },
   {
    "duration": 92,
    "start_time": "2023-11-12T09:56:07.211Z"
   },
   {
    "duration": 8,
    "start_time": "2023-11-12T12:12:38.088Z"
   },
   {
    "duration": 17,
    "start_time": "2023-11-12T12:13:54.899Z"
   },
   {
    "duration": 498,
    "start_time": "2023-11-12T12:15:46.531Z"
   },
   {
    "duration": 494,
    "start_time": "2023-11-12T12:16:03.205Z"
   },
   {
    "duration": 582,
    "start_time": "2023-11-12T12:16:11.966Z"
   },
   {
    "duration": 332,
    "start_time": "2023-11-12T12:17:16.369Z"
   },
   {
    "duration": 28,
    "start_time": "2023-11-12T12:24:16.424Z"
   },
   {
    "duration": 7,
    "start_time": "2023-11-12T12:26:30.140Z"
   },
   {
    "duration": 28,
    "start_time": "2023-11-12T12:28:00.149Z"
   },
   {
    "duration": 41,
    "start_time": "2023-11-12T12:30:28.382Z"
   },
   {
    "duration": 40,
    "start_time": "2023-11-12T12:31:02.681Z"
   },
   {
    "duration": 67,
    "start_time": "2023-11-12T12:31:23.772Z"
   },
   {
    "duration": 14,
    "start_time": "2023-11-12T12:31:57.280Z"
   },
   {
    "duration": 102,
    "start_time": "2023-11-12T12:32:09.339Z"
   },
   {
    "duration": 21,
    "start_time": "2023-11-12T12:32:27.406Z"
   },
   {
    "duration": 127,
    "start_time": "2023-11-12T12:33:11.506Z"
   },
   {
    "duration": 7,
    "start_time": "2023-11-12T12:33:55.943Z"
   },
   {
    "duration": 20,
    "start_time": "2023-11-12T12:37:45.971Z"
   },
   {
    "duration": 22,
    "start_time": "2023-11-12T12:37:53.920Z"
   },
   {
    "duration": 85,
    "start_time": "2023-11-12T12:40:12.807Z"
   },
   {
    "duration": 30,
    "start_time": "2023-11-12T12:43:47.657Z"
   },
   {
    "duration": 41,
    "start_time": "2023-11-12T14:07:16.799Z"
   },
   {
    "duration": 12,
    "start_time": "2023-11-12T14:36:34.201Z"
   },
   {
    "duration": 11,
    "start_time": "2023-11-12T14:36:44.648Z"
   },
   {
    "duration": 1489,
    "start_time": "2023-11-12T14:38:59.328Z"
   },
   {
    "duration": 1809,
    "start_time": "2023-11-12T14:40:11.808Z"
   },
   {
    "duration": 44,
    "start_time": "2023-11-12T14:41:15.540Z"
   },
   {
    "duration": 44,
    "start_time": "2023-11-12T14:43:04.757Z"
   },
   {
    "duration": 94,
    "start_time": "2023-11-12T14:45:10.045Z"
   },
   {
    "duration": 66,
    "start_time": "2023-11-12T14:45:13.936Z"
   },
   {
    "duration": 79,
    "start_time": "2023-11-12T14:45:24.330Z"
   },
   {
    "duration": 50,
    "start_time": "2023-11-12T14:45:49.891Z"
   },
   {
    "duration": 1079,
    "start_time": "2023-11-12T14:46:17.262Z"
   },
   {
    "duration": 78,
    "start_time": "2023-11-12T14:48:29.468Z"
   },
   {
    "duration": 2,
    "start_time": "2023-11-12T14:50:04.396Z"
   },
   {
    "duration": 1159,
    "start_time": "2023-11-12T14:50:10.399Z"
   },
   {
    "duration": 69,
    "start_time": "2023-11-12T14:53:46.803Z"
   },
   {
    "duration": 8,
    "start_time": "2023-11-12T14:54:32.990Z"
   },
   {
    "duration": 1365,
    "start_time": "2023-11-12T14:56:15.277Z"
   },
   {
    "duration": 2386,
    "start_time": "2023-11-12T14:56:53.180Z"
   },
   {
    "duration": 5,
    "start_time": "2023-11-12T14:58:23.496Z"
   },
   {
    "duration": 4,
    "start_time": "2023-11-12T14:58:44.702Z"
   },
   {
    "duration": 1431,
    "start_time": "2023-11-12T14:58:44.717Z"
   },
   {
    "duration": 12,
    "start_time": "2023-11-12T14:58:46.150Z"
   },
   {
    "duration": 17,
    "start_time": "2023-11-12T14:58:46.164Z"
   },
   {
    "duration": 144,
    "start_time": "2023-11-12T14:58:46.183Z"
   },
   {
    "duration": 392,
    "start_time": "2023-11-12T14:58:46.330Z"
   },
   {
    "duration": 463,
    "start_time": "2023-11-12T14:58:46.731Z"
   },
   {
    "duration": 419,
    "start_time": "2023-11-12T14:58:47.195Z"
   },
   {
    "duration": 473,
    "start_time": "2023-11-12T14:58:47.615Z"
   },
   {
    "duration": 53,
    "start_time": "2023-11-12T14:58:48.089Z"
   },
   {
    "duration": 478,
    "start_time": "2023-11-12T14:58:48.144Z"
   },
   {
    "duration": 130,
    "start_time": "2023-11-12T14:58:48.624Z"
   },
   {
    "duration": 268,
    "start_time": "2023-11-12T14:58:48.755Z"
   },
   {
    "duration": 21,
    "start_time": "2023-11-12T14:58:49.024Z"
   },
   {
    "duration": 10,
    "start_time": "2023-11-12T14:58:49.048Z"
   },
   {
    "duration": 356,
    "start_time": "2023-11-12T14:58:49.060Z"
   },
   {
    "duration": 418,
    "start_time": "2023-11-12T14:58:49.418Z"
   },
   {
    "duration": 25,
    "start_time": "2023-11-12T14:58:49.837Z"
   },
   {
    "duration": 8,
    "start_time": "2023-11-12T14:58:49.864Z"
   },
   {
    "duration": 78,
    "start_time": "2023-11-12T14:58:49.874Z"
   },
   {
    "duration": 388,
    "start_time": "2023-11-12T14:58:49.953Z"
   },
   {
    "duration": 27,
    "start_time": "2023-11-12T14:58:50.343Z"
   },
   {
    "duration": 38,
    "start_time": "2023-11-12T14:58:50.371Z"
   },
   {
    "duration": 12,
    "start_time": "2023-11-12T14:58:50.410Z"
   },
   {
    "duration": 46,
    "start_time": "2023-11-12T14:58:50.424Z"
   },
   {
    "duration": 30,
    "start_time": "2023-11-12T14:58:50.472Z"
   },
   {
    "duration": 48,
    "start_time": "2023-11-12T14:58:50.504Z"
   },
   {
    "duration": 51,
    "start_time": "2023-11-12T14:58:50.553Z"
   },
   {
    "duration": 33,
    "start_time": "2023-11-12T14:58:50.606Z"
   },
   {
    "duration": 27,
    "start_time": "2023-11-12T14:58:50.640Z"
   },
   {
    "duration": 661,
    "start_time": "2023-11-12T14:58:50.669Z"
   },
   {
    "duration": 413,
    "start_time": "2023-11-12T14:58:51.332Z"
   },
   {
    "duration": 85,
    "start_time": "2023-11-12T14:58:51.746Z"
   },
   {
    "duration": 33,
    "start_time": "2023-11-12T14:58:51.833Z"
   },
   {
    "duration": 19,
    "start_time": "2023-11-12T14:58:51.867Z"
   },
   {
    "duration": 64,
    "start_time": "2023-11-12T14:58:51.888Z"
   },
   {
    "duration": 16,
    "start_time": "2023-11-12T14:58:51.954Z"
   },
   {
    "duration": 20,
    "start_time": "2023-11-12T14:58:51.971Z"
   },
   {
    "duration": 28,
    "start_time": "2023-11-12T14:58:51.992Z"
   },
   {
    "duration": 476,
    "start_time": "2023-11-12T14:58:52.031Z"
   },
   {
    "duration": 56,
    "start_time": "2023-11-12T14:58:52.509Z"
   },
   {
    "duration": 11,
    "start_time": "2023-11-12T14:58:52.568Z"
   },
   {
    "duration": 0,
    "start_time": "2023-11-12T14:58:52.580Z"
   },
   {
    "duration": 0,
    "start_time": "2023-11-12T14:58:52.582Z"
   },
   {
    "duration": 0,
    "start_time": "2023-11-12T14:58:52.583Z"
   },
   {
    "duration": 21,
    "start_time": "2023-11-12T14:59:19.102Z"
   },
   {
    "duration": 10,
    "start_time": "2023-11-12T15:00:11.561Z"
   },
   {
    "duration": 11,
    "start_time": "2023-11-12T15:00:22.513Z"
   },
   {
    "duration": 95,
    "start_time": "2023-11-12T15:01:02.931Z"
   },
   {
    "duration": 1309,
    "start_time": "2023-11-12T15:01:48.192Z"
   },
   {
    "duration": 2570,
    "start_time": "2023-11-12T15:03:31.515Z"
   },
   {
    "duration": 40,
    "start_time": "2023-11-12T15:05:46.069Z"
   },
   {
    "duration": 4,
    "start_time": "2023-11-12T15:06:05.525Z"
   },
   {
    "duration": 5,
    "start_time": "2023-11-12T15:06:14.741Z"
   },
   {
    "duration": 5,
    "start_time": "2023-11-12T15:06:26.424Z"
   },
   {
    "duration": 6,
    "start_time": "2023-11-12T15:06:37.268Z"
   },
   {
    "duration": 480,
    "start_time": "2023-11-12T15:06:53.756Z"
   },
   {
    "duration": 11,
    "start_time": "2023-11-12T15:09:22.043Z"
   },
   {
    "duration": 27,
    "start_time": "2023-11-12T15:11:02.301Z"
   },
   {
    "duration": 84,
    "start_time": "2023-11-12T15:11:24.708Z"
   },
   {
    "duration": 107,
    "start_time": "2023-11-12T15:11:36.894Z"
   },
   {
    "duration": 10,
    "start_time": "2023-11-12T15:13:28.283Z"
   },
   {
    "duration": 20,
    "start_time": "2023-11-12T15:14:02.804Z"
   },
   {
    "duration": 19,
    "start_time": "2023-11-12T15:14:42.343Z"
   },
   {
    "duration": 43,
    "start_time": "2023-11-12T15:23:12.631Z"
   },
   {
    "duration": 724,
    "start_time": "2023-11-12T15:23:22.231Z"
   },
   {
    "duration": 483,
    "start_time": "2023-11-12T15:23:56.127Z"
   },
   {
    "duration": 443,
    "start_time": "2023-11-12T15:24:18.408Z"
   },
   {
    "duration": 482,
    "start_time": "2023-11-12T15:25:53.908Z"
   },
   {
    "duration": 760,
    "start_time": "2023-11-12T15:26:01.606Z"
   },
   {
    "duration": 10,
    "start_time": "2023-11-12T15:26:21.229Z"
   },
   {
    "duration": 21,
    "start_time": "2023-11-12T15:26:38.166Z"
   },
   {
    "duration": 3,
    "start_time": "2023-11-12T15:27:16.117Z"
   },
   {
    "duration": 3,
    "start_time": "2023-11-12T15:29:54.370Z"
   },
   {
    "duration": 775,
    "start_time": "2023-11-12T15:29:54.376Z"
   },
   {
    "duration": 13,
    "start_time": "2023-11-12T15:29:55.152Z"
   },
   {
    "duration": 5,
    "start_time": "2023-11-12T15:29:55.166Z"
   },
   {
    "duration": 158,
    "start_time": "2023-11-12T15:29:55.173Z"
   },
   {
    "duration": 409,
    "start_time": "2023-11-12T15:29:55.333Z"
   },
   {
    "duration": 471,
    "start_time": "2023-11-12T15:29:55.743Z"
   },
   {
    "duration": 392,
    "start_time": "2023-11-12T15:29:56.216Z"
   },
   {
    "duration": 468,
    "start_time": "2023-11-12T15:29:56.610Z"
   },
   {
    "duration": 52,
    "start_time": "2023-11-12T15:29:57.080Z"
   },
   {
    "duration": 517,
    "start_time": "2023-11-12T15:29:57.134Z"
   },
   {
    "duration": 179,
    "start_time": "2023-11-12T15:29:57.653Z"
   },
   {
    "duration": 295,
    "start_time": "2023-11-12T15:29:57.834Z"
   },
   {
    "duration": 17,
    "start_time": "2023-11-12T15:29:58.132Z"
   },
   {
    "duration": 9,
    "start_time": "2023-11-12T15:29:58.151Z"
   },
   {
    "duration": 408,
    "start_time": "2023-11-12T15:29:58.161Z"
   },
   {
    "duration": 434,
    "start_time": "2023-11-12T15:29:58.571Z"
   },
   {
    "duration": 37,
    "start_time": "2023-11-12T15:29:59.006Z"
   },
   {
    "duration": 9,
    "start_time": "2023-11-12T15:29:59.044Z"
   },
   {
    "duration": 81,
    "start_time": "2023-11-12T15:29:59.055Z"
   },
   {
    "duration": 449,
    "start_time": "2023-11-12T15:29:59.137Z"
   },
   {
    "duration": 29,
    "start_time": "2023-11-12T15:29:59.588Z"
   },
   {
    "duration": 38,
    "start_time": "2023-11-12T15:29:59.619Z"
   },
   {
    "duration": 3,
    "start_time": "2023-11-12T15:29:59.658Z"
   },
   {
    "duration": 39,
    "start_time": "2023-11-12T15:29:59.663Z"
   },
   {
    "duration": 40,
    "start_time": "2023-11-12T15:29:59.704Z"
   },
   {
    "duration": 34,
    "start_time": "2023-11-12T15:29:59.745Z"
   },
   {
    "duration": 67,
    "start_time": "2023-11-12T15:29:59.781Z"
   },
   {
    "duration": 18,
    "start_time": "2023-11-12T15:29:59.850Z"
   },
   {
    "duration": 16,
    "start_time": "2023-11-12T15:29:59.870Z"
   },
   {
    "duration": 575,
    "start_time": "2023-11-12T15:29:59.888Z"
   },
   {
    "duration": 493,
    "start_time": "2023-11-12T15:30:00.464Z"
   },
   {
    "duration": 105,
    "start_time": "2023-11-12T15:30:00.959Z"
   },
   {
    "duration": 40,
    "start_time": "2023-11-12T15:30:01.066Z"
   },
   {
    "duration": 300,
    "start_time": "2023-11-12T15:30:01.107Z"
   },
   {
    "duration": 131,
    "start_time": "2023-11-12T15:30:01.408Z"
   },
   {
    "duration": 27,
    "start_time": "2023-11-12T15:30:01.541Z"
   },
   {
    "duration": 588,
    "start_time": "2023-11-12T15:30:01.570Z"
   },
   {
    "duration": 46,
    "start_time": "2023-11-12T15:30:02.160Z"
   },
   {
    "duration": 80,
    "start_time": "2023-11-12T15:30:02.208Z"
   },
   {
    "duration": 9,
    "start_time": "2023-11-12T15:30:02.292Z"
   },
   {
    "duration": 806,
    "start_time": "2023-11-12T15:30:56.575Z"
   },
   {
    "duration": 543,
    "start_time": "2023-11-12T15:31:26.092Z"
   },
   {
    "duration": 3,
    "start_time": "2023-11-12T15:31:30.496Z"
   },
   {
    "duration": 806,
    "start_time": "2023-11-12T15:31:30.501Z"
   },
   {
    "duration": 12,
    "start_time": "2023-11-12T15:31:31.309Z"
   },
   {
    "duration": 43,
    "start_time": "2023-11-12T15:31:31.323Z"
   },
   {
    "duration": 156,
    "start_time": "2023-11-12T15:31:31.368Z"
   },
   {
    "duration": 414,
    "start_time": "2023-11-12T15:31:31.530Z"
   },
   {
    "duration": 454,
    "start_time": "2023-11-12T15:31:31.946Z"
   },
   {
    "duration": 387,
    "start_time": "2023-11-12T15:31:32.402Z"
   },
   {
    "duration": 445,
    "start_time": "2023-11-12T15:31:32.791Z"
   },
   {
    "duration": 44,
    "start_time": "2023-11-12T15:31:33.238Z"
   },
   {
    "duration": 470,
    "start_time": "2023-11-12T15:31:33.284Z"
   },
   {
    "duration": 140,
    "start_time": "2023-11-12T15:31:33.756Z"
   },
   {
    "duration": 276,
    "start_time": "2023-11-12T15:31:33.898Z"
   },
   {
    "duration": 16,
    "start_time": "2023-11-12T15:31:34.178Z"
   },
   {
    "duration": 10,
    "start_time": "2023-11-12T15:31:34.196Z"
   },
   {
    "duration": 355,
    "start_time": "2023-11-12T15:31:34.207Z"
   },
   {
    "duration": 406,
    "start_time": "2023-11-12T15:31:34.564Z"
   },
   {
    "duration": 33,
    "start_time": "2023-11-12T15:31:34.972Z"
   },
   {
    "duration": 26,
    "start_time": "2023-11-12T15:31:35.007Z"
   },
   {
    "duration": 51,
    "start_time": "2023-11-12T15:31:35.035Z"
   },
   {
    "duration": 404,
    "start_time": "2023-11-12T15:31:35.088Z"
   },
   {
    "duration": 26,
    "start_time": "2023-11-12T15:31:35.494Z"
   },
   {
    "duration": 27,
    "start_time": "2023-11-12T15:31:35.531Z"
   },
   {
    "duration": 11,
    "start_time": "2023-11-12T15:31:35.560Z"
   },
   {
    "duration": 47,
    "start_time": "2023-11-12T15:31:35.572Z"
   },
   {
    "duration": 25,
    "start_time": "2023-11-12T15:31:35.621Z"
   },
   {
    "duration": 33,
    "start_time": "2023-11-12T15:31:35.648Z"
   },
   {
    "duration": 58,
    "start_time": "2023-11-12T15:31:35.683Z"
   },
   {
    "duration": 16,
    "start_time": "2023-11-12T15:31:35.743Z"
   },
   {
    "duration": 17,
    "start_time": "2023-11-12T15:31:35.761Z"
   },
   {
    "duration": 516,
    "start_time": "2023-11-12T15:31:35.779Z"
   },
   {
    "duration": 434,
    "start_time": "2023-11-12T15:31:36.297Z"
   },
   {
    "duration": 88,
    "start_time": "2023-11-12T15:31:36.733Z"
   },
   {
    "duration": 33,
    "start_time": "2023-11-12T15:31:36.830Z"
   },
   {
    "duration": 42,
    "start_time": "2023-11-12T15:31:36.865Z"
   },
   {
    "duration": 53,
    "start_time": "2023-11-12T15:31:36.908Z"
   },
   {
    "duration": 17,
    "start_time": "2023-11-12T15:31:36.963Z"
   },
   {
    "duration": 795,
    "start_time": "2023-11-12T15:31:36.981Z"
   },
   {
    "duration": 54,
    "start_time": "2023-11-12T15:31:37.778Z"
   },
   {
    "duration": 22,
    "start_time": "2023-11-12T15:31:37.833Z"
   },
   {
    "duration": 4,
    "start_time": "2023-11-12T15:31:37.858Z"
   },
   {
    "duration": 6,
    "start_time": "2023-11-12T15:35:34.404Z"
   },
   {
    "duration": 4,
    "start_time": "2023-11-12T15:36:06.139Z"
   },
   {
    "duration": 1658,
    "start_time": "2023-11-13T05:07:04.909Z"
   },
   {
    "duration": 3081,
    "start_time": "2023-11-13T05:07:06.569Z"
   },
   {
    "duration": 18,
    "start_time": "2023-11-13T05:07:09.652Z"
   },
   {
    "duration": 10,
    "start_time": "2023-11-13T05:07:09.672Z"
   },
   {
    "duration": 182,
    "start_time": "2023-11-13T05:07:09.683Z"
   },
   {
    "duration": 573,
    "start_time": "2023-11-13T05:07:09.866Z"
   },
   {
    "duration": 602,
    "start_time": "2023-11-13T05:07:10.441Z"
   },
   {
    "duration": 488,
    "start_time": "2023-11-13T05:07:11.044Z"
   },
   {
    "duration": 553,
    "start_time": "2023-11-13T05:07:11.534Z"
   },
   {
    "duration": 61,
    "start_time": "2023-11-13T05:07:12.089Z"
   },
   {
    "duration": 539,
    "start_time": "2023-11-13T05:07:12.152Z"
   },
   {
    "duration": 156,
    "start_time": "2023-11-13T05:07:12.692Z"
   },
   {
    "duration": 298,
    "start_time": "2023-11-13T05:07:12.850Z"
   },
   {
    "duration": 15,
    "start_time": "2023-11-13T05:07:13.150Z"
   },
   {
    "duration": 12,
    "start_time": "2023-11-13T05:07:13.166Z"
   },
   {
    "duration": 407,
    "start_time": "2023-11-13T05:07:13.179Z"
   },
   {
    "duration": 474,
    "start_time": "2023-11-13T05:07:13.588Z"
   },
   {
    "duration": 26,
    "start_time": "2023-11-13T05:07:14.064Z"
   },
   {
    "duration": 16,
    "start_time": "2023-11-13T05:07:14.098Z"
   },
   {
    "duration": 76,
    "start_time": "2023-11-13T05:07:14.116Z"
   },
   {
    "duration": 531,
    "start_time": "2023-11-13T05:07:14.194Z"
   },
   {
    "duration": 26,
    "start_time": "2023-11-13T05:07:14.726Z"
   },
   {
    "duration": 45,
    "start_time": "2023-11-13T05:07:14.753Z"
   },
   {
    "duration": 21,
    "start_time": "2023-11-13T05:07:14.801Z"
   },
   {
    "duration": 46,
    "start_time": "2023-11-13T05:07:14.823Z"
   },
   {
    "duration": 45,
    "start_time": "2023-11-13T05:07:14.871Z"
   },
   {
    "duration": 31,
    "start_time": "2023-11-13T05:07:14.918Z"
   },
   {
    "duration": 78,
    "start_time": "2023-11-13T05:07:14.952Z"
   },
   {
    "duration": 18,
    "start_time": "2023-11-13T05:07:15.032Z"
   },
   {
    "duration": 39,
    "start_time": "2023-11-13T05:07:15.051Z"
   },
   {
    "duration": 564,
    "start_time": "2023-11-13T05:07:15.091Z"
   },
   {
    "duration": 461,
    "start_time": "2023-11-13T05:07:15.657Z"
   },
   {
    "duration": 130,
    "start_time": "2023-11-13T05:07:16.120Z"
   },
   {
    "duration": 33,
    "start_time": "2023-11-13T05:07:16.251Z"
   },
   {
    "duration": 55,
    "start_time": "2023-11-13T05:07:16.286Z"
   },
   {
    "duration": 64,
    "start_time": "2023-11-13T05:07:16.342Z"
   },
   {
    "duration": 20,
    "start_time": "2023-11-13T05:07:16.408Z"
   },
   {
    "duration": 561,
    "start_time": "2023-11-13T05:07:16.429Z"
   },
   {
    "duration": 53,
    "start_time": "2023-11-13T05:07:16.993Z"
   },
   {
    "duration": 22,
    "start_time": "2023-11-13T05:07:17.048Z"
   },
   {
    "duration": 4,
    "start_time": "2023-11-13T05:07:17.071Z"
   },
   {
    "duration": 38,
    "start_time": "2023-11-13T07:22:04.615Z"
   },
   {
    "duration": 296,
    "start_time": "2023-11-13T07:22:38.541Z"
   },
   {
    "duration": 22,
    "start_time": "2023-11-13T07:23:05.401Z"
   },
   {
    "duration": 47,
    "start_time": "2023-11-13T07:24:29.488Z"
   },
   {
    "duration": 25,
    "start_time": "2023-11-13T07:25:32.396Z"
   },
   {
    "duration": 21,
    "start_time": "2023-11-13T07:26:08.483Z"
   },
   {
    "duration": 27,
    "start_time": "2023-11-13T07:26:17.704Z"
   },
   {
    "duration": 32,
    "start_time": "2023-11-13T07:27:14.516Z"
   },
   {
    "duration": 26,
    "start_time": "2023-11-13T07:28:32.604Z"
   },
   {
    "duration": 11,
    "start_time": "2023-11-13T07:32:54.435Z"
   },
   {
    "duration": 12,
    "start_time": "2023-11-13T07:33:01.717Z"
   },
   {
    "duration": 23,
    "start_time": "2023-11-13T07:33:19.705Z"
   },
   {
    "duration": 42,
    "start_time": "2023-11-13T07:54:08.199Z"
   },
   {
    "duration": 25,
    "start_time": "2023-11-13T07:55:02.477Z"
   },
   {
    "duration": 25,
    "start_time": "2023-11-13T07:55:23.925Z"
   },
   {
    "duration": 27,
    "start_time": "2023-11-13T07:55:41.964Z"
   },
   {
    "duration": 48,
    "start_time": "2023-11-13T07:55:58.255Z"
   },
   {
    "duration": 39,
    "start_time": "2023-11-13T07:56:08.617Z"
   },
   {
    "duration": 25,
    "start_time": "2023-11-13T07:56:30.033Z"
   },
   {
    "duration": 23,
    "start_time": "2023-11-13T07:56:34.670Z"
   },
   {
    "duration": 22,
    "start_time": "2023-11-13T07:56:40.336Z"
   },
   {
    "duration": 36,
    "start_time": "2023-11-13T07:57:33.098Z"
   },
   {
    "duration": 23,
    "start_time": "2023-11-13T08:01:50.269Z"
   },
   {
    "duration": 43,
    "start_time": "2023-11-13T08:02:03.085Z"
   },
   {
    "duration": 38,
    "start_time": "2023-11-13T08:02:09.236Z"
   },
   {
    "duration": 66,
    "start_time": "2023-11-13T08:05:43.979Z"
   },
   {
    "duration": 36,
    "start_time": "2023-11-13T08:05:54.168Z"
   },
   {
    "duration": 22,
    "start_time": "2023-11-13T08:10:32.436Z"
   },
   {
    "duration": 30,
    "start_time": "2023-11-13T08:12:20.443Z"
   },
   {
    "duration": 55,
    "start_time": "2023-11-13T08:12:31.282Z"
   },
   {
    "duration": 44,
    "start_time": "2023-11-13T08:12:41.297Z"
   },
   {
    "duration": 4,
    "start_time": "2023-11-13T08:13:55.192Z"
   },
   {
    "duration": 1096,
    "start_time": "2023-11-13T08:13:55.204Z"
   },
   {
    "duration": 17,
    "start_time": "2023-11-13T08:13:56.302Z"
   },
   {
    "duration": 16,
    "start_time": "2023-11-13T08:13:56.321Z"
   },
   {
    "duration": 195,
    "start_time": "2023-11-13T08:13:56.339Z"
   },
   {
    "duration": 430,
    "start_time": "2023-11-13T08:13:56.536Z"
   },
   {
    "duration": 508,
    "start_time": "2023-11-13T08:13:56.968Z"
   },
   {
    "duration": 438,
    "start_time": "2023-11-13T08:13:57.478Z"
   },
   {
    "duration": 499,
    "start_time": "2023-11-13T08:13:57.917Z"
   },
   {
    "duration": 44,
    "start_time": "2023-11-13T08:13:58.418Z"
   },
   {
    "duration": 510,
    "start_time": "2023-11-13T08:13:58.464Z"
   },
   {
    "duration": 145,
    "start_time": "2023-11-13T08:13:58.976Z"
   },
   {
    "duration": 283,
    "start_time": "2023-11-13T08:13:59.123Z"
   },
   {
    "duration": 16,
    "start_time": "2023-11-13T08:13:59.408Z"
   },
   {
    "duration": 18,
    "start_time": "2023-11-13T08:13:59.428Z"
   },
   {
    "duration": 409,
    "start_time": "2023-11-13T08:13:59.447Z"
   },
   {
    "duration": 577,
    "start_time": "2023-11-13T08:13:59.858Z"
   },
   {
    "duration": 27,
    "start_time": "2023-11-13T08:14:00.437Z"
   },
   {
    "duration": 23,
    "start_time": "2023-11-13T08:14:00.465Z"
   },
   {
    "duration": 95,
    "start_time": "2023-11-13T08:14:00.490Z"
   },
   {
    "duration": 462,
    "start_time": "2023-11-13T08:14:00.587Z"
   },
   {
    "duration": 28,
    "start_time": "2023-11-13T08:14:01.051Z"
   },
   {
    "duration": 58,
    "start_time": "2023-11-13T08:14:01.081Z"
   },
   {
    "duration": 35,
    "start_time": "2023-11-13T08:14:01.140Z"
   },
   {
    "duration": 81,
    "start_time": "2023-11-13T08:14:01.177Z"
   },
   {
    "duration": 63,
    "start_time": "2023-11-13T08:14:01.260Z"
   },
   {
    "duration": 86,
    "start_time": "2023-11-13T08:14:01.325Z"
   },
   {
    "duration": 81,
    "start_time": "2023-11-13T08:14:01.413Z"
   },
   {
    "duration": 35,
    "start_time": "2023-11-13T08:14:01.496Z"
   },
   {
    "duration": 75,
    "start_time": "2023-11-13T08:14:01.532Z"
   },
   {
    "duration": 561,
    "start_time": "2023-11-13T08:14:01.609Z"
   },
   {
    "duration": 466,
    "start_time": "2023-11-13T08:14:02.172Z"
   },
   {
    "duration": 104,
    "start_time": "2023-11-13T08:14:02.639Z"
   },
   {
    "duration": 56,
    "start_time": "2023-11-13T08:14:02.745Z"
   },
   {
    "duration": 25,
    "start_time": "2023-11-13T08:14:02.803Z"
   },
   {
    "duration": 106,
    "start_time": "2023-11-13T08:14:02.831Z"
   },
   {
    "duration": 26,
    "start_time": "2023-11-13T08:14:02.939Z"
   },
   {
    "duration": 548,
    "start_time": "2023-11-13T08:14:02.967Z"
   },
   {
    "duration": 49,
    "start_time": "2023-11-13T08:14:03.517Z"
   },
   {
    "duration": 38,
    "start_time": "2023-11-13T08:14:03.567Z"
   },
   {
    "duration": 23,
    "start_time": "2023-11-13T08:14:03.606Z"
   },
   {
    "duration": 40,
    "start_time": "2023-11-13T08:14:03.632Z"
   },
   {
    "duration": 31,
    "start_time": "2023-11-13T08:14:13.703Z"
   },
   {
    "duration": 4,
    "start_time": "2023-11-13T08:24:59.251Z"
   },
   {
    "duration": 957,
    "start_time": "2023-11-13T08:24:59.259Z"
   },
   {
    "duration": 15,
    "start_time": "2023-11-13T08:25:00.219Z"
   },
   {
    "duration": 29,
    "start_time": "2023-11-13T08:25:00.236Z"
   },
   {
    "duration": 204,
    "start_time": "2023-11-13T08:25:00.267Z"
   },
   {
    "duration": 489,
    "start_time": "2023-11-13T08:25:00.473Z"
   },
   {
    "duration": 556,
    "start_time": "2023-11-13T08:25:00.964Z"
   },
   {
    "duration": 467,
    "start_time": "2023-11-13T08:25:01.522Z"
   },
   {
    "duration": 626,
    "start_time": "2023-11-13T08:25:01.991Z"
   },
   {
    "duration": 46,
    "start_time": "2023-11-13T08:25:02.619Z"
   },
   {
    "duration": 505,
    "start_time": "2023-11-13T08:25:02.667Z"
   },
   {
    "duration": 160,
    "start_time": "2023-11-13T08:25:03.174Z"
   },
   {
    "duration": 329,
    "start_time": "2023-11-13T08:25:03.336Z"
   },
   {
    "duration": 17,
    "start_time": "2023-11-13T08:25:03.667Z"
   },
   {
    "duration": 28,
    "start_time": "2023-11-13T08:25:03.687Z"
   },
   {
    "duration": 404,
    "start_time": "2023-11-13T08:25:03.717Z"
   },
   {
    "duration": 500,
    "start_time": "2023-11-13T08:25:04.123Z"
   },
   {
    "duration": 28,
    "start_time": "2023-11-13T08:25:04.624Z"
   },
   {
    "duration": 9,
    "start_time": "2023-11-13T08:25:04.654Z"
   },
   {
    "duration": 84,
    "start_time": "2023-11-13T08:25:04.665Z"
   },
   {
    "duration": 492,
    "start_time": "2023-11-13T08:25:04.750Z"
   },
   {
    "duration": 29,
    "start_time": "2023-11-13T08:25:05.243Z"
   },
   {
    "duration": 57,
    "start_time": "2023-11-13T08:25:05.273Z"
   },
   {
    "duration": 2,
    "start_time": "2023-11-13T08:25:05.331Z"
   },
   {
    "duration": 48,
    "start_time": "2023-11-13T08:25:05.335Z"
   },
   {
    "duration": 40,
    "start_time": "2023-11-13T08:25:05.385Z"
   },
   {
    "duration": 35,
    "start_time": "2023-11-13T08:25:05.427Z"
   },
   {
    "duration": 81,
    "start_time": "2023-11-13T08:25:05.464Z"
   },
   {
    "duration": 18,
    "start_time": "2023-11-13T08:25:05.547Z"
   },
   {
    "duration": 45,
    "start_time": "2023-11-13T08:25:05.567Z"
   },
   {
    "duration": 550,
    "start_time": "2023-11-13T08:25:05.613Z"
   },
   {
    "duration": 492,
    "start_time": "2023-11-13T08:25:06.165Z"
   },
   {
    "duration": 94,
    "start_time": "2023-11-13T08:25:06.659Z"
   },
   {
    "duration": 37,
    "start_time": "2023-11-13T08:25:06.755Z"
   },
   {
    "duration": 27,
    "start_time": "2023-11-13T08:25:06.799Z"
   },
   {
    "duration": 56,
    "start_time": "2023-11-13T08:25:06.827Z"
   },
   {
    "duration": 22,
    "start_time": "2023-11-13T08:25:06.905Z"
   },
   {
    "duration": 721,
    "start_time": "2023-11-13T08:25:06.929Z"
   },
   {
    "duration": 63,
    "start_time": "2023-11-13T08:25:07.652Z"
   },
   {
    "duration": 25,
    "start_time": "2023-11-13T08:25:07.725Z"
   },
   {
    "duration": 25,
    "start_time": "2023-11-13T08:25:07.752Z"
   },
   {
    "duration": 27,
    "start_time": "2023-11-13T08:25:07.780Z"
   },
   {
    "duration": 41,
    "start_time": "2023-11-13T08:26:46.100Z"
   },
   {
    "duration": 33,
    "start_time": "2023-11-13T08:48:23.192Z"
   },
   {
    "duration": 16,
    "start_time": "2023-11-13T08:48:25.813Z"
   },
   {
    "duration": 26,
    "start_time": "2023-11-13T08:48:27.831Z"
   },
   {
    "duration": 46,
    "start_time": "2023-11-13T08:49:56.825Z"
   },
   {
    "duration": 8,
    "start_time": "2023-11-13T08:50:09.414Z"
   },
   {
    "duration": 23,
    "start_time": "2023-11-13T08:51:45.369Z"
   },
   {
    "duration": 184,
    "start_time": "2023-11-13T08:52:34.067Z"
   },
   {
    "duration": 225,
    "start_time": "2023-11-13T08:57:37.518Z"
   },
   {
    "duration": 29,
    "start_time": "2023-11-13T09:05:18.133Z"
   },
   {
    "duration": 87,
    "start_time": "2023-11-13T09:05:52.552Z"
   },
   {
    "duration": 84,
    "start_time": "2023-11-13T09:06:38.052Z"
   },
   {
    "duration": 109,
    "start_time": "2023-11-13T09:14:08.549Z"
   },
   {
    "duration": 156,
    "start_time": "2023-11-13T09:14:52.062Z"
   },
   {
    "duration": 150,
    "start_time": "2023-11-13T09:15:01.821Z"
   },
   {
    "duration": 144,
    "start_time": "2023-11-13T09:15:45.340Z"
   },
   {
    "duration": 141,
    "start_time": "2023-11-13T09:15:47.493Z"
   },
   {
    "duration": 5,
    "start_time": "2023-11-13T09:16:32.626Z"
   },
   {
    "duration": 138,
    "start_time": "2023-11-13T09:17:36.285Z"
   },
   {
    "duration": 32,
    "start_time": "2023-11-13T09:22:33.259Z"
   },
   {
    "duration": 64,
    "start_time": "2023-11-13T09:22:33.984Z"
   },
   {
    "duration": 5,
    "start_time": "2023-11-13T09:23:26.285Z"
   },
   {
    "duration": 38,
    "start_time": "2023-11-13T09:25:31.461Z"
   },
   {
    "duration": 47,
    "start_time": "2023-11-13T09:29:20.045Z"
   },
   {
    "duration": 90,
    "start_time": "2023-11-13T09:30:14.234Z"
   },
   {
    "duration": 26,
    "start_time": "2023-11-13T09:33:48.247Z"
   },
   {
    "duration": 2103,
    "start_time": "2023-11-13T09:33:58.587Z"
   },
   {
    "duration": 27,
    "start_time": "2023-11-13T09:34:44.793Z"
   },
   {
    "duration": 2198,
    "start_time": "2023-11-13T09:39:21.995Z"
   },
   {
    "duration": 3180,
    "start_time": "2023-11-13T09:39:24.195Z"
   },
   {
    "duration": 16,
    "start_time": "2023-11-13T09:39:27.377Z"
   },
   {
    "duration": 12,
    "start_time": "2023-11-13T09:39:27.395Z"
   },
   {
    "duration": 174,
    "start_time": "2023-11-13T09:39:27.413Z"
   },
   {
    "duration": 563,
    "start_time": "2023-11-13T09:39:27.589Z"
   },
   {
    "duration": 670,
    "start_time": "2023-11-13T09:39:28.153Z"
   },
   {
    "duration": 539,
    "start_time": "2023-11-13T09:39:28.825Z"
   },
   {
    "duration": 632,
    "start_time": "2023-11-13T09:39:29.365Z"
   },
   {
    "duration": 72,
    "start_time": "2023-11-13T09:39:30.004Z"
   },
   {
    "duration": 658,
    "start_time": "2023-11-13T09:39:30.077Z"
   },
   {
    "duration": 183,
    "start_time": "2023-11-13T09:39:30.736Z"
   },
   {
    "duration": 347,
    "start_time": "2023-11-13T09:39:30.920Z"
   },
   {
    "duration": 18,
    "start_time": "2023-11-13T09:39:31.269Z"
   },
   {
    "duration": 122,
    "start_time": "2023-11-13T09:39:31.289Z"
   },
   {
    "duration": 440,
    "start_time": "2023-11-13T09:39:31.413Z"
   },
   {
    "duration": 21,
    "start_time": "2023-11-13T09:39:31.855Z"
   },
   {
    "duration": 78,
    "start_time": "2023-11-13T09:39:31.877Z"
   },
   {
    "duration": 138,
    "start_time": "2023-11-13T09:39:31.956Z"
   },
   {
    "duration": 502,
    "start_time": "2023-11-13T09:39:32.096Z"
   },
   {
    "duration": 60,
    "start_time": "2023-11-13T09:39:32.601Z"
   },
   {
    "duration": 55,
    "start_time": "2023-11-13T09:39:32.663Z"
   },
   {
    "duration": 32,
    "start_time": "2023-11-13T09:39:32.719Z"
   },
   {
    "duration": 80,
    "start_time": "2023-11-13T09:39:32.753Z"
   },
   {
    "duration": 132,
    "start_time": "2023-11-13T09:39:32.835Z"
   },
   {
    "duration": 18,
    "start_time": "2023-11-13T09:39:32.968Z"
   },
   {
    "duration": 32,
    "start_time": "2023-11-13T09:39:32.988Z"
   },
   {
    "duration": 704,
    "start_time": "2023-11-13T09:39:33.024Z"
   },
   {
    "duration": 467,
    "start_time": "2023-11-13T09:39:33.730Z"
   },
   {
    "duration": 110,
    "start_time": "2023-11-13T09:39:34.198Z"
   },
   {
    "duration": 37,
    "start_time": "2023-11-13T09:39:34.316Z"
   },
   {
    "duration": 35,
    "start_time": "2023-11-13T09:39:34.354Z"
   },
   {
    "duration": 88,
    "start_time": "2023-11-13T09:39:34.390Z"
   },
   {
    "duration": 18,
    "start_time": "2023-11-13T09:39:34.480Z"
   },
   {
    "duration": 583,
    "start_time": "2023-11-13T09:39:34.501Z"
   },
   {
    "duration": 69,
    "start_time": "2023-11-13T09:39:35.086Z"
   },
   {
    "duration": 26,
    "start_time": "2023-11-13T09:39:35.157Z"
   },
   {
    "duration": 39,
    "start_time": "2023-11-13T09:39:35.185Z"
   },
   {
    "duration": 13,
    "start_time": "2023-11-13T09:39:35.225Z"
   },
   {
    "duration": 34,
    "start_time": "2023-11-13T09:39:35.239Z"
   },
   {
    "duration": 46,
    "start_time": "2023-11-13T09:39:35.275Z"
   },
   {
    "duration": 26,
    "start_time": "2023-11-13T09:39:35.323Z"
   },
   {
    "duration": 64,
    "start_time": "2023-11-13T09:39:35.351Z"
   },
   {
    "duration": 35,
    "start_time": "2023-11-13T09:39:35.421Z"
   },
   {
    "duration": 31,
    "start_time": "2023-11-13T09:39:35.457Z"
   },
   {
    "duration": 49,
    "start_time": "2023-11-13T09:39:35.490Z"
   },
   {
    "duration": 151,
    "start_time": "2023-11-13T09:39:35.540Z"
   },
   {
    "duration": 158,
    "start_time": "2023-11-13T09:39:35.692Z"
   },
   {
    "duration": 77,
    "start_time": "2023-11-13T09:39:35.852Z"
   },
   {
    "duration": 103,
    "start_time": "2023-11-13T09:39:35.930Z"
   },
   {
    "duration": 75,
    "start_time": "2023-11-13T09:39:36.035Z"
   },
   {
    "duration": 63,
    "start_time": "2023-11-13T09:39:36.111Z"
   },
   {
    "duration": 37,
    "start_time": "2023-11-13T09:39:36.175Z"
   },
   {
    "duration": 63,
    "start_time": "2023-11-13T09:39:36.214Z"
   },
   {
    "duration": 64,
    "start_time": "2023-11-13T09:39:36.279Z"
   },
   {
    "duration": 2114,
    "start_time": "2023-11-13T09:39:36.345Z"
   },
   {
    "duration": 155,
    "start_time": "2023-11-13T09:39:38.461Z"
   },
   {
    "duration": 0,
    "start_time": "2023-11-13T09:39:38.618Z"
   },
   {
    "duration": 0,
    "start_time": "2023-11-13T09:39:38.619Z"
   },
   {
    "duration": 3,
    "start_time": "2023-11-13T09:40:42.529Z"
   },
   {
    "duration": 879,
    "start_time": "2023-11-13T09:40:42.539Z"
   },
   {
    "duration": 21,
    "start_time": "2023-11-13T09:40:43.420Z"
   },
   {
    "duration": 31,
    "start_time": "2023-11-13T09:40:43.443Z"
   },
   {
    "duration": 182,
    "start_time": "2023-11-13T09:40:43.476Z"
   },
   {
    "duration": 447,
    "start_time": "2023-11-13T09:40:43.660Z"
   },
   {
    "duration": 538,
    "start_time": "2023-11-13T09:40:44.113Z"
   },
   {
    "duration": 480,
    "start_time": "2023-11-13T09:40:44.652Z"
   },
   {
    "duration": 554,
    "start_time": "2023-11-13T09:40:45.134Z"
   },
   {
    "duration": 61,
    "start_time": "2023-11-13T09:40:45.690Z"
   },
   {
    "duration": 542,
    "start_time": "2023-11-13T09:40:45.753Z"
   },
   {
    "duration": 170,
    "start_time": "2023-11-13T09:40:46.297Z"
   },
   {
    "duration": 344,
    "start_time": "2023-11-13T09:40:46.468Z"
   },
   {
    "duration": 24,
    "start_time": "2023-11-13T09:43:36.961Z"
   },
   {
    "duration": 7,
    "start_time": "2023-11-13T09:43:58.406Z"
   },
   {
    "duration": 22,
    "start_time": "2023-11-13T09:44:40.724Z"
   },
   {
    "duration": 12,
    "start_time": "2023-11-13T09:45:23.454Z"
   },
   {
    "duration": 3,
    "start_time": "2023-11-13T09:45:33.110Z"
   },
   {
    "duration": 409,
    "start_time": "2023-11-13T09:49:18.781Z"
   },
   {
    "duration": 231,
    "start_time": "2023-11-13T09:49:32.262Z"
   },
   {
    "duration": 334,
    "start_time": "2023-11-13T09:49:51.201Z"
   },
   {
    "duration": 235,
    "start_time": "2023-11-13T09:50:07.759Z"
   },
   {
    "duration": 365,
    "start_time": "2023-11-13T09:51:18.462Z"
   },
   {
    "duration": 242,
    "start_time": "2023-11-13T09:51:30.928Z"
   },
   {
    "duration": 372,
    "start_time": "2023-11-13T09:51:40.050Z"
   },
   {
    "duration": 267,
    "start_time": "2023-11-13T09:51:57.622Z"
   },
   {
    "duration": 212,
    "start_time": "2023-11-13T09:52:16.959Z"
   },
   {
    "duration": 229,
    "start_time": "2023-11-13T09:52:35.853Z"
   },
   {
    "duration": 240,
    "start_time": "2023-11-13T09:53:04.273Z"
   },
   {
    "duration": 227,
    "start_time": "2023-11-13T09:53:24.205Z"
   },
   {
    "duration": 326,
    "start_time": "2023-11-13T09:53:31.888Z"
   },
   {
    "duration": 240,
    "start_time": "2023-11-13T09:53:56.027Z"
   },
   {
    "duration": 228,
    "start_time": "2023-11-13T09:54:33.009Z"
   },
   {
    "duration": 221,
    "start_time": "2023-11-13T09:54:56.787Z"
   },
   {
    "duration": 312,
    "start_time": "2023-11-13T09:55:25.192Z"
   },
   {
    "duration": 2223,
    "start_time": "2023-11-13T09:58:39.843Z"
   },
   {
    "duration": 3059,
    "start_time": "2023-11-13T09:58:42.067Z"
   },
   {
    "duration": 18,
    "start_time": "2023-11-13T09:58:45.127Z"
   },
   {
    "duration": 11,
    "start_time": "2023-11-13T09:58:45.146Z"
   },
   {
    "duration": 203,
    "start_time": "2023-11-13T09:58:45.160Z"
   },
   {
    "duration": 565,
    "start_time": "2023-11-13T09:58:45.365Z"
   },
   {
    "duration": 619,
    "start_time": "2023-11-13T09:58:45.932Z"
   },
   {
    "duration": 516,
    "start_time": "2023-11-13T09:58:46.552Z"
   },
   {
    "duration": 554,
    "start_time": "2023-11-13T09:58:47.070Z"
   },
   {
    "duration": 59,
    "start_time": "2023-11-13T09:58:47.626Z"
   },
   {
    "duration": 584,
    "start_time": "2023-11-13T09:58:47.687Z"
   },
   {
    "duration": 161,
    "start_time": "2023-11-13T09:58:48.272Z"
   },
   {
    "duration": 314,
    "start_time": "2023-11-13T09:58:48.434Z"
   },
   {
    "duration": 17,
    "start_time": "2023-11-13T09:58:48.751Z"
   },
   {
    "duration": 9,
    "start_time": "2023-11-13T09:58:48.769Z"
   },
   {
    "duration": 431,
    "start_time": "2023-11-13T09:58:48.780Z"
   },
   {
    "duration": 21,
    "start_time": "2023-11-13T09:58:49.213Z"
   },
   {
    "duration": 9,
    "start_time": "2023-11-13T09:58:49.236Z"
   },
   {
    "duration": 2,
    "start_time": "2023-11-13T09:58:49.247Z"
   },
   {
    "duration": 87,
    "start_time": "2023-11-13T09:58:49.250Z"
   },
   {
    "duration": 453,
    "start_time": "2023-11-13T09:58:49.339Z"
   },
   {
    "duration": 515,
    "start_time": "2023-11-13T09:58:49.799Z"
   },
   {
    "duration": 35,
    "start_time": "2023-11-13T09:58:50.316Z"
   },
   {
    "duration": 58,
    "start_time": "2023-11-13T09:58:50.353Z"
   },
   {
    "duration": 32,
    "start_time": "2023-11-13T09:58:50.413Z"
   },
   {
    "duration": 61,
    "start_time": "2023-11-13T09:58:50.447Z"
   },
   {
    "duration": 20,
    "start_time": "2023-11-13T09:58:50.509Z"
   },
   {
    "duration": 33,
    "start_time": "2023-11-13T09:58:50.530Z"
   },
   {
    "duration": 530,
    "start_time": "2023-11-13T09:58:50.564Z"
   },
   {
    "duration": 475,
    "start_time": "2023-11-13T09:58:51.098Z"
   },
   {
    "duration": 110,
    "start_time": "2023-11-13T09:58:51.575Z"
   },
   {
    "duration": 2,
    "start_time": "2023-11-13T09:58:51.687Z"
   },
   {
    "duration": 47,
    "start_time": "2023-11-13T09:58:51.705Z"
   },
   {
    "duration": 18,
    "start_time": "2023-11-13T09:58:51.754Z"
   },
   {
    "duration": 77,
    "start_time": "2023-11-13T09:58:51.773Z"
   },
   {
    "duration": 17,
    "start_time": "2023-11-13T09:58:51.852Z"
   },
   {
    "duration": 577,
    "start_time": "2023-11-13T09:58:51.870Z"
   },
   {
    "duration": 51,
    "start_time": "2023-11-13T09:58:52.448Z"
   },
   {
    "duration": 26,
    "start_time": "2023-11-13T09:58:52.505Z"
   },
   {
    "duration": 24,
    "start_time": "2023-11-13T09:58:52.533Z"
   },
   {
    "duration": 13,
    "start_time": "2023-11-13T09:58:52.562Z"
   },
   {
    "duration": 53,
    "start_time": "2023-11-13T09:58:52.576Z"
   },
   {
    "duration": 24,
    "start_time": "2023-11-13T09:58:52.631Z"
   },
   {
    "duration": 27,
    "start_time": "2023-11-13T09:58:52.657Z"
   },
   {
    "duration": 19,
    "start_time": "2023-11-13T09:58:52.701Z"
   },
   {
    "duration": 31,
    "start_time": "2023-11-13T09:58:52.722Z"
   },
   {
    "duration": 24,
    "start_time": "2023-11-13T09:58:52.755Z"
   },
   {
    "duration": 31,
    "start_time": "2023-11-13T09:58:52.781Z"
   },
   {
    "duration": 151,
    "start_time": "2023-11-13T09:58:52.817Z"
   },
   {
    "duration": 149,
    "start_time": "2023-11-13T09:58:52.969Z"
   },
   {
    "duration": 60,
    "start_time": "2023-11-13T09:58:53.120Z"
   },
   {
    "duration": 83,
    "start_time": "2023-11-13T09:58:53.182Z"
   },
   {
    "duration": 93,
    "start_time": "2023-11-13T09:58:53.266Z"
   },
   {
    "duration": 80,
    "start_time": "2023-11-13T09:58:53.361Z"
   },
   {
    "duration": 29,
    "start_time": "2023-11-13T09:58:53.443Z"
   },
   {
    "duration": 95,
    "start_time": "2023-11-13T09:58:53.473Z"
   },
   {
    "duration": 2260,
    "start_time": "2023-11-13T09:58:53.570Z"
   },
   {
    "duration": 122,
    "start_time": "2023-11-13T09:58:55.831Z"
   },
   {
    "duration": 0,
    "start_time": "2023-11-13T09:58:55.954Z"
   },
   {
    "duration": 0,
    "start_time": "2023-11-13T09:58:55.956Z"
   },
   {
    "duration": 4,
    "start_time": "2023-11-13T09:59:26.613Z"
   },
   {
    "duration": 895,
    "start_time": "2023-11-13T09:59:26.623Z"
   },
   {
    "duration": 13,
    "start_time": "2023-11-13T09:59:27.521Z"
   },
   {
    "duration": 5,
    "start_time": "2023-11-13T09:59:27.536Z"
   },
   {
    "duration": 209,
    "start_time": "2023-11-13T09:59:27.543Z"
   },
   {
    "duration": 484,
    "start_time": "2023-11-13T09:59:27.756Z"
   },
   {
    "duration": 483,
    "start_time": "2023-11-13T09:59:28.242Z"
   },
   {
    "duration": 529,
    "start_time": "2023-11-13T09:59:28.727Z"
   },
   {
    "duration": 603,
    "start_time": "2023-11-13T09:59:29.258Z"
   },
   {
    "duration": 3,
    "start_time": "2023-11-13T09:59:29.863Z"
   },
   {
    "duration": 605,
    "start_time": "2023-11-13T09:59:29.868Z"
   },
   {
    "duration": 171,
    "start_time": "2023-11-13T09:59:30.475Z"
   },
   {
    "duration": 364,
    "start_time": "2023-11-13T09:59:30.648Z"
   },
   {
    "duration": 23,
    "start_time": "2023-11-13T09:59:31.018Z"
   },
   {
    "duration": 40,
    "start_time": "2023-11-13T09:59:31.045Z"
   },
   {
    "duration": 450,
    "start_time": "2023-11-13T09:59:31.087Z"
   },
   {
    "duration": 23,
    "start_time": "2023-11-13T09:59:31.539Z"
   },
   {
    "duration": 13,
    "start_time": "2023-11-13T09:59:31.564Z"
   },
   {
    "duration": 29,
    "start_time": "2023-11-13T09:59:31.579Z"
   },
   {
    "duration": 114,
    "start_time": "2023-11-13T09:59:31.610Z"
   },
   {
    "duration": 481,
    "start_time": "2023-11-13T09:59:31.728Z"
   },
   {
    "duration": 328,
    "start_time": "2023-11-13T09:59:32.219Z"
   },
   {
    "duration": 38,
    "start_time": "2023-11-13T09:59:32.549Z"
   },
   {
    "duration": 26,
    "start_time": "2023-11-13T09:59:32.605Z"
   },
   {
    "duration": 34,
    "start_time": "2023-11-13T09:59:32.633Z"
   },
   {
    "duration": 80,
    "start_time": "2023-11-13T09:59:32.669Z"
   },
   {
    "duration": 17,
    "start_time": "2023-11-13T09:59:32.751Z"
   },
   {
    "duration": 34,
    "start_time": "2023-11-13T09:59:32.769Z"
   },
   {
    "duration": 715,
    "start_time": "2023-11-13T09:59:32.812Z"
   },
   {
    "duration": 478,
    "start_time": "2023-11-13T09:59:33.529Z"
   },
   {
    "duration": 83,
    "start_time": "2023-11-13T09:59:34.017Z"
   },
   {
    "duration": 14,
    "start_time": "2023-11-13T09:59:34.104Z"
   },
   {
    "duration": 43,
    "start_time": "2023-11-13T09:59:34.120Z"
   },
   {
    "duration": 20,
    "start_time": "2023-11-13T09:59:34.165Z"
   },
   {
    "duration": 69,
    "start_time": "2023-11-13T09:59:34.186Z"
   },
   {
    "duration": 18,
    "start_time": "2023-11-13T09:59:34.256Z"
   },
   {
    "duration": 559,
    "start_time": "2023-11-13T09:59:34.276Z"
   },
   {
    "duration": 44,
    "start_time": "2023-11-13T09:59:34.837Z"
   },
   {
    "duration": 40,
    "start_time": "2023-11-13T09:59:34.883Z"
   },
   {
    "duration": 23,
    "start_time": "2023-11-13T09:59:34.925Z"
   },
   {
    "duration": 12,
    "start_time": "2023-11-13T09:59:34.950Z"
   },
   {
    "duration": 60,
    "start_time": "2023-11-13T09:59:34.966Z"
   },
   {
    "duration": 33,
    "start_time": "2023-11-13T09:59:35.028Z"
   },
   {
    "duration": 20,
    "start_time": "2023-11-13T09:59:35.062Z"
   },
   {
    "duration": 21,
    "start_time": "2023-11-13T09:59:35.101Z"
   },
   {
    "duration": 36,
    "start_time": "2023-11-13T09:59:35.124Z"
   },
   {
    "duration": 18,
    "start_time": "2023-11-13T09:59:35.161Z"
   },
   {
    "duration": 39,
    "start_time": "2023-11-13T09:59:35.181Z"
   },
   {
    "duration": 186,
    "start_time": "2023-11-13T09:59:35.223Z"
   },
   {
    "duration": 163,
    "start_time": "2023-11-13T09:59:35.411Z"
   },
   {
    "duration": 79,
    "start_time": "2023-11-13T09:59:35.576Z"
   },
   {
    "duration": 104,
    "start_time": "2023-11-13T09:59:35.657Z"
   },
   {
    "duration": 83,
    "start_time": "2023-11-13T09:59:35.764Z"
   },
   {
    "duration": 83,
    "start_time": "2023-11-13T09:59:35.849Z"
   },
   {
    "duration": 24,
    "start_time": "2023-11-13T09:59:35.933Z"
   },
   {
    "duration": 84,
    "start_time": "2023-11-13T09:59:35.960Z"
   },
   {
    "duration": 2123,
    "start_time": "2023-11-13T09:59:36.045Z"
   },
   {
    "duration": 36,
    "start_time": "2023-11-13T09:59:38.170Z"
   },
   {
    "duration": 0,
    "start_time": "2023-11-13T09:59:38.211Z"
   },
   {
    "duration": 0,
    "start_time": "2023-11-13T09:59:38.214Z"
   },
   {
    "duration": 467,
    "start_time": "2023-11-13T10:00:01.225Z"
   },
   {
    "duration": 481,
    "start_time": "2023-11-13T10:00:04.541Z"
   },
   {
    "duration": 430,
    "start_time": "2023-11-13T10:00:16.085Z"
   },
   {
    "duration": 40,
    "start_time": "2023-11-13T10:01:11.917Z"
   },
   {
    "duration": 446,
    "start_time": "2023-11-13T10:01:14.280Z"
   },
   {
    "duration": 4,
    "start_time": "2023-11-13T10:01:25.788Z"
   },
   {
    "duration": 1007,
    "start_time": "2023-11-13T10:01:25.799Z"
   },
   {
    "duration": 18,
    "start_time": "2023-11-13T10:01:26.813Z"
   },
   {
    "duration": 16,
    "start_time": "2023-11-13T10:01:26.832Z"
   },
   {
    "duration": 202,
    "start_time": "2023-11-13T10:01:26.850Z"
   },
   {
    "duration": 651,
    "start_time": "2023-11-13T10:01:27.054Z"
   },
   {
    "duration": 489,
    "start_time": "2023-11-13T10:01:27.707Z"
   },
   {
    "duration": 472,
    "start_time": "2023-11-13T10:01:28.198Z"
   },
   {
    "duration": 547,
    "start_time": "2023-11-13T10:01:28.672Z"
   },
   {
    "duration": 56,
    "start_time": "2023-11-13T10:01:29.221Z"
   },
   {
    "duration": 519,
    "start_time": "2023-11-13T10:01:29.279Z"
   },
   {
    "duration": 509,
    "start_time": "2023-11-13T10:01:41.497Z"
   },
   {
    "duration": 17,
    "start_time": "2023-11-13T10:02:59.369Z"
   },
   {
    "duration": 65086,
    "start_time": "2023-11-13T10:03:20.944Z"
   },
   {
    "duration": 0,
    "start_time": "2023-11-13T10:04:26.036Z"
   },
   {
    "duration": 258,
    "start_time": "2023-11-13T10:04:28.461Z"
   },
   {
    "duration": 230,
    "start_time": "2023-11-13T10:04:56.587Z"
   },
   {
    "duration": 4,
    "start_time": "2023-11-13T10:05:12.268Z"
   },
   {
    "duration": 1056,
    "start_time": "2023-11-13T10:05:12.278Z"
   },
   {
    "duration": 20,
    "start_time": "2023-11-13T10:05:13.336Z"
   },
   {
    "duration": 29,
    "start_time": "2023-11-13T10:05:13.358Z"
   },
   {
    "duration": 316,
    "start_time": "2023-11-13T10:05:13.389Z"
   },
   {
    "duration": 556,
    "start_time": "2023-11-13T10:05:13.708Z"
   },
   {
    "duration": 625,
    "start_time": "2023-11-13T10:05:14.266Z"
   },
   {
    "duration": 507,
    "start_time": "2023-11-13T10:05:14.893Z"
   },
   {
    "duration": 559,
    "start_time": "2023-11-13T10:05:15.405Z"
   },
   {
    "duration": 70,
    "start_time": "2023-11-13T10:05:15.966Z"
   },
   {
    "duration": 532,
    "start_time": "2023-11-13T10:05:16.038Z"
   },
   {
    "duration": 153,
    "start_time": "2023-11-13T10:05:16.572Z"
   },
   {
    "duration": 328,
    "start_time": "2023-11-13T10:05:16.727Z"
   },
   {
    "duration": 21,
    "start_time": "2023-11-13T10:05:17.057Z"
   },
   {
    "duration": 29,
    "start_time": "2023-11-13T10:05:17.081Z"
   },
   {
    "duration": 455,
    "start_time": "2023-11-13T10:05:17.112Z"
   },
   {
    "duration": 32,
    "start_time": "2023-11-13T10:05:17.569Z"
   },
   {
    "duration": 16,
    "start_time": "2023-11-13T10:05:17.603Z"
   },
   {
    "duration": 7,
    "start_time": "2023-11-13T10:05:17.621Z"
   },
   {
    "duration": 63,
    "start_time": "2023-11-13T10:05:17.630Z"
   },
   {
    "duration": 543,
    "start_time": "2023-11-13T10:05:17.699Z"
   },
   {
    "duration": 346,
    "start_time": "2023-11-13T10:05:18.244Z"
   },
   {
    "duration": 41,
    "start_time": "2023-11-13T10:05:18.598Z"
   },
   {
    "duration": 21,
    "start_time": "2023-11-13T10:05:18.641Z"
   },
   {
    "duration": 61,
    "start_time": "2023-11-13T10:05:18.664Z"
   },
   {
    "duration": 64,
    "start_time": "2023-11-13T10:05:18.727Z"
   },
   {
    "duration": 32,
    "start_time": "2023-11-13T10:05:18.814Z"
   },
   {
    "duration": 23,
    "start_time": "2023-11-13T10:05:18.849Z"
   },
   {
    "duration": 645,
    "start_time": "2023-11-13T10:05:18.874Z"
   },
   {
    "duration": 497,
    "start_time": "2023-11-13T10:05:19.523Z"
   },
   {
    "duration": 98,
    "start_time": "2023-11-13T10:05:20.023Z"
   },
   {
    "duration": 3,
    "start_time": "2023-11-13T10:05:20.122Z"
   },
   {
    "duration": 51,
    "start_time": "2023-11-13T10:05:20.127Z"
   },
   {
    "duration": 23,
    "start_time": "2023-11-13T10:05:20.180Z"
   },
   {
    "duration": 60,
    "start_time": "2023-11-13T10:05:20.204Z"
   },
   {
    "duration": 38,
    "start_time": "2023-11-13T10:05:20.266Z"
   },
   {
    "duration": 683,
    "start_time": "2023-11-13T10:05:20.306Z"
   },
   {
    "duration": 50,
    "start_time": "2023-11-13T10:05:20.990Z"
   },
   {
    "duration": 24,
    "start_time": "2023-11-13T10:05:21.042Z"
   },
   {
    "duration": 44,
    "start_time": "2023-11-13T10:05:21.068Z"
   },
   {
    "duration": 43,
    "start_time": "2023-11-13T10:05:21.114Z"
   },
   {
    "duration": 29,
    "start_time": "2023-11-13T10:05:21.161Z"
   },
   {
    "duration": 26,
    "start_time": "2023-11-13T10:05:21.191Z"
   },
   {
    "duration": 39,
    "start_time": "2023-11-13T10:05:21.219Z"
   },
   {
    "duration": 18,
    "start_time": "2023-11-13T10:05:21.260Z"
   },
   {
    "duration": 57,
    "start_time": "2023-11-13T10:05:21.281Z"
   },
   {
    "duration": 20,
    "start_time": "2023-11-13T10:05:21.340Z"
   },
   {
    "duration": 15,
    "start_time": "2023-11-13T10:05:21.362Z"
   },
   {
    "duration": 190,
    "start_time": "2023-11-13T10:05:21.400Z"
   },
   {
    "duration": 182,
    "start_time": "2023-11-13T10:05:21.593Z"
   },
   {
    "duration": 70,
    "start_time": "2023-11-13T10:05:21.777Z"
   },
   {
    "duration": 90,
    "start_time": "2023-11-13T10:05:21.849Z"
   },
   {
    "duration": 74,
    "start_time": "2023-11-13T10:05:21.941Z"
   },
   {
    "duration": 87,
    "start_time": "2023-11-13T10:05:22.016Z"
   },
   {
    "duration": 33,
    "start_time": "2023-11-13T10:05:22.105Z"
   },
   {
    "duration": 129,
    "start_time": "2023-11-13T10:05:22.140Z"
   },
   {
    "duration": 2302,
    "start_time": "2023-11-13T10:05:22.271Z"
   },
   {
    "duration": 3,
    "start_time": "2023-11-13T10:05:24.575Z"
   },
   {
    "duration": 21,
    "start_time": "2023-11-13T10:05:24.579Z"
   },
   {
    "duration": 3,
    "start_time": "2023-11-13T10:05:24.603Z"
   },
   {
    "duration": 2121,
    "start_time": "2023-11-13T10:05:33.517Z"
   },
   {
    "duration": 2228,
    "start_time": "2023-11-13T10:05:40.532Z"
   },
   {
    "duration": 2068,
    "start_time": "2023-11-13T10:05:49.863Z"
   },
   {
    "duration": 2102,
    "start_time": "2023-11-13T10:05:57.116Z"
   },
   {
    "duration": 105,
    "start_time": "2023-11-13T10:06:49.695Z"
   },
   {
    "duration": 44,
    "start_time": "2023-11-13T10:06:50.465Z"
   },
   {
    "duration": 9,
    "start_time": "2023-11-13T10:06:57.586Z"
   },
   {
    "duration": 172,
    "start_time": "2023-11-13T10:08:47.933Z"
   },
   {
    "duration": 188,
    "start_time": "2023-11-13T10:09:23.807Z"
   },
   {
    "duration": 230,
    "start_time": "2023-11-13T10:09:36.039Z"
   },
   {
    "duration": 351,
    "start_time": "2023-11-13T10:09:43.674Z"
   },
   {
    "duration": 249,
    "start_time": "2023-11-13T10:09:50.659Z"
   },
   {
    "duration": 6,
    "start_time": "2023-11-13T10:10:12.180Z"
   },
   {
    "duration": 273,
    "start_time": "2023-11-13T10:12:08.816Z"
   },
   {
    "duration": 15,
    "start_time": "2023-11-13T10:14:59.363Z"
   },
   {
    "duration": 27,
    "start_time": "2023-11-13T10:16:57.584Z"
   },
   {
    "duration": 135,
    "start_time": "2023-11-13T10:17:13.652Z"
   },
   {
    "duration": 345,
    "start_time": "2023-11-13T10:19:13.270Z"
   },
   {
    "duration": 267,
    "start_time": "2023-11-13T10:22:46.959Z"
   },
   {
    "duration": 256,
    "start_time": "2023-11-13T10:22:55.460Z"
   },
   {
    "duration": 235,
    "start_time": "2023-11-13T10:23:01.812Z"
   },
   {
    "duration": 5,
    "start_time": "2023-11-13T10:23:38.347Z"
   },
   {
    "duration": 4,
    "start_time": "2023-11-13T10:24:59.662Z"
   },
   {
    "duration": 63,
    "start_time": "2023-11-13T10:26:14.231Z"
   },
   {
    "duration": 358,
    "start_time": "2023-11-13T10:27:37.722Z"
   },
   {
    "duration": 29,
    "start_time": "2023-11-13T10:27:41.467Z"
   },
   {
    "duration": 3,
    "start_time": "2023-11-13T10:28:03.430Z"
   },
   {
    "duration": 407,
    "start_time": "2023-11-13T10:30:14.047Z"
   },
   {
    "duration": 12,
    "start_time": "2023-11-13T10:30:50.611Z"
   },
   {
    "duration": 4,
    "start_time": "2023-11-13T10:31:02.056Z"
   },
   {
    "duration": 953,
    "start_time": "2023-11-13T10:31:02.065Z"
   },
   {
    "duration": 16,
    "start_time": "2023-11-13T10:31:03.020Z"
   },
   {
    "duration": 25,
    "start_time": "2023-11-13T10:31:03.038Z"
   },
   {
    "duration": 186,
    "start_time": "2023-11-13T10:31:03.066Z"
   },
   {
    "duration": 513,
    "start_time": "2023-11-13T10:31:03.254Z"
   },
   {
    "duration": 486,
    "start_time": "2023-11-13T10:31:03.769Z"
   },
   {
    "duration": 489,
    "start_time": "2023-11-13T10:31:04.257Z"
   },
   {
    "duration": 196,
    "start_time": "2023-11-13T10:31:04.748Z"
   },
   {
    "duration": 0,
    "start_time": "2023-11-13T10:31:04.947Z"
   },
   {
    "duration": 0,
    "start_time": "2023-11-13T10:31:04.948Z"
   },
   {
    "duration": 0,
    "start_time": "2023-11-13T10:31:04.950Z"
   },
   {
    "duration": 0,
    "start_time": "2023-11-13T10:31:04.951Z"
   },
   {
    "duration": 0,
    "start_time": "2023-11-13T10:31:04.952Z"
   },
   {
    "duration": 0,
    "start_time": "2023-11-13T10:31:04.953Z"
   },
   {
    "duration": 0,
    "start_time": "2023-11-13T10:31:04.954Z"
   },
   {
    "duration": 0,
    "start_time": "2023-11-13T10:31:04.955Z"
   },
   {
    "duration": 0,
    "start_time": "2023-11-13T10:31:04.956Z"
   },
   {
    "duration": 0,
    "start_time": "2023-11-13T10:31:04.957Z"
   },
   {
    "duration": 3,
    "start_time": "2023-11-13T10:31:28.381Z"
   },
   {
    "duration": 945,
    "start_time": "2023-11-13T10:31:28.390Z"
   },
   {
    "duration": 13,
    "start_time": "2023-11-13T10:31:29.337Z"
   },
   {
    "duration": 10,
    "start_time": "2023-11-13T10:31:29.352Z"
   },
   {
    "duration": 196,
    "start_time": "2023-11-13T10:31:29.364Z"
   },
   {
    "duration": 470,
    "start_time": "2023-11-13T10:31:29.564Z"
   },
   {
    "duration": 491,
    "start_time": "2023-11-13T10:31:30.035Z"
   },
   {
    "duration": 466,
    "start_time": "2023-11-13T10:31:30.528Z"
   },
   {
    "duration": 11,
    "start_time": "2023-11-13T10:31:30.995Z"
   },
   {
    "duration": 31,
    "start_time": "2023-11-13T10:31:31.011Z"
   },
   {
    "duration": 34,
    "start_time": "2023-11-13T10:31:31.044Z"
   },
   {
    "duration": 184,
    "start_time": "2023-11-13T10:31:31.080Z"
   },
   {
    "duration": 326,
    "start_time": "2023-11-13T10:31:31.266Z"
   },
   {
    "duration": 345,
    "start_time": "2023-11-13T10:32:00.345Z"
   },
   {
    "duration": 356,
    "start_time": "2023-11-13T10:32:36.958Z"
   },
   {
    "duration": 667,
    "start_time": "2023-11-13T10:33:13.711Z"
   },
   {
    "duration": 6,
    "start_time": "2023-11-13T10:33:36.252Z"
   },
   {
    "duration": 894,
    "start_time": "2023-11-13T10:33:36.260Z"
   },
   {
    "duration": 14,
    "start_time": "2023-11-13T10:33:37.156Z"
   },
   {
    "duration": 5,
    "start_time": "2023-11-13T10:33:37.172Z"
   },
   {
    "duration": 183,
    "start_time": "2023-11-13T10:33:37.179Z"
   },
   {
    "duration": 476,
    "start_time": "2023-11-13T10:33:37.364Z"
   },
   {
    "duration": 482,
    "start_time": "2023-11-13T10:33:37.842Z"
   },
   {
    "duration": 483,
    "start_time": "2023-11-13T10:33:38.326Z"
   },
   {
    "duration": 526,
    "start_time": "2023-11-13T10:33:38.814Z"
   },
   {
    "duration": 2,
    "start_time": "2023-11-13T10:33:39.343Z"
   },
   {
    "duration": 15,
    "start_time": "2023-11-13T10:33:39.347Z"
   },
   {
    "duration": 194,
    "start_time": "2023-11-13T10:33:39.365Z"
   },
   {
    "duration": 343,
    "start_time": "2023-11-13T10:33:39.560Z"
   },
   {
    "duration": 666,
    "start_time": "2023-11-13T10:34:00.631Z"
   },
   {
    "duration": 565,
    "start_time": "2023-11-13T10:34:02.018Z"
   },
   {
    "duration": 742,
    "start_time": "2023-11-13T10:34:04.418Z"
   },
   {
    "duration": 3,
    "start_time": "2023-11-13T10:34:22.993Z"
   },
   {
    "duration": 964,
    "start_time": "2023-11-13T10:34:22.998Z"
   },
   {
    "duration": 13,
    "start_time": "2023-11-13T10:34:23.964Z"
   },
   {
    "duration": 6,
    "start_time": "2023-11-13T10:34:23.980Z"
   },
   {
    "duration": 166,
    "start_time": "2023-11-13T10:34:24.004Z"
   },
   {
    "duration": 464,
    "start_time": "2023-11-13T10:34:24.172Z"
   },
   {
    "duration": 483,
    "start_time": "2023-11-13T10:34:24.638Z"
   },
   {
    "duration": 505,
    "start_time": "2023-11-13T10:34:25.123Z"
   },
   {
    "duration": 530,
    "start_time": "2023-11-13T10:34:25.629Z"
   },
   {
    "duration": 2,
    "start_time": "2023-11-13T10:34:26.161Z"
   },
   {
    "duration": 4,
    "start_time": "2023-11-13T10:34:26.165Z"
   },
   {
    "duration": 191,
    "start_time": "2023-11-13T10:34:26.171Z"
   },
   {
    "duration": 18,
    "start_time": "2023-11-13T10:35:11.231Z"
   },
   {
    "duration": 462,
    "start_time": "2023-11-13T10:35:11.251Z"
   },
   {
    "duration": 15,
    "start_time": "2023-11-13T10:35:11.715Z"
   },
   {
    "duration": 38,
    "start_time": "2023-11-13T10:35:11.733Z"
   },
   {
    "duration": 18,
    "start_time": "2023-11-13T10:35:11.772Z"
   },
   {
    "duration": 45,
    "start_time": "2023-11-13T10:35:11.792Z"
   },
   {
    "duration": 111,
    "start_time": "2023-11-13T10:35:11.839Z"
   },
   {
    "duration": 616,
    "start_time": "2023-11-13T10:35:11.952Z"
   },
   {
    "duration": 407,
    "start_time": "2023-11-13T10:35:12.569Z"
   },
   {
    "duration": 77,
    "start_time": "2023-11-13T10:35:12.980Z"
   },
   {
    "duration": 55,
    "start_time": "2023-11-13T10:35:13.059Z"
   },
   {
    "duration": 113,
    "start_time": "2023-11-13T10:35:13.116Z"
   },
   {
    "duration": 59,
    "start_time": "2023-11-13T10:35:13.231Z"
   },
   {
    "duration": 39,
    "start_time": "2023-11-13T10:35:13.293Z"
   },
   {
    "duration": 31,
    "start_time": "2023-11-13T10:35:13.334Z"
   },
   {
    "duration": 726,
    "start_time": "2023-11-13T10:35:13.367Z"
   },
   {
    "duration": 790,
    "start_time": "2023-11-13T10:35:14.095Z"
   },
   {
    "duration": 112,
    "start_time": "2023-11-13T10:35:14.887Z"
   },
   {
    "duration": 3,
    "start_time": "2023-11-13T10:35:15.000Z"
   },
   {
    "duration": 97,
    "start_time": "2023-11-13T10:35:15.006Z"
   },
   {
    "duration": 40,
    "start_time": "2023-11-13T10:35:15.113Z"
   },
   {
    "duration": 117,
    "start_time": "2023-11-13T10:35:15.156Z"
   },
   {
    "duration": 61,
    "start_time": "2023-11-13T10:35:15.275Z"
   },
   {
    "duration": 674,
    "start_time": "2023-11-13T10:35:15.338Z"
   },
   {
    "duration": 54,
    "start_time": "2023-11-13T10:35:16.014Z"
   },
   {
    "duration": 50,
    "start_time": "2023-11-13T10:35:16.069Z"
   },
   {
    "duration": 32,
    "start_time": "2023-11-13T10:35:16.121Z"
   },
   {
    "duration": 25,
    "start_time": "2023-11-13T10:35:16.159Z"
   },
   {
    "duration": 58,
    "start_time": "2023-11-13T10:35:16.186Z"
   },
   {
    "duration": 44,
    "start_time": "2023-11-13T10:35:16.246Z"
   },
   {
    "duration": 52,
    "start_time": "2023-11-13T10:35:16.292Z"
   },
   {
    "duration": 36,
    "start_time": "2023-11-13T10:35:16.346Z"
   },
   {
    "duration": 49,
    "start_time": "2023-11-13T10:35:16.384Z"
   },
   {
    "duration": 29,
    "start_time": "2023-11-13T10:35:16.435Z"
   },
   {
    "duration": 37,
    "start_time": "2023-11-13T10:35:16.466Z"
   },
   {
    "duration": 216,
    "start_time": "2023-11-13T10:35:16.505Z"
   },
   {
    "duration": 148,
    "start_time": "2023-11-13T10:35:16.723Z"
   },
   {
    "duration": 102,
    "start_time": "2023-11-13T10:35:16.873Z"
   },
   {
    "duration": 124,
    "start_time": "2023-11-13T10:35:16.977Z"
   },
   {
    "duration": 132,
    "start_time": "2023-11-13T10:35:17.103Z"
   },
   {
    "duration": 129,
    "start_time": "2023-11-13T10:35:17.237Z"
   },
   {
    "duration": 50,
    "start_time": "2023-11-13T10:35:17.368Z"
   },
   {
    "duration": 65,
    "start_time": "2023-11-13T10:35:17.423Z"
   },
   {
    "duration": 363,
    "start_time": "2023-11-13T10:35:17.491Z"
   },
   {
    "duration": 13,
    "start_time": "2023-11-13T10:35:17.856Z"
   },
   {
    "duration": 205,
    "start_time": "2023-11-13T10:35:17.871Z"
   },
   {
    "duration": 389,
    "start_time": "2023-11-13T10:35:18.078Z"
   },
   {
    "duration": 6,
    "start_time": "2023-11-13T10:35:18.469Z"
   },
   {
    "duration": 10,
    "start_time": "2023-11-13T10:35:18.477Z"
   },
   {
    "duration": 28,
    "start_time": "2023-11-13T10:37:57.153Z"
   },
   {
    "duration": 11,
    "start_time": "2023-11-13T10:37:59.145Z"
   },
   {
    "duration": 39,
    "start_time": "2023-11-13T10:38:10.674Z"
   },
   {
    "duration": 18,
    "start_time": "2023-11-13T10:38:11.336Z"
   },
   {
    "duration": 9,
    "start_time": "2023-11-13T10:38:22.421Z"
   },
   {
    "duration": 4,
    "start_time": "2023-11-13T10:38:33.440Z"
   },
   {
    "duration": 968,
    "start_time": "2023-11-13T10:38:33.451Z"
   },
   {
    "duration": 15,
    "start_time": "2023-11-13T10:38:34.422Z"
   },
   {
    "duration": 5,
    "start_time": "2023-11-13T10:38:34.438Z"
   },
   {
    "duration": 188,
    "start_time": "2023-11-13T10:38:34.444Z"
   },
   {
    "duration": 479,
    "start_time": "2023-11-13T10:38:34.635Z"
   },
   {
    "duration": 558,
    "start_time": "2023-11-13T10:38:35.116Z"
   },
   {
    "duration": 494,
    "start_time": "2023-11-13T10:38:35.676Z"
   },
   {
    "duration": 602,
    "start_time": "2023-11-13T10:38:36.171Z"
   },
   {
    "duration": 3,
    "start_time": "2023-11-13T10:38:36.774Z"
   },
   {
    "duration": 38,
    "start_time": "2023-11-13T10:38:36.779Z"
   },
   {
    "duration": 195,
    "start_time": "2023-11-13T10:38:36.819Z"
   },
   {
    "duration": 332,
    "start_time": "2023-11-13T10:38:37.019Z"
   },
   {
    "duration": 16,
    "start_time": "2023-11-13T10:38:37.353Z"
   },
   {
    "duration": 523,
    "start_time": "2023-11-13T10:38:37.372Z"
   },
   {
    "duration": 14,
    "start_time": "2023-11-13T10:38:37.900Z"
   },
   {
    "duration": 296,
    "start_time": "2023-11-13T10:38:37.916Z"
   },
   {
    "duration": 32,
    "start_time": "2023-11-13T10:38:38.218Z"
   },
   {
    "duration": 11,
    "start_time": "2023-11-13T10:38:38.252Z"
   },
   {
    "duration": 865,
    "start_time": "2023-11-13T10:39:26.331Z"
   },
   {
    "duration": 3,
    "start_time": "2023-11-13T10:39:45.463Z"
   },
   {
    "duration": 947,
    "start_time": "2023-11-13T10:39:45.468Z"
   },
   {
    "duration": 14,
    "start_time": "2023-11-13T10:39:46.416Z"
   },
   {
    "duration": 23,
    "start_time": "2023-11-13T10:39:46.433Z"
   },
   {
    "duration": 182,
    "start_time": "2023-11-13T10:39:46.457Z"
   },
   {
    "duration": 455,
    "start_time": "2023-11-13T10:39:46.641Z"
   },
   {
    "duration": 493,
    "start_time": "2023-11-13T10:39:47.098Z"
   },
   {
    "duration": 496,
    "start_time": "2023-11-13T10:39:47.593Z"
   },
   {
    "duration": 525,
    "start_time": "2023-11-13T10:39:48.090Z"
   },
   {
    "duration": 4,
    "start_time": "2023-11-13T10:39:48.617Z"
   },
   {
    "duration": 7,
    "start_time": "2023-11-13T10:39:48.622Z"
   },
   {
    "duration": 160,
    "start_time": "2023-11-13T10:39:48.631Z"
   },
   {
    "duration": 478,
    "start_time": "2023-11-13T10:39:48.792Z"
   },
   {
    "duration": 40,
    "start_time": "2023-11-13T10:39:49.271Z"
   },
   {
    "duration": 406,
    "start_time": "2023-11-13T10:39:49.317Z"
   },
   {
    "duration": 13,
    "start_time": "2023-11-13T10:39:49.725Z"
   },
   {
    "duration": 22,
    "start_time": "2023-11-13T10:39:49.740Z"
   },
   {
    "duration": 9,
    "start_time": "2023-11-13T10:39:49.764Z"
   },
   {
    "duration": 90,
    "start_time": "2023-11-13T10:47:55.628Z"
   },
   {
    "duration": 45,
    "start_time": "2023-11-13T10:48:06.573Z"
   },
   {
    "duration": 3,
    "start_time": "2023-11-13T10:55:24.160Z"
   },
   {
    "duration": 976,
    "start_time": "2023-11-13T10:55:24.169Z"
   },
   {
    "duration": 13,
    "start_time": "2023-11-13T10:55:25.148Z"
   },
   {
    "duration": 19,
    "start_time": "2023-11-13T10:55:25.163Z"
   },
   {
    "duration": 199,
    "start_time": "2023-11-13T10:55:25.184Z"
   },
   {
    "duration": 481,
    "start_time": "2023-11-13T10:55:25.386Z"
   },
   {
    "duration": 469,
    "start_time": "2023-11-13T10:55:25.868Z"
   },
   {
    "duration": 503,
    "start_time": "2023-11-13T10:55:26.338Z"
   },
   {
    "duration": 594,
    "start_time": "2023-11-13T10:55:26.843Z"
   },
   {
    "duration": 5,
    "start_time": "2023-11-13T10:55:27.438Z"
   },
   {
    "duration": 24,
    "start_time": "2023-11-13T10:55:27.445Z"
   },
   {
    "duration": 292,
    "start_time": "2023-11-13T10:55:27.471Z"
   },
   {
    "duration": 372,
    "start_time": "2023-11-13T10:55:27.765Z"
   },
   {
    "duration": 17,
    "start_time": "2023-11-13T10:55:28.138Z"
   },
   {
    "duration": 400,
    "start_time": "2023-11-13T10:55:28.158Z"
   },
   {
    "duration": 8,
    "start_time": "2023-11-13T10:55:28.560Z"
   },
   {
    "duration": 37,
    "start_time": "2023-11-13T10:55:28.570Z"
   },
   {
    "duration": 18,
    "start_time": "2023-11-13T10:55:28.608Z"
   },
   {
    "duration": 12,
    "start_time": "2023-11-13T10:55:28.630Z"
   },
   {
    "duration": 70,
    "start_time": "2023-11-13T10:55:28.644Z"
   },
   {
    "duration": 532,
    "start_time": "2023-11-13T10:55:28.716Z"
   },
   {
    "duration": 389,
    "start_time": "2023-11-13T10:55:29.250Z"
   },
   {
    "duration": 94,
    "start_time": "2023-11-13T10:55:29.641Z"
   },
   {
    "duration": 15,
    "start_time": "2023-11-13T10:55:29.742Z"
   },
   {
    "duration": 18,
    "start_time": "2023-11-13T10:56:38.984Z"
   },
   {
    "duration": 173,
    "start_time": "2023-11-13T10:56:53.649Z"
   },
   {
    "duration": 72,
    "start_time": "2023-11-13T11:02:00.594Z"
   },
   {
    "duration": 3,
    "start_time": "2023-11-13T11:02:13.716Z"
   },
   {
    "duration": 832,
    "start_time": "2023-11-13T11:02:13.722Z"
   },
   {
    "duration": 13,
    "start_time": "2023-11-13T11:02:14.556Z"
   },
   {
    "duration": 4,
    "start_time": "2023-11-13T11:02:14.571Z"
   },
   {
    "duration": 151,
    "start_time": "2023-11-13T11:02:14.577Z"
   },
   {
    "duration": 421,
    "start_time": "2023-11-13T11:02:14.730Z"
   },
   {
    "duration": 477,
    "start_time": "2023-11-13T11:02:15.153Z"
   },
   {
    "duration": 449,
    "start_time": "2023-11-13T11:02:15.632Z"
   },
   {
    "duration": 529,
    "start_time": "2023-11-13T11:02:16.083Z"
   },
   {
    "duration": 3,
    "start_time": "2023-11-13T11:02:16.615Z"
   },
   {
    "duration": 14,
    "start_time": "2023-11-13T11:02:16.620Z"
   },
   {
    "duration": 140,
    "start_time": "2023-11-13T11:02:16.635Z"
   },
   {
    "duration": 276,
    "start_time": "2023-11-13T11:02:16.777Z"
   },
   {
    "duration": 17,
    "start_time": "2023-11-13T11:02:17.054Z"
   },
   {
    "duration": 372,
    "start_time": "2023-11-13T11:02:17.072Z"
   },
   {
    "duration": 9,
    "start_time": "2023-11-13T11:02:17.446Z"
   },
   {
    "duration": 24,
    "start_time": "2023-11-13T11:02:17.456Z"
   },
   {
    "duration": 25,
    "start_time": "2023-11-13T11:02:17.481Z"
   },
   {
    "duration": 10,
    "start_time": "2023-11-13T11:02:17.507Z"
   },
   {
    "duration": 70,
    "start_time": "2023-11-13T11:02:17.518Z"
   },
   {
    "duration": 435,
    "start_time": "2023-11-13T11:02:17.589Z"
   },
   {
    "duration": 296,
    "start_time": "2023-11-13T11:02:18.026Z"
   },
   {
    "duration": 78,
    "start_time": "2023-11-13T11:02:18.324Z"
   },
   {
    "duration": 148,
    "start_time": "2023-11-13T11:02:18.404Z"
   },
   {
    "duration": 108,
    "start_time": "2023-11-13T11:16:16.289Z"
   },
   {
    "duration": 15,
    "start_time": "2023-11-13T11:17:39.326Z"
   },
   {
    "duration": 87,
    "start_time": "2023-11-13T11:17:50.452Z"
   },
   {
    "duration": 112,
    "start_time": "2023-11-13T11:18:37.638Z"
   },
   {
    "duration": 73,
    "start_time": "2023-11-13T11:18:47.703Z"
   },
   {
    "duration": 104,
    "start_time": "2023-11-13T11:20:04.690Z"
   },
   {
    "duration": 81,
    "start_time": "2023-11-13T11:20:24.325Z"
   },
   {
    "duration": 43,
    "start_time": "2023-11-13T11:22:57.887Z"
   },
   {
    "duration": 32,
    "start_time": "2023-11-13T11:24:32.012Z"
   },
   {
    "duration": 18,
    "start_time": "2023-11-13T11:25:35.303Z"
   },
   {
    "duration": 18,
    "start_time": "2023-11-13T11:27:28.556Z"
   },
   {
    "duration": 5,
    "start_time": "2023-11-13T11:29:14.880Z"
   },
   {
    "duration": 233,
    "start_time": "2023-11-13T11:31:20.168Z"
   },
   {
    "duration": 3,
    "start_time": "2023-11-13T11:31:30.407Z"
   },
   {
    "duration": 952,
    "start_time": "2023-11-13T11:31:30.417Z"
   },
   {
    "duration": 13,
    "start_time": "2023-11-13T11:31:31.371Z"
   },
   {
    "duration": 48,
    "start_time": "2023-11-13T11:31:31.385Z"
   },
   {
    "duration": 164,
    "start_time": "2023-11-13T11:31:31.435Z"
   },
   {
    "duration": 439,
    "start_time": "2023-11-13T11:31:31.601Z"
   },
   {
    "duration": 450,
    "start_time": "2023-11-13T11:31:32.042Z"
   },
   {
    "duration": 453,
    "start_time": "2023-11-13T11:31:32.494Z"
   },
   {
    "duration": 496,
    "start_time": "2023-11-13T11:31:32.950Z"
   },
   {
    "duration": 3,
    "start_time": "2023-11-13T11:31:33.448Z"
   },
   {
    "duration": 6,
    "start_time": "2023-11-13T11:31:33.452Z"
   },
   {
    "duration": 200,
    "start_time": "2023-11-13T11:31:33.459Z"
   },
   {
    "duration": 299,
    "start_time": "2023-11-13T11:31:33.661Z"
   },
   {
    "duration": 18,
    "start_time": "2023-11-13T11:31:33.962Z"
   },
   {
    "duration": 394,
    "start_time": "2023-11-13T11:31:33.983Z"
   },
   {
    "duration": 21,
    "start_time": "2023-11-13T11:31:34.379Z"
   },
   {
    "duration": 19,
    "start_time": "2023-11-13T11:31:34.401Z"
   },
   {
    "duration": 22,
    "start_time": "2023-11-13T11:31:34.422Z"
   },
   {
    "duration": 2,
    "start_time": "2023-11-13T11:31:34.446Z"
   },
   {
    "duration": 72,
    "start_time": "2023-11-13T11:31:34.450Z"
   },
   {
    "duration": 464,
    "start_time": "2023-11-13T11:31:34.524Z"
   },
   {
    "duration": 311,
    "start_time": "2023-11-13T11:31:34.990Z"
   },
   {
    "duration": 74,
    "start_time": "2023-11-13T11:31:35.303Z"
   },
   {
    "duration": 183,
    "start_time": "2023-11-13T11:31:35.379Z"
   },
   {
    "duration": 15,
    "start_time": "2023-11-13T11:31:35.565Z"
   },
   {
    "duration": 541,
    "start_time": "2023-11-13T11:31:35.582Z"
   },
   {
    "duration": 95,
    "start_time": "2023-11-13T11:31:36.125Z"
   },
   {
    "duration": 81,
    "start_time": "2023-11-13T11:31:36.223Z"
   },
   {
    "duration": 93,
    "start_time": "2023-11-13T11:31:36.306Z"
   },
   {
    "duration": 3604,
    "start_time": "2023-11-13T11:31:36.401Z"
   },
   {
    "duration": 46,
    "start_time": "2023-11-13T11:31:40.007Z"
   },
   {
    "duration": 24,
    "start_time": "2023-11-13T11:31:40.055Z"
   },
   {
    "duration": 38,
    "start_time": "2023-11-13T11:31:40.080Z"
   },
   {
    "duration": 33,
    "start_time": "2023-11-13T11:31:40.120Z"
   },
   {
    "duration": 45,
    "start_time": "2023-11-13T11:31:40.155Z"
   },
   {
    "duration": 35,
    "start_time": "2023-11-13T11:31:40.202Z"
   },
   {
    "duration": 24,
    "start_time": "2023-11-13T11:31:40.239Z"
   },
   {
    "duration": 19,
    "start_time": "2023-11-13T11:31:40.265Z"
   },
   {
    "duration": 39,
    "start_time": "2023-11-13T11:31:40.286Z"
   },
   {
    "duration": 40,
    "start_time": "2023-11-13T11:31:40.328Z"
   },
   {
    "duration": 40,
    "start_time": "2023-11-13T11:31:40.370Z"
   },
   {
    "duration": 16,
    "start_time": "2023-11-13T11:31:40.415Z"
   },
   {
    "duration": 168,
    "start_time": "2023-11-13T11:31:40.433Z"
   },
   {
    "duration": 153,
    "start_time": "2023-11-13T11:31:40.602Z"
   },
   {
    "duration": 68,
    "start_time": "2023-11-13T11:31:40.757Z"
   },
   {
    "duration": 78,
    "start_time": "2023-11-13T11:31:40.827Z"
   },
   {
    "duration": 65,
    "start_time": "2023-11-13T11:31:40.907Z"
   },
   {
    "duration": 75,
    "start_time": "2023-11-13T11:31:40.974Z"
   },
   {
    "duration": 22,
    "start_time": "2023-11-13T11:31:41.051Z"
   },
   {
    "duration": 83,
    "start_time": "2023-11-13T11:31:41.075Z"
   },
   {
    "duration": 307,
    "start_time": "2023-11-13T11:31:41.160Z"
   },
   {
    "duration": 14,
    "start_time": "2023-11-13T11:31:41.468Z"
   },
   {
    "duration": 147,
    "start_time": "2023-11-13T11:31:41.483Z"
   },
   {
    "duration": 292,
    "start_time": "2023-11-13T11:31:41.632Z"
   },
   {
    "duration": 187,
    "start_time": "2023-11-13T11:31:41.926Z"
   },
   {
    "duration": 5,
    "start_time": "2023-11-13T11:31:42.114Z"
   },
   {
    "duration": 3,
    "start_time": "2023-11-13T11:31:42.120Z"
   },
   {
    "duration": 39,
    "start_time": "2023-11-13T11:32:56.274Z"
   },
   {
    "duration": 26,
    "start_time": "2023-11-13T11:32:56.886Z"
   },
   {
    "duration": 60,
    "start_time": "2023-11-13T11:36:24.257Z"
   },
   {
    "duration": 3220,
    "start_time": "2023-11-13T11:36:55.141Z"
   },
   {
    "duration": 2259,
    "start_time": "2023-11-13T11:37:08.109Z"
   },
   {
    "duration": 33,
    "start_time": "2023-11-13T11:37:24.050Z"
   },
   {
    "duration": 78,
    "start_time": "2023-11-13T11:40:23.477Z"
   },
   {
    "duration": 25,
    "start_time": "2023-11-13T11:40:24.794Z"
   },
   {
    "duration": 4,
    "start_time": "2023-11-13T11:40:44.087Z"
   },
   {
    "duration": 848,
    "start_time": "2023-11-13T11:40:44.095Z"
   },
   {
    "duration": 13,
    "start_time": "2023-11-13T11:40:44.945Z"
   },
   {
    "duration": 6,
    "start_time": "2023-11-13T11:40:44.959Z"
   },
   {
    "duration": 171,
    "start_time": "2023-11-13T11:40:44.966Z"
   },
   {
    "duration": 447,
    "start_time": "2023-11-13T11:40:45.140Z"
   },
   {
    "duration": 447,
    "start_time": "2023-11-13T11:40:45.589Z"
   },
   {
    "duration": 411,
    "start_time": "2023-11-13T11:40:46.038Z"
   },
   {
    "duration": 448,
    "start_time": "2023-11-13T11:40:46.451Z"
   },
   {
    "duration": 2,
    "start_time": "2023-11-13T11:40:46.902Z"
   },
   {
    "duration": 19,
    "start_time": "2023-11-13T11:40:46.906Z"
   },
   {
    "duration": 177,
    "start_time": "2023-11-13T11:40:46.928Z"
   },
   {
    "duration": 281,
    "start_time": "2023-11-13T11:40:47.107Z"
   },
   {
    "duration": 24,
    "start_time": "2023-11-13T11:40:47.390Z"
   },
   {
    "duration": 384,
    "start_time": "2023-11-13T11:40:47.417Z"
   },
   {
    "duration": 9,
    "start_time": "2023-11-13T11:40:47.802Z"
   },
   {
    "duration": 34,
    "start_time": "2023-11-13T11:40:47.812Z"
   },
   {
    "duration": 17,
    "start_time": "2023-11-13T11:40:47.848Z"
   },
   {
    "duration": 21,
    "start_time": "2023-11-13T11:40:47.867Z"
   },
   {
    "duration": 77,
    "start_time": "2023-11-13T11:40:47.890Z"
   },
   {
    "duration": 430,
    "start_time": "2023-11-13T11:40:47.969Z"
   },
   {
    "duration": 299,
    "start_time": "2023-11-13T11:40:48.400Z"
   },
   {
    "duration": 63,
    "start_time": "2023-11-13T11:40:48.701Z"
   },
   {
    "duration": 171,
    "start_time": "2023-11-13T11:40:48.765Z"
   },
   {
    "duration": 17,
    "start_time": "2023-11-13T11:40:48.937Z"
   },
   {
    "duration": 543,
    "start_time": "2023-11-13T11:40:48.956Z"
   },
   {
    "duration": 70,
    "start_time": "2023-11-13T11:40:49.501Z"
   },
   {
    "duration": 69,
    "start_time": "2023-11-13T11:40:49.573Z"
   },
   {
    "duration": 107,
    "start_time": "2023-11-13T11:40:49.644Z"
   },
   {
    "duration": 538,
    "start_time": "2023-11-13T11:40:49.753Z"
   },
   {
    "duration": 68,
    "start_time": "2023-11-13T11:40:50.293Z"
   },
   {
    "duration": 23,
    "start_time": "2023-11-13T11:40:50.362Z"
   },
   {
    "duration": 23,
    "start_time": "2023-11-13T11:40:50.399Z"
   },
   {
    "duration": 28,
    "start_time": "2023-11-13T11:40:50.424Z"
   },
   {
    "duration": 37,
    "start_time": "2023-11-13T11:40:50.454Z"
   },
   {
    "duration": 32,
    "start_time": "2023-11-13T11:40:50.493Z"
   },
   {
    "duration": 27,
    "start_time": "2023-11-13T11:40:50.527Z"
   },
   {
    "duration": 26,
    "start_time": "2023-11-13T11:40:50.556Z"
   },
   {
    "duration": 20,
    "start_time": "2023-11-13T11:40:50.584Z"
   },
   {
    "duration": 27,
    "start_time": "2023-11-13T11:40:50.606Z"
   },
   {
    "duration": 50,
    "start_time": "2023-11-13T11:40:50.634Z"
   },
   {
    "duration": 25,
    "start_time": "2023-11-13T11:40:50.688Z"
   },
   {
    "duration": 170,
    "start_time": "2023-11-13T11:40:50.714Z"
   },
   {
    "duration": 148,
    "start_time": "2023-11-13T11:40:50.886Z"
   },
   {
    "duration": 76,
    "start_time": "2023-11-13T11:40:51.035Z"
   },
   {
    "duration": 62,
    "start_time": "2023-11-13T11:40:51.112Z"
   },
   {
    "duration": 81,
    "start_time": "2023-11-13T11:40:51.176Z"
   },
   {
    "duration": 98,
    "start_time": "2023-11-13T11:40:51.259Z"
   },
   {
    "duration": 40,
    "start_time": "2023-11-13T11:40:51.359Z"
   },
   {
    "duration": 68,
    "start_time": "2023-11-13T11:40:51.402Z"
   },
   {
    "duration": 302,
    "start_time": "2023-11-13T11:40:51.471Z"
   },
   {
    "duration": 13,
    "start_time": "2023-11-13T11:40:51.775Z"
   },
   {
    "duration": 149,
    "start_time": "2023-11-13T11:40:51.800Z"
   },
   {
    "duration": 299,
    "start_time": "2023-11-13T11:40:51.951Z"
   },
   {
    "duration": 182,
    "start_time": "2023-11-13T11:40:52.251Z"
   },
   {
    "duration": 4,
    "start_time": "2023-11-13T11:40:52.435Z"
   },
   {
    "duration": 5,
    "start_time": "2023-11-13T11:40:52.440Z"
   },
   {
    "duration": 12,
    "start_time": "2023-11-13T11:41:20.273Z"
   },
   {
    "duration": 10,
    "start_time": "2023-11-13T11:41:24.375Z"
   },
   {
    "duration": 4,
    "start_time": "2023-11-13T11:41:42.252Z"
   },
   {
    "duration": 10,
    "start_time": "2023-11-13T11:42:39.365Z"
   },
   {
    "duration": 9,
    "start_time": "2023-11-13T11:42:54.175Z"
   },
   {
    "duration": 4,
    "start_time": "2023-11-13T11:42:58.526Z"
   },
   {
    "duration": 243,
    "start_time": "2023-11-13T11:50:51.357Z"
   },
   {
    "duration": 31,
    "start_time": "2023-11-13T11:51:11.246Z"
   },
   {
    "duration": 234,
    "start_time": "2023-11-13T11:51:12.670Z"
   },
   {
    "duration": 3,
    "start_time": "2023-11-13T11:55:39.955Z"
   },
   {
    "duration": 909,
    "start_time": "2023-11-13T11:55:39.964Z"
   },
   {
    "duration": 14,
    "start_time": "2023-11-13T11:55:40.875Z"
   },
   {
    "duration": 26,
    "start_time": "2023-11-13T11:55:40.890Z"
   },
   {
    "duration": 144,
    "start_time": "2023-11-13T11:55:40.918Z"
   },
   {
    "duration": 423,
    "start_time": "2023-11-13T11:55:41.064Z"
   },
   {
    "duration": 460,
    "start_time": "2023-11-13T11:55:41.489Z"
   },
   {
    "duration": 401,
    "start_time": "2023-11-13T11:55:41.951Z"
   },
   {
    "duration": 454,
    "start_time": "2023-11-13T11:55:42.354Z"
   },
   {
    "duration": 60,
    "start_time": "2023-11-13T11:55:42.810Z"
   },
   {
    "duration": 462,
    "start_time": "2023-11-13T11:55:42.871Z"
   },
   {
    "duration": 147,
    "start_time": "2023-11-13T11:55:43.335Z"
   },
   {
    "duration": 311,
    "start_time": "2023-11-13T11:55:43.484Z"
   },
   {
    "duration": 18,
    "start_time": "2023-11-13T11:55:43.797Z"
   },
   {
    "duration": 404,
    "start_time": "2023-11-13T11:55:43.820Z"
   },
   {
    "duration": 12,
    "start_time": "2023-11-13T11:55:44.226Z"
   },
   {
    "duration": 38,
    "start_time": "2023-11-13T11:55:44.240Z"
   },
   {
    "duration": 19,
    "start_time": "2023-11-13T11:55:44.280Z"
   },
   {
    "duration": 16,
    "start_time": "2023-11-13T11:55:44.301Z"
   },
   {
    "duration": 60,
    "start_time": "2023-11-13T11:55:44.319Z"
   },
   {
    "duration": 419,
    "start_time": "2023-11-13T11:55:44.380Z"
   },
   {
    "duration": 312,
    "start_time": "2023-11-13T11:55:44.800Z"
   },
   {
    "duration": 87,
    "start_time": "2023-11-13T11:55:45.113Z"
   },
   {
    "duration": 162,
    "start_time": "2023-11-13T11:55:45.202Z"
   },
   {
    "duration": 17,
    "start_time": "2023-11-13T11:55:45.366Z"
   },
   {
    "duration": 517,
    "start_time": "2023-11-13T11:55:45.399Z"
   },
   {
    "duration": 81,
    "start_time": "2023-11-13T11:55:45.919Z"
   },
   {
    "duration": 65,
    "start_time": "2023-11-13T11:55:46.002Z"
   },
   {
    "duration": 102,
    "start_time": "2023-11-13T11:55:46.069Z"
   },
   {
    "duration": 521,
    "start_time": "2023-11-13T11:55:46.173Z"
   },
   {
    "duration": 64,
    "start_time": "2023-11-13T11:55:46.695Z"
   },
   {
    "duration": 38,
    "start_time": "2023-11-13T11:55:46.761Z"
   },
   {
    "duration": 23,
    "start_time": "2023-11-13T11:55:46.801Z"
   },
   {
    "duration": 11,
    "start_time": "2023-11-13T11:55:46.825Z"
   },
   {
    "duration": 24,
    "start_time": "2023-11-13T11:55:46.838Z"
   },
   {
    "duration": 54,
    "start_time": "2023-11-13T11:55:46.864Z"
   },
   {
    "duration": 23,
    "start_time": "2023-11-13T11:55:46.920Z"
   },
   {
    "duration": 11,
    "start_time": "2023-11-13T11:55:46.945Z"
   },
   {
    "duration": 19,
    "start_time": "2023-11-13T11:55:46.957Z"
   },
   {
    "duration": 25,
    "start_time": "2023-11-13T11:55:47.000Z"
   },
   {
    "duration": 31,
    "start_time": "2023-11-13T11:55:47.027Z"
   },
   {
    "duration": 37,
    "start_time": "2023-11-13T11:55:47.062Z"
   },
   {
    "duration": 162,
    "start_time": "2023-11-13T11:55:47.101Z"
   },
   {
    "duration": 142,
    "start_time": "2023-11-13T11:55:47.265Z"
   },
   {
    "duration": 63,
    "start_time": "2023-11-13T11:55:47.409Z"
   },
   {
    "duration": 78,
    "start_time": "2023-11-13T11:55:47.474Z"
   },
   {
    "duration": 70,
    "start_time": "2023-11-13T11:55:47.554Z"
   },
   {
    "duration": 77,
    "start_time": "2023-11-13T11:55:47.626Z"
   },
   {
    "duration": 22,
    "start_time": "2023-11-13T11:55:47.705Z"
   },
   {
    "duration": 81,
    "start_time": "2023-11-13T11:55:47.728Z"
   },
   {
    "duration": 276,
    "start_time": "2023-11-13T11:55:47.810Z"
   },
   {
    "duration": 16,
    "start_time": "2023-11-13T11:55:48.087Z"
   },
   {
    "duration": 143,
    "start_time": "2023-11-13T11:55:48.105Z"
   },
   {
    "duration": 286,
    "start_time": "2023-11-13T11:55:48.250Z"
   },
   {
    "duration": 4,
    "start_time": "2023-11-13T11:55:48.538Z"
   },
   {
    "duration": 193,
    "start_time": "2023-11-13T11:55:48.544Z"
   },
   {
    "duration": 2,
    "start_time": "2023-11-13T11:55:48.739Z"
   },
   {
    "duration": 243,
    "start_time": "2023-11-13T11:56:03.682Z"
   },
   {
    "duration": 242,
    "start_time": "2023-11-13T11:56:34.247Z"
   },
   {
    "duration": 32,
    "start_time": "2023-11-13T12:42:19.005Z"
   },
   {
    "duration": 705,
    "start_time": "2023-11-13T12:48:52.866Z"
   },
   {
    "duration": 4,
    "start_time": "2023-11-13T12:49:00.729Z"
   },
   {
    "duration": 4,
    "start_time": "2023-11-13T12:49:15.081Z"
   },
   {
    "duration": 4,
    "start_time": "2023-11-13T12:49:27.209Z"
   },
   {
    "duration": 5,
    "start_time": "2023-11-13T12:49:46.571Z"
   },
   {
    "duration": 5,
    "start_time": "2023-11-13T12:50:52.903Z"
   },
   {
    "duration": 254,
    "start_time": "2023-11-13T12:55:55.103Z"
   },
   {
    "duration": 542,
    "start_time": "2023-11-13T12:56:31.900Z"
   },
   {
    "duration": 81,
    "start_time": "2023-11-13T12:56:57.780Z"
   },
   {
    "duration": 1927,
    "start_time": "2023-11-13T13:01:49.981Z"
   },
   {
    "duration": 3080,
    "start_time": "2023-11-13T13:01:51.910Z"
   },
   {
    "duration": 19,
    "start_time": "2023-11-13T13:01:54.992Z"
   },
   {
    "duration": 35,
    "start_time": "2023-11-13T13:01:55.013Z"
   },
   {
    "duration": 189,
    "start_time": "2023-11-13T13:01:55.049Z"
   },
   {
    "duration": 559,
    "start_time": "2023-11-13T13:01:55.240Z"
   },
   {
    "duration": 533,
    "start_time": "2023-11-13T13:01:55.801Z"
   },
   {
    "duration": 478,
    "start_time": "2023-11-13T13:01:56.336Z"
   },
   {
    "duration": 560,
    "start_time": "2023-11-13T13:01:56.816Z"
   },
   {
    "duration": 87,
    "start_time": "2023-11-13T13:01:57.379Z"
   },
   {
    "duration": 545,
    "start_time": "2023-11-13T13:01:57.468Z"
   },
   {
    "duration": 145,
    "start_time": "2023-11-13T13:01:58.015Z"
   },
   {
    "duration": 290,
    "start_time": "2023-11-13T13:01:58.162Z"
   },
   {
    "duration": 18,
    "start_time": "2023-11-13T13:01:58.453Z"
   },
   {
    "duration": 433,
    "start_time": "2023-11-13T13:01:58.473Z"
   },
   {
    "duration": 10,
    "start_time": "2023-11-13T13:01:58.907Z"
   },
   {
    "duration": 24,
    "start_time": "2023-11-13T13:01:58.918Z"
   },
   {
    "duration": 9,
    "start_time": "2023-11-13T13:01:58.943Z"
   },
   {
    "duration": 3,
    "start_time": "2023-11-13T13:01:58.953Z"
   },
   {
    "duration": 94,
    "start_time": "2023-11-13T13:01:58.957Z"
   },
   {
    "duration": 440,
    "start_time": "2023-11-13T13:01:59.053Z"
   },
   {
    "duration": 483,
    "start_time": "2023-11-13T13:01:59.494Z"
   },
   {
    "duration": 73,
    "start_time": "2023-11-13T13:01:59.978Z"
   },
   {
    "duration": 176,
    "start_time": "2023-11-13T13:02:00.053Z"
   },
   {
    "duration": 17,
    "start_time": "2023-11-13T13:02:00.231Z"
   },
   {
    "duration": 537,
    "start_time": "2023-11-13T13:02:00.250Z"
   },
   {
    "duration": 94,
    "start_time": "2023-11-13T13:02:00.789Z"
   },
   {
    "duration": 65,
    "start_time": "2023-11-13T13:02:00.898Z"
   },
   {
    "duration": 117,
    "start_time": "2023-11-13T13:02:00.965Z"
   },
   {
    "duration": 539,
    "start_time": "2023-11-13T13:02:01.084Z"
   },
   {
    "duration": 74,
    "start_time": "2023-11-13T13:02:01.625Z"
   },
   {
    "duration": 112,
    "start_time": "2023-11-13T13:02:01.701Z"
   },
   {
    "duration": 99,
    "start_time": "2023-11-13T13:02:01.815Z"
   },
   {
    "duration": 43,
    "start_time": "2023-11-13T13:02:01.916Z"
   },
   {
    "duration": 67,
    "start_time": "2023-11-13T13:02:01.960Z"
   },
   {
    "duration": 50,
    "start_time": "2023-11-13T13:02:02.029Z"
   },
   {
    "duration": 103,
    "start_time": "2023-11-13T13:02:02.081Z"
   },
   {
    "duration": 67,
    "start_time": "2023-11-13T13:02:02.186Z"
   },
   {
    "duration": 93,
    "start_time": "2023-11-13T13:02:02.255Z"
   },
   {
    "duration": 68,
    "start_time": "2023-11-13T13:02:02.350Z"
   },
   {
    "duration": 33,
    "start_time": "2023-11-13T13:02:02.420Z"
   },
   {
    "duration": 21,
    "start_time": "2023-11-13T13:02:02.454Z"
   },
   {
    "duration": 163,
    "start_time": "2023-11-13T13:02:02.477Z"
   },
   {
    "duration": 157,
    "start_time": "2023-11-13T13:02:02.642Z"
   },
   {
    "duration": 64,
    "start_time": "2023-11-13T13:02:02.801Z"
   },
   {
    "duration": 80,
    "start_time": "2023-11-13T13:02:02.866Z"
   },
   {
    "duration": 69,
    "start_time": "2023-11-13T13:02:02.947Z"
   },
   {
    "duration": 66,
    "start_time": "2023-11-13T13:02:03.017Z"
   },
   {
    "duration": 22,
    "start_time": "2023-11-13T13:02:03.099Z"
   },
   {
    "duration": 78,
    "start_time": "2023-11-13T13:02:03.123Z"
   },
   {
    "duration": 282,
    "start_time": "2023-11-13T13:02:03.203Z"
   },
   {
    "duration": 20,
    "start_time": "2023-11-13T13:02:03.487Z"
   },
   {
    "duration": 263,
    "start_time": "2023-11-13T13:02:03.508Z"
   },
   {
    "duration": 310,
    "start_time": "2023-11-13T13:02:03.773Z"
   },
   {
    "duration": 4,
    "start_time": "2023-11-13T13:02:04.084Z"
   },
   {
    "duration": 201,
    "start_time": "2023-11-13T13:02:04.099Z"
   },
   {
    "duration": 39,
    "start_time": "2023-11-13T13:02:04.301Z"
   },
   {
    "duration": 870,
    "start_time": "2023-11-13T13:02:04.341Z"
   },
   {
    "duration": 5,
    "start_time": "2023-11-13T13:02:05.212Z"
   },
   {
    "duration": 604,
    "start_time": "2023-11-13T13:02:05.218Z"
   },
   {
    "duration": 76,
    "start_time": "2023-11-13T13:02:05.824Z"
   },
   {
    "duration": 514,
    "start_time": "2023-11-13T13:02:26.747Z"
   },
   {
    "duration": 525,
    "start_time": "2023-11-13T13:02:33.030Z"
   },
   {
    "duration": 488,
    "start_time": "2023-11-13T13:03:40.628Z"
   },
   {
    "duration": 496,
    "start_time": "2023-11-13T13:04:16.428Z"
   },
   {
    "duration": 520,
    "start_time": "2023-11-13T13:05:20.402Z"
   },
   {
    "duration": 501,
    "start_time": "2023-11-13T13:05:29.788Z"
   },
   {
    "duration": 3,
    "start_time": "2023-11-13T13:06:08.176Z"
   },
   {
    "duration": 115,
    "start_time": "2023-11-13T13:06:12.999Z"
   },
   {
    "duration": 50,
    "start_time": "2023-11-13T13:06:45.509Z"
   },
   {
    "duration": 23,
    "start_time": "2023-11-13T13:07:26.467Z"
   },
   {
    "duration": 487,
    "start_time": "2023-11-13T13:07:50.997Z"
   },
   {
    "duration": 156,
    "start_time": "2023-11-13T13:08:25.194Z"
   },
   {
    "duration": 6,
    "start_time": "2023-11-13T13:08:30.114Z"
   },
   {
    "duration": 1533,
    "start_time": "2023-11-14T10:51:52.910Z"
   },
   {
    "duration": 2943,
    "start_time": "2023-11-14T10:51:54.445Z"
   },
   {
    "duration": 16,
    "start_time": "2023-11-14T10:51:57.389Z"
   },
   {
    "duration": 4,
    "start_time": "2023-11-14T10:51:57.407Z"
   },
   {
    "duration": 160,
    "start_time": "2023-11-14T10:51:57.412Z"
   },
   {
    "duration": 499,
    "start_time": "2023-11-14T10:51:57.573Z"
   },
   {
    "duration": 510,
    "start_time": "2023-11-14T10:51:58.074Z"
   },
   {
    "duration": 488,
    "start_time": "2023-11-14T10:51:58.586Z"
   },
   {
    "duration": 576,
    "start_time": "2023-11-14T10:51:59.076Z"
   },
   {
    "duration": 77,
    "start_time": "2023-11-14T10:51:59.654Z"
   },
   {
    "duration": 525,
    "start_time": "2023-11-14T10:51:59.732Z"
   },
   {
    "duration": 142,
    "start_time": "2023-11-14T10:52:00.259Z"
   },
   {
    "duration": 312,
    "start_time": "2023-11-14T10:52:00.403Z"
   },
   {
    "duration": 18,
    "start_time": "2023-11-14T10:52:00.717Z"
   },
   {
    "duration": 415,
    "start_time": "2023-11-14T10:52:00.736Z"
   },
   {
    "duration": 10,
    "start_time": "2023-11-14T10:52:01.152Z"
   },
   {
    "duration": 53,
    "start_time": "2023-11-14T10:52:01.164Z"
   },
   {
    "duration": 11,
    "start_time": "2023-11-14T10:52:01.219Z"
   },
   {
    "duration": 24,
    "start_time": "2023-11-14T10:52:01.232Z"
   },
   {
    "duration": 87,
    "start_time": "2023-11-14T10:52:01.257Z"
   },
   {
    "duration": 434,
    "start_time": "2023-11-14T10:52:01.345Z"
   },
   {
    "duration": 464,
    "start_time": "2023-11-14T10:52:01.780Z"
   },
   {
    "duration": 76,
    "start_time": "2023-11-14T10:52:02.246Z"
   },
   {
    "duration": 154,
    "start_time": "2023-11-14T10:52:02.323Z"
   },
   {
    "duration": 22,
    "start_time": "2023-11-14T10:52:02.479Z"
   },
   {
    "duration": 524,
    "start_time": "2023-11-14T10:52:02.503Z"
   },
   {
    "duration": 96,
    "start_time": "2023-11-14T10:52:03.029Z"
   },
   {
    "duration": 81,
    "start_time": "2023-11-14T10:52:03.128Z"
   },
   {
    "duration": 94,
    "start_time": "2023-11-14T10:52:03.213Z"
   },
   {
    "duration": 556,
    "start_time": "2023-11-14T10:52:03.308Z"
   },
   {
    "duration": 71,
    "start_time": "2023-11-14T10:52:03.866Z"
   },
   {
    "duration": 21,
    "start_time": "2023-11-14T10:52:03.939Z"
   },
   {
    "duration": 23,
    "start_time": "2023-11-14T10:52:03.961Z"
   },
   {
    "duration": 12,
    "start_time": "2023-11-14T10:52:03.999Z"
   },
   {
    "duration": 39,
    "start_time": "2023-11-14T10:52:04.013Z"
   },
   {
    "duration": 30,
    "start_time": "2023-11-14T10:52:04.054Z"
   },
   {
    "duration": 26,
    "start_time": "2023-11-14T10:52:04.085Z"
   },
   {
    "duration": 19,
    "start_time": "2023-11-14T10:52:04.112Z"
   },
   {
    "duration": 30,
    "start_time": "2023-11-14T10:52:04.133Z"
   },
   {
    "duration": 56,
    "start_time": "2023-11-14T10:52:04.165Z"
   },
   {
    "duration": 32,
    "start_time": "2023-11-14T10:52:04.222Z"
   },
   {
    "duration": 16,
    "start_time": "2023-11-14T10:52:04.256Z"
   },
   {
    "duration": 167,
    "start_time": "2023-11-14T10:52:04.274Z"
   },
   {
    "duration": 144,
    "start_time": "2023-11-14T10:52:04.442Z"
   },
   {
    "duration": 70,
    "start_time": "2023-11-14T10:52:04.588Z"
   },
   {
    "duration": 87,
    "start_time": "2023-11-14T10:52:04.660Z"
   },
   {
    "duration": 71,
    "start_time": "2023-11-14T10:52:04.748Z"
   },
   {
    "duration": 83,
    "start_time": "2023-11-14T10:52:04.820Z"
   },
   {
    "duration": 21,
    "start_time": "2023-11-14T10:52:04.904Z"
   },
   {
    "duration": 97,
    "start_time": "2023-11-14T10:52:04.927Z"
   },
   {
    "duration": 280,
    "start_time": "2023-11-14T10:52:05.026Z"
   },
   {
    "duration": 17,
    "start_time": "2023-11-14T10:52:05.308Z"
   },
   {
    "duration": 273,
    "start_time": "2023-11-14T10:52:05.327Z"
   },
   {
    "duration": 282,
    "start_time": "2023-11-14T10:52:05.601Z"
   },
   {
    "duration": 4,
    "start_time": "2023-11-14T10:52:05.884Z"
   },
   {
    "duration": 188,
    "start_time": "2023-11-14T10:52:05.899Z"
   },
   {
    "duration": 38,
    "start_time": "2023-11-14T10:52:06.088Z"
   },
   {
    "duration": 685,
    "start_time": "2023-11-14T10:52:06.127Z"
   },
   {
    "duration": 4,
    "start_time": "2023-11-14T10:52:06.813Z"
   },
   {
    "duration": 582,
    "start_time": "2023-11-14T10:52:06.818Z"
   },
   {
    "duration": 112,
    "start_time": "2023-11-14T10:52:07.402Z"
   },
   {
    "duration": 6,
    "start_time": "2023-11-14T10:52:07.515Z"
   },
   {
    "duration": 3,
    "start_time": "2023-11-14T10:57:32.169Z"
   },
   {
    "duration": 76,
    "start_time": "2023-11-14T11:11:02.148Z"
   },
   {
    "duration": 3,
    "start_time": "2023-11-14T11:12:11.429Z"
   },
   {
    "duration": 22251,
    "start_time": "2023-11-14T11:19:57.359Z"
   },
   {
    "duration": 4,
    "start_time": "2023-11-14T11:36:54.724Z"
   },
   {
    "duration": 823,
    "start_time": "2023-11-14T11:36:54.734Z"
   },
   {
    "duration": 12,
    "start_time": "2023-11-14T11:36:55.559Z"
   },
   {
    "duration": 19,
    "start_time": "2023-11-14T11:36:55.573Z"
   },
   {
    "duration": 167,
    "start_time": "2023-11-14T11:36:55.593Z"
   },
   {
    "duration": 386,
    "start_time": "2023-11-14T11:36:55.762Z"
   },
   {
    "duration": 417,
    "start_time": "2023-11-14T11:36:56.150Z"
   },
   {
    "duration": 431,
    "start_time": "2023-11-14T11:36:56.569Z"
   },
   {
    "duration": 466,
    "start_time": "2023-11-14T11:36:57.002Z"
   },
   {
    "duration": 62,
    "start_time": "2023-11-14T11:36:57.469Z"
   },
   {
    "duration": 469,
    "start_time": "2023-11-14T11:36:57.532Z"
   },
   {
    "duration": 139,
    "start_time": "2023-11-14T11:36:58.003Z"
   },
   {
    "duration": 289,
    "start_time": "2023-11-14T11:36:58.143Z"
   },
   {
    "duration": 17,
    "start_time": "2023-11-14T11:36:58.433Z"
   },
   {
    "duration": 372,
    "start_time": "2023-11-14T11:36:58.453Z"
   },
   {
    "duration": 8,
    "start_time": "2023-11-14T11:36:58.827Z"
   },
   {
    "duration": 19,
    "start_time": "2023-11-14T11:36:58.837Z"
   },
   {
    "duration": 8,
    "start_time": "2023-11-14T11:36:58.858Z"
   },
   {
    "duration": 6,
    "start_time": "2023-11-14T11:36:58.867Z"
   },
   {
    "duration": 78,
    "start_time": "2023-11-14T11:36:58.874Z"
   },
   {
    "duration": 570,
    "start_time": "2023-11-14T11:36:58.953Z"
   },
   {
    "duration": 296,
    "start_time": "2023-11-14T11:36:59.525Z"
   },
   {
    "duration": 64,
    "start_time": "2023-11-14T11:36:59.822Z"
   },
   {
    "duration": 148,
    "start_time": "2023-11-14T11:36:59.898Z"
   },
   {
    "duration": 16,
    "start_time": "2023-11-14T11:37:00.048Z"
   },
   {
    "duration": 556,
    "start_time": "2023-11-14T11:37:00.065Z"
   },
   {
    "duration": 88,
    "start_time": "2023-11-14T11:37:00.623Z"
   },
   {
    "duration": 66,
    "start_time": "2023-11-14T11:37:00.713Z"
   },
   {
    "duration": 93,
    "start_time": "2023-11-14T11:37:00.780Z"
   },
   {
    "duration": 506,
    "start_time": "2023-11-14T11:37:00.875Z"
   },
   {
    "duration": 68,
    "start_time": "2023-11-14T11:37:01.382Z"
   },
   {
    "duration": 20,
    "start_time": "2023-11-14T11:37:01.451Z"
   },
   {
    "duration": 35,
    "start_time": "2023-11-14T11:37:01.473Z"
   },
   {
    "duration": 26,
    "start_time": "2023-11-14T11:37:01.509Z"
   },
   {
    "duration": 61,
    "start_time": "2023-11-14T11:37:01.536Z"
   },
   {
    "duration": 47,
    "start_time": "2023-11-14T11:37:01.599Z"
   },
   {
    "duration": 55,
    "start_time": "2023-11-14T11:37:01.648Z"
   },
   {
    "duration": 61,
    "start_time": "2023-11-14T11:37:01.705Z"
   },
   {
    "duration": 43,
    "start_time": "2023-11-14T11:37:01.768Z"
   },
   {
    "duration": 41,
    "start_time": "2023-11-14T11:37:01.813Z"
   },
   {
    "duration": 39,
    "start_time": "2023-11-14T11:37:01.856Z"
   },
   {
    "duration": 25,
    "start_time": "2023-11-14T11:37:01.899Z"
   },
   {
    "duration": 154,
    "start_time": "2023-11-14T11:37:01.925Z"
   },
   {
    "duration": 296,
    "start_time": "2023-11-14T11:37:02.081Z"
   },
   {
    "duration": 70,
    "start_time": "2023-11-14T11:37:02.379Z"
   },
   {
    "duration": 70,
    "start_time": "2023-11-14T11:37:02.451Z"
   },
   {
    "duration": 63,
    "start_time": "2023-11-14T11:37:02.522Z"
   },
   {
    "duration": 62,
    "start_time": "2023-11-14T11:37:02.599Z"
   },
   {
    "duration": 40,
    "start_time": "2023-11-14T11:37:02.663Z"
   },
   {
    "duration": 61,
    "start_time": "2023-11-14T11:37:02.705Z"
   },
   {
    "duration": 272,
    "start_time": "2023-11-14T11:37:02.767Z"
   },
   {
    "duration": 18,
    "start_time": "2023-11-14T11:37:03.040Z"
   },
   {
    "duration": 133,
    "start_time": "2023-11-14T11:37:03.059Z"
   },
   {
    "duration": 296,
    "start_time": "2023-11-14T11:37:03.193Z"
   },
   {
    "duration": 4,
    "start_time": "2023-11-14T11:37:03.499Z"
   },
   {
    "duration": 197,
    "start_time": "2023-11-14T11:37:03.505Z"
   },
   {
    "duration": 38,
    "start_time": "2023-11-14T11:37:03.704Z"
   },
   {
    "duration": 761,
    "start_time": "2023-11-14T11:37:03.744Z"
   },
   {
    "duration": 3,
    "start_time": "2023-11-14T11:37:04.507Z"
   },
   {
    "duration": 631,
    "start_time": "2023-11-14T11:37:04.511Z"
   },
   {
    "duration": 111,
    "start_time": "2023-11-14T11:37:05.144Z"
   },
   {
    "duration": 6,
    "start_time": "2023-11-14T11:37:05.257Z"
   },
   {
    "duration": 17854,
    "start_time": "2023-11-14T11:37:05.265Z"
   },
   {
    "duration": 904,
    "start_time": "2023-11-14T11:44:37.357Z"
   },
   {
    "duration": 790,
    "start_time": "2023-11-14T11:45:17.040Z"
   },
   {
    "duration": 664,
    "start_time": "2023-11-14T11:46:49.859Z"
   },
   {
    "duration": 60995,
    "start_time": "2023-11-14T11:47:27.614Z"
   },
   {
    "duration": 21899,
    "start_time": "2023-11-14T11:48:32.494Z"
   },
   {
    "duration": 21657,
    "start_time": "2023-11-14T11:49:07.016Z"
   },
   {
    "duration": 6735,
    "start_time": "2023-11-14T11:49:57.730Z"
   },
   {
    "duration": 4696,
    "start_time": "2023-11-14T11:50:11.947Z"
   },
   {
    "duration": 3246,
    "start_time": "2023-11-14T11:50:23.763Z"
   },
   {
    "duration": 21229,
    "start_time": "2023-11-14T11:50:35.185Z"
   },
   {
    "duration": 767,
    "start_time": "2023-11-14T11:51:24.416Z"
   },
   {
    "duration": 6671,
    "start_time": "2023-11-14T11:51:45.141Z"
   },
   {
    "duration": 3076,
    "start_time": "2023-11-14T11:51:59.583Z"
   },
   {
    "duration": 765,
    "start_time": "2023-11-14T11:52:20.929Z"
   },
   {
    "duration": 833,
    "start_time": "2023-11-14T11:52:25.154Z"
   },
   {
    "duration": 21364,
    "start_time": "2023-11-14T11:52:29.488Z"
   },
   {
    "duration": 20372,
    "start_time": "2023-11-14T11:56:02.879Z"
   },
   {
    "duration": 21525,
    "start_time": "2023-11-14T11:57:42.587Z"
   },
   {
    "duration": 65819,
    "start_time": "2023-11-14T11:58:13.353Z"
   },
   {
    "duration": 800,
    "start_time": "2023-11-14T11:59:48.555Z"
   },
   {
    "duration": 14639,
    "start_time": "2023-11-14T12:00:04.696Z"
   },
   {
    "duration": 65132,
    "start_time": "2023-11-14T12:00:22.675Z"
   },
   {
    "duration": 114,
    "start_time": "2023-11-14T12:07:16.317Z"
   },
   {
    "duration": 21377514,
    "start_time": "2023-11-14T12:07:31.601Z"
   },
   {
    "duration": 4,
    "start_time": "2023-11-14T18:03:49.119Z"
   },
   {
    "duration": 130,
    "start_time": "2023-11-14T18:03:49.125Z"
   },
   {
    "duration": 4,
    "start_time": "2023-11-14T18:03:58.628Z"
   },
   {
    "duration": 128,
    "start_time": "2023-11-14T18:03:59.904Z"
   },
   {
    "duration": 10,
    "start_time": "2023-11-14T18:04:13.162Z"
   },
   {
    "duration": 7,
    "start_time": "2023-11-14T18:04:26.020Z"
   },
   {
    "duration": 3207,
    "start_time": "2023-11-15T06:25:12.890Z"
   },
   {
    "duration": 1505,
    "start_time": "2023-11-15T06:25:16.100Z"
   },
   {
    "duration": 18,
    "start_time": "2023-11-15T06:25:17.607Z"
   },
   {
    "duration": 5,
    "start_time": "2023-11-15T06:25:17.627Z"
   },
   {
    "duration": 285,
    "start_time": "2023-11-15T06:25:17.633Z"
   },
   {
    "duration": 502,
    "start_time": "2023-11-15T06:25:17.920Z"
   },
   {
    "duration": 558,
    "start_time": "2023-11-15T06:25:18.424Z"
   },
   {
    "duration": 510,
    "start_time": "2023-11-15T06:25:18.984Z"
   },
   {
    "duration": 572,
    "start_time": "2023-11-15T06:25:19.496Z"
   },
   {
    "duration": 69,
    "start_time": "2023-11-15T06:25:20.071Z"
   },
   {
    "duration": 567,
    "start_time": "2023-11-15T06:25:20.141Z"
   },
   {
    "duration": 165,
    "start_time": "2023-11-15T06:25:20.710Z"
   },
   {
    "duration": 302,
    "start_time": "2023-11-15T06:25:20.877Z"
   },
   {
    "duration": 17,
    "start_time": "2023-11-15T06:25:21.181Z"
   },
   {
    "duration": 411,
    "start_time": "2023-11-15T06:25:21.200Z"
   },
   {
    "duration": 13,
    "start_time": "2023-11-15T06:25:21.613Z"
   },
   {
    "duration": 44,
    "start_time": "2023-11-15T06:25:21.628Z"
   },
   {
    "duration": 10,
    "start_time": "2023-11-15T06:25:21.673Z"
   },
   {
    "duration": 12,
    "start_time": "2023-11-15T06:25:21.684Z"
   },
   {
    "duration": 85,
    "start_time": "2023-11-15T06:25:21.698Z"
   },
   {
    "duration": 518,
    "start_time": "2023-11-15T06:25:21.785Z"
   },
   {
    "duration": 409,
    "start_time": "2023-11-15T06:25:22.304Z"
   },
   {
    "duration": 79,
    "start_time": "2023-11-15T06:25:22.716Z"
   },
   {
    "duration": 164,
    "start_time": "2023-11-15T06:25:22.797Z"
   },
   {
    "duration": 16,
    "start_time": "2023-11-15T06:25:22.963Z"
   },
   {
    "duration": 530,
    "start_time": "2023-11-15T06:25:22.980Z"
   },
   {
    "duration": 99,
    "start_time": "2023-11-15T06:25:23.512Z"
   },
   {
    "duration": 71,
    "start_time": "2023-11-15T06:25:23.615Z"
   },
   {
    "duration": 125,
    "start_time": "2023-11-15T06:25:23.690Z"
   },
   {
    "duration": 528,
    "start_time": "2023-11-15T06:25:23.818Z"
   },
   {
    "duration": 94,
    "start_time": "2023-11-15T06:25:24.348Z"
   },
   {
    "duration": 28,
    "start_time": "2023-11-15T06:25:24.443Z"
   },
   {
    "duration": 23,
    "start_time": "2023-11-15T06:25:24.473Z"
   },
   {
    "duration": 13,
    "start_time": "2023-11-15T06:25:24.497Z"
   },
   {
    "duration": 59,
    "start_time": "2023-11-15T06:25:24.511Z"
   },
   {
    "duration": 34,
    "start_time": "2023-11-15T06:25:24.572Z"
   },
   {
    "duration": 25,
    "start_time": "2023-11-15T06:25:24.608Z"
   },
   {
    "duration": 41,
    "start_time": "2023-11-15T06:25:24.635Z"
   },
   {
    "duration": 24,
    "start_time": "2023-11-15T06:25:24.677Z"
   },
   {
    "duration": 28,
    "start_time": "2023-11-15T06:25:24.703Z"
   },
   {
    "duration": 54,
    "start_time": "2023-11-15T06:25:24.733Z"
   },
   {
    "duration": 22,
    "start_time": "2023-11-15T06:25:24.788Z"
   },
   {
    "duration": 169,
    "start_time": "2023-11-15T06:25:24.811Z"
   },
   {
    "duration": 255,
    "start_time": "2023-11-15T06:25:24.981Z"
   },
   {
    "duration": 77,
    "start_time": "2023-11-15T06:25:25.237Z"
   },
   {
    "duration": 78,
    "start_time": "2023-11-15T06:25:25.316Z"
   },
   {
    "duration": 89,
    "start_time": "2023-11-15T06:25:25.396Z"
   },
   {
    "duration": 83,
    "start_time": "2023-11-15T06:25:25.488Z"
   },
   {
    "duration": 23,
    "start_time": "2023-11-15T06:25:25.573Z"
   },
   {
    "duration": 87,
    "start_time": "2023-11-15T06:25:25.598Z"
   },
   {
    "duration": 311,
    "start_time": "2023-11-15T06:25:25.687Z"
   },
   {
    "duration": 12,
    "start_time": "2023-11-15T06:25:25.999Z"
   },
   {
    "duration": 157,
    "start_time": "2023-11-15T06:25:26.013Z"
   },
   {
    "duration": 299,
    "start_time": "2023-11-15T06:25:26.172Z"
   },
   {
    "duration": 4,
    "start_time": "2023-11-15T06:25:26.472Z"
   },
   {
    "duration": 209,
    "start_time": "2023-11-15T06:25:26.477Z"
   },
   {
    "duration": 2285,
    "start_time": "2023-11-15T06:25:29.612Z"
   },
   {
    "duration": 99,
    "start_time": "2023-11-15T06:28:03.085Z"
   },
   {
    "duration": 1497,
    "start_time": "2023-11-15T06:28:13.812Z"
   },
   {
    "duration": 5296,
    "start_time": "2023-11-15T06:28:26.459Z"
   },
   {
    "duration": 5440,
    "start_time": "2023-11-15T06:29:26.866Z"
   },
   {
    "duration": 5816,
    "start_time": "2023-11-15T06:30:18.165Z"
   },
   {
    "duration": 10,
    "start_time": "2023-11-15T06:49:39.750Z"
   },
   {
    "duration": 10,
    "start_time": "2023-11-15T06:49:48.293Z"
   },
   {
    "duration": 9,
    "start_time": "2023-11-15T06:50:15.429Z"
   },
   {
    "duration": 47,
    "start_time": "2023-11-15T06:51:03.607Z"
   },
   {
    "duration": 9,
    "start_time": "2023-11-15T06:51:29.795Z"
   },
   {
    "duration": 148,
    "start_time": "2023-11-15T07:14:04.694Z"
   },
   {
    "duration": 6,
    "start_time": "2023-11-15T07:31:57.071Z"
   },
   {
    "duration": 3303,
    "start_time": "2023-11-15T08:24:29.644Z"
   },
   {
    "duration": 950,
    "start_time": "2023-11-15T08:24:32.949Z"
   },
   {
    "duration": 18,
    "start_time": "2023-11-15T08:24:33.901Z"
   },
   {
    "duration": 84,
    "start_time": "2023-11-15T08:24:33.921Z"
   },
   {
    "duration": 178,
    "start_time": "2023-11-15T08:24:34.008Z"
   },
   {
    "duration": 528,
    "start_time": "2023-11-15T08:24:34.187Z"
   },
   {
    "duration": 521,
    "start_time": "2023-11-15T08:24:34.717Z"
   },
   {
    "duration": 504,
    "start_time": "2023-11-15T08:24:35.240Z"
   },
   {
    "duration": 584,
    "start_time": "2023-11-15T08:24:35.747Z"
   },
   {
    "duration": 93,
    "start_time": "2023-11-15T08:24:36.333Z"
   },
   {
    "duration": 551,
    "start_time": "2023-11-15T08:24:36.427Z"
   },
   {
    "duration": 151,
    "start_time": "2023-11-15T08:24:36.979Z"
   },
   {
    "duration": 298,
    "start_time": "2023-11-15T08:24:37.133Z"
   },
   {
    "duration": 17,
    "start_time": "2023-11-15T08:24:37.435Z"
   },
   {
    "duration": 459,
    "start_time": "2023-11-15T08:24:37.454Z"
   },
   {
    "duration": 10,
    "start_time": "2023-11-15T08:24:37.915Z"
   },
   {
    "duration": 39,
    "start_time": "2023-11-15T08:24:37.927Z"
   },
   {
    "duration": 9,
    "start_time": "2023-11-15T08:24:37.968Z"
   },
   {
    "duration": 4,
    "start_time": "2023-11-15T08:24:37.979Z"
   },
   {
    "duration": 97,
    "start_time": "2023-11-15T08:24:37.985Z"
   },
   {
    "duration": 612,
    "start_time": "2023-11-15T08:24:38.084Z"
   },
   {
    "duration": 504,
    "start_time": "2023-11-15T08:24:38.698Z"
   },
   {
    "duration": 88,
    "start_time": "2023-11-15T08:24:39.204Z"
   },
   {
    "duration": 179,
    "start_time": "2023-11-15T08:24:39.294Z"
   },
   {
    "duration": 17,
    "start_time": "2023-11-15T08:24:39.475Z"
   },
   {
    "duration": 594,
    "start_time": "2023-11-15T08:24:39.495Z"
   },
   {
    "duration": 102,
    "start_time": "2023-11-15T08:24:40.093Z"
   },
   {
    "duration": 79,
    "start_time": "2023-11-15T08:24:40.197Z"
   },
   {
    "duration": 100,
    "start_time": "2023-11-15T08:24:40.277Z"
   },
   {
    "duration": 578,
    "start_time": "2023-11-15T08:24:40.379Z"
   },
   {
    "duration": 76,
    "start_time": "2023-11-15T08:24:40.960Z"
   },
   {
    "duration": 37,
    "start_time": "2023-11-15T08:24:41.038Z"
   },
   {
    "duration": 31,
    "start_time": "2023-11-15T08:24:41.076Z"
   },
   {
    "duration": 18,
    "start_time": "2023-11-15T08:24:41.108Z"
   },
   {
    "duration": 53,
    "start_time": "2023-11-15T08:24:41.128Z"
   },
   {
    "duration": 32,
    "start_time": "2023-11-15T08:24:41.184Z"
   },
   {
    "duration": 31,
    "start_time": "2023-11-15T08:24:41.218Z"
   },
   {
    "duration": 13,
    "start_time": "2023-11-15T08:24:41.266Z"
   },
   {
    "duration": 27,
    "start_time": "2023-11-15T08:24:41.281Z"
   },
   {
    "duration": 57,
    "start_time": "2023-11-15T08:24:41.311Z"
   },
   {
    "duration": 61,
    "start_time": "2023-11-15T08:24:41.374Z"
   },
   {
    "duration": 38,
    "start_time": "2023-11-15T08:24:41.437Z"
   },
   {
    "duration": 192,
    "start_time": "2023-11-15T08:24:41.477Z"
   },
   {
    "duration": 280,
    "start_time": "2023-11-15T08:24:41.671Z"
   },
   {
    "duration": 76,
    "start_time": "2023-11-15T08:24:41.953Z"
   },
   {
    "duration": 86,
    "start_time": "2023-11-15T08:24:42.031Z"
   },
   {
    "duration": 88,
    "start_time": "2023-11-15T08:24:42.119Z"
   },
   {
    "duration": 86,
    "start_time": "2023-11-15T08:24:42.209Z"
   },
   {
    "duration": 23,
    "start_time": "2023-11-15T08:24:42.296Z"
   },
   {
    "duration": 84,
    "start_time": "2023-11-15T08:24:42.321Z"
   },
   {
    "duration": 313,
    "start_time": "2023-11-15T08:24:42.406Z"
   },
   {
    "duration": 13,
    "start_time": "2023-11-15T08:24:42.721Z"
   },
   {
    "duration": 158,
    "start_time": "2023-11-15T08:24:42.736Z"
   },
   {
    "duration": 329,
    "start_time": "2023-11-15T08:24:42.895Z"
   },
   {
    "duration": 5,
    "start_time": "2023-11-15T08:24:43.226Z"
   },
   {
    "duration": 226,
    "start_time": "2023-11-15T08:24:43.233Z"
   },
   {
    "duration": 36,
    "start_time": "2023-11-15T08:24:43.461Z"
   },
   {
    "duration": 973,
    "start_time": "2023-11-15T08:24:43.498Z"
   },
   {
    "duration": 5,
    "start_time": "2023-11-15T08:24:44.473Z"
   },
   {
    "duration": 638,
    "start_time": "2023-11-15T08:24:44.479Z"
   },
   {
    "duration": 203,
    "start_time": "2023-11-15T08:24:45.119Z"
   },
   {
    "duration": 9,
    "start_time": "2023-11-15T08:24:45.324Z"
   },
   {
    "duration": 25833,
    "start_time": "2023-11-15T08:24:45.335Z"
   },
   {
    "duration": 131,
    "start_time": "2023-11-15T08:25:11.170Z"
   },
   {
    "duration": 202,
    "start_time": "2023-11-15T08:25:11.367Z"
   },
   {
    "duration": 71177,
    "start_time": "2023-11-15T08:25:11.571Z"
   },
   {
    "duration": 5164,
    "start_time": "2023-11-15T08:26:22.750Z"
   },
   {
    "duration": 134,
    "start_time": "2023-11-15T08:26:27.916Z"
   },
   {
    "duration": 140,
    "start_time": "2023-11-15T08:26:28.052Z"
   },
   {
    "duration": 90,
    "start_time": "2023-11-15T10:33:05.767Z"
   },
   {
    "duration": 42,
    "start_time": "2023-11-15T10:42:22.212Z"
   },
   {
    "duration": 1743,
    "start_time": "2023-11-15T10:42:27.331Z"
   },
   {
    "duration": 2912,
    "start_time": "2023-11-15T10:42:29.076Z"
   },
   {
    "duration": 18,
    "start_time": "2023-11-15T10:42:31.989Z"
   },
   {
    "duration": 19,
    "start_time": "2023-11-15T10:42:32.009Z"
   },
   {
    "duration": 163,
    "start_time": "2023-11-15T10:42:32.029Z"
   },
   {
    "duration": 483,
    "start_time": "2023-11-15T10:42:32.194Z"
   },
   {
    "duration": 539,
    "start_time": "2023-11-15T10:42:32.679Z"
   },
   {
    "duration": 511,
    "start_time": "2023-11-15T10:42:33.220Z"
   },
   {
    "duration": 528,
    "start_time": "2023-11-15T10:42:33.733Z"
   },
   {
    "duration": 82,
    "start_time": "2023-11-15T10:42:34.264Z"
   },
   {
    "duration": 524,
    "start_time": "2023-11-15T10:42:34.348Z"
   },
   {
    "duration": 158,
    "start_time": "2023-11-15T10:42:34.875Z"
   },
   {
    "duration": 301,
    "start_time": "2023-11-15T10:42:35.035Z"
   },
   {
    "duration": 17,
    "start_time": "2023-11-15T10:42:35.339Z"
   },
   {
    "duration": 397,
    "start_time": "2023-11-15T10:42:35.358Z"
   },
   {
    "duration": 10,
    "start_time": "2023-11-15T10:42:35.757Z"
   },
   {
    "duration": 21,
    "start_time": "2023-11-15T10:42:35.768Z"
   },
   {
    "duration": 10,
    "start_time": "2023-11-15T10:42:35.790Z"
   },
   {
    "duration": 30,
    "start_time": "2023-11-15T10:42:35.801Z"
   },
   {
    "duration": 72,
    "start_time": "2023-11-15T10:42:35.833Z"
   },
   {
    "duration": 559,
    "start_time": "2023-11-15T10:42:35.907Z"
   },
   {
    "duration": 400,
    "start_time": "2023-11-15T10:42:36.468Z"
   },
   {
    "duration": 78,
    "start_time": "2023-11-15T10:42:36.870Z"
   },
   {
    "duration": 162,
    "start_time": "2023-11-15T10:42:36.950Z"
   },
   {
    "duration": 24,
    "start_time": "2023-11-15T10:42:37.114Z"
   },
   {
    "duration": 571,
    "start_time": "2023-11-15T10:42:37.140Z"
   },
   {
    "duration": 106,
    "start_time": "2023-11-15T10:42:37.712Z"
   },
   {
    "duration": 68,
    "start_time": "2023-11-15T10:42:37.830Z"
   },
   {
    "duration": 104,
    "start_time": "2023-11-15T10:42:37.900Z"
   },
   {
    "duration": 570,
    "start_time": "2023-11-15T10:42:38.006Z"
   },
   {
    "duration": 75,
    "start_time": "2023-11-15T10:42:38.578Z"
   },
   {
    "duration": 23,
    "start_time": "2023-11-15T10:42:38.654Z"
   },
   {
    "duration": 22,
    "start_time": "2023-11-15T10:42:38.679Z"
   },
   {
    "duration": 32,
    "start_time": "2023-11-15T10:42:38.703Z"
   },
   {
    "duration": 26,
    "start_time": "2023-11-15T10:42:38.737Z"
   },
   {
    "duration": 31,
    "start_time": "2023-11-15T10:42:38.764Z"
   },
   {
    "duration": 40,
    "start_time": "2023-11-15T10:42:38.797Z"
   },
   {
    "duration": 14,
    "start_time": "2023-11-15T10:42:38.839Z"
   },
   {
    "duration": 19,
    "start_time": "2023-11-15T10:42:38.855Z"
   },
   {
    "duration": 28,
    "start_time": "2023-11-15T10:42:38.876Z"
   },
   {
    "duration": 53,
    "start_time": "2023-11-15T10:42:38.905Z"
   },
   {
    "duration": 18,
    "start_time": "2023-11-15T10:42:38.960Z"
   },
   {
    "duration": 289,
    "start_time": "2023-11-15T10:42:38.980Z"
   },
   {
    "duration": 142,
    "start_time": "2023-11-15T10:42:39.270Z"
   },
   {
    "duration": 5,
    "start_time": "2023-11-15T10:42:39.413Z"
   },
   {
    "duration": 62,
    "start_time": "2023-11-15T10:42:39.430Z"
   },
   {
    "duration": 70,
    "start_time": "2023-11-15T10:42:39.494Z"
   },
   {
    "duration": 67,
    "start_time": "2023-11-15T10:42:39.566Z"
   },
   {
    "duration": 57,
    "start_time": "2023-11-15T10:42:39.634Z"
   },
   {
    "duration": 38,
    "start_time": "2023-11-15T10:42:39.693Z"
   },
   {
    "duration": 67,
    "start_time": "2023-11-15T10:42:39.732Z"
   },
   {
    "duration": 295,
    "start_time": "2023-11-15T10:42:39.801Z"
   },
   {
    "duration": 15,
    "start_time": "2023-11-15T10:42:40.098Z"
   },
   {
    "duration": 152,
    "start_time": "2023-11-15T10:42:40.116Z"
   },
   {
    "duration": 277,
    "start_time": "2023-11-15T10:42:40.270Z"
   },
   {
    "duration": 3,
    "start_time": "2023-11-15T10:42:40.549Z"
   },
   {
    "duration": 195,
    "start_time": "2023-11-15T10:42:40.554Z"
   },
   {
    "duration": 32,
    "start_time": "2023-11-15T10:42:40.750Z"
   },
   {
    "duration": 835,
    "start_time": "2023-11-15T10:42:40.784Z"
   },
   {
    "duration": 3,
    "start_time": "2023-11-15T10:42:41.620Z"
   },
   {
    "duration": 611,
    "start_time": "2023-11-15T10:42:41.630Z"
   },
   {
    "duration": 170,
    "start_time": "2023-11-15T10:42:42.243Z"
   },
   {
    "duration": 7,
    "start_time": "2023-11-15T10:42:42.415Z"
   },
   {
    "duration": 22901,
    "start_time": "2023-11-15T10:42:42.431Z"
   },
   {
    "duration": 201,
    "start_time": "2023-11-15T10:43:05.334Z"
   },
   {
    "duration": 199,
    "start_time": "2023-11-15T10:43:05.537Z"
   },
   {
    "duration": 70709,
    "start_time": "2023-11-15T10:43:05.739Z"
   },
   {
    "duration": 4952,
    "start_time": "2023-11-15T10:44:16.450Z"
   },
   {
    "duration": 140,
    "start_time": "2023-11-15T10:44:21.404Z"
   },
   {
    "duration": 144,
    "start_time": "2023-11-15T10:44:21.546Z"
   },
   {
    "duration": 2324446,
    "start_time": "2023-11-15T10:44:21.692Z"
   },
   {
    "duration": 29395,
    "start_time": "2023-11-15T11:23:06.140Z"
   },
   {
    "duration": 1400,
    "start_time": "2023-11-15T11:23:35.537Z"
   },
   {
    "duration": 1307,
    "start_time": "2023-11-15T11:23:36.939Z"
   },
   {
    "duration": 13,
    "start_time": "2023-11-15T11:23:38.248Z"
   },
   {
    "duration": 6,
    "start_time": "2023-11-15T14:03:01.332Z"
   },
   {
    "duration": 1070,
    "start_time": "2023-11-15T14:03:01.346Z"
   },
   {
    "duration": 20,
    "start_time": "2023-11-15T14:03:02.418Z"
   },
   {
    "duration": 18,
    "start_time": "2023-11-15T14:03:02.440Z"
   },
   {
    "duration": 184,
    "start_time": "2023-11-15T14:03:02.460Z"
   },
   {
    "duration": 498,
    "start_time": "2023-11-15T14:03:02.646Z"
   },
   {
    "duration": 528,
    "start_time": "2023-11-15T14:03:03.146Z"
   },
   {
    "duration": 523,
    "start_time": "2023-11-15T14:03:03.676Z"
   },
   {
    "duration": 622,
    "start_time": "2023-11-15T14:03:04.201Z"
   },
   {
    "duration": 75,
    "start_time": "2023-11-15T14:03:04.831Z"
   },
   {
    "duration": 576,
    "start_time": "2023-11-15T14:03:04.908Z"
   },
   {
    "duration": 163,
    "start_time": "2023-11-15T14:03:05.486Z"
   },
   {
    "duration": 331,
    "start_time": "2023-11-15T14:03:05.651Z"
   },
   {
    "duration": 27,
    "start_time": "2023-11-15T14:03:05.985Z"
   },
   {
    "duration": 433,
    "start_time": "2023-11-15T14:03:06.018Z"
   },
   {
    "duration": 15,
    "start_time": "2023-11-15T14:03:06.456Z"
   },
   {
    "duration": 33,
    "start_time": "2023-11-15T14:03:06.474Z"
   },
   {
    "duration": 30,
    "start_time": "2023-11-15T14:03:06.510Z"
   },
   {
    "duration": 4,
    "start_time": "2023-11-15T14:03:06.543Z"
   },
   {
    "duration": 83,
    "start_time": "2023-11-15T14:03:06.549Z"
   },
   {
    "duration": 528,
    "start_time": "2023-11-15T14:03:06.636Z"
   },
   {
    "duration": 493,
    "start_time": "2023-11-15T14:03:07.166Z"
   },
   {
    "duration": 100,
    "start_time": "2023-11-15T14:03:07.662Z"
   },
   {
    "duration": 171,
    "start_time": "2023-11-15T14:03:07.764Z"
   },
   {
    "duration": 17,
    "start_time": "2023-11-15T14:03:07.937Z"
   },
   {
    "duration": 521,
    "start_time": "2023-11-15T14:03:07.956Z"
   },
   {
    "duration": 90,
    "start_time": "2023-11-15T14:03:08.478Z"
   },
   {
    "duration": 73,
    "start_time": "2023-11-15T14:03:08.570Z"
   },
   {
    "duration": 86,
    "start_time": "2023-11-15T14:03:08.645Z"
   },
   {
    "duration": 525,
    "start_time": "2023-11-15T14:03:08.733Z"
   },
   {
    "duration": 73,
    "start_time": "2023-11-15T14:03:09.261Z"
   },
   {
    "duration": 23,
    "start_time": "2023-11-15T14:03:09.336Z"
   },
   {
    "duration": 24,
    "start_time": "2023-11-15T14:03:09.361Z"
   },
   {
    "duration": 30,
    "start_time": "2023-11-15T14:03:09.387Z"
   },
   {
    "duration": 30,
    "start_time": "2023-11-15T14:03:09.419Z"
   },
   {
    "duration": 86,
    "start_time": "2023-11-15T14:03:09.451Z"
   },
   {
    "duration": 26,
    "start_time": "2023-11-15T14:03:09.540Z"
   },
   {
    "duration": 48,
    "start_time": "2023-11-15T14:03:09.568Z"
   },
   {
    "duration": 54,
    "start_time": "2023-11-15T14:03:09.619Z"
   },
   {
    "duration": 46,
    "start_time": "2023-11-15T14:03:09.674Z"
   },
   {
    "duration": 33,
    "start_time": "2023-11-15T14:03:09.722Z"
   },
   {
    "duration": 14,
    "start_time": "2023-11-15T14:03:09.760Z"
   },
   {
    "duration": 161,
    "start_time": "2023-11-15T14:03:09.776Z"
   },
   {
    "duration": 194,
    "start_time": "2023-11-15T14:03:09.939Z"
   },
   {
    "duration": 5,
    "start_time": "2023-11-15T14:03:10.135Z"
   },
   {
    "duration": 86,
    "start_time": "2023-11-15T14:03:10.141Z"
   },
   {
    "duration": 69,
    "start_time": "2023-11-15T14:03:10.231Z"
   },
   {
    "duration": 69,
    "start_time": "2023-11-15T14:03:10.302Z"
   },
   {
    "duration": 81,
    "start_time": "2023-11-15T14:03:10.373Z"
   },
   {
    "duration": 22,
    "start_time": "2023-11-15T14:03:10.456Z"
   },
   {
    "duration": 83,
    "start_time": "2023-11-15T14:03:10.480Z"
   },
   {
    "duration": 291,
    "start_time": "2023-11-15T14:03:10.566Z"
   },
   {
    "duration": 13,
    "start_time": "2023-11-15T14:03:10.859Z"
   },
   {
    "duration": 146,
    "start_time": "2023-11-15T14:03:10.873Z"
   },
   {
    "duration": 437,
    "start_time": "2023-11-15T14:03:11.021Z"
   },
   {
    "duration": 4,
    "start_time": "2023-11-15T14:03:11.460Z"
   },
   {
    "duration": 204,
    "start_time": "2023-11-15T14:03:11.466Z"
   },
   {
    "duration": 28,
    "start_time": "2023-11-15T14:03:11.672Z"
   },
   {
    "duration": 918,
    "start_time": "2023-11-15T14:03:11.702Z"
   },
   {
    "duration": 10,
    "start_time": "2023-11-15T14:03:12.622Z"
   },
   {
    "duration": 597,
    "start_time": "2023-11-15T14:03:12.634Z"
   },
   {
    "duration": 166,
    "start_time": "2023-11-15T14:03:13.233Z"
   },
   {
    "duration": 8,
    "start_time": "2023-11-15T14:03:13.402Z"
   },
   {
    "duration": 28630,
    "start_time": "2023-11-15T14:03:13.411Z"
   },
   {
    "duration": 295,
    "start_time": "2023-11-15T14:03:42.043Z"
   },
   {
    "duration": 201,
    "start_time": "2023-11-15T14:03:42.342Z"
   },
   {
    "duration": 70635,
    "start_time": "2023-11-15T14:03:42.634Z"
   },
   {
    "duration": 5038,
    "start_time": "2023-11-15T14:04:53.271Z"
   },
   {
    "duration": 134,
    "start_time": "2023-11-15T14:04:58.311Z"
   },
   {
    "duration": 0,
    "start_time": "2023-11-15T15:05:30.670Z"
   },
   {
    "duration": 1,
    "start_time": "2023-11-15T15:05:30.677Z"
   },
   {
    "duration": 0,
    "start_time": "2023-11-15T15:05:30.733Z"
   },
   {
    "duration": 0,
    "start_time": "2023-11-15T15:05:30.740Z"
   },
   {
    "duration": 0,
    "start_time": "2023-11-15T15:05:30.744Z"
   },
   {
    "duration": 0,
    "start_time": "2023-11-15T15:05:30.749Z"
   },
   {
    "duration": 0,
    "start_time": "2023-11-15T15:05:30.753Z"
   },
   {
    "duration": 0,
    "start_time": "2023-11-15T15:05:30.758Z"
   },
   {
    "duration": 0,
    "start_time": "2023-11-15T15:05:30.762Z"
   },
   {
    "duration": 0,
    "start_time": "2023-11-15T15:05:30.767Z"
   },
   {
    "duration": 0,
    "start_time": "2023-11-15T15:05:30.834Z"
   },
   {
    "duration": 0,
    "start_time": "2023-11-15T15:05:30.841Z"
   },
   {
    "duration": 0,
    "start_time": "2023-11-15T15:05:30.847Z"
   },
   {
    "duration": 0,
    "start_time": "2023-11-15T15:05:30.855Z"
   },
   {
    "duration": 0,
    "start_time": "2023-11-15T15:05:30.863Z"
   },
   {
    "duration": 0,
    "start_time": "2023-11-15T15:05:30.931Z"
   },
   {
    "duration": 0,
    "start_time": "2023-11-15T15:05:30.938Z"
   },
   {
    "duration": 0,
    "start_time": "2023-11-15T15:05:30.941Z"
   },
   {
    "duration": 0,
    "start_time": "2023-11-15T15:05:30.945Z"
   },
   {
    "duration": 0,
    "start_time": "2023-11-15T15:05:30.948Z"
   },
   {
    "duration": 0,
    "start_time": "2023-11-15T15:05:30.957Z"
   },
   {
    "duration": 0,
    "start_time": "2023-11-15T15:05:30.965Z"
   },
   {
    "duration": 0,
    "start_time": "2023-11-15T15:05:30.970Z"
   },
   {
    "duration": 0,
    "start_time": "2023-11-15T15:05:31.038Z"
   },
   {
    "duration": 0,
    "start_time": "2023-11-15T15:05:31.052Z"
   },
   {
    "duration": 0,
    "start_time": "2023-11-15T15:05:31.058Z"
   },
   {
    "duration": 0,
    "start_time": "2023-11-15T15:05:31.065Z"
   },
   {
    "duration": 0,
    "start_time": "2023-11-15T15:05:31.132Z"
   },
   {
    "duration": 0,
    "start_time": "2023-11-15T15:05:31.139Z"
   },
   {
    "duration": 0,
    "start_time": "2023-11-15T15:05:31.147Z"
   },
   {
    "duration": 0,
    "start_time": "2023-11-15T15:05:31.152Z"
   },
   {
    "duration": 1,
    "start_time": "2023-11-15T15:05:31.157Z"
   },
   {
    "duration": 0,
    "start_time": "2023-11-15T15:05:31.165Z"
   },
   {
    "duration": 0,
    "start_time": "2023-11-15T15:05:31.231Z"
   },
   {
    "duration": 0,
    "start_time": "2023-11-15T15:05:31.236Z"
   },
   {
    "duration": 0,
    "start_time": "2023-11-15T15:05:31.243Z"
   },
   {
    "duration": 0,
    "start_time": "2023-11-15T15:05:31.247Z"
   },
   {
    "duration": 0,
    "start_time": "2023-11-15T15:05:31.251Z"
   },
   {
    "duration": 0,
    "start_time": "2023-11-15T15:05:31.258Z"
   },
   {
    "duration": 0,
    "start_time": "2023-11-15T15:05:31.265Z"
   },
   {
    "duration": 1,
    "start_time": "2023-11-15T15:05:31.336Z"
   },
   {
    "duration": 0,
    "start_time": "2023-11-15T15:05:31.344Z"
   },
   {
    "duration": 0,
    "start_time": "2023-11-15T15:05:31.351Z"
   },
   {
    "duration": 0,
    "start_time": "2023-11-15T15:05:31.358Z"
   },
   {
    "duration": 0,
    "start_time": "2023-11-15T15:05:31.365Z"
   },
   {
    "duration": 0,
    "start_time": "2023-11-15T15:05:31.433Z"
   },
   {
    "duration": 0,
    "start_time": "2023-11-15T15:05:31.440Z"
   },
   {
    "duration": 0,
    "start_time": "2023-11-15T15:05:31.444Z"
   },
   {
    "duration": 0,
    "start_time": "2023-11-15T15:05:31.448Z"
   },
   {
    "duration": 0,
    "start_time": "2023-11-15T15:05:31.451Z"
   },
   {
    "duration": 0,
    "start_time": "2023-11-15T15:05:31.457Z"
   },
   {
    "duration": 0,
    "start_time": "2023-11-15T15:05:31.463Z"
   },
   {
    "duration": 0,
    "start_time": "2023-11-15T15:05:31.470Z"
   },
   {
    "duration": 0,
    "start_time": "2023-11-15T15:05:31.536Z"
   },
   {
    "duration": 0,
    "start_time": "2023-11-15T15:05:31.540Z"
   },
   {
    "duration": 0,
    "start_time": "2023-11-15T15:05:31.544Z"
   },
   {
    "duration": 0,
    "start_time": "2023-11-15T15:05:31.548Z"
   },
   {
    "duration": 0,
    "start_time": "2023-11-15T15:05:31.554Z"
   },
   {
    "duration": 0,
    "start_time": "2023-11-15T15:05:31.561Z"
   },
   {
    "duration": 0,
    "start_time": "2023-11-15T15:05:31.569Z"
   },
   {
    "duration": 0,
    "start_time": "2023-11-15T15:05:31.636Z"
   },
   {
    "duration": 0,
    "start_time": "2023-11-15T15:05:31.643Z"
   },
   {
    "duration": 0,
    "start_time": "2023-11-15T15:05:31.649Z"
   },
   {
    "duration": 0,
    "start_time": "2023-11-15T15:05:31.652Z"
   },
   {
    "duration": 0,
    "start_time": "2023-11-15T15:05:31.655Z"
   },
   {
    "duration": 0,
    "start_time": "2023-11-15T15:05:31.658Z"
   },
   {
    "duration": 0,
    "start_time": "2023-11-15T15:05:31.661Z"
   },
   {
    "duration": 0,
    "start_time": "2023-11-15T15:05:31.664Z"
   },
   {
    "duration": 0,
    "start_time": "2023-11-15T15:05:31.668Z"
   },
   {
    "duration": 0,
    "start_time": "2023-11-15T15:05:31.733Z"
   },
   {
    "duration": 0,
    "start_time": "2023-11-15T15:05:31.736Z"
   },
   {
    "duration": 0,
    "start_time": "2023-11-15T15:05:31.741Z"
   },
   {
    "duration": 0,
    "start_time": "2023-11-15T15:05:31.744Z"
   },
   {
    "duration": 0,
    "start_time": "2023-11-15T15:05:31.745Z"
   },
   {
    "duration": 0,
    "start_time": "2023-11-15T15:05:31.747Z"
   },
   {
    "duration": 4,
    "start_time": "2023-11-15T15:05:33.470Z"
   },
   {
    "duration": 953,
    "start_time": "2023-11-15T15:05:33.482Z"
   },
   {
    "duration": 13,
    "start_time": "2023-11-15T15:05:34.437Z"
   },
   {
    "duration": 5,
    "start_time": "2023-11-15T15:05:34.452Z"
   },
   {
    "duration": 154,
    "start_time": "2023-11-15T15:05:34.459Z"
   },
   {
    "duration": 421,
    "start_time": "2023-11-15T15:05:34.615Z"
   },
   {
    "duration": 479,
    "start_time": "2023-11-15T15:05:35.037Z"
   },
   {
    "duration": 493,
    "start_time": "2023-11-15T15:05:35.518Z"
   },
   {
    "duration": 565,
    "start_time": "2023-11-15T15:05:36.013Z"
   },
   {
    "duration": 67,
    "start_time": "2023-11-15T15:05:36.580Z"
   },
   {
    "duration": 569,
    "start_time": "2023-11-15T15:05:36.649Z"
   },
   {
    "duration": 184,
    "start_time": "2023-11-15T15:05:37.220Z"
   },
   {
    "duration": 355,
    "start_time": "2023-11-15T15:05:37.405Z"
   },
   {
    "duration": 20,
    "start_time": "2023-11-15T15:05:37.762Z"
   },
   {
    "duration": 425,
    "start_time": "2023-11-15T15:05:37.785Z"
   },
   {
    "duration": 20,
    "start_time": "2023-11-15T15:05:38.212Z"
   },
   {
    "duration": 38,
    "start_time": "2023-11-15T15:05:38.233Z"
   },
   {
    "duration": 10,
    "start_time": "2023-11-15T15:05:38.272Z"
   },
   {
    "duration": 3,
    "start_time": "2023-11-15T15:05:38.284Z"
   },
   {
    "duration": 79,
    "start_time": "2023-11-15T15:05:38.288Z"
   },
   {
    "duration": 488,
    "start_time": "2023-11-15T15:05:38.369Z"
   },
   {
    "duration": 351,
    "start_time": "2023-11-15T15:05:38.859Z"
   },
   {
    "duration": 84,
    "start_time": "2023-11-15T15:05:39.212Z"
   },
   {
    "duration": 212,
    "start_time": "2023-11-15T15:05:39.300Z"
   },
   {
    "duration": 46,
    "start_time": "2023-11-15T15:05:39.514Z"
   },
   {
    "duration": 835,
    "start_time": "2023-11-15T15:05:39.563Z"
   },
   {
    "duration": 119,
    "start_time": "2023-11-15T15:05:40.401Z"
   },
   {
    "duration": 73,
    "start_time": "2023-11-15T15:05:40.523Z"
   },
   {
    "duration": 105,
    "start_time": "2023-11-15T15:05:40.598Z"
   },
   {
    "duration": 698,
    "start_time": "2023-11-15T15:05:40.705Z"
   },
   {
    "duration": 122,
    "start_time": "2023-11-15T15:05:41.406Z"
   },
   {
    "duration": 41,
    "start_time": "2023-11-15T15:05:41.532Z"
   },
   {
    "duration": 33,
    "start_time": "2023-11-15T15:05:41.576Z"
   },
   {
    "duration": 50,
    "start_time": "2023-11-15T15:05:41.611Z"
   },
   {
    "duration": 38,
    "start_time": "2023-11-15T15:05:41.664Z"
   },
   {
    "duration": 49,
    "start_time": "2023-11-15T15:05:41.704Z"
   },
   {
    "duration": 58,
    "start_time": "2023-11-15T15:05:41.756Z"
   },
   {
    "duration": 15,
    "start_time": "2023-11-15T15:05:41.832Z"
   },
   {
    "duration": 35,
    "start_time": "2023-11-15T15:05:41.851Z"
   },
   {
    "duration": 57,
    "start_time": "2023-11-15T15:05:41.888Z"
   },
   {
    "duration": 63,
    "start_time": "2023-11-15T15:05:41.951Z"
   },
   {
    "duration": 25,
    "start_time": "2023-11-15T15:05:42.040Z"
   },
   {
    "duration": 226,
    "start_time": "2023-11-15T15:05:42.068Z"
   },
   {
    "duration": 175,
    "start_time": "2023-11-15T15:05:42.296Z"
   },
   {
    "duration": 7,
    "start_time": "2023-11-15T15:05:42.473Z"
   },
   {
    "duration": 94,
    "start_time": "2023-11-15T15:05:42.482Z"
   },
   {
    "duration": 103,
    "start_time": "2023-11-15T15:05:42.577Z"
   },
   {
    "duration": 105,
    "start_time": "2023-11-15T15:05:42.682Z"
   },
   {
    "duration": 91,
    "start_time": "2023-11-15T15:05:42.789Z"
   },
   {
    "duration": 26,
    "start_time": "2023-11-15T15:05:42.883Z"
   },
   {
    "duration": 101,
    "start_time": "2023-11-15T15:05:42.911Z"
   },
   {
    "duration": 368,
    "start_time": "2023-11-15T15:05:43.014Z"
   },
   {
    "duration": 14,
    "start_time": "2023-11-15T15:05:43.385Z"
   },
   {
    "duration": 159,
    "start_time": "2023-11-15T15:05:43.400Z"
   },
   {
    "duration": 343,
    "start_time": "2023-11-15T15:05:43.562Z"
   },
   {
    "duration": 4,
    "start_time": "2023-11-15T15:05:43.907Z"
   },
   {
    "duration": 206,
    "start_time": "2023-11-15T15:05:43.913Z"
   },
   {
    "duration": 30,
    "start_time": "2023-11-15T15:05:44.122Z"
   },
   {
    "duration": 953,
    "start_time": "2023-11-15T15:05:44.154Z"
   },
   {
    "duration": 4,
    "start_time": "2023-11-15T15:05:45.109Z"
   },
   {
    "duration": 739,
    "start_time": "2023-11-15T15:05:45.115Z"
   },
   {
    "duration": 156,
    "start_time": "2023-11-15T15:05:45.857Z"
   },
   {
    "duration": 6,
    "start_time": "2023-11-15T15:05:46.015Z"
   },
   {
    "duration": 25011,
    "start_time": "2023-11-15T15:05:46.022Z"
   },
   {
    "duration": 142,
    "start_time": "2023-11-15T15:06:11.036Z"
   },
   {
    "duration": 201,
    "start_time": "2023-11-15T15:06:11.231Z"
   },
   {
    "duration": 70227,
    "start_time": "2023-11-15T15:06:11.434Z"
   },
   {
    "duration": 5009,
    "start_time": "2023-11-15T15:07:21.663Z"
   },
   {
    "duration": 137,
    "start_time": "2023-11-15T15:07:26.674Z"
   },
   {
    "duration": 138,
    "start_time": "2023-11-15T15:07:26.813Z"
   },
   {
    "duration": 463094,
    "start_time": "2023-11-15T15:07:26.952Z"
   },
   {
    "duration": 0,
    "start_time": "2023-11-15T15:15:10.048Z"
   },
   {
    "duration": 0,
    "start_time": "2023-11-15T15:15:10.049Z"
   },
   {
    "duration": 0,
    "start_time": "2023-11-15T15:15:10.050Z"
   },
   {
    "duration": 0,
    "start_time": "2023-11-15T15:15:10.052Z"
   },
   {
    "duration": 11,
    "start_time": "2023-11-15T15:15:50.502Z"
   },
   {
    "duration": 37,
    "start_time": "2023-11-15T15:15:53.085Z"
   },
   {
    "duration": 55,
    "start_time": "2023-11-15T15:17:57.880Z"
   },
   {
    "duration": 59,
    "start_time": "2023-11-15T15:18:27.653Z"
   },
   {
    "duration": 1024,
    "start_time": "2023-11-15T15:18:52.393Z"
   },
   {
    "duration": 21,
    "start_time": "2023-11-15T15:18:59.552Z"
   },
   {
    "duration": 97,
    "start_time": "2023-11-15T15:19:06.188Z"
   },
   {
    "duration": 330,
    "start_time": "2023-11-15T15:22:14.580Z"
   },
   {
    "duration": 4,
    "start_time": "2023-11-15T15:22:51.795Z"
   },
   {
    "duration": 985,
    "start_time": "2023-11-15T15:22:51.806Z"
   },
   {
    "duration": 14,
    "start_time": "2023-11-15T15:22:52.793Z"
   },
   {
    "duration": 7,
    "start_time": "2023-11-15T15:22:52.808Z"
   },
   {
    "duration": 95,
    "start_time": "2023-11-15T15:22:52.816Z"
   },
   {
    "duration": 268,
    "start_time": "2023-11-15T15:22:52.913Z"
   },
   {
    "duration": 276,
    "start_time": "2023-11-15T15:22:53.183Z"
   },
   {
    "duration": 324,
    "start_time": "2023-11-15T15:22:53.461Z"
   },
   {
    "duration": 357,
    "start_time": "2023-11-15T15:22:53.787Z"
   },
   {
    "duration": 38,
    "start_time": "2023-11-15T15:22:54.146Z"
   },
   {
    "duration": 326,
    "start_time": "2023-11-15T15:22:54.186Z"
   },
   {
    "duration": 100,
    "start_time": "2023-11-15T15:22:54.514Z"
   },
   {
    "duration": 190,
    "start_time": "2023-11-15T15:22:54.616Z"
   },
   {
    "duration": 27,
    "start_time": "2023-11-15T15:22:54.808Z"
   },
   {
    "duration": 396,
    "start_time": "2023-11-15T15:22:54.839Z"
   },
   {
    "duration": 9,
    "start_time": "2023-11-15T15:22:55.237Z"
   },
   {
    "duration": 18,
    "start_time": "2023-11-15T15:22:55.248Z"
   },
   {
    "duration": 8,
    "start_time": "2023-11-15T15:22:55.267Z"
   },
   {
    "duration": 10,
    "start_time": "2023-11-15T15:22:55.277Z"
   },
   {
    "duration": 68,
    "start_time": "2023-11-15T15:22:55.289Z"
   },
   {
    "duration": 612,
    "start_time": "2023-11-15T15:22:55.358Z"
   },
   {
    "duration": 210,
    "start_time": "2023-11-15T15:22:55.973Z"
   },
   {
    "duration": 69,
    "start_time": "2023-11-15T15:22:56.184Z"
   },
   {
    "duration": 153,
    "start_time": "2023-11-15T15:22:56.254Z"
   },
   {
    "duration": 26,
    "start_time": "2023-11-15T15:22:56.408Z"
   },
   {
    "duration": 470,
    "start_time": "2023-11-15T15:22:56.436Z"
   },
   {
    "duration": 90,
    "start_time": "2023-11-15T15:22:56.908Z"
   },
   {
    "duration": 65,
    "start_time": "2023-11-15T15:22:57.000Z"
   },
   {
    "duration": 99,
    "start_time": "2023-11-15T15:22:57.067Z"
   },
   {
    "duration": 514,
    "start_time": "2023-11-15T15:22:57.167Z"
   },
   {
    "duration": 84,
    "start_time": "2023-11-15T15:22:57.683Z"
   },
   {
    "duration": 25,
    "start_time": "2023-11-15T15:22:57.770Z"
   },
   {
    "duration": 45,
    "start_time": "2023-11-15T15:22:57.798Z"
   },
   {
    "duration": 24,
    "start_time": "2023-11-15T15:22:57.846Z"
   },
   {
    "duration": 59,
    "start_time": "2023-11-15T15:22:57.873Z"
   },
   {
    "duration": 51,
    "start_time": "2023-11-15T15:22:57.934Z"
   },
   {
    "duration": 45,
    "start_time": "2023-11-15T15:22:57.987Z"
   },
   {
    "duration": 25,
    "start_time": "2023-11-15T15:22:58.034Z"
   },
   {
    "duration": 21,
    "start_time": "2023-11-15T15:22:58.061Z"
   },
   {
    "duration": 26,
    "start_time": "2023-11-15T15:22:58.083Z"
   },
   {
    "duration": 72,
    "start_time": "2023-11-15T15:22:58.112Z"
   },
   {
    "duration": 24,
    "start_time": "2023-11-15T15:22:58.191Z"
   },
   {
    "duration": 185,
    "start_time": "2023-11-15T15:22:58.232Z"
   },
   {
    "duration": 157,
    "start_time": "2023-11-15T15:22:58.419Z"
   },
   {
    "duration": 7,
    "start_time": "2023-11-15T15:22:58.578Z"
   },
   {
    "duration": 133,
    "start_time": "2023-11-15T15:22:58.587Z"
   },
   {
    "duration": 65,
    "start_time": "2023-11-15T15:22:58.722Z"
   },
   {
    "duration": 70,
    "start_time": "2023-11-15T15:22:58.789Z"
   },
   {
    "duration": 74,
    "start_time": "2023-11-15T15:22:58.860Z"
   },
   {
    "duration": 20,
    "start_time": "2023-11-15T15:22:58.936Z"
   },
   {
    "duration": 76,
    "start_time": "2023-11-15T15:22:58.958Z"
   },
   {
    "duration": 235,
    "start_time": "2023-11-15T15:22:59.036Z"
   },
   {
    "duration": 14,
    "start_time": "2023-11-15T15:22:59.273Z"
   },
   {
    "duration": 329,
    "start_time": "2023-11-15T15:22:59.288Z"
   },
   {
    "duration": 251,
    "start_time": "2023-11-15T15:22:59.618Z"
   },
   {
    "duration": 5,
    "start_time": "2023-11-15T15:22:59.871Z"
   },
   {
    "duration": 183,
    "start_time": "2023-11-15T15:22:59.879Z"
   },
   {
    "duration": 235,
    "start_time": "2023-11-15T15:23:18.909Z"
   },
   {
    "duration": 289,
    "start_time": "2023-11-15T15:23:43.984Z"
   },
   {
    "duration": 394,
    "start_time": "2023-11-15T15:29:29.460Z"
   },
   {
    "duration": 16,
    "start_time": "2023-11-15T15:47:22.795Z"
   },
   {
    "duration": 12,
    "start_time": "2023-11-15T15:47:47.628Z"
   },
   {
    "duration": 42,
    "start_time": "2023-11-15T15:47:52.407Z"
   },
   {
    "duration": 9,
    "start_time": "2023-11-15T15:48:35.098Z"
   },
   {
    "duration": 90,
    "start_time": "2023-11-15T15:51:26.057Z"
   },
   {
    "duration": 17,
    "start_time": "2023-11-15T15:51:33.401Z"
   },
   {
    "duration": 66,
    "start_time": "2023-11-15T15:51:35.166Z"
   },
   {
    "duration": 75,
    "start_time": "2023-11-15T15:52:32.691Z"
   },
   {
    "duration": 4,
    "start_time": "2023-11-15T15:53:02.860Z"
   },
   {
    "duration": 1071,
    "start_time": "2023-11-15T15:53:02.874Z"
   },
   {
    "duration": 13,
    "start_time": "2023-11-15T15:53:03.948Z"
   },
   {
    "duration": 20,
    "start_time": "2023-11-15T15:53:03.963Z"
   },
   {
    "duration": 102,
    "start_time": "2023-11-15T15:53:03.985Z"
   },
   {
    "duration": 248,
    "start_time": "2023-11-15T15:53:04.089Z"
   },
   {
    "duration": 274,
    "start_time": "2023-11-15T15:53:04.338Z"
   },
   {
    "duration": 277,
    "start_time": "2023-11-15T15:53:04.613Z"
   },
   {
    "duration": 319,
    "start_time": "2023-11-15T15:53:04.892Z"
   },
   {
    "duration": 2,
    "start_time": "2023-11-15T15:53:05.212Z"
   },
   {
    "duration": 4,
    "start_time": "2023-11-15T15:53:05.216Z"
   },
   {
    "duration": 89,
    "start_time": "2023-11-15T15:53:05.231Z"
   },
   {
    "duration": 180,
    "start_time": "2023-11-15T15:53:05.331Z"
   },
   {
    "duration": 26,
    "start_time": "2023-11-15T15:53:05.512Z"
   },
   {
    "duration": 356,
    "start_time": "2023-11-15T15:53:05.543Z"
   },
   {
    "duration": 10,
    "start_time": "2023-11-15T15:53:05.900Z"
   },
   {
    "duration": 42,
    "start_time": "2023-11-15T15:53:05.911Z"
   },
   {
    "duration": 22,
    "start_time": "2023-11-15T15:53:05.954Z"
   },
   {
    "duration": 29,
    "start_time": "2023-11-15T15:53:05.978Z"
   },
   {
    "duration": 60,
    "start_time": "2023-11-15T15:53:06.009Z"
   },
   {
    "duration": 402,
    "start_time": "2023-11-15T15:53:06.071Z"
   },
   {
    "duration": 225,
    "start_time": "2023-11-15T15:53:06.474Z"
   },
   {
    "duration": 63,
    "start_time": "2023-11-15T15:53:06.700Z"
   },
   {
    "duration": 146,
    "start_time": "2023-11-15T15:53:06.764Z"
   },
   {
    "duration": 22,
    "start_time": "2023-11-15T15:53:06.912Z"
   },
   {
    "duration": 706,
    "start_time": "2023-11-15T15:53:06.936Z"
   },
   {
    "duration": 55,
    "start_time": "2023-11-15T15:53:07.643Z"
   },
   {
    "duration": 74,
    "start_time": "2023-11-15T15:53:07.699Z"
   },
   {
    "duration": 95,
    "start_time": "2023-11-15T15:53:07.775Z"
   },
   {
    "duration": 493,
    "start_time": "2023-11-15T15:53:07.872Z"
   },
   {
    "duration": 76,
    "start_time": "2023-11-15T15:53:08.367Z"
   },
   {
    "duration": 20,
    "start_time": "2023-11-15T15:53:08.444Z"
   },
   {
    "duration": 25,
    "start_time": "2023-11-15T15:53:08.465Z"
   },
   {
    "duration": 19,
    "start_time": "2023-11-15T15:53:08.491Z"
   },
   {
    "duration": 37,
    "start_time": "2023-11-15T15:53:08.511Z"
   },
   {
    "duration": 29,
    "start_time": "2023-11-15T15:53:08.550Z"
   },
   {
    "duration": 21,
    "start_time": "2023-11-15T15:53:08.581Z"
   },
   {
    "duration": 49,
    "start_time": "2023-11-15T15:53:08.604Z"
   },
   {
    "duration": 26,
    "start_time": "2023-11-15T15:53:08.654Z"
   },
   {
    "duration": 40,
    "start_time": "2023-11-15T15:53:08.682Z"
   },
   {
    "duration": 37,
    "start_time": "2023-11-15T15:53:08.723Z"
   },
   {
    "duration": 53,
    "start_time": "2023-11-15T15:53:08.764Z"
   },
   {
    "duration": 145,
    "start_time": "2023-11-15T15:53:08.818Z"
   },
   {
    "duration": 136,
    "start_time": "2023-11-15T15:53:08.965Z"
   },
   {
    "duration": 16,
    "start_time": "2023-11-15T15:53:09.102Z"
   },
   {
    "duration": 30,
    "start_time": "2023-11-15T15:53:09.120Z"
   },
   {
    "duration": 85,
    "start_time": "2023-11-15T15:53:09.152Z"
   },
   {
    "duration": 72,
    "start_time": "2023-11-15T15:53:09.238Z"
   },
   {
    "duration": 16,
    "start_time": "2023-11-15T15:53:09.312Z"
   },
   {
    "duration": 73,
    "start_time": "2023-11-15T15:53:09.329Z"
   },
   {
    "duration": 64,
    "start_time": "2023-11-15T15:53:09.404Z"
   },
   {
    "duration": 20,
    "start_time": "2023-11-15T15:53:09.470Z"
   },
   {
    "duration": 72,
    "start_time": "2023-11-15T15:53:09.491Z"
   },
   {
    "duration": 189,
    "start_time": "2023-11-15T15:54:12.767Z"
   },
   {
    "duration": 193,
    "start_time": "2023-11-15T15:57:22.972Z"
   },
   {
    "duration": 3,
    "start_time": "2023-11-15T15:57:34.197Z"
   },
   {
    "duration": 213,
    "start_time": "2023-11-15T15:57:36.242Z"
   },
   {
    "duration": 46,
    "start_time": "2023-11-15T16:03:59.368Z"
   },
   {
    "duration": 908,
    "start_time": "2023-11-15T16:12:16.932Z"
   },
   {
    "duration": 1097,
    "start_time": "2023-11-15T16:12:42.906Z"
   },
   {
    "duration": 1330,
    "start_time": "2023-11-15T16:12:52.709Z"
   },
   {
    "duration": 1059,
    "start_time": "2023-11-15T16:13:53.960Z"
   },
   {
    "duration": 1471,
    "start_time": "2023-11-15T16:14:02.555Z"
   },
   {
    "duration": 1544,
    "start_time": "2023-11-15T16:14:09.030Z"
   },
   {
    "duration": 1336,
    "start_time": "2023-11-15T16:14:17.538Z"
   },
   {
    "duration": 1451,
    "start_time": "2023-11-15T16:14:25.094Z"
   },
   {
    "duration": 3,
    "start_time": "2023-11-15T16:24:21.459Z"
   },
   {
    "duration": 994,
    "start_time": "2023-11-15T16:24:21.472Z"
   },
   {
    "duration": 15,
    "start_time": "2023-11-15T16:24:22.468Z"
   },
   {
    "duration": 6,
    "start_time": "2023-11-15T16:24:22.485Z"
   },
   {
    "duration": 120,
    "start_time": "2023-11-15T16:24:22.492Z"
   },
   {
    "duration": 251,
    "start_time": "2023-11-15T16:24:22.614Z"
   },
   {
    "duration": 289,
    "start_time": "2023-11-15T16:24:22.867Z"
   },
   {
    "duration": 277,
    "start_time": "2023-11-15T16:24:23.158Z"
   },
   {
    "duration": 326,
    "start_time": "2023-11-15T16:24:23.437Z"
   },
   {
    "duration": 3,
    "start_time": "2023-11-15T16:24:23.764Z"
   },
   {
    "duration": 13,
    "start_time": "2023-11-15T16:24:23.769Z"
   },
   {
    "duration": 102,
    "start_time": "2023-11-15T16:24:23.784Z"
   },
   {
    "duration": 188,
    "start_time": "2023-11-15T16:24:23.887Z"
   },
   {
    "duration": 17,
    "start_time": "2023-11-15T16:24:24.077Z"
   },
   {
    "duration": 399,
    "start_time": "2023-11-15T16:24:24.097Z"
   },
   {
    "duration": 9,
    "start_time": "2023-11-15T16:24:24.498Z"
   },
   {
    "duration": 38,
    "start_time": "2023-11-15T16:24:24.509Z"
   },
   {
    "duration": 17,
    "start_time": "2023-11-15T16:24:24.549Z"
   },
   {
    "duration": 9,
    "start_time": "2023-11-15T16:24:24.568Z"
   },
   {
    "duration": 60,
    "start_time": "2023-11-15T16:24:24.579Z"
   },
   {
    "duration": 429,
    "start_time": "2023-11-15T16:24:24.641Z"
   },
   {
    "duration": 224,
    "start_time": "2023-11-15T16:24:25.072Z"
   },
   {
    "duration": 69,
    "start_time": "2023-11-15T16:24:25.298Z"
   },
   {
    "duration": 155,
    "start_time": "2023-11-15T16:24:25.370Z"
   },
   {
    "duration": 16,
    "start_time": "2023-11-15T16:24:25.530Z"
   },
   {
    "duration": 798,
    "start_time": "2023-11-15T16:24:25.548Z"
   },
   {
    "duration": 65,
    "start_time": "2023-11-15T16:24:26.347Z"
   },
   {
    "duration": 61,
    "start_time": "2023-11-15T16:24:26.431Z"
   },
   {
    "duration": 95,
    "start_time": "2023-11-15T16:24:26.494Z"
   },
   {
    "duration": 496,
    "start_time": "2023-11-15T16:24:26.591Z"
   },
   {
    "duration": 70,
    "start_time": "2023-11-15T16:24:27.088Z"
   },
   {
    "duration": 23,
    "start_time": "2023-11-15T16:24:27.160Z"
   },
   {
    "duration": 23,
    "start_time": "2023-11-15T16:24:27.185Z"
   },
   {
    "duration": 41,
    "start_time": "2023-11-15T16:24:27.209Z"
   },
   {
    "duration": 50,
    "start_time": "2023-11-15T16:24:27.253Z"
   },
   {
    "duration": 84,
    "start_time": "2023-11-15T16:24:27.306Z"
   },
   {
    "duration": 42,
    "start_time": "2023-11-15T16:24:27.392Z"
   },
   {
    "duration": 27,
    "start_time": "2023-11-15T16:24:27.436Z"
   },
   {
    "duration": 34,
    "start_time": "2023-11-15T16:24:27.465Z"
   },
   {
    "duration": 34,
    "start_time": "2023-11-15T16:24:27.502Z"
   },
   {
    "duration": 43,
    "start_time": "2023-11-15T16:24:27.539Z"
   },
   {
    "duration": 21,
    "start_time": "2023-11-15T16:24:27.588Z"
   },
   {
    "duration": 192,
    "start_time": "2023-11-15T16:24:27.611Z"
   },
   {
    "duration": 157,
    "start_time": "2023-11-15T16:24:27.806Z"
   },
   {
    "duration": 16,
    "start_time": "2023-11-15T16:24:27.964Z"
   },
   {
    "duration": 9,
    "start_time": "2023-11-15T16:24:27.982Z"
   },
   {
    "duration": 101,
    "start_time": "2023-11-15T16:24:27.993Z"
   },
   {
    "duration": 67,
    "start_time": "2023-11-15T16:24:28.096Z"
   },
   {
    "duration": 17,
    "start_time": "2023-11-15T16:24:28.164Z"
   },
   {
    "duration": 71,
    "start_time": "2023-11-15T16:24:28.183Z"
   },
   {
    "duration": 77,
    "start_time": "2023-11-15T16:24:28.256Z"
   },
   {
    "duration": 22,
    "start_time": "2023-11-15T16:24:28.334Z"
   },
   {
    "duration": 85,
    "start_time": "2023-11-15T16:24:28.358Z"
   },
   {
    "duration": 252,
    "start_time": "2023-11-15T16:24:28.445Z"
   },
   {
    "duration": 13,
    "start_time": "2023-11-15T16:24:28.699Z"
   },
   {
    "duration": 154,
    "start_time": "2023-11-15T16:24:28.715Z"
   },
   {
    "duration": 222,
    "start_time": "2023-11-15T16:24:28.871Z"
   },
   {
    "duration": 5,
    "start_time": "2023-11-15T16:24:29.094Z"
   },
   {
    "duration": 205,
    "start_time": "2023-11-15T16:24:29.101Z"
   },
   {
    "duration": 49,
    "start_time": "2023-11-15T16:24:29.308Z"
   },
   {
    "duration": 641,
    "start_time": "2023-11-15T16:24:29.359Z"
   },
   {
    "duration": 58,
    "start_time": "2023-11-15T16:24:30.003Z"
   },
   {
    "duration": 558,
    "start_time": "2023-11-15T16:24:41.624Z"
   },
   {
    "duration": 11,
    "start_time": "2023-11-15T16:28:17.496Z"
   },
   {
    "duration": 4,
    "start_time": "2023-11-15T16:28:42.343Z"
   },
   {
    "duration": 4,
    "start_time": "2023-11-15T16:31:08.357Z"
   },
   {
    "duration": 101,
    "start_time": "2023-11-15T16:36:30.504Z"
   },
   {
    "duration": 10,
    "start_time": "2023-11-15T16:38:17.647Z"
   },
   {
    "duration": 77,
    "start_time": "2023-11-15T16:38:32.679Z"
   },
   {
    "duration": 73,
    "start_time": "2023-11-15T16:38:42.607Z"
   },
   {
    "duration": 74,
    "start_time": "2023-11-15T16:39:31.643Z"
   },
   {
    "duration": 61,
    "start_time": "2023-11-15T16:40:17.236Z"
   },
   {
    "duration": 50,
    "start_time": "2023-11-15T16:40:19.363Z"
   },
   {
    "duration": 475,
    "start_time": "2023-11-15T16:42:34.440Z"
   },
   {
    "duration": 483,
    "start_time": "2023-11-15T16:42:39.347Z"
   },
   {
    "duration": 67,
    "start_time": "2023-11-15T16:47:26.158Z"
   },
   {
    "duration": 70,
    "start_time": "2023-11-15T16:47:35.924Z"
   },
   {
    "duration": 71,
    "start_time": "2023-11-15T16:47:55.129Z"
   },
   {
    "duration": 64,
    "start_time": "2023-11-15T16:48:02.280Z"
   },
   {
    "duration": 69,
    "start_time": "2023-11-15T16:49:12.559Z"
   },
   {
    "duration": 163,
    "start_time": "2023-11-15T16:49:57.842Z"
   },
   {
    "duration": 149,
    "start_time": "2023-11-15T20:46:27.577Z"
   },
   {
    "duration": 20047,
    "start_time": "2023-11-15T20:49:00.292Z"
   },
   {
    "duration": 83,
    "start_time": "2023-11-15T20:49:26.757Z"
   },
   {
    "duration": 23538,
    "start_time": "2023-11-15T20:49:46.999Z"
   },
   {
    "duration": 89,
    "start_time": "2023-11-15T20:50:21.150Z"
   },
   {
    "duration": 23694,
    "start_time": "2023-11-15T20:50:29.648Z"
   },
   {
    "duration": 203,
    "start_time": "2023-11-15T20:50:53.432Z"
   },
   {
    "duration": 131,
    "start_time": "2023-11-15T20:59:52.826Z"
   },
   {
    "duration": 124,
    "start_time": "2023-11-15T20:59:58.170Z"
   },
   {
    "duration": 20406,
    "start_time": "2023-11-15T21:00:25.726Z"
   },
   {
    "duration": 131,
    "start_time": "2023-11-15T21:03:39.635Z"
   },
   {
    "duration": 127,
    "start_time": "2023-11-15T21:03:51.517Z"
   },
   {
    "duration": 22,
    "start_time": "2023-11-15T21:26:51.018Z"
   },
   {
    "duration": 167,
    "start_time": "2023-11-15T21:27:56.104Z"
   },
   {
    "duration": 21,
    "start_time": "2023-11-15T21:28:12.595Z"
   },
   {
    "duration": 36,
    "start_time": "2023-11-15T21:34:03.430Z"
   },
   {
    "duration": 396,
    "start_time": "2023-11-15T21:44:11.312Z"
   },
   {
    "duration": 28,
    "start_time": "2023-11-15T21:44:37.428Z"
   },
   {
    "duration": 411,
    "start_time": "2023-11-15T21:45:20.846Z"
   },
   {
    "duration": 3,
    "start_time": "2023-11-15T21:45:27.747Z"
   },
   {
    "duration": 3,
    "start_time": "2023-11-15T21:46:46.829Z"
   },
   {
    "duration": 535,
    "start_time": "2023-11-15T21:47:45.042Z"
   },
   {
    "duration": 4,
    "start_time": "2023-11-15T21:51:31.294Z"
   },
   {
    "duration": 1084,
    "start_time": "2023-11-15T21:51:31.307Z"
   },
   {
    "duration": 14,
    "start_time": "2023-11-15T21:51:32.393Z"
   },
   {
    "duration": 7,
    "start_time": "2023-11-15T21:51:32.409Z"
   },
   {
    "duration": 109,
    "start_time": "2023-11-15T21:51:32.430Z"
   },
   {
    "duration": 289,
    "start_time": "2023-11-15T21:51:32.541Z"
   },
   {
    "duration": 297,
    "start_time": "2023-11-15T21:51:32.831Z"
   },
   {
    "duration": 318,
    "start_time": "2023-11-15T21:51:33.130Z"
   },
   {
    "duration": 375,
    "start_time": "2023-11-15T21:51:33.450Z"
   },
   {
    "duration": 2,
    "start_time": "2023-11-15T21:51:33.831Z"
   },
   {
    "duration": 5,
    "start_time": "2023-11-15T21:51:33.835Z"
   },
   {
    "duration": 100,
    "start_time": "2023-11-15T21:51:33.841Z"
   },
   {
    "duration": 184,
    "start_time": "2023-11-15T21:51:33.943Z"
   },
   {
    "duration": 15,
    "start_time": "2023-11-15T21:51:34.130Z"
   },
   {
    "duration": 342,
    "start_time": "2023-11-15T21:51:34.149Z"
   },
   {
    "duration": 9,
    "start_time": "2023-11-15T21:51:34.493Z"
   },
   {
    "duration": 29,
    "start_time": "2023-11-15T21:51:34.504Z"
   },
   {
    "duration": 7,
    "start_time": "2023-11-15T21:51:34.535Z"
   },
   {
    "duration": 2,
    "start_time": "2023-11-15T21:51:34.544Z"
   },
   {
    "duration": 50,
    "start_time": "2023-11-15T21:51:34.548Z"
   },
   {
    "duration": 715,
    "start_time": "2023-11-15T21:51:34.600Z"
   },
   {
    "duration": 221,
    "start_time": "2023-11-15T21:51:35.316Z"
   },
   {
    "duration": 64,
    "start_time": "2023-11-15T21:51:35.538Z"
   },
   {
    "duration": 174,
    "start_time": "2023-11-15T21:51:35.604Z"
   },
   {
    "duration": 18,
    "start_time": "2023-11-15T21:51:35.780Z"
   },
   {
    "duration": 549,
    "start_time": "2023-11-15T21:51:35.800Z"
   },
   {
    "duration": 58,
    "start_time": "2023-11-15T21:51:36.351Z"
   },
   {
    "duration": 81,
    "start_time": "2023-11-15T21:51:36.411Z"
   },
   {
    "duration": 102,
    "start_time": "2023-11-15T21:51:36.494Z"
   },
   {
    "duration": 546,
    "start_time": "2023-11-15T21:51:36.598Z"
   },
   {
    "duration": 88,
    "start_time": "2023-11-15T21:51:37.147Z"
   },
   {
    "duration": 23,
    "start_time": "2023-11-15T21:51:37.237Z"
   },
   {
    "duration": 31,
    "start_time": "2023-11-15T21:51:37.261Z"
   },
   {
    "duration": 37,
    "start_time": "2023-11-15T21:51:37.294Z"
   },
   {
    "duration": 23,
    "start_time": "2023-11-15T21:51:37.333Z"
   },
   {
    "duration": 31,
    "start_time": "2023-11-15T21:51:37.358Z"
   },
   {
    "duration": 44,
    "start_time": "2023-11-15T21:51:37.391Z"
   },
   {
    "duration": 13,
    "start_time": "2023-11-15T21:51:37.437Z"
   },
   {
    "duration": 22,
    "start_time": "2023-11-15T21:51:37.452Z"
   },
   {
    "duration": 26,
    "start_time": "2023-11-15T21:51:37.476Z"
   },
   {
    "duration": 58,
    "start_time": "2023-11-15T21:51:37.504Z"
   },
   {
    "duration": 16,
    "start_time": "2023-11-15T21:51:37.566Z"
   },
   {
    "duration": 178,
    "start_time": "2023-11-15T21:51:37.584Z"
   },
   {
    "duration": 167,
    "start_time": "2023-11-15T21:51:37.765Z"
   },
   {
    "duration": 17,
    "start_time": "2023-11-15T21:51:37.933Z"
   },
   {
    "duration": 10,
    "start_time": "2023-11-15T21:51:37.952Z"
   },
   {
    "duration": 87,
    "start_time": "2023-11-15T21:51:37.964Z"
   },
   {
    "duration": 63,
    "start_time": "2023-11-15T21:51:38.053Z"
   },
   {
    "duration": 19,
    "start_time": "2023-11-15T21:51:38.130Z"
   },
   {
    "duration": 61,
    "start_time": "2023-11-15T21:51:38.151Z"
   },
   {
    "duration": 81,
    "start_time": "2023-11-15T21:51:38.214Z"
   },
   {
    "duration": 33,
    "start_time": "2023-11-15T21:51:38.297Z"
   },
   {
    "duration": 70,
    "start_time": "2023-11-15T21:51:38.332Z"
   },
   {
    "duration": 237,
    "start_time": "2023-11-15T21:51:38.404Z"
   },
   {
    "duration": 12,
    "start_time": "2023-11-15T21:51:38.643Z"
   },
   {
    "duration": 147,
    "start_time": "2023-11-15T21:51:38.657Z"
   },
   {
    "duration": 221,
    "start_time": "2023-11-15T21:51:38.805Z"
   },
   {
    "duration": 4,
    "start_time": "2023-11-15T21:51:39.030Z"
   },
   {
    "duration": 224,
    "start_time": "2023-11-15T21:51:39.035Z"
   },
   {
    "duration": 42,
    "start_time": "2023-11-15T21:51:39.261Z"
   },
   {
    "duration": 485,
    "start_time": "2023-11-15T21:51:39.305Z"
   },
   {
    "duration": 40,
    "start_time": "2023-11-15T21:51:39.791Z"
   },
   {
    "duration": 186,
    "start_time": "2023-11-15T21:51:39.833Z"
   },
   {
    "duration": 782,
    "start_time": "2023-11-15T21:51:40.021Z"
   },
   {
    "duration": 4,
    "start_time": "2023-11-15T21:51:40.804Z"
   },
   {
    "duration": 634,
    "start_time": "2023-11-15T21:51:40.810Z"
   },
   {
    "duration": 187,
    "start_time": "2023-11-15T21:51:41.446Z"
   },
   {
    "duration": 8,
    "start_time": "2023-11-15T21:51:41.635Z"
   },
   {
    "duration": 22990,
    "start_time": "2023-11-15T21:51:41.644Z"
   },
   {
    "duration": 195,
    "start_time": "2023-11-15T21:52:04.636Z"
   },
   {
    "duration": 66895,
    "start_time": "2023-11-15T21:52:04.837Z"
   },
   {
    "duration": 4657,
    "start_time": "2023-11-15T21:53:11.734Z"
   },
   {
    "duration": 131,
    "start_time": "2023-11-15T21:53:16.392Z"
   },
   {
    "duration": 134,
    "start_time": "2023-11-15T21:53:16.530Z"
   },
   {
    "duration": 2,
    "start_time": "2023-11-15T21:53:16.666Z"
   },
   {
    "duration": 513,
    "start_time": "2023-11-15T21:56:06.452Z"
   },
   {
    "duration": 4608,
    "start_time": "2023-11-15T21:56:20.274Z"
   },
   {
    "duration": 120,
    "start_time": "2023-11-15T21:56:33.270Z"
   },
   {
    "duration": 544,
    "start_time": "2023-11-15T21:56:47.638Z"
   },
   {
    "duration": 173116,
    "start_time": "2023-11-15T22:23:41.931Z"
   },
   {
    "duration": 13619,
    "start_time": "2023-11-15T22:32:08.717Z"
   },
   {
    "duration": 1331,
    "start_time": "2023-11-15T22:32:27.106Z"
   },
   {
    "duration": 10,
    "start_time": "2023-11-15T22:36:26.083Z"
   },
   {
    "duration": 13350,
    "start_time": "2023-11-15T22:41:15.498Z"
   },
   {
    "duration": 1254,
    "start_time": "2023-11-15T22:41:33.598Z"
   },
   {
    "duration": 10,
    "start_time": "2023-11-15T22:42:24.125Z"
   },
   {
    "duration": 1369,
    "start_time": "2023-11-15T22:43:31.777Z"
   },
   {
    "duration": 1221,
    "start_time": "2023-11-15T22:44:55.025Z"
   },
   {
    "duration": 1224,
    "start_time": "2023-11-15T22:45:08.025Z"
   },
   {
    "duration": 4,
    "start_time": "2023-11-15T23:00:16.516Z"
   },
   {
    "duration": 943,
    "start_time": "2023-11-15T23:00:16.531Z"
   },
   {
    "duration": 12,
    "start_time": "2023-11-15T23:00:17.476Z"
   },
   {
    "duration": 13,
    "start_time": "2023-11-15T23:00:17.490Z"
   },
   {
    "duration": 103,
    "start_time": "2023-11-15T23:00:17.505Z"
   },
   {
    "duration": 280,
    "start_time": "2023-11-15T23:00:17.610Z"
   },
   {
    "duration": 262,
    "start_time": "2023-11-15T23:00:17.892Z"
   },
   {
    "duration": 284,
    "start_time": "2023-11-15T23:00:18.156Z"
   },
   {
    "duration": 345,
    "start_time": "2023-11-15T23:00:18.442Z"
   },
   {
    "duration": 2,
    "start_time": "2023-11-15T23:00:18.788Z"
   },
   {
    "duration": 8,
    "start_time": "2023-11-15T23:00:18.792Z"
   },
   {
    "duration": 95,
    "start_time": "2023-11-15T23:00:18.801Z"
   },
   {
    "duration": 178,
    "start_time": "2023-11-15T23:00:18.898Z"
   },
   {
    "duration": 16,
    "start_time": "2023-11-15T23:00:19.077Z"
   },
   {
    "duration": 335,
    "start_time": "2023-11-15T23:00:19.095Z"
   },
   {
    "duration": 8,
    "start_time": "2023-11-15T23:00:19.432Z"
   },
   {
    "duration": 29,
    "start_time": "2023-11-15T23:00:19.442Z"
   },
   {
    "duration": 7,
    "start_time": "2023-11-15T23:00:19.473Z"
   },
   {
    "duration": 12,
    "start_time": "2023-11-15T23:00:19.481Z"
   },
   {
    "duration": 52,
    "start_time": "2023-11-15T23:00:19.495Z"
   },
   {
    "duration": 402,
    "start_time": "2023-11-15T23:00:19.549Z"
   },
   {
    "duration": 527,
    "start_time": "2023-11-15T23:00:19.952Z"
   },
   {
    "duration": 69,
    "start_time": "2023-11-15T23:00:20.481Z"
   },
   {
    "duration": 147,
    "start_time": "2023-11-15T23:00:20.552Z"
   },
   {
    "duration": 15,
    "start_time": "2023-11-15T23:00:20.700Z"
   },
   {
    "duration": 509,
    "start_time": "2023-11-15T23:00:20.717Z"
   },
   {
    "duration": 55,
    "start_time": "2023-11-15T23:00:21.228Z"
   },
   {
    "duration": 73,
    "start_time": "2023-11-15T23:00:21.285Z"
   },
   {
    "duration": 81,
    "start_time": "2023-11-15T23:00:21.359Z"
   },
   {
    "duration": 478,
    "start_time": "2023-11-15T23:00:21.442Z"
   },
   {
    "duration": 62,
    "start_time": "2023-11-15T23:00:21.921Z"
   },
   {
    "duration": 20,
    "start_time": "2023-11-15T23:00:21.985Z"
   },
   {
    "duration": 37,
    "start_time": "2023-11-15T23:00:22.006Z"
   },
   {
    "duration": 11,
    "start_time": "2023-11-15T23:00:22.045Z"
   },
   {
    "duration": 23,
    "start_time": "2023-11-15T23:00:22.057Z"
   },
   {
    "duration": 50,
    "start_time": "2023-11-15T23:00:22.081Z"
   },
   {
    "duration": 22,
    "start_time": "2023-11-15T23:00:22.132Z"
   },
   {
    "duration": 12,
    "start_time": "2023-11-15T23:00:22.155Z"
   },
   {
    "duration": 18,
    "start_time": "2023-11-15T23:00:22.169Z"
   },
   {
    "duration": 44,
    "start_time": "2023-11-15T23:00:22.188Z"
   },
   {
    "duration": 28,
    "start_time": "2023-11-15T23:00:22.234Z"
   },
   {
    "duration": 15,
    "start_time": "2023-11-15T23:00:22.266Z"
   },
   {
    "duration": 157,
    "start_time": "2023-11-15T23:00:22.283Z"
   },
   {
    "duration": 135,
    "start_time": "2023-11-15T23:00:22.442Z"
   },
   {
    "duration": 16,
    "start_time": "2023-11-15T23:00:22.579Z"
   },
   {
    "duration": 10,
    "start_time": "2023-11-15T23:00:22.597Z"
   },
   {
    "duration": 74,
    "start_time": "2023-11-15T23:00:22.609Z"
   },
   {
    "duration": 74,
    "start_time": "2023-11-15T23:00:22.685Z"
   },
   {
    "duration": 18,
    "start_time": "2023-11-15T23:00:22.761Z"
   },
   {
    "duration": 86,
    "start_time": "2023-11-15T23:00:22.780Z"
   },
   {
    "duration": 64,
    "start_time": "2023-11-15T23:00:22.868Z"
   },
   {
    "duration": 21,
    "start_time": "2023-11-15T23:00:22.934Z"
   },
   {
    "duration": 90,
    "start_time": "2023-11-15T23:00:22.957Z"
   },
   {
    "duration": 202,
    "start_time": "2023-11-15T23:00:23.048Z"
   },
   {
    "duration": 12,
    "start_time": "2023-11-15T23:00:23.252Z"
   },
   {
    "duration": 134,
    "start_time": "2023-11-15T23:00:23.266Z"
   },
   {
    "duration": 218,
    "start_time": "2023-11-15T23:00:23.403Z"
   },
   {
    "duration": 9,
    "start_time": "2023-11-15T23:00:23.623Z"
   },
   {
    "duration": 217,
    "start_time": "2023-11-15T23:00:23.634Z"
   },
   {
    "duration": 52,
    "start_time": "2023-11-15T23:00:23.853Z"
   },
   {
    "duration": 437,
    "start_time": "2023-11-15T23:00:23.907Z"
   },
   {
    "duration": 26,
    "start_time": "2023-11-15T23:00:24.346Z"
   },
   {
    "duration": 184,
    "start_time": "2023-11-15T23:00:24.374Z"
   },
   {
    "duration": 770,
    "start_time": "2023-11-15T23:00:24.560Z"
   },
   {
    "duration": 3,
    "start_time": "2023-11-15T23:00:25.332Z"
   },
   {
    "duration": 586,
    "start_time": "2023-11-15T23:00:25.337Z"
   },
   {
    "duration": 161,
    "start_time": "2023-11-15T23:00:25.925Z"
   },
   {
    "duration": 6,
    "start_time": "2023-11-15T23:00:26.088Z"
   },
   {
    "duration": 16636,
    "start_time": "2023-11-15T23:00:26.096Z"
   },
   {
    "duration": 200,
    "start_time": "2023-11-15T23:00:42.733Z"
   },
   {
    "duration": 22495,
    "start_time": "2023-11-15T23:00:42.939Z"
   },
   {
    "duration": 0,
    "start_time": "2023-11-15T23:01:05.436Z"
   },
   {
    "duration": 0,
    "start_time": "2023-11-15T23:01:05.437Z"
   },
   {
    "duration": 0,
    "start_time": "2023-11-15T23:01:05.438Z"
   },
   {
    "duration": 0,
    "start_time": "2023-11-15T23:01:05.440Z"
   },
   {
    "duration": 0,
    "start_time": "2023-11-15T23:01:05.441Z"
   },
   {
    "duration": 0,
    "start_time": "2023-11-15T23:01:05.442Z"
   },
   {
    "duration": 0,
    "start_time": "2023-11-15T23:01:05.444Z"
   },
   {
    "duration": 0,
    "start_time": "2023-11-15T23:01:05.445Z"
   },
   {
    "duration": 0,
    "start_time": "2023-11-15T23:01:05.446Z"
   },
   {
    "duration": 0,
    "start_time": "2023-11-15T23:01:05.447Z"
   },
   {
    "duration": 5,
    "start_time": "2023-11-15T23:02:04.977Z"
   },
   {
    "duration": 1025,
    "start_time": "2023-11-15T23:02:04.991Z"
   },
   {
    "duration": 17,
    "start_time": "2023-11-15T23:02:06.018Z"
   },
   {
    "duration": 29,
    "start_time": "2023-11-15T23:02:06.036Z"
   },
   {
    "duration": 111,
    "start_time": "2023-11-15T23:02:06.066Z"
   },
   {
    "duration": 247,
    "start_time": "2023-11-15T23:02:06.179Z"
   },
   {
    "duration": 262,
    "start_time": "2023-11-15T23:02:06.427Z"
   },
   {
    "duration": 283,
    "start_time": "2023-11-15T23:02:06.691Z"
   },
   {
    "duration": 317,
    "start_time": "2023-11-15T23:02:06.976Z"
   },
   {
    "duration": 2,
    "start_time": "2023-11-15T23:02:07.295Z"
   },
   {
    "duration": 28,
    "start_time": "2023-11-15T23:02:07.299Z"
   },
   {
    "duration": 100,
    "start_time": "2023-11-15T23:02:07.328Z"
   },
   {
    "duration": 186,
    "start_time": "2023-11-15T23:02:07.430Z"
   },
   {
    "duration": 25,
    "start_time": "2023-11-15T23:02:07.617Z"
   },
   {
    "duration": 371,
    "start_time": "2023-11-15T23:02:07.644Z"
   },
   {
    "duration": 14,
    "start_time": "2023-11-15T23:02:08.017Z"
   },
   {
    "duration": 25,
    "start_time": "2023-11-15T23:02:08.033Z"
   },
   {
    "duration": 17,
    "start_time": "2023-11-15T23:02:08.060Z"
   },
   {
    "duration": 13,
    "start_time": "2023-11-15T23:02:08.079Z"
   },
   {
    "duration": 59,
    "start_time": "2023-11-15T23:02:08.094Z"
   },
   {
    "duration": 393,
    "start_time": "2023-11-15T23:02:08.154Z"
   },
   {
    "duration": 212,
    "start_time": "2023-11-15T23:02:08.548Z"
   },
   {
    "duration": 72,
    "start_time": "2023-11-15T23:02:08.761Z"
   },
   {
    "duration": 163,
    "start_time": "2023-11-15T23:02:08.835Z"
   },
   {
    "duration": 16,
    "start_time": "2023-11-15T23:02:09.000Z"
   },
   {
    "duration": 792,
    "start_time": "2023-11-15T23:02:09.018Z"
   },
   {
    "duration": 66,
    "start_time": "2023-11-15T23:02:09.812Z"
   },
   {
    "duration": 67,
    "start_time": "2023-11-15T23:02:09.880Z"
   },
   {
    "duration": 91,
    "start_time": "2023-11-15T23:02:09.949Z"
   },
   {
    "duration": 479,
    "start_time": "2023-11-15T23:02:10.043Z"
   },
   {
    "duration": 63,
    "start_time": "2023-11-15T23:02:10.524Z"
   },
   {
    "duration": 22,
    "start_time": "2023-11-15T23:02:10.589Z"
   },
   {
    "duration": 37,
    "start_time": "2023-11-15T23:02:10.613Z"
   },
   {
    "duration": 11,
    "start_time": "2023-11-15T23:02:10.652Z"
   },
   {
    "duration": 22,
    "start_time": "2023-11-15T23:02:10.665Z"
   },
   {
    "duration": 53,
    "start_time": "2023-11-15T23:02:10.689Z"
   },
   {
    "duration": 31,
    "start_time": "2023-11-15T23:02:10.744Z"
   },
   {
    "duration": 14,
    "start_time": "2023-11-15T23:02:10.777Z"
   },
   {
    "duration": 37,
    "start_time": "2023-11-15T23:02:10.793Z"
   },
   {
    "duration": 26,
    "start_time": "2023-11-15T23:02:10.832Z"
   },
   {
    "duration": 31,
    "start_time": "2023-11-15T23:02:10.860Z"
   },
   {
    "duration": 40,
    "start_time": "2023-11-15T23:02:10.896Z"
   },
   {
    "duration": 149,
    "start_time": "2023-11-15T23:02:10.937Z"
   },
   {
    "duration": 148,
    "start_time": "2023-11-15T23:02:11.088Z"
   },
   {
    "duration": 17,
    "start_time": "2023-11-15T23:02:11.237Z"
   },
   {
    "duration": 9,
    "start_time": "2023-11-15T23:02:11.255Z"
   },
   {
    "duration": 79,
    "start_time": "2023-11-15T23:02:11.266Z"
   },
   {
    "duration": 55,
    "start_time": "2023-11-15T23:02:11.347Z"
   },
   {
    "duration": 27,
    "start_time": "2023-11-15T23:02:11.404Z"
   },
   {
    "duration": 55,
    "start_time": "2023-11-15T23:02:11.433Z"
   },
   {
    "duration": 74,
    "start_time": "2023-11-15T23:02:11.490Z"
   },
   {
    "duration": 20,
    "start_time": "2023-11-15T23:02:11.566Z"
   },
   {
    "duration": 71,
    "start_time": "2023-11-15T23:02:11.588Z"
   },
   {
    "duration": 209,
    "start_time": "2023-11-15T23:02:11.661Z"
   },
   {
    "duration": 12,
    "start_time": "2023-11-15T23:02:11.871Z"
   },
   {
    "duration": 125,
    "start_time": "2023-11-15T23:02:11.885Z"
   },
   {
    "duration": 206,
    "start_time": "2023-11-15T23:02:12.011Z"
   },
   {
    "duration": 14,
    "start_time": "2023-11-15T23:02:12.218Z"
   },
   {
    "duration": 191,
    "start_time": "2023-11-15T23:02:12.233Z"
   },
   {
    "duration": 45,
    "start_time": "2023-11-15T23:02:12.425Z"
   },
   {
    "duration": 427,
    "start_time": "2023-11-15T23:02:12.471Z"
   },
   {
    "duration": 34,
    "start_time": "2023-11-15T23:02:12.900Z"
   },
   {
    "duration": 176,
    "start_time": "2023-11-15T23:02:12.935Z"
   },
   {
    "duration": 720,
    "start_time": "2023-11-15T23:02:13.113Z"
   },
   {
    "duration": 3,
    "start_time": "2023-11-15T23:02:13.834Z"
   },
   {
    "duration": 580,
    "start_time": "2023-11-15T23:02:13.839Z"
   },
   {
    "duration": 157,
    "start_time": "2023-11-15T23:02:14.420Z"
   },
   {
    "duration": 6,
    "start_time": "2023-11-15T23:02:14.579Z"
   },
   {
    "duration": 16547,
    "start_time": "2023-11-15T23:02:14.587Z"
   },
   {
    "duration": 201,
    "start_time": "2023-11-15T23:02:31.135Z"
   },
   {
    "duration": 66328,
    "start_time": "2023-11-15T23:02:31.338Z"
   },
   {
    "duration": 4653,
    "start_time": "2023-11-15T23:03:37.668Z"
   },
   {
    "duration": 135,
    "start_time": "2023-11-15T23:03:42.323Z"
   },
   {
    "duration": 138,
    "start_time": "2023-11-15T23:03:42.460Z"
   },
   {
    "duration": 3,
    "start_time": "2023-11-15T23:03:42.599Z"
   },
   {
    "duration": 542,
    "start_time": "2023-11-15T23:03:42.604Z"
   },
   {
    "duration": 170996,
    "start_time": "2023-11-15T23:03:43.148Z"
   },
   {
    "duration": 13300,
    "start_time": "2023-11-15T23:06:34.145Z"
   },
   {
    "duration": 1288,
    "start_time": "2023-11-15T23:06:47.447Z"
   },
   {
    "duration": 9,
    "start_time": "2023-11-15T23:06:48.736Z"
   },
   {
    "duration": 1202,
    "start_time": "2023-11-15T23:06:48.747Z"
   },
   {
    "duration": 100,
    "start_time": "2023-11-15T23:12:31.521Z"
   },
   {
    "duration": 10,
    "start_time": "2023-11-15T23:12:43.920Z"
   },
   {
    "duration": 3557,
    "start_time": "2023-11-16T12:12:30.089Z"
   },
   {
    "duration": 1527,
    "start_time": "2023-11-16T12:12:33.649Z"
   },
   {
    "duration": 22,
    "start_time": "2023-11-16T12:12:35.178Z"
   },
   {
    "duration": 4,
    "start_time": "2023-11-16T12:12:35.202Z"
   },
   {
    "duration": 104,
    "start_time": "2023-11-16T12:12:35.208Z"
   },
   {
    "duration": 270,
    "start_time": "2023-11-16T12:12:35.313Z"
   },
   {
    "duration": 329,
    "start_time": "2023-11-16T12:12:35.584Z"
   },
   {
    "duration": 307,
    "start_time": "2023-11-16T12:12:35.915Z"
   },
   {
    "duration": 359,
    "start_time": "2023-11-16T12:12:36.224Z"
   },
   {
    "duration": 2,
    "start_time": "2023-11-16T12:12:36.586Z"
   },
   {
    "duration": 3,
    "start_time": "2023-11-16T12:12:36.590Z"
   },
   {
    "duration": 102,
    "start_time": "2023-11-16T12:12:36.594Z"
   },
   {
    "duration": 198,
    "start_time": "2023-11-16T12:12:36.697Z"
   },
   {
    "duration": 16,
    "start_time": "2023-11-16T12:12:36.897Z"
   },
   {
    "duration": 436,
    "start_time": "2023-11-16T12:12:36.915Z"
   },
   {
    "duration": 9,
    "start_time": "2023-11-16T12:12:37.353Z"
   },
   {
    "duration": 19,
    "start_time": "2023-11-16T12:12:37.364Z"
   },
   {
    "duration": 6,
    "start_time": "2023-11-16T12:12:37.385Z"
   },
   {
    "duration": 4,
    "start_time": "2023-11-16T12:12:37.394Z"
   },
   {
    "duration": 90,
    "start_time": "2023-11-16T12:12:37.399Z"
   },
   {
    "duration": 474,
    "start_time": "2023-11-16T12:12:37.491Z"
   },
   {
    "duration": 242,
    "start_time": "2023-11-16T12:12:37.967Z"
   },
   {
    "duration": 106,
    "start_time": "2023-11-16T12:12:38.211Z"
   },
   {
    "duration": 211,
    "start_time": "2023-11-16T12:12:38.320Z"
   },
   {
    "duration": 235,
    "start_time": "2023-11-16T12:12:43.491Z"
   },
   {
    "duration": 4,
    "start_time": "2023-11-16T12:12:58.820Z"
   },
   {
    "duration": 1259,
    "start_time": "2023-11-16T12:12:58.827Z"
   },
   {
    "duration": 14,
    "start_time": "2023-11-16T12:13:00.088Z"
   },
   {
    "duration": 19,
    "start_time": "2023-11-16T12:13:00.103Z"
   },
   {
    "duration": 113,
    "start_time": "2023-11-16T12:13:00.124Z"
   },
   {
    "duration": 310,
    "start_time": "2023-11-16T12:13:00.241Z"
   },
   {
    "duration": 301,
    "start_time": "2023-11-16T12:13:00.552Z"
   },
   {
    "duration": 291,
    "start_time": "2023-11-16T12:13:00.855Z"
   },
   {
    "duration": 353,
    "start_time": "2023-11-16T12:13:01.147Z"
   },
   {
    "duration": 3,
    "start_time": "2023-11-16T12:13:01.502Z"
   },
   {
    "duration": 59,
    "start_time": "2023-11-16T12:13:01.507Z"
   },
   {
    "duration": 140,
    "start_time": "2023-11-16T12:13:01.568Z"
   },
   {
    "duration": 209,
    "start_time": "2023-11-16T12:13:01.710Z"
   },
   {
    "duration": 26,
    "start_time": "2023-11-16T12:13:01.920Z"
   },
   {
    "duration": 395,
    "start_time": "2023-11-16T12:13:01.948Z"
   },
   {
    "duration": 10,
    "start_time": "2023-11-16T12:13:02.344Z"
   },
   {
    "duration": 58,
    "start_time": "2023-11-16T12:13:02.356Z"
   },
   {
    "duration": 7,
    "start_time": "2023-11-16T12:13:02.415Z"
   },
   {
    "duration": 24,
    "start_time": "2023-11-16T12:13:02.423Z"
   },
   {
    "duration": 100,
    "start_time": "2023-11-16T12:13:02.449Z"
   },
   {
    "duration": 544,
    "start_time": "2023-11-16T12:13:02.551Z"
   },
   {
    "duration": 232,
    "start_time": "2023-11-16T12:13:03.097Z"
   },
   {
    "duration": 85,
    "start_time": "2023-11-16T12:13:03.331Z"
   },
   {
    "duration": 179,
    "start_time": "2023-11-16T12:13:03.418Z"
   },
   {
    "duration": 226,
    "start_time": "2023-11-16T12:13:13.379Z"
   }
  ],
  "kernelspec": {
   "display_name": "Python 3 (ipykernel)",
   "language": "python",
   "name": "python3"
  },
  "language_info": {
   "codemirror_mode": {
    "name": "ipython",
    "version": 3
   },
   "file_extension": ".py",
   "mimetype": "text/x-python",
   "name": "python",
   "nbconvert_exporter": "python",
   "pygments_lexer": "ipython3",
   "version": "3.11.4"
  },
  "toc": {
   "base_numbering": 1,
   "nav_menu": {
    "height": "235px",
    "width": "220px"
   },
   "number_sections": true,
   "sideBar": true,
   "skip_h1_title": true,
   "title_cell": "Table of Contents",
   "title_sidebar": "Contents",
   "toc_cell": false,
   "toc_position": {
    "height": "calc(100% - 180px)",
    "left": "10px",
    "top": "150px",
    "width": "165px"
   },
   "toc_section_display": true,
   "toc_window_display": true
  }
 },
 "nbformat": 4,
 "nbformat_minor": 2
}
